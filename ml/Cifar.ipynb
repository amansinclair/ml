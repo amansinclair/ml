{
 "cells": [
  {
   "cell_type": "code",
   "execution_count": 1,
   "metadata": {},
   "outputs": [],
   "source": [
    "%load_ext autoreload\n",
    "%autoreload 2"
   ]
  },
  {
   "cell_type": "code",
   "execution_count": 14,
   "metadata": {},
   "outputs": [],
   "source": [
    "from cifar_utils import get_datasets, get_datasets_res, plot, show_preds, get_CNN\n",
    "from utils import train, plot_loss_acc, count_parameters\n",
    "import numpy as np\n",
    "import torch\n",
    "import torch.nn as nn\n",
    "import torch.optim as optim\n",
    "from torch.utils.data import DataLoader\n",
    "from sklearn.metrics import accuracy_score as acc\n",
    "from tqdm.notebook import tqdm as bar\n",
    "import matplotlib.pyplot as plt"
   ]
  },
  {
   "cell_type": "code",
   "execution_count": 3,
   "metadata": {},
   "outputs": [
    {
     "name": "stdout",
     "output_type": "stream",
     "text": [
      "50000 10000\n"
     ]
    }
   ],
   "source": [
    "FOLDER = \".//data//cifar//\"\n",
    "training_set, validation_set, mini_train_set, mini_test_set = get_datasets(FOLDER)\n",
    "#training_set, validation_set, mini_train_set, mini_test_set = get_datasets_res(FOLDER)\n",
    "print(len(training_set), len(validation_set))"
   ]
  },
  {
   "cell_type": "code",
   "execution_count": 4,
   "metadata": {},
   "outputs": [
    {
     "data": {
      "image/png": "[encoded data removed]",
      "text/plain": [
       "<Figure size 432x288 with 1 Axes>"
      ]
     },
     "metadata": {
      "needs_background": "light"
     },
     "output_type": "display_data"
    }
   ],
   "source": [
    "plot(training_set.get_image(1), training_set.get_label(1))"
   ]
  },
  {
   "cell_type": "code",
   "execution_count": 233,
   "metadata": {},
   "outputs": [],
   "source": [
    "training_gen = DataLoader(training_set, batch_size=128, shuffle=True, num_workers=4)\n",
    "valid_gen = DataLoader(validation_set, batch_size=128)\n",
    "mini_train_gen = DataLoader(mini_train_set, batch_size=128, shuffle=True, num_workers=4)\n",
    "mini_test_gen = DataLoader(mini_test_set, batch_size=128, shuffle=True, num_workers=4)"
   ]
  },
  {
   "cell_type": "code",
   "execution_count": 237,
   "metadata": {},
   "outputs": [
    {
     "name": "stdout",
     "output_type": "stream",
     "text": [
      "[Conv2d(3, 8, kernel_size=(3, 3), stride=(1, 1)), BatchNorm2d(8, eps=1e-05, momentum=0.1, affine=True, track_running_stats=True), ReLU(), MaxPool2d(kernel_size=2, stride=2, padding=0, dilation=1, ceil_mode=False), Conv2d(8, 16, kernel_size=(3, 3), stride=(1, 1)), BatchNorm2d(16, eps=1e-05, momentum=0.1, affine=True, track_running_stats=True), ReLU(), MaxPool2d(kernel_size=2, stride=2, padding=0, dilation=1, ceil_mode=False), Conv2d(16, 32, kernel_size=(3, 3), stride=(1, 1)), BatchNorm2d(32, eps=1e-05, momentum=0.1, affine=True, track_running_stats=True), ReLU(), MaxPool2d(kernel_size=2, stride=2, padding=0, dilation=1, ceil_mode=False), Flatten()]\n",
      "+-----------+------------+\n",
      "|  Modules  | Parameters |\n",
      "+-----------+------------+\n",
      "|  0.weight |    216     |\n",
      "|   0.bias  |     8      |\n",
      "|  1.weight |     8      |\n",
      "|   1.bias  |     8      |\n",
      "|  4.weight |    1152    |\n",
      "|   4.bias  |     16     |\n",
      "|  5.weight |     16     |\n",
      "|   5.bias  |     16     |\n",
      "|  8.weight |    4608    |\n",
      "|   8.bias  |     32     |\n",
      "|  9.weight |     32     |\n",
      "|   9.bias  |     32     |\n",
      "| 13.weight |    1280    |\n",
      "|  13.bias  |     10     |\n",
      "+-----------+------------+\n",
      "Total Trainable Params: 7434\n"
     ]
    },
    {
     "data": {
      "text/plain": [
       "(Sequential(\n",
       "   (0): Conv2d(3, 8, kernel_size=(3, 3), stride=(1, 1))\n",
       "   (1): BatchNorm2d(8, eps=1e-05, momentum=0.1, affine=True, track_running_stats=True)\n",
       "   (2): ReLU()\n",
       "   (3): MaxPool2d(kernel_size=2, stride=2, padding=0, dilation=1, ceil_mode=False)\n",
       "   (4): Conv2d(8, 16, kernel_size=(3, 3), stride=(1, 1))\n",
       "   (5): BatchNorm2d(16, eps=1e-05, momentum=0.1, affine=True, track_running_stats=True)\n",
       "   (6): ReLU()\n",
       "   (7): MaxPool2d(kernel_size=2, stride=2, padding=0, dilation=1, ceil_mode=False)\n",
       "   (8): Conv2d(16, 32, kernel_size=(3, 3), stride=(1, 1))\n",
       "   (9): BatchNorm2d(32, eps=1e-05, momentum=0.1, affine=True, track_running_stats=True)\n",
       "   (10): ReLU()\n",
       "   (11): MaxPool2d(kernel_size=2, stride=2, padding=0, dilation=1, ceil_mode=False)\n",
       "   (12): Flatten()\n",
       "   (13): Linear(in_features=128, out_features=10, bias=True)\n",
       " ),\n",
       " 7434)"
      ]
     },
     "execution_count": 237,
     "metadata": {},
     "output_type": "execute_result"
    }
   ],
   "source": [
    "net = get_CNN([8, 16, 32], 1)\n",
    "crit = nn.CrossEntropyLoss()\n",
    "opt = optim.Adam(net.parameters(), lr=0.01, weight_decay=0.006)\n",
    "net, count_parameters(net)"
   ]
  },
  {
   "cell_type": "code",
   "execution_count": 238,
   "metadata": {},
   "outputs": [
    {
     "data": {
      "application/vnd.jupyter.widget-view+json": {
       "model_id": "51327c83f8f4464cadc420063cad75cf",
       "version_major": 2,
       "version_minor": 0
      },
      "text/plain": [
       "HBox(children=(FloatProgress(value=0.0, max=8.0), HTML(value='')))"
      ]
     },
     "metadata": {},
     "output_type": "display_data"
    },
    {
     "name": "stdout",
     "output_type": "stream",
     "text": [
      "\n",
      "Epoch:1, T Loss:2.125, T acc:0.213 V Loss:2.124, V acc:0.225\n"
     ]
    },
    {
     "data": {
      "application/vnd.jupyter.widget-view+json": {
       "model_id": "457a8e1fe66145a8873c4031c36e0c82",
       "version_major": 2,
       "version_minor": 0
      },
      "text/plain": [
       "HBox(children=(FloatProgress(value=0.0, max=8.0), HTML(value='')))"
      ]
     },
     "metadata": {},
     "output_type": "display_data"
    },
    {
     "name": "stdout",
     "output_type": "stream",
     "text": [
      "\n",
      "Epoch:2, T Loss:1.787, T acc:0.345 V Loss:1.969, V acc:0.280\n"
     ]
    },
    {
     "data": {
      "application/vnd.jupyter.widget-view+json": {
       "model_id": "cedddc6b854d4f8b8fa265ab401e6369",
       "version_major": 2,
       "version_minor": 0
      },
      "text/plain": [
       "HBox(children=(FloatProgress(value=0.0, max=8.0), HTML(value='')))"
      ]
     },
     "metadata": {},
     "output_type": "display_data"
    },
    {
     "name": "stdout",
     "output_type": "stream",
     "text": [
      "\n",
      "Epoch:3, T Loss:1.653, T acc:0.404 V Loss:1.767, V acc:0.355\n"
     ]
    },
    {
     "data": {
      "application/vnd.jupyter.widget-view+json": {
       "model_id": "4e8a07601537408cae0b69deec9d357a",
       "version_major": 2,
       "version_minor": 0
      },
      "text/plain": [
       "HBox(children=(FloatProgress(value=0.0, max=8.0), HTML(value='')))"
      ]
     },
     "metadata": {},
     "output_type": "display_data"
    },
    {
     "name": "stdout",
     "output_type": "stream",
     "text": [
      "\n",
      "Epoch:4, T Loss:1.514, T acc:0.441 V Loss:2.235, V acc:0.251\n"
     ]
    },
    {
     "data": {
      "application/vnd.jupyter.widget-view+json": {
       "model_id": "48299f56b957421eb1ed4abf71b7b5ec",
       "version_major": 2,
       "version_minor": 0
      },
      "text/plain": [
       "HBox(children=(FloatProgress(value=0.0, max=8.0), HTML(value='')))"
      ]
     },
     "metadata": {},
     "output_type": "display_data"
    },
    {
     "name": "stdout",
     "output_type": "stream",
     "text": [
      "\n",
      "Epoch:5, T Loss:1.410, T acc:0.511 V Loss:1.868, V acc:0.335\n"
     ]
    },
    {
     "data": {
      "application/vnd.jupyter.widget-view+json": {
       "model_id": "6f9e0fcac76b49e89e874d7c6a3b7876",
       "version_major": 2,
       "version_minor": 0
      },
      "text/plain": [
       "HBox(children=(FloatProgress(value=0.0, max=8.0), HTML(value='')))"
      ]
     },
     "metadata": {},
     "output_type": "display_data"
    },
    {
     "name": "stdout",
     "output_type": "stream",
     "text": [
      "\n",
      "Epoch:6, T Loss:1.328, T acc:0.531 V Loss:1.826, V acc:0.338\n"
     ]
    },
    {
     "data": {
      "application/vnd.jupyter.widget-view+json": {
       "model_id": "43005e5151634205ae0de1d3adfcdb2d",
       "version_major": 2,
       "version_minor": 0
      },
      "text/plain": [
       "HBox(children=(FloatProgress(value=0.0, max=8.0), HTML(value='')))"
      ]
     },
     "metadata": {},
     "output_type": "display_data"
    },
    {
     "name": "stdout",
     "output_type": "stream",
     "text": [
      "\n",
      "Epoch:7, T Loss:1.233, T acc:0.577 V Loss:2.007, V acc:0.280\n"
     ]
    },
    {
     "data": {
      "application/vnd.jupyter.widget-view+json": {
       "model_id": "0b49e28a724c40699924a36b0e9a2dcf",
       "version_major": 2,
       "version_minor": 0
      },
      "text/plain": [
       "HBox(children=(FloatProgress(value=0.0, max=8.0), HTML(value='')))"
      ]
     },
     "metadata": {},
     "output_type": "display_data"
    },
    {
     "name": "stdout",
     "output_type": "stream",
     "text": [
      "\n",
      "Epoch:8, T Loss:1.120, T acc:0.626 V Loss:1.792, V acc:0.357\n"
     ]
    },
    {
     "data": {
      "application/vnd.jupyter.widget-view+json": {
       "model_id": "7699316fcc9b40ddb83ee4919558ba69",
       "version_major": 2,
       "version_minor": 0
      },
      "text/plain": [
       "HBox(children=(FloatProgress(value=0.0, max=8.0), HTML(value='')))"
      ]
     },
     "metadata": {},
     "output_type": "display_data"
    },
    {
     "name": "stdout",
     "output_type": "stream",
     "text": [
      "\n",
      "Epoch:9, T Loss:1.025, T acc:0.670 V Loss:2.184, V acc:0.270\n"
     ]
    },
    {
     "data": {
      "application/vnd.jupyter.widget-view+json": {
       "model_id": "671809b935a24689b48d94589609f7e2",
       "version_major": 2,
       "version_minor": 0
      },
      "text/plain": [
       "HBox(children=(FloatProgress(value=0.0, max=8.0), HTML(value='')))"
      ]
     },
     "metadata": {},
     "output_type": "display_data"
    },
    {
     "name": "stdout",
     "output_type": "stream",
     "text": [
      "\n",
      "Epoch:10, T Loss:0.910, T acc:0.724 V Loss:1.823, V acc:0.363\n"
     ]
    },
    {
     "data": {
      "application/vnd.jupyter.widget-view+json": {
       "model_id": "2a4e6681a6b64b5ba2d065f60474110e",
       "version_major": 2,
       "version_minor": 0
      },
      "text/plain": [
       "HBox(children=(FloatProgress(value=0.0, max=8.0), HTML(value='')))"
      ]
     },
     "metadata": {},
     "output_type": "display_data"
    },
    {
     "name": "stdout",
     "output_type": "stream",
     "text": [
      "\n",
      "Epoch:11, T Loss:0.840, T acc:0.741 V Loss:1.668, V acc:0.406\n"
     ]
    },
    {
     "data": {
      "application/vnd.jupyter.widget-view+json": {
       "model_id": "0e7a6315820642fa948034054d2daa86",
       "version_major": 2,
       "version_minor": 0
      },
      "text/plain": [
       "HBox(children=(FloatProgress(value=0.0, max=8.0), HTML(value='')))"
      ]
     },
     "metadata": {},
     "output_type": "display_data"
    },
    {
     "name": "stdout",
     "output_type": "stream",
     "text": [
      "\n",
      "Epoch:12, T Loss:0.724, T acc:0.772 V Loss:2.095, V acc:0.329\n"
     ]
    },
    {
     "data": {
      "application/vnd.jupyter.widget-view+json": {
       "model_id": "c8290ddef71447d4b99b321dee4a0016",
       "version_major": 2,
       "version_minor": 0
      },
      "text/plain": [
       "HBox(children=(FloatProgress(value=0.0, max=8.0), HTML(value='')))"
      ]
     },
     "metadata": {},
     "output_type": "display_data"
    },
    {
     "name": "stdout",
     "output_type": "stream",
     "text": [
      "\n",
      "Epoch:13, T Loss:0.640, T acc:0.822 V Loss:1.787, V acc:0.384\n"
     ]
    },
    {
     "data": {
      "application/vnd.jupyter.widget-view+json": {
       "model_id": "289d522324c640b4816156ea78b28a72",
       "version_major": 2,
       "version_minor": 0
      },
      "text/plain": [
       "HBox(children=(FloatProgress(value=0.0, max=8.0), HTML(value='')))"
      ]
     },
     "metadata": {},
     "output_type": "display_data"
    },
    {
     "name": "stdout",
     "output_type": "stream",
     "text": [
      "\n",
      "Epoch:14, T Loss:0.582, T acc:0.832 V Loss:2.019, V acc:0.344\n"
     ]
    },
    {
     "data": {
      "application/vnd.jupyter.widget-view+json": {
       "model_id": "6b1d4b3fb2ca4fd5add3caf01445ba91",
       "version_major": 2,
       "version_minor": 0
      },
      "text/plain": [
       "HBox(children=(FloatProgress(value=0.0, max=8.0), HTML(value='')))"
      ]
     },
     "metadata": {},
     "output_type": "display_data"
    },
    {
     "name": "stdout",
     "output_type": "stream",
     "text": [
      "\n",
      "Epoch:15, T Loss:0.529, T acc:0.867 V Loss:1.973, V acc:0.386\n"
     ]
    },
    {
     "data": {
      "application/vnd.jupyter.widget-view+json": {
       "model_id": "6a5731eebfd841a4b1650e2ab5175bc3",
       "version_major": 2,
       "version_minor": 0
      },
      "text/plain": [
       "HBox(children=(FloatProgress(value=0.0, max=8.0), HTML(value='')))"
      ]
     },
     "metadata": {},
     "output_type": "display_data"
    },
    {
     "name": "stdout",
     "output_type": "stream",
     "text": [
      "\n",
      "Epoch:16, T Loss:0.448, T acc:0.886 V Loss:2.040, V acc:0.350\n"
     ]
    },
    {
     "data": {
      "application/vnd.jupyter.widget-view+json": {
       "model_id": "6e3a2f27874d4830a1774a2fb188e6d5",
       "version_major": 2,
       "version_minor": 0
      },
      "text/plain": [
       "HBox(children=(FloatProgress(value=0.0, max=8.0), HTML(value='')))"
      ]
     },
     "metadata": {},
     "output_type": "display_data"
    },
    {
     "name": "stdout",
     "output_type": "stream",
     "text": [
      "\n",
      "Epoch:17, T Loss:0.397, T acc:0.908 V Loss:1.938, V acc:0.371\n"
     ]
    },
    {
     "data": {
      "application/vnd.jupyter.widget-view+json": {
       "model_id": "e0363df2c7084be8ab15d2943ea0f7de",
       "version_major": 2,
       "version_minor": 0
      },
      "text/plain": [
       "HBox(children=(FloatProgress(value=0.0, max=8.0), HTML(value='')))"
      ]
     },
     "metadata": {},
     "output_type": "display_data"
    },
    {
     "name": "stdout",
     "output_type": "stream",
     "text": [
      "\n",
      "Epoch:18, T Loss:0.321, T acc:0.942 V Loss:2.033, V acc:0.382\n"
     ]
    },
    {
     "data": {
      "application/vnd.jupyter.widget-view+json": {
       "model_id": "6f22d216063040bea424ad64aeb98258",
       "version_major": 2,
       "version_minor": 0
      },
      "text/plain": [
       "HBox(children=(FloatProgress(value=0.0, max=8.0), HTML(value='')))"
      ]
     },
     "metadata": {},
     "output_type": "display_data"
    },
    {
     "name": "stdout",
     "output_type": "stream",
     "text": [
      "\n",
      "Epoch:19, T Loss:0.292, T acc:0.954 V Loss:2.426, V acc:0.320\n"
     ]
    },
    {
     "data": {
      "application/vnd.jupyter.widget-view+json": {
       "model_id": "f4588eee0fbc47bb8822849659a598a5",
       "version_major": 2,
       "version_minor": 0
      },
      "text/plain": [
       "HBox(children=(FloatProgress(value=0.0, max=8.0), HTML(value='')))"
      ]
     },
     "metadata": {},
     "output_type": "display_data"
    },
    {
     "name": "stdout",
     "output_type": "stream",
     "text": [
      "\n",
      "Epoch:20, T Loss:0.257, T acc:0.962 V Loss:2.244, V acc:0.357\n"
     ]
    }
   ],
   "source": [
    "train_loss, train_acc, test_loss, test_acc = train(net, crit, opt, mini_train_gen, mini_test_gen, 20)"
   ]
  },
  {
   "cell_type": "code",
   "execution_count": 239,
   "metadata": {},
   "outputs": [
    {
     "data": {
      "image/png": "[encoded data removed]",
      "text/plain": [
       "<Figure size 1080x576 with 2 Axes>"
      ]
     },
     "metadata": {
      "needs_background": "light"
     },
     "output_type": "display_data"
    }
   ],
   "source": [
    "plot_loss_acc(train_loss, train_acc, test_loss, test_acc)"
   ]
  },
  {
   "cell_type": "code",
   "execution_count": 15,
   "metadata": {},
   "outputs": [],
   "source": [
    "training_set, validation_set, mini_train_set, mini_test_set = get_datasets_res(FOLDER)\n",
    "#training_gen = DataLoader(training_set, batch_size=128, shuffle=True, num_workers=4)\n",
    "#valid_gen = DataLoader(validation_set, batch_size=128)\n",
    "mini_train_gen = DataLoader(mini_train_set, batch_size=32, shuffle=True, num_workers=4)\n",
    "mini_test_gen = DataLoader(mini_test_set, batch_size=32, shuffle=True, num_workers=4)"
   ]
  },
  {
   "cell_type": "code",
   "execution_count": 16,
   "metadata": {},
   "outputs": [
    {
     "data": {
      "text/plain": [
       "torch.Size([32, 3, 224, 224])"
      ]
     },
     "execution_count": 16,
     "metadata": {},
     "output_type": "execute_result"
    }
   ],
   "source": [
    "i = next(iter(mini_train_gen))[0]\n",
    "i.shape"
   ]
  },
  {
   "cell_type": "code",
   "execution_count": 18,
   "metadata": {},
   "outputs": [],
   "source": [
    "import timm"
   ]
  },
  {
   "cell_type": "code",
   "execution_count": 23,
   "metadata": {},
   "outputs": [
    {
     "name": "stdout",
     "output_type": "stream",
     "text": [
      "+------------------------------+------------+\n",
      "|           Modules            | Parameters |\n",
      "+------------------------------+------------+\n",
      "|         conv1.weight         |    9408    |\n",
      "|          bn1.weight          |     64     |\n",
      "|           bn1.bias           |     64     |\n",
      "|    layer1.0.conv1.weight     |   36864    |\n",
      "|     layer1.0.bn1.weight      |     64     |\n",
      "|      layer1.0.bn1.bias       |     64     |\n",
      "|    layer1.0.conv2.weight     |   36864    |\n",
      "|     layer1.0.bn2.weight      |     64     |\n",
      "|      layer1.0.bn2.bias       |     64     |\n",
      "|    layer1.1.conv1.weight     |   36864    |\n",
      "|     layer1.1.bn1.weight      |     64     |\n",
      "|      layer1.1.bn1.bias       |     64     |\n",
      "|    layer1.1.conv2.weight     |   36864    |\n",
      "|     layer1.1.bn2.weight      |     64     |\n",
      "|      layer1.1.bn2.bias       |     64     |\n",
      "|    layer2.0.conv1.weight     |   73728    |\n",
      "|     layer2.0.bn1.weight      |    128     |\n",
      "|      layer2.0.bn1.bias       |    128     |\n",
      "|    layer2.0.conv2.weight     |   147456   |\n",
      "|     layer2.0.bn2.weight      |    128     |\n",
      "|      layer2.0.bn2.bias       |    128     |\n",
      "| layer2.0.downsample.0.weight |    8192    |\n",
      "| layer2.0.downsample.1.weight |    128     |\n",
      "|  layer2.0.downsample.1.bias  |    128     |\n",
      "|    layer2.1.conv1.weight     |   147456   |\n",
      "|     layer2.1.bn1.weight      |    128     |\n",
      "|      layer2.1.bn1.bias       |    128     |\n",
      "|    layer2.1.conv2.weight     |   147456   |\n",
      "|     layer2.1.bn2.weight      |    128     |\n",
      "|      layer2.1.bn2.bias       |    128     |\n",
      "|    layer3.0.conv1.weight     |   294912   |\n",
      "|     layer3.0.bn1.weight      |    256     |\n",
      "|      layer3.0.bn1.bias       |    256     |\n",
      "|    layer3.0.conv2.weight     |   589824   |\n",
      "|     layer3.0.bn2.weight      |    256     |\n",
      "|      layer3.0.bn2.bias       |    256     |\n",
      "| layer3.0.downsample.0.weight |   32768    |\n",
      "| layer3.0.downsample.1.weight |    256     |\n",
      "|  layer3.0.downsample.1.bias  |    256     |\n",
      "|    layer3.1.conv1.weight     |   589824   |\n",
      "|     layer3.1.bn1.weight      |    256     |\n",
      "|      layer3.1.bn1.bias       |    256     |\n",
      "|    layer3.1.conv2.weight     |   589824   |\n",
      "|     layer3.1.bn2.weight      |    256     |\n",
      "|      layer3.1.bn2.bias       |    256     |\n",
      "|    layer4.0.conv1.weight     |  1179648   |\n",
      "|     layer4.0.bn1.weight      |    512     |\n",
      "|      layer4.0.bn1.bias       |    512     |\n",
      "|    layer4.0.conv2.weight     |  2359296   |\n",
      "|     layer4.0.bn2.weight      |    512     |\n",
      "|      layer4.0.bn2.bias       |    512     |\n",
      "| layer4.0.downsample.0.weight |   131072   |\n",
      "| layer4.0.downsample.1.weight |    512     |\n",
      "|  layer4.0.downsample.1.bias  |    512     |\n",
      "|    layer4.1.conv1.weight     |  2359296   |\n",
      "|     layer4.1.bn1.weight      |    512     |\n",
      "|      layer4.1.bn1.bias       |    512     |\n",
      "|    layer4.1.conv2.weight     |  2359296   |\n",
      "|     layer4.1.bn2.weight      |    512     |\n",
      "|      layer4.1.bn2.bias       |    512     |\n",
      "|          fc.weight           |    5120    |\n",
      "|           fc.bias            |     10     |\n",
      "+------------------------------+------------+\n",
      "Total Trainable Params: 11181642\n"
     ]
    },
    {
     "data": {
      "text/plain": [
       "11181642"
      ]
     },
     "execution_count": 23,
     "metadata": {},
     "output_type": "execute_result"
    }
   ],
   "source": [
    "resnet = timm.create_model(\"resnet18\")\n",
    "for param in resnet.parameters():\n",
    "    param.requires_grad = True\n",
    "resnet.fc = nn.Linear(512, 10)\n",
    "count_parameters(resnet)"
   ]
  },
  {
   "cell_type": "code",
   "execution_count": 24,
   "metadata": {},
   "outputs": [],
   "source": [
    "crit = nn.CrossEntropyLoss()\n",
    "opt = optim.Adam(resnet.parameters(), lr=0.01, weight_decay=0.005)"
   ]
  },
  {
   "cell_type": "code",
   "execution_count": 25,
   "metadata": {},
   "outputs": [
    {
     "data": {
      "application/vnd.jupyter.widget-view+json": {
       "model_id": "b76f0a4f9b724aebb59c5c7ade90cebf",
       "version_major": 2,
       "version_minor": 0
      },
      "text/plain": [
       "HBox(children=(FloatProgress(value=0.0, max=32.0), HTML(value='')))"
      ]
     },
     "metadata": {},
     "output_type": "display_data"
    },
    {
     "name": "stdout",
     "output_type": "stream",
     "text": [
      "\n",
      "Epoch:1, T Loss:2.301, T acc:0.188 V Loss:2.457, V acc:0.118\n"
     ]
    }
   ],
   "source": [
    "train_loss, train_acc, test_loss, test_acc = train(resnet, crit, opt, mini_train_gen, mini_test_gen, 1)"
   ]
  },
  {
   "cell_type": "code",
   "execution_count": 269,
   "metadata": {},
   "outputs": [
    {
     "data": {
      "text/plain": [
       "Parameter containing:\n",
       "tensor([[ 0.0010, -0.1764, -0.1104,  ...,  0.0704, -0.1387,  0.0257],\n",
       "        [-0.0194, -0.0750,  0.0150,  ..., -0.0212,  0.0304,  0.0222],\n",
       "        [-0.0077,  0.1189,  0.0162,  ...,  0.0151, -0.0206, -0.0795],\n",
       "        ...,\n",
       "        [ 0.0323,  0.0402, -0.1203,  ...,  0.1042,  0.1312,  0.1676],\n",
       "        [-0.0148, -0.1562,  0.0259,  ..., -0.0012, -0.0102,  0.0107],\n",
       "        [-0.0419,  0.0678,  0.0520,  ..., -0.0567, -0.0049,  0.0273]],\n",
       "       requires_grad=True)"
      ]
     },
     "execution_count": 269,
     "metadata": {},
     "output_type": "execute_result"
    }
   ],
   "source": [
    "resnet.fc.weight"
   ]
  },
  {
   "cell_type": "code",
   "execution_count": 230,
   "metadata": {},
   "outputs": [
    {
     "data": {
      "text/plain": [
       "(3, 32, 32)"
      ]
     },
     "execution_count": 230,
     "metadata": {},
     "output_type": "execute_result"
    }
   ],
   "source": [
    "i.shape"
   ]
  },
  {
   "cell_type": "code",
   "execution_count": 298,
   "metadata": {},
   "outputs": [
    {
     "ename": "TypeError",
     "evalue": "interpolate() missing 1 required positional argument: 'input'",
     "output_type": "error",
     "traceback": [
      "\u001b[1;31m---------------------------------------------------------------------------\u001b[0m",
      "\u001b[1;31mTypeError\u001b[0m                                 Traceback (most recent call last)",
      "\u001b[1;32m<ipython-input-298-e33127a80563>\u001b[0m in \u001b[0;36m<module>\u001b[1;34m\u001b[0m\n\u001b[0;32m      1\u001b[0m \u001b[1;32mimport\u001b[0m \u001b[0mtorch\u001b[0m\u001b[1;33m.\u001b[0m\u001b[0mnn\u001b[0m\u001b[1;33m.\u001b[0m\u001b[0mfunctional\u001b[0m \u001b[1;32mas\u001b[0m \u001b[0mF\u001b[0m\u001b[1;33m\u001b[0m\u001b[1;33m\u001b[0m\u001b[0m\n\u001b[1;32m----> 2\u001b[1;33m \u001b[0mF\u001b[0m\u001b[1;33m.\u001b[0m\u001b[0minterpolate\u001b[0m\u001b[1;33m(\u001b[0m\u001b[1;33m)\u001b[0m\u001b[1;33m\u001b[0m\u001b[1;33m\u001b[0m\u001b[0m\n\u001b[0m",
      "\u001b[1;31mTypeError\u001b[0m: interpolate() missing 1 required positional argument: 'input'"
     ]
    }
   ],
   "source": [
    "import torch.nn.functional as F\n",
    "F.interpolate()"
   ]
  },
  {
   "cell_type": "code",
   "execution_count": null,
   "metadata": {},
   "outputs": [],
   "source": []
  }
 ],
 "metadata": {
  "kernelspec": {
   "display_name": "Python 3",
   "language": "python",
   "name": "python3"
  },
  "language_info": {
   "codemirror_mode": {
    "name": "ipython",
    "version": 3
   },
   "file_extension": ".py",
   "mimetype": "text/x-python",
   "name": "python",
   "nbconvert_exporter": "python",
   "pygments_lexer": "ipython3",
   "version": "3.6.8"
  }
 },
 "nbformat": 4,
 "nbformat_minor": 4
}
