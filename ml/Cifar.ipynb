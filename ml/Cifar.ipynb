{
 "cells": [
  {
   "cell_type": "markdown",
   "metadata": {},
   "source": [
    "# Self-implemented Resnets on CIFAR10\n",
    "An evaluation of a small Resnet on CIFAR10. Architecture very similar to the description given in original Resnet paper."
   ]
  },
  {
   "cell_type": "code",
   "execution_count": 4,
   "metadata": {},
   "outputs": [],
   "source": [
    "%load_ext autoreload\n",
    "%autoreload 2"
   ]
  },
  {
   "cell_type": "code",
   "execution_count": 149,
   "metadata": {},
   "outputs": [],
   "source": [
    "from cifar_utils import get_datasets, plot, show_preds, RESNET\n",
    "from utils import train, plot_loss_acc, count_parameters, accuracy\n",
    "import numpy as np\n",
    "import torch\n",
    "import torch.nn as nn\n",
    "import torch.optim as optim\n",
    "from torch.utils.data import DataLoader\n",
    "from tqdm.notebook import tqdm as bar\n",
    "import matplotlib.pyplot as plt"
   ]
  },
  {
   "cell_type": "code",
   "execution_count": 127,
   "metadata": {},
   "outputs": [
    {
     "name": "stdout",
     "output_type": "stream",
     "text": [
      "50000 10000\n"
     ]
    }
   ],
   "source": [
    "FOLDER = \".//data//cifar//\"\n",
    "training_set, validation_set, mini_train_set, mini_test_set = get_datasets(FOLDER)\n",
    "print(len(training_set), len(validation_set))"
   ]
  },
  {
   "cell_type": "code",
   "execution_count": 128,
   "metadata": {},
   "outputs": [
    {
     "name": "stdout",
     "output_type": "stream",
     "text": [
      "(32, 32, 3)\n"
     ]
    },
    {
     "data": {
      "image/png": "[encoded data removed]",
      "text/plain": [
       "<Figure size 432x288 with 1 Axes>"
      ]
     },
     "metadata": {
      "needs_background": "light"
     },
     "output_type": "display_data"
    }
   ],
   "source": [
    "img = training_set.get_image(1)\n",
    "print(img.shape)\n",
    "plot(training_set.get_image(1), training_set.get_label(1))"
   ]
  },
  {
   "cell_type": "code",
   "execution_count": 129,
   "metadata": {},
   "outputs": [],
   "source": [
    "training_gen = DataLoader(training_set, batch_size=128, shuffle=True)\n",
    "valid_gen = DataLoader(validation_set, batch_size=128)\n",
    "mini_train_gen = DataLoader(mini_train_set, batch_size=128, shuffle=True)\n",
    "mini_test_gen = DataLoader(mini_test_set, batch_size=128)"
   ]
  },
  {
   "cell_type": "code",
   "execution_count": 144,
   "metadata": {},
   "outputs": [
    {
     "name": "stdout",
     "output_type": "stream",
     "text": [
      "+---------------------------------+------------+\n",
      "|             Modules             | Parameters |\n",
      "+---------------------------------+------------+\n",
      "|        net.0.conv.weight        |    432     |\n",
      "|         net.0.bn.weight         |     16     |\n",
      "|          net.0.bn.bias          |     16     |\n",
      "|     net.2.conv1.conv.weight     |    2304    |\n",
      "|      net.2.conv1.bn.weight      |     16     |\n",
      "|       net.2.conv1.bn.bias       |     16     |\n",
      "|     net.2.conv2.conv.weight     |    2304    |\n",
      "|      net.2.conv2.bn.weight      |     16     |\n",
      "|       net.2.conv2.bn.bias       |     16     |\n",
      "|     net.3.conv1.conv.weight     |    2304    |\n",
      "|      net.3.conv1.bn.weight      |     16     |\n",
      "|       net.3.conv1.bn.bias       |     16     |\n",
      "|     net.3.conv2.conv.weight     |    2304    |\n",
      "|      net.3.conv2.bn.weight      |     16     |\n",
      "|       net.3.conv2.bn.bias       |     16     |\n",
      "|     net.4.conv1.conv.weight     |    2304    |\n",
      "|      net.4.conv1.bn.weight      |     16     |\n",
      "|       net.4.conv1.bn.bias       |     16     |\n",
      "|     net.4.conv2.conv.weight     |    2304    |\n",
      "|      net.4.conv2.bn.weight      |     16     |\n",
      "|       net.4.conv2.bn.bias       |     16     |\n",
      "| net.5.shortcut_conv.conv.weight |    512     |\n",
      "|  net.5.shortcut_conv.bn.weight  |     32     |\n",
      "|   net.5.shortcut_conv.bn.bias   |     32     |\n",
      "|     net.5.conv1.conv.weight     |    4608    |\n",
      "|      net.5.conv1.bn.weight      |     32     |\n",
      "|       net.5.conv1.bn.bias       |     32     |\n",
      "|     net.5.conv2.conv.weight     |    9216    |\n",
      "|      net.5.conv2.bn.weight      |     32     |\n",
      "|       net.5.conv2.bn.bias       |     32     |\n",
      "|     net.6.conv1.conv.weight     |    9216    |\n",
      "|      net.6.conv1.bn.weight      |     32     |\n",
      "|       net.6.conv1.bn.bias       |     32     |\n",
      "|     net.6.conv2.conv.weight     |    9216    |\n",
      "|      net.6.conv2.bn.weight      |     32     |\n",
      "|       net.6.conv2.bn.bias       |     32     |\n",
      "|     net.7.conv1.conv.weight     |    9216    |\n",
      "|      net.7.conv1.bn.weight      |     32     |\n",
      "|       net.7.conv1.bn.bias       |     32     |\n",
      "|     net.7.conv2.conv.weight     |    9216    |\n",
      "|      net.7.conv2.bn.weight      |     32     |\n",
      "|       net.7.conv2.bn.bias       |     32     |\n",
      "| net.8.shortcut_conv.conv.weight |    2048    |\n",
      "|  net.8.shortcut_conv.bn.weight  |     64     |\n",
      "|   net.8.shortcut_conv.bn.bias   |     64     |\n",
      "|     net.8.conv1.conv.weight     |   18432    |\n",
      "|      net.8.conv1.bn.weight      |     64     |\n",
      "|       net.8.conv1.bn.bias       |     64     |\n",
      "|     net.8.conv2.conv.weight     |   36864    |\n",
      "|      net.8.conv2.bn.weight      |     64     |\n",
      "|       net.8.conv2.bn.bias       |     64     |\n",
      "|     net.9.conv1.conv.weight     |   36864    |\n",
      "|      net.9.conv1.bn.weight      |     64     |\n",
      "|       net.9.conv1.bn.bias       |     64     |\n",
      "|     net.9.conv2.conv.weight     |   36864    |\n",
      "|      net.9.conv2.bn.weight      |     64     |\n",
      "|       net.9.conv2.bn.bias       |     64     |\n",
      "|     net.10.conv1.conv.weight    |   36864    |\n",
      "|      net.10.conv1.bn.weight     |     64     |\n",
      "|       net.10.conv1.bn.bias      |     64     |\n",
      "|     net.10.conv2.conv.weight    |   36864    |\n",
      "|      net.10.conv2.bn.weight     |     64     |\n",
      "|       net.10.conv2.bn.bias      |     64     |\n",
      "|          net.13.weight          |    640     |\n",
      "|           net.13.bias           |     10     |\n",
      "+---------------------------------+------------+\n",
      "Total Trainable Params: 272474\n"
     ]
    },
    {
     "data": {
      "text/plain": [
       "272474"
      ]
     },
     "execution_count": 144,
     "metadata": {},
     "output_type": "execute_result"
    }
   ],
   "source": [
    "net = RESNET(3)\n",
    "crit = nn.CrossEntropyLoss()\n",
    "opt = optim.Adam(net.parameters(), lr=0.01, weight_decay=0.0001)\n",
    "count_parameters(net)"
   ]
  },
  {
   "cell_type": "code",
   "execution_count": 146,
   "metadata": {},
   "outputs": [
    {
     "data": {
      "application/vnd.jupyter.widget-view+json": {
       "model_id": "9702998d894444da97db31c23927a9af",
       "version_major": 2,
       "version_minor": 0
      },
      "text/plain": [
       "HBox(children=(FloatProgress(value=0.0, max=391.0), HTML(value='')))"
      ]
     },
     "metadata": {},
     "output_type": "display_data"
    },
    {
     "name": "stdout",
     "output_type": "stream",
     "text": [
      "\n",
      "Epoch:1, T Loss:1.181, T acc:0.574 V Loss:1.289, V acc:0.542\n"
     ]
    },
    {
     "data": {
      "application/vnd.jupyter.widget-view+json": {
       "model_id": "c1a86e0917a5472e8acb0f10d4712664",
       "version_major": 2,
       "version_minor": 0
      },
      "text/plain": [
       "HBox(children=(FloatProgress(value=0.0, max=391.0), HTML(value='')))"
      ]
     },
     "metadata": {},
     "output_type": "display_data"
    },
    {
     "name": "stdout",
     "output_type": "stream",
     "text": [
      "\n",
      "Epoch:2, T Loss:0.945, T acc:0.666 V Loss:1.245, V acc:0.589\n"
     ]
    },
    {
     "data": {
      "application/vnd.jupyter.widget-view+json": {
       "model_id": "be55b2f3239e4d44b975972a990c0c95",
       "version_major": 2,
       "version_minor": 0
      },
      "text/plain": [
       "HBox(children=(FloatProgress(value=0.0, max=391.0), HTML(value='')))"
      ]
     },
     "metadata": {},
     "output_type": "display_data"
    },
    {
     "name": "stdout",
     "output_type": "stream",
     "text": [
      "\n",
      "Epoch:3, T Loss:0.812, T acc:0.717 V Loss:1.216, V acc:0.612\n"
     ]
    },
    {
     "data": {
      "application/vnd.jupyter.widget-view+json": {
       "model_id": "2330124ab8c24476bd1ec60e79aedb8b",
       "version_major": 2,
       "version_minor": 0
      },
      "text/plain": [
       "HBox(children=(FloatProgress(value=0.0, max=391.0), HTML(value='')))"
      ]
     },
     "metadata": {},
     "output_type": "display_data"
    },
    {
     "name": "stdout",
     "output_type": "stream",
     "text": [
      "\n",
      "Epoch:4, T Loss:0.753, T acc:0.739 V Loss:0.780, V acc:0.731\n"
     ]
    },
    {
     "data": {
      "application/vnd.jupyter.widget-view+json": {
       "model_id": "0a6708bff5dd4ed0a6a070bfefeeb861",
       "version_major": 2,
       "version_minor": 0
      },
      "text/plain": [
       "HBox(children=(FloatProgress(value=0.0, max=391.0), HTML(value='')))"
      ]
     },
     "metadata": {},
     "output_type": "display_data"
    },
    {
     "name": "stdout",
     "output_type": "stream",
     "text": [
      "\n",
      "Epoch:5, T Loss:0.702, T acc:0.756 V Loss:0.817, V acc:0.731\n"
     ]
    },
    {
     "data": {
      "application/vnd.jupyter.widget-view+json": {
       "model_id": "e37fac7807dd4ff8a26f57f986b14ae2",
       "version_major": 2,
       "version_minor": 0
      },
      "text/plain": [
       "HBox(children=(FloatProgress(value=0.0, max=391.0), HTML(value='')))"
      ]
     },
     "metadata": {},
     "output_type": "display_data"
    },
    {
     "name": "stdout",
     "output_type": "stream",
     "text": [
      "\n",
      "Epoch:6, T Loss:0.675, T acc:0.768 V Loss:0.913, V acc:0.693\n"
     ]
    },
    {
     "data": {
      "application/vnd.jupyter.widget-view+json": {
       "model_id": "70574fb4976f4b86906ef2ee37bd08b7",
       "version_major": 2,
       "version_minor": 0
      },
      "text/plain": [
       "HBox(children=(FloatProgress(value=0.0, max=391.0), HTML(value='')))"
      ]
     },
     "metadata": {},
     "output_type": "display_data"
    },
    {
     "name": "stdout",
     "output_type": "stream",
     "text": [
      "\n",
      "Epoch:7, T Loss:0.653, T acc:0.773 V Loss:0.856, V acc:0.712\n"
     ]
    },
    {
     "data": {
      "application/vnd.jupyter.widget-view+json": {
       "model_id": "942a7b4d9bf24a238628c9452885b8f4",
       "version_major": 2,
       "version_minor": 0
      },
      "text/plain": [
       "HBox(children=(FloatProgress(value=0.0, max=391.0), HTML(value='')))"
      ]
     },
     "metadata": {},
     "output_type": "display_data"
    },
    {
     "name": "stdout",
     "output_type": "stream",
     "text": [
      "\n",
      "Epoch:8, T Loss:0.638, T acc:0.779 V Loss:0.975, V acc:0.693\n"
     ]
    },
    {
     "data": {
      "application/vnd.jupyter.widget-view+json": {
       "model_id": "e607909807574980bb98a066a5ad215b",
       "version_major": 2,
       "version_minor": 0
      },
      "text/plain": [
       "HBox(children=(FloatProgress(value=0.0, max=391.0), HTML(value='')))"
      ]
     },
     "metadata": {},
     "output_type": "display_data"
    },
    {
     "name": "stdout",
     "output_type": "stream",
     "text": [
      "\n",
      "Epoch:9, T Loss:0.622, T acc:0.784 V Loss:0.889, V acc:0.719\n"
     ]
    },
    {
     "data": {
      "application/vnd.jupyter.widget-view+json": {
       "model_id": "bac9b0a84b9c462095d1c98e3af7b815",
       "version_major": 2,
       "version_minor": 0
      },
      "text/plain": [
       "HBox(children=(FloatProgress(value=0.0, max=391.0), HTML(value='')))"
      ]
     },
     "metadata": {},
     "output_type": "display_data"
    },
    {
     "name": "stdout",
     "output_type": "stream",
     "text": [
      "\n",
      "Epoch:10, T Loss:0.615, T acc:0.788 V Loss:0.663, V acc:0.775\n"
     ]
    },
    {
     "data": {
      "application/vnd.jupyter.widget-view+json": {
       "model_id": "2df28339216c4528972c9ebbc60ea1be",
       "version_major": 2,
       "version_minor": 0
      },
      "text/plain": [
       "HBox(children=(FloatProgress(value=0.0, max=391.0), HTML(value='')))"
      ]
     },
     "metadata": {},
     "output_type": "display_data"
    },
    {
     "name": "stdout",
     "output_type": "stream",
     "text": [
      "\n",
      "Epoch:11, T Loss:0.599, T acc:0.793 V Loss:0.895, V acc:0.711\n"
     ]
    },
    {
     "data": {
      "application/vnd.jupyter.widget-view+json": {
       "model_id": "949f0f45d0d04e0b8f45c93c060af34d",
       "version_major": 2,
       "version_minor": 0
      },
      "text/plain": [
       "HBox(children=(FloatProgress(value=0.0, max=391.0), HTML(value='')))"
      ]
     },
     "metadata": {},
     "output_type": "display_data"
    },
    {
     "name": "stdout",
     "output_type": "stream",
     "text": [
      "\n",
      "Epoch:12, T Loss:0.601, T acc:0.794 V Loss:0.836, V acc:0.724\n"
     ]
    },
    {
     "data": {
      "application/vnd.jupyter.widget-view+json": {
       "model_id": "1b7c37e1cd7449f384024d36cafe62b8",
       "version_major": 2,
       "version_minor": 0
      },
      "text/plain": [
       "HBox(children=(FloatProgress(value=0.0, max=391.0), HTML(value='')))"
      ]
     },
     "metadata": {},
     "output_type": "display_data"
    },
    {
     "name": "stdout",
     "output_type": "stream",
     "text": [
      "\n",
      "Epoch:13, T Loss:0.588, T acc:0.797 V Loss:0.791, V acc:0.744\n"
     ]
    },
    {
     "data": {
      "application/vnd.jupyter.widget-view+json": {
       "model_id": "5c46228bfb084e0289737fc7186fc649",
       "version_major": 2,
       "version_minor": 0
      },
      "text/plain": [
       "HBox(children=(FloatProgress(value=0.0, max=391.0), HTML(value='')))"
      ]
     },
     "metadata": {},
     "output_type": "display_data"
    },
    {
     "name": "stdout",
     "output_type": "stream",
     "text": [
      "\n",
      "Epoch:14, T Loss:0.580, T acc:0.799 V Loss:1.092, V acc:0.688\n"
     ]
    },
    {
     "data": {
      "application/vnd.jupyter.widget-view+json": {
       "model_id": "6f69e145efa14b42842e1bc474a98e08",
       "version_major": 2,
       "version_minor": 0
      },
      "text/plain": [
       "HBox(children=(FloatProgress(value=0.0, max=391.0), HTML(value='')))"
      ]
     },
     "metadata": {},
     "output_type": "display_data"
    },
    {
     "name": "stdout",
     "output_type": "stream",
     "text": [
      "\n",
      "Epoch:15, T Loss:0.579, T acc:0.800 V Loss:0.788, V acc:0.731\n"
     ]
    },
    {
     "data": {
      "application/vnd.jupyter.widget-view+json": {
       "model_id": "8fb295655c3941f49f182169366690b3",
       "version_major": 2,
       "version_minor": 0
      },
      "text/plain": [
       "HBox(children=(FloatProgress(value=0.0, max=391.0), HTML(value='')))"
      ]
     },
     "metadata": {},
     "output_type": "display_data"
    },
    {
     "name": "stdout",
     "output_type": "stream",
     "text": [
      "\n",
      "Epoch:16, T Loss:0.570, T acc:0.802 V Loss:0.840, V acc:0.738\n"
     ]
    },
    {
     "data": {
      "application/vnd.jupyter.widget-view+json": {
       "model_id": "390e81290c004256a6ea2e6d8eb4f68b",
       "version_major": 2,
       "version_minor": 0
      },
      "text/plain": [
       "HBox(children=(FloatProgress(value=0.0, max=391.0), HTML(value='')))"
      ]
     },
     "metadata": {},
     "output_type": "display_data"
    },
    {
     "name": "stdout",
     "output_type": "stream",
     "text": [
      "\n",
      "Epoch:17, T Loss:0.573, T acc:0.805 V Loss:0.672, V acc:0.782\n"
     ]
    },
    {
     "data": {
      "application/vnd.jupyter.widget-view+json": {
       "model_id": "e079544320d84aed9a484fca55d94e04",
       "version_major": 2,
       "version_minor": 0
      },
      "text/plain": [
       "HBox(children=(FloatProgress(value=0.0, max=391.0), HTML(value='')))"
      ]
     },
     "metadata": {},
     "output_type": "display_data"
    },
    {
     "name": "stdout",
     "output_type": "stream",
     "text": [
      "\n",
      "Epoch:18, T Loss:0.564, T acc:0.805 V Loss:0.776, V acc:0.732\n"
     ]
    },
    {
     "data": {
      "application/vnd.jupyter.widget-view+json": {
       "model_id": "da833e95455e4793a54cef1e1323a5d4",
       "version_major": 2,
       "version_minor": 0
      },
      "text/plain": [
       "HBox(children=(FloatProgress(value=0.0, max=391.0), HTML(value='')))"
      ]
     },
     "metadata": {},
     "output_type": "display_data"
    },
    {
     "name": "stdout",
     "output_type": "stream",
     "text": [
      "\n",
      "Epoch:19, T Loss:0.563, T acc:0.805 V Loss:0.690, V acc:0.770\n"
     ]
    },
    {
     "data": {
      "application/vnd.jupyter.widget-view+json": {
       "model_id": "a41237e6cf7f41c5a936d4a9b183b015",
       "version_major": 2,
       "version_minor": 0
      },
      "text/plain": [
       "HBox(children=(FloatProgress(value=0.0, max=391.0), HTML(value='')))"
      ]
     },
     "metadata": {},
     "output_type": "display_data"
    },
    {
     "name": "stdout",
     "output_type": "stream",
     "text": [
      "\n",
      "Epoch:20, T Loss:0.557, T acc:0.809 V Loss:0.673, V acc:0.771\n"
     ]
    }
   ],
   "source": [
    "train_loss, train_acc, test_loss, test_acc = train(net, crit, accuracy, opt, training_gen, valid_gen, 20)"
   ]
  },
  {
   "cell_type": "code",
   "execution_count": 147,
   "metadata": {},
   "outputs": [
    {
     "data": {
      "image/png": "[encoded data removed]",
      "text/plain": [
       "<Figure size 1080x576 with 2 Axes>"
      ]
     },
     "metadata": {
      "needs_background": "light"
     },
     "output_type": "display_data"
    }
   ],
   "source": [
    "plot_loss_acc(train_loss, train_acc, test_loss, test_acc)"
   ]
  },
  {
   "cell_type": "code",
   "execution_count": 150,
   "metadata": {},
   "outputs": [
    {
     "name": "stdout",
     "output_type": "stream",
     "text": [
      "+---------+------------+---------------+\n",
      "| Correct | Prediction | Correct Label |\n",
      "+---------+------------+---------------+\n",
      "|  False  |    ship    |    airplane   |\n",
      "|   True  |    bird    |      bird     |\n",
      "|   True  |    dog     |      dog      |\n",
      "|   True  |    dog     |      dog      |\n",
      "|  False  |    dog     |      frog     |\n",
      "|   True  |   horse    |     horse     |\n",
      "|   True  |   truck    |     truck     |\n",
      "|   True  |   horse    |     horse     |\n",
      "|   True  |    frog    |      frog     |\n",
      "|   True  |    frog    |      frog     |\n",
      "|   True  |    deer    |      deer     |\n",
      "|  False  |   truck    |    airplane   |\n",
      "|   True  |  airplane  |    airplane   |\n",
      "|   True  |    cat     |      cat      |\n",
      "|   True  |  airplane  |    airplane   |\n",
      "|   True  |   truck    |     truck     |\n",
      "|   True  |   horse    |     horse     |\n",
      "|   True  |  airplane  |    airplane   |\n",
      "|   True  |    ship    |      ship     |\n",
      "|   True  |    frog    |      frog     |\n",
      "|   True  | automobile |   automobile  |\n",
      "|   True  |   truck    |     truck     |\n",
      "|  False  |    cat     |     truck     |\n",
      "|  False  |    ship    |    airplane   |\n",
      "|   True  |    ship    |      ship     |\n",
      "|   True  |    ship    |      ship     |\n",
      "|   True  | automobile |   automobile  |\n",
      "|   True  |    dog     |      dog      |\n",
      "|   True  |    ship    |      ship     |\n",
      "|  False  |    ship    |     truck     |\n",
      "|   True  |    ship    |      ship     |\n",
      "|   True  |   horse    |     horse     |\n",
      "|   True  |    cat     |      cat      |\n",
      "|   True  |    dog     |      dog      |\n",
      "|   True  |    frog    |      frog     |\n",
      "|  False  |   truck    |      ship     |\n",
      "|   True  |    deer    |      deer     |\n",
      "|   True  |    ship    |      ship     |\n",
      "|   True  |   horse    |     horse     |\n",
      "|   True  |   truck    |     truck     |\n",
      "|   True  |    bird    |      bird     |\n",
      "|   True  |    dog     |      dog      |\n",
      "|   True  |    cat     |      cat      |\n",
      "|   True  |    bird    |      bird     |\n",
      "|   True  |    ship    |      ship     |\n",
      "|   True  |    deer    |      deer     |\n",
      "|   True  |    frog    |      frog     |\n",
      "|   True  |    ship    |      ship     |\n",
      "|  False  |    dog     |     horse     |\n",
      "|   True  |    bird    |      bird     |\n",
      "|  False  |    bird    |      deer     |\n",
      "|  False  |    cat     |      bird     |\n",
      "|   True  |   truck    |     truck     |\n",
      "|   True  |  airplane  |    airplane   |\n",
      "|  False  |    deer    |    airplane   |\n",
      "|   True  |    deer    |      deer     |\n",
      "|  False  | automobile |      ship     |\n",
      "|   True  |  airplane  |    airplane   |\n",
      "|   True  |    dog     |      dog      |\n",
      "|   True  |  airplane  |    airplane   |\n",
      "|   True  |    deer    |      deer     |\n",
      "|  False  |    cat     |     horse     |\n",
      "|   True  |    frog    |      frog     |\n",
      "|   True  |  airplane  |    airplane   |\n",
      "|   True  |    cat     |      cat      |\n",
      "|   True  |    frog    |      frog     |\n",
      "|   True  |    deer    |      deer     |\n",
      "|   True  |    deer    |      deer     |\n",
      "|  False  |    dog     |      cat      |\n",
      "|   True  |   horse    |     horse     |\n",
      "|   True  | automobile |   automobile  |\n",
      "|   True  |    deer    |      deer     |\n",
      "|  False  |   truck    |   automobile  |\n",
      "|   True  |  airplane  |    airplane   |\n",
      "|   True  | automobile |   automobile  |\n",
      "|   True  |    ship    |      ship     |\n",
      "|   True  |    frog    |      frog     |\n",
      "|  False  |    deer    |      cat      |\n",
      "|   True  |    dog     |      dog      |\n",
      "|  False  |    bird    |    airplane   |\n",
      "|   True  |    frog    |      frog     |\n",
      "|  False  |    bird    |      dog      |\n",
      "|  False  |    dog     |    airplane   |\n",
      "|   True  |    ship    |      ship     |\n",
      "|   True  |  airplane  |    airplane   |\n",
      "|   True  |   truck    |     truck     |\n",
      "|  False  |    deer    |     horse     |\n",
      "|   True  |    ship    |      ship     |\n",
      "|   True  |    bird    |      bird     |\n",
      "|  False  |    dog     |      cat      |\n",
      "|   True  | automobile |   automobile  |\n",
      "|  False  |    dog     |      deer     |\n",
      "|   True  |    dog     |      dog      |\n",
      "|  False  |    cat     |      bird     |\n",
      "|   True  |    cat     |      cat      |\n",
      "|   True  |    frog    |      frog     |\n",
      "|   True  |   horse    |     horse     |\n",
      "|  False  |    dog     |      cat      |\n",
      "|   True  |    bird    |      bird     |\n",
      "|  False  |    bird    |      deer     |\n",
      "|   True  |    ship    |      ship     |\n",
      "|   True  | automobile |   automobile  |\n",
      "|   True  |    bird    |      bird     |\n",
      "|  False  |    frog    |      bird     |\n",
      "|   True  | automobile |   automobile  |\n",
      "|  False  |    dog     |      cat      |\n",
      "|   True  |   truck    |     truck     |\n",
      "|   True  |  airplane  |    airplane   |\n",
      "|   True  |    cat     |      cat      |\n",
      "|   True  |    dog     |      dog      |\n",
      "|   True  |    deer    |      deer     |\n",
      "|   True  |    frog    |      frog     |\n",
      "|  False  | automobile |    airplane   |\n",
      "|   True  |    frog    |      frog     |\n",
      "|  False  |    dog     |     horse     |\n",
      "|  False  |    ship    |    airplane   |\n",
      "|   True  |    cat     |      cat      |\n",
      "|   True  |   truck    |     truck     |\n",
      "|   True  | automobile |   automobile  |\n",
      "|   True  | automobile |   automobile  |\n",
      "|  False  |    frog    |      cat      |\n",
      "|   True  |    ship    |      ship     |\n",
      "|  False  |    bird    |      frog     |\n",
      "|   True  |  airplane  |    airplane   |\n",
      "|  False  |    deer    |    airplane   |\n",
      "|  False  |   truck    |   automobile  |\n",
      "|  False  |    dog     |     horse     |\n",
      "|   True  |  airplane  |    airplane   |\n",
      "+---------+------------+---------------+\n"
     ]
    }
   ],
   "source": [
    "show_preds(net, mini_train_gen)"
   ]
  }
 ],
 "metadata": {
  "kernelspec": {
   "display_name": "Python 3",
   "language": "python",
   "name": "python3"
  },
  "language_info": {
   "codemirror_mode": {
    "name": "ipython",
    "version": 3
   },
   "file_extension": ".py",
   "mimetype": "text/x-python",
   "name": "python",
   "nbconvert_exporter": "python",
   "pygments_lexer": "ipython3",
   "version": "3.6.8"
  }
 },
 "nbformat": 4,
 "nbformat_minor": 4
}
