{
 "cells": [
  {
   "cell_type": "markdown",
   "metadata": {},
   "source": [
    "## TO DO:\n",
    "- Normalisation of Genblocks so grad passes thru\n",
    "- Perhaps norm of discrim\n",
    "- Function to plot better visuals"
   ]
  },
  {
   "cell_type": "code",
   "execution_count": 1251,
   "metadata": {},
   "outputs": [],
   "source": [
    "import torch\n",
    "import torch.nn as nn\n",
    "import torch.optim as optim\n",
    "from torch.utils.data import DataLoader, TensorDataset\n",
    "from torchvision.datasets import MNIST\n",
    "from torchvision import transforms\n",
    "import matplotlib.pyplot as plt\n",
    "from pathlib import Path\n",
    "import numpy as np\n",
    "from tqdm.notebook import tqdm\n",
    "from scipy.linalg import sqrtm"
   ]
  },
  {
   "cell_type": "code",
   "execution_count": 7,
   "metadata": {},
   "outputs": [],
   "source": [
    "ROOT = Path.cwd() / \"data\" / \"mnist\""
   ]
  },
  {
   "cell_type": "code",
   "execution_count": 8,
   "metadata": {},
   "outputs": [
    {
     "data": {
      "text/plain": [
       "WindowsPath('C:/Stuff/py/projects/ml/ml/data/mnist')"
      ]
     },
     "execution_count": 8,
     "metadata": {},
     "output_type": "execute_result"
    }
   ],
   "source": [
    "ROOT"
   ]
  },
  {
   "cell_type": "code",
   "execution_count": 1238,
   "metadata": {},
   "outputs": [],
   "source": [
    "X_train = np.load(ROOT / \"X_train.npy\")\n",
    "X_test = np.load(ROOT / \"X_test.npy\")\n",
    "xmean = X_train.mean()\n",
    "xstd = X_train.std()\n",
    "X_train = (X_train - xmean) / xstd\n",
    "X_test = (X_test - xmean) / xstd\n",
    "y_train = np.load(ROOT / \"y_train.npy\")\n",
    "y_test = np.load(ROOT / \"y_test.npy\")"
   ]
  },
  {
   "cell_type": "code",
   "execution_count": 852,
   "metadata": {},
   "outputs": [
    {
     "data": {
      "image/png": "[encoded data removed]",
      "text/plain": [
       "<Figure size 432x288 with 1 Axes>"
      ]
     },
     "metadata": {
      "needs_background": "light"
     },
     "output_type": "display_data"
    }
   ],
   "source": [
    "im = X_train[10]\n",
    "plt.imshow(im, cmap=\"gray_r\")\n",
    "plt.show()"
   ]
  },
  {
   "cell_type": "code",
   "execution_count": 1239,
   "metadata": {},
   "outputs": [],
   "source": [
    "X = torch.from_numpy(X_train).view(-1, 1, 28, 28)\n",
    "y = torch.from_numpy(y_train)\n",
    "Xt = torch.from_numpy(X_test).view(-1, 1, 28, 28)\n",
    "yt = torch.from_numpy(y_train)"
   ]
  },
  {
   "cell_type": "code",
   "execution_count": 1257,
   "metadata": {},
   "outputs": [],
   "source": [
    "class Classifier(nn.Module):\n",
    "    def __init__(self):\n",
    "        super().__init__()\n",
    "        self.convs = nn.Sequential(nn.Conv2d(1, 4, kernel_size=3, stride=1), nn.MaxPool2d(2), nn.ReLU(), nn.Conv2d(4, 8, kernel_size=3, stride=1), nn.MaxPool2d(2), nn.ReLU(), nn.Conv2d(8, 16, kernel_size=3, stride=1), nn.MaxPool2d(2), nn.ReLU(), nn.Flatten())\n",
    "        self.fc = nn.Linear(16, 10)\n",
    "        \n",
    "    def forward(self, x):\n",
    "        return self.fc(self.convs(x))"
   ]
  },
  {
   "cell_type": "code",
   "execution_count": 1258,
   "metadata": {},
   "outputs": [],
   "source": [
    "class FD:\n",
    "    def __init__(self, classifier, X):\n",
    "        self.classifier = classifier\n",
    "        self.m, self.sigma = self.get_stats(X)\n",
    "        \n",
    "    def get_stats(self, X):\n",
    "        act = self.classifier.convs(X)\n",
    "        act = act.detach().numpy()\n",
    "        m = np.mean(act, axis=0)\n",
    "        sigma = np.cov(act, rowvar=False)\n",
    "        return m, sigma\n",
    "        \n",
    "    def __call__(self, X):\n",
    "        m, sigma = self.get_stats(X)\n",
    "        ssdiff = ((self.m - m)**2.0).sum()\n",
    "        covmean = sqrtm(self.sigma.dot(sigma))\n",
    "        if np.iscomplexobj(covmean):\n",
    "            covmean = covmean.real\n",
    "        fd = ssdiff + np.trace(self.sigma + sigma - 2.0 * covmean)\n",
    "        return fd "
   ]
  },
  {
   "cell_type": "code",
   "execution_count": 1260,
   "metadata": {},
   "outputs": [],
   "source": [
    "classifier = Classifier()\n",
    "fd = FD(classifier, X)"
   ]
  },
  {
   "cell_type": "code",
   "execution_count": 1261,
   "metadata": {},
   "outputs": [
    {
     "data": {
      "text/plain": [
       "-4.468437609945336e-17"
      ]
     },
     "execution_count": 1261,
     "metadata": {},
     "output_type": "execute_result"
    }
   ],
   "source": [
    "fd(Xt)"
   ]
  },
  {
   "cell_type": "code",
   "execution_count": 1248,
   "metadata": {},
   "outputs": [],
   "source": [
    "cls = nn.Sequential(nn.Conv2d(1, 4, kernel_size=3, stride=1), nn.MaxPool2d(2), nn.ReLU(), nn.Conv2d(4, 8, kernel_size=3, stride=1), nn.MaxPool2d(2), nn.ReLU(), nn.Conv2d(8, 16, kernel_size=3, stride=1), nn.MaxPool2d(2), nn.ReLU(), nn.Flatten(), nn.Linear(16, 10))\n",
    "opt = optim.Adam(cls.parameters(), lr=0.001, weight_decay=0.00001)\n",
    "crit = nn.CrossEntropyLoss()"
   ]
  },
  {
   "cell_type": "code",
   "execution_count": 1241,
   "metadata": {},
   "outputs": [],
   "source": [
    "cls_trainset = DataLoader(TensorDataset(X, y), batch_size=64, shuffle=True)\n",
    "cls_testset = DataLoader(TensorDataset(Xt, yt), batch_size=64, shuffle=True)"
   ]
  },
  {
   "cell_type": "code",
   "execution_count": 1246,
   "metadata": {},
   "outputs": [],
   "source": [
    "def cls_acc(preds, labels):\n",
    "    size = len(preds)\n",
    "    p = torch.argmax(preds, axis=1)\n",
    "    correct = (p == labels).sum().item()\n",
    "    return correct / size"
   ]
  },
  {
   "cell_type": "code",
   "execution_count": 1250,
   "metadata": {},
   "outputs": [
    {
     "name": "stdout",
     "output_type": "stream",
     "text": [
      "Epoch: 1, Acc: 0.92632\n"
     ]
    }
   ],
   "source": [
    "for epoch in range(1):\n",
    "    for x, y in cls_trainset:\n",
    "        preds = cls(x)\n",
    "        loss = crit(preds, y)\n",
    "        acc = cls_acc(preds, y)\n",
    "        accs.append(acc)\n",
    "        opt.zero_grad()\n",
    "        loss.backward()\n",
    "        opt.step()\n",
    "    with torch.no_grad():\n",
    "        accs = []\n",
    "        for x, y in cls_testset:\n",
    "            preds = cls(x)\n",
    "            acc = cls_acc(preds, y)\n",
    "            accs.append(acc)\n",
    "    print(f\"Epoch: {epoch + 1}, Acc: {np.mean(accs):.5f}\")"
   ]
  },
  {
   "cell_type": "code",
   "execution_count": 1247,
   "metadata": {},
   "outputs": [
    {
     "data": {
      "text/plain": [
       "0.09916666666666667"
      ]
     },
     "execution_count": 1247,
     "metadata": {},
     "output_type": "execute_result"
    }
   ],
   "source": [
    "cls_acc(preds, y)"
   ]
  },
  {
   "cell_type": "code",
   "execution_count": 1184,
   "metadata": {},
   "outputs": [],
   "source": [
    "def get_randoms(labels, latent_dim=3, img_dim=32):\n",
    "    bs = len(labels)\n",
    "    latent_z = torch.randn((bs, latent_dim))\n",
    "    noise = torch.randn((bs, img_dim**2))\n",
    "    return latent_z, noise "
   ]
  },
  {
   "cell_type": "code",
   "execution_count": 1185,
   "metadata": {},
   "outputs": [],
   "source": [
    "class LabelEmbed(nn.Module):\n",
    "    def __init__(self):\n",
    "        super().__init__()\n",
    "        self.em = nn.Embedding(10, 1)\n",
    "        \n",
    "    def forward(self, x):\n",
    "        return self.em(x)"
   ]
  },
  {
   "cell_type": "code",
   "execution_count": 1186,
   "metadata": {},
   "outputs": [],
   "source": [
    "class Generator(nn.Module):\n",
    "    def __init__(self, latent_dim=3, em_dim=1, size=8):\n",
    "        super().__init__()\n",
    "        self.em = LabelEmbed()\n",
    "        self.gen_block = GenBlock(latent_dim)\n",
    "        self.gen_syn = GenSyn(latent_dim + em_dim, size)\n",
    "        \n",
    "    def forward(self, nums, z_latent, noise):\n",
    "        em = self.em(nums)\n",
    "        w_latent = self.gen_block(z_latent)\n",
    "        w_latent = torch.cat((em, w_latent), axis=1)\n",
    "        imgs = self.gen_syn(w_latent, noise)\n",
    "        return imgs\n",
    "    \n",
    "    def check(self, nums, z_latent, noise):\n",
    "        em = self.em(nums)\n",
    "        w_latent = self.gen_block(z_latent)\n",
    "        w_latent = torch.cat((em, w_latent), axis=1)\n",
    "        all_imgs = self.gen_syn.check(w_latent, noise)\n",
    "        return all_imgs   "
   ]
  },
  {
   "cell_type": "code",
   "execution_count": 1187,
   "metadata": {},
   "outputs": [],
   "source": [
    "class GenBlock(nn.Module):\n",
    "    def __init__(self, latent_dim):\n",
    "        super().__init__()\n",
    "        self.net = nn.Sequential(nn.Linear(latent_dim, latent_dim), nn.LeakyReLU(negative_slope=0.2), nn.Linear(latent_dim, latent_dim), nn.LeakyReLU(negative_slope=0.2))\n",
    "    \n",
    "    def forward(self, z_latent):\n",
    "        w_latent = self.net(z_latent)\n",
    "        return w_latent"
   ]
  },
  {
   "cell_type": "code",
   "execution_count": 1205,
   "metadata": {},
   "outputs": [],
   "source": [
    "class GenSyn(nn.Module):\n",
    "    def __init__(self, latent_dim, size=8):\n",
    "        super().__init__()\n",
    "        self.size = size\n",
    "        self.const = Constant(size)\n",
    "        self.upscale = nn.Upsample(scale_factor=2, mode=\"bilinear\", align_corners=False)\n",
    "        self.blocks = nn.ModuleList()\n",
    "        for i in range(7):\n",
    "            upscale = bool(i % 2)\n",
    "            self.blocks.append(GenSynBlock(latent_dim, size, upscale))\n",
    "        self.sig = nn.Sigmoid()\n",
    "\n",
    "    def forward(self, w_latent, noise):\n",
    "        combined_imgs = 0\n",
    "        bs = len(w_latent)\n",
    "        x = self.const(bs)\n",
    "        for block in self.blocks:\n",
    "            x, imgs = block(x, w_latent, noise)\n",
    "            if hasattr(imgs, \"shape\"):\n",
    "                if hasattr(combined_imgs, \"shape\"):\n",
    "                    combined_imgs = self.upscale(combined_imgs)\n",
    "                combined_imgs += imgs\n",
    "        #return self.sig(combined_imgs)\n",
    "        return combined_imgs[:, :, :28, :28]\n",
    "    \n",
    "    def check(self, w_latent, noise):\n",
    "        combined_imgs = 0\n",
    "        bs = len(w_latent)\n",
    "        x = self.const(bs)\n",
    "        all_imgs = []\n",
    "        for block in self.blocks:\n",
    "            x, imgs = block(x, w_latent, noise)\n",
    "            if hasattr(imgs, \"shape\"):\n",
    "                all_imgs.append(imgs)\n",
    "        return all_imgs[:, :, :28, :28]"
   ]
  },
  {
   "cell_type": "code",
   "execution_count": 1206,
   "metadata": {},
   "outputs": [],
   "source": [
    "class Constant(nn.Module):\n",
    "    def __init__(self, size, img_size=4):\n",
    "        super().__init__()\n",
    "        self.const = nn.Parameter(torch.randn(1, size, img_size, img_size))\n",
    "\n",
    "    def forward(self, bs):\n",
    "        out = self.const.repeat(bs, 1, 1, 1)\n",
    "        return out"
   ]
  },
  {
   "cell_type": "code",
   "execution_count": 1207,
   "metadata": {},
   "outputs": [],
   "source": [
    "class GenSynBlock(nn.Module):\n",
    "    def __init__(self, latent_dim, size, upscale=True):\n",
    "        super().__init__()\n",
    "        self.size = size\n",
    "        self.upscale = nn.Upsample(scale_factor=2, mode=\"bilinear\", align_corners=False) if upscale else None\n",
    "        self.style_lin = nn.Linear(latent_dim, size)\n",
    "        self.noise_lin = nn.Linear(1, size)\n",
    "        self.conv = nn.Conv2d(size, size, kernel_size=3, padding=1)\n",
    "        self.norm = nn.InstanceNorm2d(size, eps=1e-08)\n",
    "        self.act = nn.LeakyReLU(negative_slope=0.2)\n",
    "        self.to_rgb = nn.Conv2d(size, 1, kernel_size=1, padding=0) if not(upscale) else None\n",
    "        \n",
    "    def forward(self, x, w_latent, noise):\n",
    "        # noise: bs x max_img_size ** 2\n",
    "        # w_latent: bs x latent_dim\n",
    "        if self.upscale:\n",
    "            x = self.upscale(x)\n",
    "        bs, ch, h, w = x.shape\n",
    "        style = self.style_lin(w_latent)\n",
    "        x = self.norm(self.conv(x) * style.view(bs, self.size, 1, 1))\n",
    "        noise = noise[:, : h * w]\n",
    "        scaled_noise = self.noise_lin(noise.unsqueeze(-1)).permute(0, 2, 1)\n",
    "        img_noise = scaled_noise.reshape(bs, -1, h, w)\n",
    "        x = self.act(x) # self.act(x + img_noise)\n",
    "        if self.to_rgb:\n",
    "            imgs = self.to_rgb(x)\n",
    "        else:\n",
    "            imgs = 0\n",
    "        return x, imgs"
   ]
  },
  {
   "cell_type": "code",
   "execution_count": 1208,
   "metadata": {},
   "outputs": [],
   "source": [
    "class Discriminator(nn.Module):\n",
    "    def __init__(self, sizes=None, final_size=None):\n",
    "        super().__init__()\n",
    "        layers = []\n",
    "        self.em = LabelEmbed()\n",
    "        if not sizes:\n",
    "            sizes = [(1, 4), (4, 4), (4, 4)]\n",
    "            final_size = 64\n",
    "        for n_in, n_out in sizes:\n",
    "            layers.append(ResBlock(n_in, n_out))\n",
    "        layers.append(nn.Flatten())\n",
    "        self.net = nn.Sequential(*layers)\n",
    "        self.fc = nn.Linear(final_size + 1, 1)\n",
    "        self.sig = nn.Sigmoid()\n",
    "        \n",
    "    def forward(self, x, nums):\n",
    "        em = self.em(nums)\n",
    "        x = self.net(x)\n",
    "        x = torch.cat((x, em), axis=1)\n",
    "        return self.sig(self.fc(x))"
   ]
  },
  {
   "cell_type": "code",
   "execution_count": 1209,
   "metadata": {},
   "outputs": [],
   "source": [
    "class ResBlock(nn.Module):\n",
    "    def __init__(self, n_filters_in, n_filters_out):\n",
    "        super().__init__()\n",
    "        self.conv1 = nn.Conv2d(n_filters_in, n_filters_out, kernel_size=3, padding=1, stride=1)\n",
    "        self.act1 = nn.LeakyReLU(negative_slope=0.2)\n",
    "        self.conv2 = nn.Conv2d(n_filters_out, n_filters_out, kernel_size=3, padding=1, stride=2)\n",
    "        self.act2 = nn.LeakyReLU(negative_slope=0.2)\n",
    "        self.convs = nn.Sequential(self.conv1, self.act1, self.conv2, self.act2)\n",
    "        self.down = nn.Conv2d(n_filters_in, n_filters_out, kernel_size=1, padding=0, stride=2)\n",
    "        \n",
    "    def forward(self, x):\n",
    "        conv_x = self.convs(x)\n",
    "        down_x = self.down(x)\n",
    "        return conv_x + down_x"
   ]
  },
  {
   "cell_type": "code",
   "execution_count": 1210,
   "metadata": {},
   "outputs": [],
   "source": [
    "def set_requires_grad(model, flag=True):\n",
    "    for p in model.parameters():\n",
    "        p.requires_grad = flag"
   ]
  },
  {
   "cell_type": "code",
   "execution_count": 1211,
   "metadata": {},
   "outputs": [],
   "source": [
    "def discrim_loss(true_preds, fake_preds):\n",
    "    return (-(torch.log(true_preds) + torch.log(1 - fake_preds))).mean()"
   ]
  },
  {
   "cell_type": "code",
   "execution_count": 1212,
   "metadata": {},
   "outputs": [],
   "source": [
    "def gen_loss(fake_preds):\n",
    "    return (-torch.log(fake_preds)).mean()"
   ]
  },
  {
   "cell_type": "code",
   "execution_count": 1213,
   "metadata": {},
   "outputs": [],
   "source": [
    "def accuracy(fake_preds):\n",
    "    return ((fake_preds < 0.5).sum() / float(len(fake_preds)))"
   ]
  },
  {
   "cell_type": "code",
   "execution_count": null,
   "metadata": {},
   "outputs": [],
   "source": [
    "def calculate_fd(act1, act2):\n",
    "    mu1, sigma1 = np.mean(act1, axis=0), np.cov(act1, rowvar=False)\n",
    "    mu2, sigma2 = np.mean(act2, axis=0), np.cov(act2, rowvar=False)\n",
    "    ssdiff = ((mu1 - mu2)**2.0).sum()\n",
    "    covmean = sqrtm(sigma1.dot(sigma2))\n",
    "    if np.iscomplexobj(covmean):\n",
    "        covmean = covmean.real\n",
    "    fd = ssdiff + np.trace(sigma1 + sigma2 - 2.0 * covmean)\n",
    "    return fd"
   ]
  },
  {
   "cell_type": "code",
   "execution_count": 1214,
   "metadata": {},
   "outputs": [],
   "source": [
    "def train_epoch(loader, gen, em, discrim, g_crit, d_crit, g_opt, d_opt):\n",
    "    d_losses = []\n",
    "    d_accs = []\n",
    "    g_losses = []\n",
    "    grads = []\n",
    "    for o, (true_imgs, labels) in enumerate(loader):\n",
    "        if (o % 2):\n",
    "            g_loss, grad = train_gen(true_imgs, labels, gen, discrim, g_crit, g_opt)\n",
    "            g_losses.append(g_loss)\n",
    "            grads.append(grad)\n",
    "        else:\n",
    "            d_loss, d_acc = train_discrim(true_imgs, labels, gen, discrim, d_crit, d_opt)\n",
    "            d_losses.append(d_loss)\n",
    "            d_accs.append(d_acc)\n",
    "    return np.mean(d_losses), np.mean(d_accs), np.mean(g_losses), grads"
   ]
  },
  {
   "cell_type": "code",
   "execution_count": 1215,
   "metadata": {},
   "outputs": [],
   "source": [
    "def train_discrim(true_imgs, labels, gen, discrim, d_crit, d_opt):\n",
    "    set_requires_grad(gen, False)\n",
    "    set_requires_grad(discrim, True)\n",
    "    z_latent, noise = get_randoms(labels)\n",
    "    fake_imgs = gen(labels, z_latent, noise)\n",
    "    fake_preds = discrim(fake_imgs, labels)\n",
    "    true_preds = discrim(true_imgs, labels)\n",
    "    loss = d_crit(true_preds, fake_preds)\n",
    "    acc = accuracy(fake_preds)\n",
    "    d_opt.zero_grad()\n",
    "    loss.backward()\n",
    "    d_opt.step()\n",
    "    return loss.item(), acc.item()"
   ]
  },
  {
   "cell_type": "code",
   "execution_count": 1216,
   "metadata": {},
   "outputs": [],
   "source": [
    "def train_gen(true_imgs, labels, gen, discrim, g_crit, g_opt):\n",
    "    set_requires_grad(gen, True)\n",
    "    set_requires_grad(discrim, False)\n",
    "    z_latent, noise  = get_randoms(labels)\n",
    "    fake_imgs = gen(labels, z_latent, noise)\n",
    "    fake_preds = discrim(fake_imgs, labels)\n",
    "    loss = g_crit(fake_preds)\n",
    "    g_opt.zero_grad()\n",
    "    loss.backward()\n",
    "    grads = []\n",
    "    for block in gen.gen_syn.blocks:\n",
    "        grads.append(block.conv.weight.grad.abs().mean().item())\n",
    "    g_opt.step()\n",
    "    return loss.item(), grads"
   ]
  },
  {
   "cell_type": "code",
   "execution_count": 1217,
   "metadata": {},
   "outputs": [],
   "source": [
    "size=1000\n",
    "train_set = DataLoader(TensorDataset(X[:size], y[:size]), batch_size=64, shuffle=True) "
   ]
  },
  {
   "cell_type": "code",
   "execution_count": 1224,
   "metadata": {},
   "outputs": [],
   "source": [
    "gen = Generator()\n",
    "discrim = Discriminator()\n",
    "g_crit = gen_loss\n",
    "d_crit = discrim_loss\n",
    "g_opt = optim.Adam(gen.parameters(), lr=0.001)\n",
    "d_opt = optim.Adam(discrim.parameters(), lr=0.001, weight_decay=0.0)"
   ]
  },
  {
   "cell_type": "code",
   "execution_count": 1225,
   "metadata": {},
   "outputs": [
    {
     "name": "stdout",
     "output_type": "stream",
     "text": [
      "1.42788, 1.00, 0.81781\n",
      "1.43329, 0.49, 0.69129\n",
      "1.43884, 0.05, 0.64870\n",
      "1.43256, 0.03, 0.64739\n",
      "1.41585, 0.13, 0.67371\n",
      "1.40457, 0.56, 0.69800\n",
      "1.40969, 0.59, 0.70178\n",
      "1.41139, 0.74, 0.70607\n",
      "1.40088, 0.84, 0.71528\n",
      "1.38716, 0.89, 0.71329\n",
      "1.38772, 0.56, 0.69502\n",
      "1.38315, 0.21, 0.69206\n",
      "1.38933, 0.49, 0.69781\n",
      "1.39451, 0.36, 0.69375\n",
      "1.38577, 0.11, 0.68514\n",
      "1.37833, 0.10, 0.67921\n",
      "1.39456, 0.10, 0.67680\n",
      "1.37969, 0.85, 0.74670\n",
      "1.35069, 1.00, 0.83071\n",
      "1.39411, 0.49, 0.69301\n",
      "1.38113, 0.03, 0.65353\n",
      "1.40782, 0.14, 0.67453\n",
      "1.38569, 0.23, 0.69161\n",
      "1.38957, 0.98, 0.76474\n",
      "1.36689, 0.91, 0.75508\n",
      "1.35840, 0.98, 0.76460\n",
      "1.32284, 0.63, 0.71363\n",
      "1.20119, 0.94, 0.84343\n",
      "1.21140, 0.82, 0.98878\n",
      "1.43745, 0.71, 1.04501\n",
      "1.45534, 0.54, 0.86823\n",
      "1.38114, 0.33, 0.77968\n",
      "0.93964, 0.97, 1.18651\n",
      "0.94056, 0.81, 1.37627\n",
      "0.94156, 0.87, 1.85134\n",
      "0.53886, 1.00, 2.08971\n",
      "0.82277, 0.78, 1.63208\n",
      "0.92648, 0.85, 1.45652\n",
      "0.63910, 0.94, 1.83630\n",
      "0.92190, 0.88, 1.83060\n",
      "0.82956, 0.92, 1.75396\n",
      "1.14320, 0.76, 1.32983\n",
      "1.21415, 0.54, 1.40855\n",
      "0.99758, 0.71, 1.44600\n",
      "1.03556, 0.66, 1.68103\n",
      "1.43589, 0.56, 1.47422\n",
      "1.22830, 0.57, 1.12400\n",
      "1.07499, 0.63, 1.25068\n",
      "1.07815, 0.60, 1.32625\n",
      "1.07397, 0.71, 1.24754\n",
      "1.02534, 0.70, 1.33474\n",
      "1.05070, 0.64, 1.16684\n",
      "1.10588, 0.67, 1.23813\n",
      "1.01408, 0.61, 1.13834\n",
      "0.94417, 0.65, 1.23271\n",
      "0.91093, 0.86, 1.21746\n",
      "0.92561, 0.89, 1.26935\n",
      "0.92141, 0.86, 1.30682\n",
      "0.93674, 0.78, 1.42048\n",
      "1.02866, 0.69, 1.26801\n",
      "1.02222, 0.72, 1.19350\n",
      "0.96618, 0.73, 1.26098\n",
      "0.96226, 0.67, 1.51489\n",
      "0.87663, 0.71, 1.37960\n",
      "0.78915, 0.85, 1.52700\n",
      "0.76351, 0.81, 1.61322\n",
      "0.72542, 0.92, 1.66017\n",
      "0.75068, 0.90, 1.68844\n",
      "0.79350, 0.82, 1.91373\n",
      "0.75261, 0.77, 1.88493\n",
      "1.04877, 0.71, 2.24113\n",
      "0.82361, 0.76, 2.17901\n",
      "0.61551, 0.76, 2.70181\n",
      "0.80726, 0.77, 1.76431\n",
      "0.84503, 0.81, 1.69922\n",
      "0.99444, 0.65, 1.32032\n",
      "1.04867, 0.75, 1.54891\n",
      "1.11713, 0.68, 1.23183\n",
      "1.14487, 0.80, 1.20687\n",
      "1.12745, 0.73, 1.38173\n",
      "0.91509, 0.71, 1.74867\n",
      "0.80295, 0.97, 1.59240\n",
      "0.70590, 0.96, 1.72622\n",
      "0.71336, 0.84, 1.74439\n",
      "0.82798, 0.90, 1.63665\n",
      "0.68201, 0.99, 1.50066\n",
      "0.65051, 0.91, 1.63577\n",
      "0.75974, 0.94, 1.65559\n",
      "0.76599, 0.89, 1.48106\n",
      "0.79448, 0.97, 1.58741\n",
      "0.80735, 0.94, 1.46663\n",
      "0.76373, 1.00, 1.55883\n",
      "0.80921, 0.82, 1.50257\n",
      "0.96870, 0.73, 1.36032\n",
      "1.13783, 0.69, 1.16784\n",
      "1.33123, 0.61, 1.31328\n",
      "1.34176, 0.61, 1.27711\n",
      "1.24686, 0.62, 1.36896\n",
      "1.31965, 0.67, 1.67109\n",
      "1.07940, 0.63, 1.96748\n"
     ]
    }
   ],
   "source": [
    "for i in range(100):\n",
    "    dloss, dacc, gloss, grads = train_epoch(train_set, gen, em, discrim, g_crit, d_crit, g_opt, d_opt)\n",
    "    print(f\"{dloss:.5f}, {dacc:.2f}, {gloss:.5f}\")"
   ]
  },
  {
   "cell_type": "code",
   "execution_count": 1154,
   "metadata": {},
   "outputs": [],
   "source": [
    "def show_examples(gen, dl):\n",
    "    x_b, y_b = next(iter(dl))\n",
    "    z_latent, noise = get_randoms(y_b)\n",
    "    fake_imgs = gen(y_b, z_latent, noise)\n",
    "    mix_imgs = torch.cat((fake_imgs[:8], x_b[:8]))\n",
    "    fig, axs = plt.subplots(4, 4, figsize=(15, 8))\n",
    "    i = 0\n",
    "    for row in axs:\n",
    "        for col in row:\n",
    "            col.imshow(mix_imgs[i,0].detach().numpy(), cmap=\"gray_r\")\n",
    "            i += 1\n",
    "    plt.show()"
   ]
  },
  {
   "cell_type": "code",
   "execution_count": 1226,
   "metadata": {},
   "outputs": [
    {
     "data": {
      "image/png": "[encoded data removed]",
      "text/plain": [
       "<Figure size 1080x576 with 16 Axes>"
      ]
     },
     "metadata": {
      "needs_background": "light"
     },
     "output_type": "display_data"
    }
   ],
   "source": [
    "show_examples(gen, train_set)"
   ]
  },
  {
   "cell_type": "code",
   "execution_count": 1221,
   "metadata": {},
   "outputs": [
    {
     "name": "stdout",
     "output_type": "stream",
     "text": [
      "tensor(0.3281)\n"
     ]
    }
   ],
   "source": [
    "x_b, y_b = next(iter(train_set))\n",
    "z_latent, noise = get_randoms(y_b)\n",
    "fake_imgs = gen(y_b, z_latent, noise)\n",
    "preds = discrim(fake_imgs, y_b)\n",
    "print(accuracy(preds))"
   ]
  },
  {
   "cell_type": "code",
   "execution_count": 1223,
   "metadata": {},
   "outputs": [
    {
     "ename": "TypeError",
     "evalue": "list indices must be integers or slices, not tuple",
     "output_type": "error",
     "traceback": [
      "\u001b[1;31m---------------------------------------------------------------------------\u001b[0m",
      "\u001b[1;31mTypeError\u001b[0m                                 Traceback (most recent call last)",
      "\u001b[1;32m<ipython-input-1223-3237a8d9caac>\u001b[0m in \u001b[0;36m<module>\u001b[1;34m\u001b[0m\n\u001b[0;32m      1\u001b[0m \u001b[0mx_b\u001b[0m\u001b[1;33m,\u001b[0m \u001b[0my_b\u001b[0m \u001b[1;33m=\u001b[0m \u001b[0mnext\u001b[0m\u001b[1;33m(\u001b[0m\u001b[0miter\u001b[0m\u001b[1;33m(\u001b[0m\u001b[0mtrain_set\u001b[0m\u001b[1;33m)\u001b[0m\u001b[1;33m)\u001b[0m\u001b[1;33m\u001b[0m\u001b[1;33m\u001b[0m\u001b[0m\n\u001b[0;32m      2\u001b[0m \u001b[0mz_latent\u001b[0m\u001b[1;33m,\u001b[0m \u001b[0mnoise\u001b[0m \u001b[1;33m=\u001b[0m \u001b[0mget_randoms\u001b[0m\u001b[1;33m(\u001b[0m\u001b[0my_b\u001b[0m\u001b[1;33m)\u001b[0m\u001b[1;33m\u001b[0m\u001b[1;33m\u001b[0m\u001b[0m\n\u001b[1;32m----> 3\u001b[1;33m \u001b[0mall_imgs\u001b[0m \u001b[1;33m=\u001b[0m \u001b[0mgen\u001b[0m\u001b[1;33m.\u001b[0m\u001b[0mcheck\u001b[0m\u001b[1;33m(\u001b[0m\u001b[0my_b\u001b[0m\u001b[1;33m,\u001b[0m \u001b[0mz_latent\u001b[0m\u001b[1;33m,\u001b[0m \u001b[0mnoise\u001b[0m\u001b[1;33m)\u001b[0m\u001b[1;33m\u001b[0m\u001b[1;33m\u001b[0m\u001b[0m\n\u001b[0m\u001b[0;32m      4\u001b[0m \u001b[0mfirst_im\u001b[0m \u001b[1;33m=\u001b[0m \u001b[1;33m[\u001b[0m\u001b[0mim\u001b[0m\u001b[1;33m[\u001b[0m\u001b[1;36m0\u001b[0m\u001b[1;33m]\u001b[0m \u001b[1;32mfor\u001b[0m \u001b[0mim\u001b[0m \u001b[1;32min\u001b[0m \u001b[0mall_imgs\u001b[0m\u001b[1;33m]\u001b[0m\u001b[1;33m\u001b[0m\u001b[1;33m\u001b[0m\u001b[0m\n",
      "\u001b[1;32m<ipython-input-1186-6016f703cd72>\u001b[0m in \u001b[0;36mcheck\u001b[1;34m(self, nums, z_latent, noise)\u001b[0m\n\u001b[0;32m     17\u001b[0m         \u001b[0mw_latent\u001b[0m \u001b[1;33m=\u001b[0m \u001b[0mself\u001b[0m\u001b[1;33m.\u001b[0m\u001b[0mgen_block\u001b[0m\u001b[1;33m(\u001b[0m\u001b[0mz_latent\u001b[0m\u001b[1;33m)\u001b[0m\u001b[1;33m\u001b[0m\u001b[1;33m\u001b[0m\u001b[0m\n\u001b[0;32m     18\u001b[0m         \u001b[0mw_latent\u001b[0m \u001b[1;33m=\u001b[0m \u001b[0mtorch\u001b[0m\u001b[1;33m.\u001b[0m\u001b[0mcat\u001b[0m\u001b[1;33m(\u001b[0m\u001b[1;33m(\u001b[0m\u001b[0mem\u001b[0m\u001b[1;33m,\u001b[0m \u001b[0mw_latent\u001b[0m\u001b[1;33m)\u001b[0m\u001b[1;33m,\u001b[0m \u001b[0maxis\u001b[0m\u001b[1;33m=\u001b[0m\u001b[1;36m1\u001b[0m\u001b[1;33m)\u001b[0m\u001b[1;33m\u001b[0m\u001b[1;33m\u001b[0m\u001b[0m\n\u001b[1;32m---> 19\u001b[1;33m         \u001b[0mall_imgs\u001b[0m \u001b[1;33m=\u001b[0m \u001b[0mself\u001b[0m\u001b[1;33m.\u001b[0m\u001b[0mgen_syn\u001b[0m\u001b[1;33m.\u001b[0m\u001b[0mcheck\u001b[0m\u001b[1;33m(\u001b[0m\u001b[0mw_latent\u001b[0m\u001b[1;33m,\u001b[0m \u001b[0mnoise\u001b[0m\u001b[1;33m)\u001b[0m\u001b[1;33m\u001b[0m\u001b[1;33m\u001b[0m\u001b[0m\n\u001b[0m\u001b[0;32m     20\u001b[0m         \u001b[1;32mreturn\u001b[0m \u001b[0mall_imgs\u001b[0m\u001b[1;33m\u001b[0m\u001b[1;33m\u001b[0m\u001b[0m\n",
      "\u001b[1;32m<ipython-input-1205-35be771695d2>\u001b[0m in \u001b[0;36mcheck\u001b[1;34m(self, w_latent, noise)\u001b[0m\n\u001b[0;32m     33\u001b[0m             \u001b[1;32mif\u001b[0m \u001b[0mhasattr\u001b[0m\u001b[1;33m(\u001b[0m\u001b[0mimgs\u001b[0m\u001b[1;33m,\u001b[0m \u001b[1;34m\"shape\"\u001b[0m\u001b[1;33m)\u001b[0m\u001b[1;33m:\u001b[0m\u001b[1;33m\u001b[0m\u001b[1;33m\u001b[0m\u001b[0m\n\u001b[0;32m     34\u001b[0m                 \u001b[0mall_imgs\u001b[0m\u001b[1;33m.\u001b[0m\u001b[0mappend\u001b[0m\u001b[1;33m(\u001b[0m\u001b[0mimgs\u001b[0m\u001b[1;33m)\u001b[0m\u001b[1;33m\u001b[0m\u001b[1;33m\u001b[0m\u001b[0m\n\u001b[1;32m---> 35\u001b[1;33m         \u001b[1;32mreturn\u001b[0m \u001b[0mall_imgs\u001b[0m\u001b[1;33m[\u001b[0m\u001b[1;33m:\u001b[0m\u001b[1;33m,\u001b[0m \u001b[1;33m:\u001b[0m\u001b[1;33m,\u001b[0m \u001b[1;33m:\u001b[0m\u001b[1;36m28\u001b[0m\u001b[1;33m,\u001b[0m \u001b[1;33m:\u001b[0m\u001b[1;36m28\u001b[0m\u001b[1;33m]\u001b[0m\u001b[1;33m\u001b[0m\u001b[1;33m\u001b[0m\u001b[0m\n\u001b[0m",
      "\u001b[1;31mTypeError\u001b[0m: list indices must be integers or slices, not tuple"
     ]
    }
   ],
   "source": [
    "x_b, y_b = next(iter(train_set))\n",
    "z_latent, noise = get_randoms(y_b)\n",
    "all_imgs = gen.check(y_b, z_latent, noise)\n",
    "first_im = [im[0] for im in all_imgs]"
   ]
  },
  {
   "cell_type": "code",
   "execution_count": 1160,
   "metadata": {},
   "outputs": [
    {
     "name": "stdout",
     "output_type": "stream",
     "text": [
      "tensor([9, 0, 7, 3, 0, 8, 8, 2, 1, 0, 9, 5, 7, 7, 5, 5, 8, 1, 9, 0, 1, 1, 0, 0,\n",
      "        1, 1, 1, 0, 2, 1, 3, 5, 6, 2, 6, 4, 9, 5, 1, 3, 7, 6, 5, 3, 4, 5, 3, 1,\n",
      "        6, 1, 3, 9, 4, 4, 6, 5, 3, 1, 7, 2, 1, 9, 3, 9])\n"
     ]
    }
   ],
   "source": [
    "print(y_b)"
   ]
  },
  {
   "cell_type": "code",
   "execution_count": 1161,
   "metadata": {},
   "outputs": [
    {
     "data": {
      "image/png": "[encoded data removed]",
      "text/plain": [
       "<Figure size 1080x576 with 3 Axes>"
      ]
     },
     "metadata": {
      "needs_background": "light"
     },
     "output_type": "display_data"
    }
   ],
   "source": [
    "fig, axs = plt.subplots(1, 3, figsize=(15, 8))\n",
    "for ax, im in zip(axs,first_im): \n",
    "    ax.imshow(im.detach().numpy()[0], cmap=\"gray_r\")\n",
    "plt.show()"
   ]
  },
  {
   "cell_type": "code",
   "execution_count": 1162,
   "metadata": {},
   "outputs": [],
   "source": [
    "upper = nn.Upsample(scale_factor=2, mode=\"bilinear\", align_corners=False)"
   ]
  },
  {
   "cell_type": "code",
   "execution_count": 1163,
   "metadata": {},
   "outputs": [
    {
     "data": {
      "image/png": "[encoded data removed]",
      "text/plain": [
       "<Figure size 1080x576 with 2 Axes>"
      ]
     },
     "metadata": {
      "needs_background": "light"
     },
     "output_type": "display_data"
    }
   ],
   "source": [
    "fig, axs = plt.subplots(1, 2, figsize=(15, 8))\n",
    "axs[0].imshow(first_im[0].detach().numpy()[0], cmap=\"gray_r\")\n",
    "axs[1].imshow(upper(first_im[0].unsqueeze(0))[0].detach().numpy()[0], cmap=\"gray_r\")\n",
    "plt.show()"
   ]
  },
  {
   "cell_type": "code",
   "execution_count": 1098,
   "metadata": {},
   "outputs": [],
   "source": [
    "t = torch.randn((10, 3, 32, 32))"
   ]
  },
  {
   "cell_type": "code",
   "execution_count": 1116,
   "metadata": {},
   "outputs": [],
   "source": [
    "s = torch.ones((10, 3))\n",
    "s[:,1] = 2"
   ]
  },
  {
   "cell_type": "code",
   "execution_count": 1118,
   "metadata": {},
   "outputs": [
    {
     "ename": "RuntimeError",
     "evalue": "The expanded size of the tensor (1) must match the existing size (3) at non-singleton dimension 2.  Target sizes: [10, 3, 1].  Tensor sizes: [10, 3]",
     "output_type": "error",
     "traceback": [
      "\u001b[1;31m---------------------------------------------------------------------------\u001b[0m",
      "\u001b[1;31mRuntimeError\u001b[0m                              Traceback (most recent call last)",
      "\u001b[1;32m<ipython-input-1118-df91441f3719>\u001b[0m in \u001b[0;36m<module>\u001b[1;34m\u001b[0m\n\u001b[1;32m----> 1\u001b[1;33m \u001b[0mg\u001b[0m \u001b[1;33m=\u001b[0m \u001b[0mt\u001b[0m \u001b[1;33m*\u001b[0m \u001b[0ms\u001b[0m\u001b[1;33m.\u001b[0m\u001b[0mexpand\u001b[0m\u001b[1;33m(\u001b[0m\u001b[0msize\u001b[0m\u001b[1;33m=\u001b[0m\u001b[1;33m(\u001b[0m\u001b[1;36m10\u001b[0m\u001b[1;33m,\u001b[0m \u001b[1;36m3\u001b[0m\u001b[1;33m,\u001b[0m \u001b[1;36m1\u001b[0m\u001b[1;33m)\u001b[0m\u001b[1;33m)\u001b[0m\u001b[1;33m\u001b[0m\u001b[1;33m\u001b[0m\u001b[0m\n\u001b[0m",
      "\u001b[1;31mRuntimeError\u001b[0m: The expanded size of the tensor (1) must match the existing size (3) at non-singleton dimension 2.  Target sizes: [10, 3, 1].  Tensor sizes: [10, 3]"
     ]
    }
   ],
   "source": [
    "g = t * s.expand(size=(10, 3, 1))"
   ]
  },
  {
   "cell_type": "code",
   "execution_count": 1115,
   "metadata": {},
   "outputs": [
    {
     "data": {
      "text/plain": [
       "torch.Size([10, 3, 32, 32])"
      ]
     },
     "execution_count": 1115,
     "metadata": {},
     "output_type": "execute_result"
    }
   ],
   "source": [
    "g.shape"
   ]
  },
  {
   "cell_type": "code",
   "execution_count": 1114,
   "metadata": {},
   "outputs": [
    {
     "data": {
      "text/plain": [
       "tensor([[[[True, True, True,  ..., True, True, True],\n",
       "          [True, True, True,  ..., True, True, True],\n",
       "          [True, True, True,  ..., True, True, True],\n",
       "          ...,\n",
       "          [True, True, True,  ..., True, True, True],\n",
       "          [True, True, True,  ..., True, True, True],\n",
       "          [True, True, True,  ..., True, True, True]],\n",
       "\n",
       "         [[True, True, True,  ..., True, True, True],\n",
       "          [True, True, True,  ..., True, True, True],\n",
       "          [True, True, True,  ..., True, True, True],\n",
       "          ...,\n",
       "          [True, True, True,  ..., True, True, True],\n",
       "          [True, True, True,  ..., True, True, True],\n",
       "          [True, True, True,  ..., True, True, True]],\n",
       "\n",
       "         [[True, True, True,  ..., True, True, True],\n",
       "          [True, True, True,  ..., True, True, True],\n",
       "          [True, True, True,  ..., True, True, True],\n",
       "          ...,\n",
       "          [True, True, True,  ..., True, True, True],\n",
       "          [True, True, True,  ..., True, True, True],\n",
       "          [True, True, True,  ..., True, True, True]]],\n",
       "\n",
       "\n",
       "        [[[True, True, True,  ..., True, True, True],\n",
       "          [True, True, True,  ..., True, True, True],\n",
       "          [True, True, True,  ..., True, True, True],\n",
       "          ...,\n",
       "          [True, True, True,  ..., True, True, True],\n",
       "          [True, True, True,  ..., True, True, True],\n",
       "          [True, True, True,  ..., True, True, True]],\n",
       "\n",
       "         [[True, True, True,  ..., True, True, True],\n",
       "          [True, True, True,  ..., True, True, True],\n",
       "          [True, True, True,  ..., True, True, True],\n",
       "          ...,\n",
       "          [True, True, True,  ..., True, True, True],\n",
       "          [True, True, True,  ..., True, True, True],\n",
       "          [True, True, True,  ..., True, True, True]],\n",
       "\n",
       "         [[True, True, True,  ..., True, True, True],\n",
       "          [True, True, True,  ..., True, True, True],\n",
       "          [True, True, True,  ..., True, True, True],\n",
       "          ...,\n",
       "          [True, True, True,  ..., True, True, True],\n",
       "          [True, True, True,  ..., True, True, True],\n",
       "          [True, True, True,  ..., True, True, True]]],\n",
       "\n",
       "\n",
       "        [[[True, True, True,  ..., True, True, True],\n",
       "          [True, True, True,  ..., True, True, True],\n",
       "          [True, True, True,  ..., True, True, True],\n",
       "          ...,\n",
       "          [True, True, True,  ..., True, True, True],\n",
       "          [True, True, True,  ..., True, True, True],\n",
       "          [True, True, True,  ..., True, True, True]],\n",
       "\n",
       "         [[True, True, True,  ..., True, True, True],\n",
       "          [True, True, True,  ..., True, True, True],\n",
       "          [True, True, True,  ..., True, True, True],\n",
       "          ...,\n",
       "          [True, True, True,  ..., True, True, True],\n",
       "          [True, True, True,  ..., True, True, True],\n",
       "          [True, True, True,  ..., True, True, True]],\n",
       "\n",
       "         [[True, True, True,  ..., True, True, True],\n",
       "          [True, True, True,  ..., True, True, True],\n",
       "          [True, True, True,  ..., True, True, True],\n",
       "          ...,\n",
       "          [True, True, True,  ..., True, True, True],\n",
       "          [True, True, True,  ..., True, True, True],\n",
       "          [True, True, True,  ..., True, True, True]]],\n",
       "\n",
       "\n",
       "        ...,\n",
       "\n",
       "\n",
       "        [[[True, True, True,  ..., True, True, True],\n",
       "          [True, True, True,  ..., True, True, True],\n",
       "          [True, True, True,  ..., True, True, True],\n",
       "          ...,\n",
       "          [True, True, True,  ..., True, True, True],\n",
       "          [True, True, True,  ..., True, True, True],\n",
       "          [True, True, True,  ..., True, True, True]],\n",
       "\n",
       "         [[True, True, True,  ..., True, True, True],\n",
       "          [True, True, True,  ..., True, True, True],\n",
       "          [True, True, True,  ..., True, True, True],\n",
       "          ...,\n",
       "          [True, True, True,  ..., True, True, True],\n",
       "          [True, True, True,  ..., True, True, True],\n",
       "          [True, True, True,  ..., True, True, True]],\n",
       "\n",
       "         [[True, True, True,  ..., True, True, True],\n",
       "          [True, True, True,  ..., True, True, True],\n",
       "          [True, True, True,  ..., True, True, True],\n",
       "          ...,\n",
       "          [True, True, True,  ..., True, True, True],\n",
       "          [True, True, True,  ..., True, True, True],\n",
       "          [True, True, True,  ..., True, True, True]]],\n",
       "\n",
       "\n",
       "        [[[True, True, True,  ..., True, True, True],\n",
       "          [True, True, True,  ..., True, True, True],\n",
       "          [True, True, True,  ..., True, True, True],\n",
       "          ...,\n",
       "          [True, True, True,  ..., True, True, True],\n",
       "          [True, True, True,  ..., True, True, True],\n",
       "          [True, True, True,  ..., True, True, True]],\n",
       "\n",
       "         [[True, True, True,  ..., True, True, True],\n",
       "          [True, True, True,  ..., True, True, True],\n",
       "          [True, True, True,  ..., True, True, True],\n",
       "          ...,\n",
       "          [True, True, True,  ..., True, True, True],\n",
       "          [True, True, True,  ..., True, True, True],\n",
       "          [True, True, True,  ..., True, True, True]],\n",
       "\n",
       "         [[True, True, True,  ..., True, True, True],\n",
       "          [True, True, True,  ..., True, True, True],\n",
       "          [True, True, True,  ..., True, True, True],\n",
       "          ...,\n",
       "          [True, True, True,  ..., True, True, True],\n",
       "          [True, True, True,  ..., True, True, True],\n",
       "          [True, True, True,  ..., True, True, True]]],\n",
       "\n",
       "\n",
       "        [[[True, True, True,  ..., True, True, True],\n",
       "          [True, True, True,  ..., True, True, True],\n",
       "          [True, True, True,  ..., True, True, True],\n",
       "          ...,\n",
       "          [True, True, True,  ..., True, True, True],\n",
       "          [True, True, True,  ..., True, True, True],\n",
       "          [True, True, True,  ..., True, True, True]],\n",
       "\n",
       "         [[True, True, True,  ..., True, True, True],\n",
       "          [True, True, True,  ..., True, True, True],\n",
       "          [True, True, True,  ..., True, True, True],\n",
       "          ...,\n",
       "          [True, True, True,  ..., True, True, True],\n",
       "          [True, True, True,  ..., True, True, True],\n",
       "          [True, True, True,  ..., True, True, True]],\n",
       "\n",
       "         [[True, True, True,  ..., True, True, True],\n",
       "          [True, True, True,  ..., True, True, True],\n",
       "          [True, True, True,  ..., True, True, True],\n",
       "          ...,\n",
       "          [True, True, True,  ..., True, True, True],\n",
       "          [True, True, True,  ..., True, True, True],\n",
       "          [True, True, True,  ..., True, True, True]]]])"
      ]
     },
     "execution_count": 1114,
     "metadata": {},
     "output_type": "execute_result"
    }
   ],
   "source": [
    "t == g"
   ]
  },
  {
   "cell_type": "code",
   "execution_count": 1106,
   "metadata": {},
   "outputs": [
    {
     "data": {
      "text/plain": [
       "tensor([[[[-4.0929e-01, -1.3162e+00, -2.0179e-01,  ..., -6.9764e-02,\n",
       "            4.0544e-01,  1.3710e-01],\n",
       "          [-7.6128e-01,  8.2998e-01,  3.8887e-01,  ...,  1.7311e+00,\n",
       "            7.7210e-01,  7.2054e-01],\n",
       "          [ 6.5544e-01, -1.4520e-01,  1.5470e+00,  ..., -3.1585e-01,\n",
       "           -2.3624e+00, -7.5837e-01],\n",
       "          ...,\n",
       "          [ 5.7434e-01, -4.9521e-01,  1.0517e+00,  ...,  1.1239e+00,\n",
       "            1.7736e-01,  8.0645e-01],\n",
       "          [ 9.2122e-01,  5.5226e-01, -1.3639e-04,  ...,  4.4657e-01,\n",
       "           -1.8893e+00,  1.8126e-01],\n",
       "          [-1.5400e+00, -1.2934e-02,  1.1879e+00,  ...,  2.0407e+00,\n",
       "           -1.2810e+00,  9.5667e-02]],\n",
       "\n",
       "         [[-9.2727e-01,  4.5355e-01, -1.0870e-01,  ...,  1.1492e+00,\n",
       "            1.1288e+00, -1.8394e-01],\n",
       "          [-1.3682e+00,  1.2663e+00, -2.6751e-01,  ...,  1.1390e+00,\n",
       "            1.8434e-01,  5.1054e-01],\n",
       "          [ 6.3531e-01,  6.2805e-01,  4.6577e-02,  ..., -1.6834e+00,\n",
       "           -2.2813e-01, -5.2620e-01],\n",
       "          ...,\n",
       "          [ 7.4432e-01,  4.3008e-01,  9.5395e-01,  ...,  8.9535e-01,\n",
       "            7.6087e-01, -6.9390e-01],\n",
       "          [-1.1064e+00, -1.2288e-01, -1.4674e+00,  ..., -9.6896e-01,\n",
       "            3.4476e-01,  2.5369e-02],\n",
       "          [ 1.0881e+00,  8.0591e-01, -4.4727e-01,  ..., -9.7841e-01,\n",
       "           -6.2783e-01, -5.6662e-01]],\n",
       "\n",
       "         [[ 8.1947e-01,  7.4219e-02, -6.4598e-01,  ...,  2.2553e-01,\n",
       "           -2.3283e-01,  1.0680e+00],\n",
       "          [-3.2206e-01,  1.7869e+00, -1.5059e-01,  ...,  9.1145e-01,\n",
       "            6.5194e-01,  1.9503e-01],\n",
       "          [ 9.9059e-01, -1.1801e+00,  3.9680e-01,  ..., -8.7843e-01,\n",
       "           -6.9931e-01,  2.7072e-02],\n",
       "          ...,\n",
       "          [-1.3703e+00,  2.0412e-01, -1.0198e+00,  ..., -2.2361e-01,\n",
       "            1.8425e+00, -1.2747e+00],\n",
       "          [ 3.7016e-01,  2.9618e-01,  1.8906e+00,  ...,  6.8682e-01,\n",
       "            3.9563e-01,  1.1383e+00],\n",
       "          [ 8.7532e-01, -8.9157e-01, -9.6026e-01,  ..., -8.3867e-02,\n",
       "           -2.0187e+00, -1.9441e-01]]],\n",
       "\n",
       "\n",
       "        [[[-9.0694e-01, -4.8677e-03,  9.7203e-01,  ..., -1.8925e+00,\n",
       "           -1.3587e-01,  8.4695e-01],\n",
       "          [-1.4588e+00,  5.6540e-01,  8.5775e-01,  ..., -6.4950e-01,\n",
       "           -2.0945e-01,  3.7316e-01],\n",
       "          [-5.3244e-01,  3.3831e+00,  2.5635e-01,  ..., -5.6168e-01,\n",
       "           -1.5137e+00,  2.5509e-01],\n",
       "          ...,\n",
       "          [ 8.5953e-01, -1.1342e+00,  7.7025e-01,  ..., -2.8422e-01,\n",
       "           -8.7288e-01, -1.1845e+00],\n",
       "          [-1.8631e-01, -9.3396e-01, -1.3142e+00,  ..., -7.3524e-01,\n",
       "           -2.6631e-01,  1.2851e-01],\n",
       "          [-1.1717e-01,  1.2805e-01,  6.0625e-01,  ..., -3.4896e-01,\n",
       "            2.1615e+00,  5.9924e-01]],\n",
       "\n",
       "         [[ 4.3883e-01,  2.2857e-01, -1.4456e+00,  ...,  5.0891e-01,\n",
       "           -6.0538e-01, -2.7385e+00],\n",
       "          [ 3.9080e-01,  2.3737e-01, -4.4411e-01,  ...,  6.6083e-01,\n",
       "           -7.0605e-01,  1.6751e-01],\n",
       "          [-8.8445e-01,  1.3837e+00, -9.4123e-01,  ...,  7.1520e-01,\n",
       "           -4.5750e-01,  5.8128e-01],\n",
       "          ...,\n",
       "          [ 1.0173e+00,  2.4121e+00,  8.6055e-01,  ..., -8.5290e-01,\n",
       "           -2.3782e-01,  7.9264e-01],\n",
       "          [ 6.1946e-01, -8.3935e-01,  1.2254e-01,  ...,  5.5560e-01,\n",
       "            6.2227e-01, -1.2740e+00],\n",
       "          [-1.9377e+00, -2.5361e-01, -1.1398e+00,  ...,  5.6957e-01,\n",
       "            1.9857e-01,  6.8430e-01]],\n",
       "\n",
       "         [[ 7.9675e-01,  9.6152e-01, -2.6531e+00,  ...,  9.3586e-01,\n",
       "           -1.4443e-01, -1.1106e+00],\n",
       "          [-8.8709e-01,  1.0986e+00,  1.2528e-01,  ...,  5.1955e-01,\n",
       "           -1.4604e+00,  9.4977e-01],\n",
       "          [-1.1609e-01,  1.4843e+00, -4.2110e-01,  ...,  2.8039e-02,\n",
       "            5.2378e-01,  1.0833e+00],\n",
       "          ...,\n",
       "          [-1.7553e+00,  1.5353e+00, -1.5433e+00,  ..., -5.1529e-01,\n",
       "            8.3861e-01, -1.3107e-01],\n",
       "          [-8.0689e-01, -9.8848e-01, -1.0718e+00,  ...,  1.5316e+00,\n",
       "           -7.6567e-01,  1.1048e-01],\n",
       "          [-2.0133e-01, -5.0667e-01, -1.3074e+00,  ...,  2.2821e-01,\n",
       "            9.6766e-01, -7.5559e-01]]],\n",
       "\n",
       "\n",
       "        [[[-3.6308e-02, -2.6867e-01,  8.3237e-01,  ..., -2.7807e-01,\n",
       "           -4.0620e-01, -1.0968e+00],\n",
       "          [-1.1455e+00,  1.4723e+00, -5.7041e-01,  ...,  7.6072e-01,\n",
       "            1.3951e+00, -1.3124e+00],\n",
       "          [-5.8955e-01, -2.5988e-01, -2.0328e-01,  ...,  7.4966e-01,\n",
       "           -5.2504e-01,  1.3234e-01],\n",
       "          ...,\n",
       "          [ 1.1752e+00, -6.4496e-01,  1.8432e+00,  ..., -1.0417e+00,\n",
       "           -7.7082e-01,  1.5720e+00],\n",
       "          [-1.2516e+00, -1.7453e+00,  8.4377e-01,  ..., -9.8403e-01,\n",
       "           -7.6768e-01, -5.5473e-01],\n",
       "          [ 2.5727e-01, -1.4234e+00,  1.1649e+00,  ..., -4.8367e-01,\n",
       "            1.7005e+00,  1.4165e+00]],\n",
       "\n",
       "         [[-2.8048e-01, -1.6207e+00,  3.4206e-01,  ..., -9.1750e-01,\n",
       "           -3.8963e-01,  1.0164e+00],\n",
       "          [ 1.1683e-02, -9.8436e-01, -1.9815e-01,  ..., -1.4409e+00,\n",
       "            6.9642e-01,  4.1200e-02],\n",
       "          [ 1.0980e+00,  1.5028e-01,  7.9973e-01,  ..., -1.5545e+00,\n",
       "            7.1249e-01,  1.2461e-02],\n",
       "          ...,\n",
       "          [ 6.4764e-01,  5.1501e-01, -2.9027e-01,  ..., -6.8506e-01,\n",
       "           -9.1603e-01,  7.9576e-02],\n",
       "          [-3.8643e-01,  5.2496e-01, -2.5324e-01,  ..., -5.2541e-01,\n",
       "            2.7567e+00, -1.1673e-01],\n",
       "          [ 4.5288e-01, -1.3953e+00,  8.5924e-02,  ..., -8.2636e-01,\n",
       "            4.9314e-01, -7.7686e-01]],\n",
       "\n",
       "         [[-1.0588e+00, -1.7712e+00,  5.4349e-01,  ..., -1.7180e+00,\n",
       "           -5.3136e-01,  1.7400e+00],\n",
       "          [ 9.3966e-01, -7.3037e-01, -6.4205e-01,  ..., -2.5048e+00,\n",
       "           -6.3018e-01,  3.5374e-02],\n",
       "          [ 9.2130e-01, -8.5192e-01, -9.7249e-01,  ...,  9.3375e-01,\n",
       "            1.6519e+00, -3.9986e-01],\n",
       "          ...,\n",
       "          [ 4.1564e-01,  1.9329e+00,  6.9532e-01,  ..., -2.5576e-01,\n",
       "            3.4846e-01,  8.2495e-01],\n",
       "          [ 9.7402e-01, -4.7729e-03,  1.4339e+00,  ..., -6.5929e-01,\n",
       "            2.4130e-01,  1.2527e+00],\n",
       "          [ 6.4307e-01, -7.2968e-01,  5.5171e-01,  ..., -3.4068e-01,\n",
       "            2.8708e+00, -1.4210e-01]]],\n",
       "\n",
       "\n",
       "        ...,\n",
       "\n",
       "\n",
       "        [[[-8.6559e-01, -6.2581e-01, -5.6671e-01,  ..., -2.6759e-01,\n",
       "           -1.5424e+00, -1.1525e+00],\n",
       "          [-9.9657e-01, -7.3849e-01,  1.2321e+00,  ..., -9.2674e-02,\n",
       "           -1.2403e-01, -5.3901e-01],\n",
       "          [ 1.1533e+00, -1.4270e+00,  1.4453e-01,  ...,  1.9521e-01,\n",
       "            9.0221e-01, -4.2602e-01],\n",
       "          ...,\n",
       "          [ 5.8841e-01, -1.7365e+00, -1.2241e+00,  ...,  2.0034e+00,\n",
       "           -9.6890e-01, -7.3782e-01],\n",
       "          [-4.7800e-05,  6.4944e-01,  6.9469e-01,  ..., -1.3620e+00,\n",
       "           -6.3714e-01,  6.6770e-02],\n",
       "          [ 2.4640e-02, -4.6842e-01,  1.9590e+00,  ..., -6.4325e-01,\n",
       "           -3.4713e-01,  1.6094e+00]],\n",
       "\n",
       "         [[-1.2163e-01,  5.0108e-01, -5.5630e-01,  ..., -2.3485e+00,\n",
       "           -6.2994e-01, -4.6422e-01],\n",
       "          [ 1.0754e+00, -4.5961e-01, -2.6737e-01,  ...,  3.7387e-01,\n",
       "           -7.4801e-01, -9.7368e-01],\n",
       "          [ 1.7471e+00, -3.1631e-01,  1.4999e-01,  ...,  4.3784e-02,\n",
       "            4.3222e-01,  9.9745e-01],\n",
       "          ...,\n",
       "          [ 6.5278e-01, -5.8874e-01,  9.4349e-01,  ...,  9.0230e-01,\n",
       "           -5.2723e-01, -5.9920e-01],\n",
       "          [-1.0579e+00,  2.0976e-02,  3.7002e-02,  ...,  1.7595e+00,\n",
       "            3.0876e+00,  1.8338e+00],\n",
       "          [-7.9274e-01,  1.9161e-01, -1.2914e+00,  ..., -9.5269e-01,\n",
       "           -4.1475e-01, -1.6615e+00]],\n",
       "\n",
       "         [[-1.5888e+00,  1.6642e+00,  1.0872e+00,  ..., -4.8063e-01,\n",
       "            1.0214e+00, -1.6143e+00],\n",
       "          [ 1.3718e+00,  1.6873e-01, -2.1183e-01,  ...,  3.1472e-01,\n",
       "           -6.6427e-01,  1.7179e+00],\n",
       "          [-1.6887e+00,  2.1553e+00, -2.8217e-01,  ..., -5.8147e-01,\n",
       "            1.0962e-01,  7.5623e-01],\n",
       "          ...,\n",
       "          [-1.1954e+00, -9.1194e-01,  1.7177e-01,  ...,  1.0739e+00,\n",
       "           -6.4943e-01,  4.6446e-01],\n",
       "          [-2.6104e+00, -1.1323e+00, -1.5529e-01,  ...,  3.2655e-02,\n",
       "           -6.6758e-01, -1.0628e-01],\n",
       "          [-1.5037e+00,  1.7842e+00, -1.4356e+00,  ...,  7.1202e-01,\n",
       "           -7.0658e-01,  6.1802e-01]]],\n",
       "\n",
       "\n",
       "        [[[ 2.1925e+00,  7.6918e-02, -1.1413e-01,  ...,  4.7102e-01,\n",
       "            1.8112e-01,  9.2167e-01],\n",
       "          [ 7.4072e-02, -3.3449e-01,  1.5531e-01,  ...,  1.6827e+00,\n",
       "            1.0037e+00, -1.1606e-01],\n",
       "          [ 5.8417e-01, -9.0336e-01, -1.3958e+00,  ...,  1.2970e+00,\n",
       "           -6.5031e-02,  3.6942e-01],\n",
       "          ...,\n",
       "          [ 1.0519e+00,  4.3083e-01,  1.7333e-01,  ...,  1.5521e+00,\n",
       "           -3.1023e-01, -1.3054e+00],\n",
       "          [ 6.2137e-01,  3.4232e-01, -2.3365e-01,  ..., -5.3180e-01,\n",
       "           -8.6935e-01,  8.5294e-01],\n",
       "          [-2.3584e-01, -1.2628e+00, -6.9833e-01,  ..., -1.1021e+00,\n",
       "            1.0545e+00,  7.8278e-01]],\n",
       "\n",
       "         [[ 1.4332e+00,  9.0651e-01,  9.8988e-01,  ...,  1.1038e+00,\n",
       "            1.8321e+00,  2.1002e-01],\n",
       "          [-8.1648e-01, -8.1033e-01,  2.1072e-01,  ...,  7.6823e-01,\n",
       "           -1.0312e+00, -1.2066e+00],\n",
       "          [ 4.0887e-01, -3.2599e-01,  1.3656e+00,  ...,  3.0355e-01,\n",
       "            4.5476e-01, -2.2467e-01],\n",
       "          ...,\n",
       "          [ 9.4636e-01, -1.3789e-01, -7.2351e-01,  ..., -1.0156e+00,\n",
       "           -9.4782e-02,  1.4913e-01],\n",
       "          [-4.3861e-01,  2.8236e+00, -1.3859e-01,  ..., -8.6696e-01,\n",
       "            6.0334e-01,  2.1506e+00],\n",
       "          [ 3.0791e-01,  9.4209e-02, -1.1405e-01,  ...,  5.1462e-01,\n",
       "            5.3605e-01, -1.2680e+00]],\n",
       "\n",
       "         [[-3.4283e-01,  1.7854e+00,  4.1584e-01,  ..., -7.2861e-02,\n",
       "           -2.0921e+00, -1.5145e+00],\n",
       "          [ 2.5767e-01,  3.1773e-01,  1.3784e-01,  ..., -1.9413e+00,\n",
       "            4.7530e-01, -8.1074e-01],\n",
       "          [-7.6526e-01, -2.0356e+00,  1.3840e+00,  ..., -8.4652e-01,\n",
       "            1.8778e-01, -5.1609e-01],\n",
       "          ...,\n",
       "          [ 1.2112e+00, -7.2107e-01,  1.8299e+00,  ...,  1.6532e+00,\n",
       "           -6.6580e-01,  7.3475e-02],\n",
       "          [ 8.0701e-01, -5.3863e-01, -9.0837e-02,  ...,  5.7125e-02,\n",
       "           -1.2171e+00, -7.7997e-01],\n",
       "          [ 1.2223e+00,  3.1265e-01, -4.0604e-01,  ..., -9.6059e-01,\n",
       "            7.3656e-01,  2.4295e-01]]],\n",
       "\n",
       "\n",
       "        [[[-1.5704e+00,  6.2434e-01,  8.6653e-01,  ..., -4.2807e-01,\n",
       "            2.3871e-01,  3.7720e-01],\n",
       "          [ 2.2628e+00, -4.2920e-01, -7.5777e-01,  ...,  1.1672e+00,\n",
       "            2.2681e+00, -1.0465e+00],\n",
       "          [ 4.0321e-02, -9.6165e-01, -3.8261e-01,  ...,  3.2809e-01,\n",
       "            1.5864e-01, -7.7187e-02],\n",
       "          ...,\n",
       "          [-6.1014e-01,  6.5691e-01,  2.0371e+00,  ...,  8.3378e-01,\n",
       "            5.7518e-01,  7.0042e-01],\n",
       "          [ 1.0731e+00, -2.1144e-01,  3.8033e-01,  ...,  8.5356e-01,\n",
       "           -3.0592e-01, -1.2531e+00],\n",
       "          [-7.6540e-01, -1.0449e+00, -7.1967e-01,  ...,  9.0258e-02,\n",
       "           -2.9009e+00,  4.9417e-01]],\n",
       "\n",
       "         [[ 9.2257e-01,  8.1506e-01, -1.1553e+00,  ..., -2.0407e-01,\n",
       "            4.1013e-01, -7.8772e-01],\n",
       "          [ 2.6845e-01, -2.4328e+00, -1.1104e+00,  ...,  1.1511e-01,\n",
       "            5.6478e-01,  1.3809e+00],\n",
       "          [ 2.2990e-01,  1.5480e-01,  7.1278e-01,  ...,  5.7420e-01,\n",
       "            3.6747e-01, -2.2232e+00],\n",
       "          ...,\n",
       "          [-1.8901e+00, -9.0790e-02, -1.6764e+00,  ..., -5.0559e-01,\n",
       "           -1.1865e+00,  1.3361e+00],\n",
       "          [-1.5344e+00,  9.8149e-01, -4.1465e-01,  ..., -1.5677e-01,\n",
       "            8.4099e-01,  1.2705e-01],\n",
       "          [-8.2508e-01,  6.3688e-01, -9.1778e-01,  ...,  5.0616e-01,\n",
       "            1.6796e+00,  1.1564e-01]],\n",
       "\n",
       "         [[ 1.3437e-01, -4.5014e-01,  2.3304e+00,  ..., -1.2255e-01,\n",
       "           -9.1879e-01,  5.4820e-01],\n",
       "          [-2.7263e+00,  1.3768e-01, -4.9433e-01,  ...,  1.2091e+00,\n",
       "            1.0607e+00, -6.3902e-01],\n",
       "          [-1.1480e+00, -1.0488e+00,  2.5473e-01,  ..., -1.1505e+00,\n",
       "            6.8147e-01, -1.0252e+00],\n",
       "          ...,\n",
       "          [-2.1601e-01, -1.8662e-02, -4.3307e-01,  ..., -8.6652e-01,\n",
       "            7.8724e-01, -9.4725e-01],\n",
       "          [-3.0514e-01,  1.7353e+00, -1.1248e+00,  ...,  1.1958e+00,\n",
       "            2.9762e-01,  2.3837e-01],\n",
       "          [ 9.9356e-01, -1.1877e+00,  6.5718e-01,  ...,  1.4609e+00,\n",
       "            9.9883e-02,  5.4958e-01]]]])"
      ]
     },
     "execution_count": 1106,
     "metadata": {},
     "output_type": "execute_result"
    }
   ],
   "source": [
    "t.sha"
   ]
  },
  {
   "cell_type": "code",
   "execution_count": 1167,
   "metadata": {},
   "outputs": [
    {
     "data": {
      "text/plain": [
       "tensor([[[-1.2824, -1.1515,  0.2040,  0.2154,  0.6724, -1.3465,  0.8451],\n",
       "         [-0.7576, -0.8147,  0.5783, -0.2726,  0.1059,  1.0993, -0.7232],\n",
       "         [-1.1811,  1.4979,  0.0505, -0.6839, -1.6553,  0.4173,  1.2472],\n",
       "         [-0.0887, -0.2930,  1.5443,  1.5407,  0.3840, -1.8406, -1.8980],\n",
       "         [-1.6285,  0.8944, -0.4011, -0.4273,  0.9606,  0.3991, -1.0077],\n",
       "         [ 2.2027, -1.3321,  1.1103, -0.6333,  0.7833,  0.2430,  1.6501],\n",
       "         [-0.6011, -0.3970,  0.5980, -0.3041,  0.5433, -0.1577,  0.3007]],\n",
       "\n",
       "        [[-1.3175,  0.8946,  1.3681,  1.2289, -0.1596,  0.6348,  0.4605],\n",
       "         [-1.0862, -0.3635, -0.5049,  1.1388,  0.5428, -1.4256,  1.5418],\n",
       "         [ 0.3199, -0.9007,  0.4731, -0.3219, -0.6034,  0.4352, -1.1254],\n",
       "         [-0.4074, -1.0506, -0.1438,  0.9388,  0.2324, -0.2455,  0.7871],\n",
       "         [-0.2678, -0.1953,  2.3093,  0.5210,  1.5199, -0.9906,  0.7387],\n",
       "         [ 2.7954,  0.7162, -0.3940,  0.1398, -1.6866,  0.7644, -1.1658],\n",
       "         [-0.4124,  0.6697, -0.9622,  1.0047,  1.2776, -0.1051, -1.6180]],\n",
       "\n",
       "        [[-0.2775,  0.6659,  0.1936, -0.4052, -0.6869, -0.2207,  0.1167],\n",
       "         [ 1.6503,  0.4621, -0.6877,  0.9272,  1.3130,  1.2997,  0.0099],\n",
       "         [ 0.7129, -1.1721,  2.3727,  0.2745,  0.8736,  0.0228,  1.2061],\n",
       "         [ 0.3185,  1.4447, -0.9820,  1.6491,  2.3936, -0.7281,  1.9036],\n",
       "         [ 1.1819, -0.4227, -0.0775, -1.3194, -1.2261,  0.8166, -0.4730],\n",
       "         [ 0.1735, -1.0864, -0.7420,  1.0916,  0.6538, -0.0296,  0.9478],\n",
       "         [-1.2243, -1.3089,  0.0375, -0.6916,  0.5989,  0.7604, -0.6380]],\n",
       "\n",
       "        [[-0.7662, -0.0239,  0.0226, -1.2944, -0.1596,  0.4735,  0.2428],\n",
       "         [-0.8365, -1.0999, -0.2980,  0.1291, -0.7934,  0.4482, -0.0907],\n",
       "         [ 1.8367, -0.2922, -0.5753, -2.0181, -0.6189,  1.2330, -0.2665],\n",
       "         [ 0.7673, -1.7602,  0.8850, -0.7454, -0.9914, -0.3764,  0.8043],\n",
       "         [ 1.2188,  1.8487, -0.2860,  1.9033,  0.2236, -1.1765,  1.6295],\n",
       "         [ 1.3573, -0.9033,  1.6248, -1.8364, -1.5157,  1.5122,  0.8811],\n",
       "         [-0.9025, -0.2002,  0.1699,  0.8758,  1.6981,  0.2680, -0.1658]],\n",
       "\n",
       "        [[-0.0345, -2.5278, -0.8386,  0.4368,  0.2199,  1.2461, -0.1249],\n",
       "         [-0.1419, -0.1315, -0.8554,  0.4426, -0.2162, -0.9685,  1.9207],\n",
       "         [-0.2708, -0.3864,  1.8321, -0.2672,  1.5178,  0.0851, -0.2914],\n",
       "         [ 0.9154,  1.3035, -0.2261, -0.0933,  0.8024, -0.8272, -0.3985],\n",
       "         [ 0.8312,  0.6480, -0.2338,  1.3466, -0.6509, -0.5736,  0.8896],\n",
       "         [-1.0550,  1.2561,  0.8803, -0.6586, -0.4126, -0.2285, -1.9285],\n",
       "         [-1.3761,  1.8476, -1.2600, -0.9475,  0.0275,  0.8949, -1.6547]],\n",
       "\n",
       "        [[ 0.7133,  0.1038,  0.2172, -0.2190,  0.8771,  0.6106, -0.2276],\n",
       "         [ 0.9003,  0.0584,  0.1578, -1.1796, -0.3389,  0.3204, -1.0436],\n",
       "         [-0.3744, -0.5136, -1.0010,  0.7346,  1.5152, -1.5670,  0.7618],\n",
       "         [ 0.8454,  1.1549,  1.9242,  1.6359,  0.2534,  0.7608, -0.2856],\n",
       "         [ 0.5564, -0.0751, -0.2811,  0.3876,  1.3128, -0.4331, -0.0446],\n",
       "         [-0.5253,  0.4163,  0.4346,  0.4554, -0.6015, -0.2437,  3.1456],\n",
       "         [-0.4810,  0.0350,  0.7418,  0.6672,  0.2609, -1.1412, -0.9011]],\n",
       "\n",
       "        [[-0.7027,  1.2184, -0.9326, -0.6114, -1.3548, -0.2848,  1.0873],\n",
       "         [ 0.6453,  0.3039,  0.6681, -0.4575,  1.4026, -1.1397,  0.1600],\n",
       "         [-1.4447, -0.1764,  0.8015,  0.4067,  0.1129, -1.5863,  0.1050],\n",
       "         [ 0.8568, -0.2293,  0.4882, -1.4532, -1.3787, -0.0923,  1.7115],\n",
       "         [ 1.0923,  0.5792,  1.7344,  0.0876,  0.7576, -0.7633,  1.3090],\n",
       "         [ 0.1017,  0.6221, -1.2366, -1.0049, -0.7035, -0.7712,  0.8031],\n",
       "         [ 0.4080, -0.4368,  0.4432, -0.5760,  0.4554,  0.2823, -1.4535]],\n",
       "\n",
       "        [[ 1.0750,  0.7794,  0.6607, -0.8011, -1.2374, -1.2429, -0.5336],\n",
       "         [-0.4590,  1.6510, -0.7554, -1.0245,  1.0191, -0.5359, -0.3800],\n",
       "         [ 0.0717, -0.9150,  0.7744, -0.0222,  1.2096,  1.2534, -1.0849],\n",
       "         [-0.2732, -1.1222, -0.4320,  0.0431,  1.7799, -0.8931,  0.6010],\n",
       "         [ 0.9339,  0.0275,  0.5294,  0.6843,  0.4952, -1.7545,  0.0224],\n",
       "         [ 0.8255, -0.4234,  1.6161, -0.5469,  1.5192,  0.1093,  0.1728],\n",
       "         [ 1.3925,  0.4971,  0.4740, -1.2852,  1.4919,  1.2662, -0.8470]]],\n",
       "       grad_fn=<SelectBackward>)"
      ]
     },
     "execution_count": 1167,
     "metadata": {},
     "output_type": "execute_result"
    }
   ],
   "source": [
    "gen.gen_syn.const.const[0]"
   ]
  },
  {
   "cell_type": "code",
   "execution_count": null,
   "metadata": {},
   "outputs": [],
   "source": []
  }
 ],
 "metadata": {
  "kernelspec": {
   "display_name": "Python 3",
   "language": "python",
   "name": "python3"
  },
  "language_info": {
   "codemirror_mode": {
    "name": "ipython",
    "version": 3
   },
   "file_extension": ".py",
   "mimetype": "text/x-python",
   "name": "python",
   "nbconvert_exporter": "python",
   "pygments_lexer": "ipython3",
   "version": "3.6.8"
  }
 },
 "nbformat": 4,
 "nbformat_minor": 4
}
