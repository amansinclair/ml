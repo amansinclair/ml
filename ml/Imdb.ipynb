{
 "cells": [
  {
   "cell_type": "markdown",
   "metadata": {},
   "source": [
    "# Imdb sentiment analysis\n",
    "Sentiment analysis on the Imdb dataset using bag of words model (unigrams)."
   ]
  },
  {
   "cell_type": "code",
   "execution_count": 455,
   "metadata": {},
   "outputs": [],
   "source": [
    "%load_ext autoreload\n",
    "%autoreload 2"
   ]
  },
  {
   "cell_type": "code",
   "execution_count": 456,
   "metadata": {},
   "outputs": [],
   "source": [
    "from pathlib import Path\n",
    "import re\n",
    "from collections import defaultdict\n",
    "from tqdm.notebook import tqdm\n",
    "import numpy as np\n",
    "import torch\n",
    "import torch.nn as nn\n",
    "import torch.optim as optim\n",
    "from torch.utils.data import TensorDataset, DataLoader\n",
    "from utils import train, accuracy, count_parameters, plot_loss_acc\n",
    "import matplotlib.pyplot as plt"
   ]
  },
  {
   "cell_type": "code",
   "execution_count": 3,
   "metadata": {},
   "outputs": [],
   "source": [
    "PATH = Path.cwd() / \"data\" / \"Imdb\"\n",
    "TRAIN_PATH = PATH / \"train\"\n",
    "TEST_PATH = PATH / \"test\""
   ]
  },
  {
   "cell_type": "code",
   "execution_count": 4,
   "metadata": {},
   "outputs": [
    {
     "data": {
      "text/plain": [
       "WindowsPath('C:/Stuff/py/projects/ml/ml/data/Imdb/test')"
      ]
     },
     "execution_count": 4,
     "metadata": {},
     "output_type": "execute_result"
    }
   ],
   "source": [
    "TEST_PATH"
   ]
  },
  {
   "cell_type": "code",
   "execution_count": 12,
   "metadata": {},
   "outputs": [],
   "source": [
    "def create_path_list(path):\n",
    "    pos_reviews = [f for f in (path / \"pos\").iterdir()]\n",
    "    neg_reviews = [f for f in (path / \"neg\").iterdir()]\n",
    "    return {\"pos\": pos_reviews, \"neg\": neg_reviews}"
   ]
  },
  {
   "cell_type": "code",
   "execution_count": 178,
   "metadata": {},
   "outputs": [],
   "source": [
    "train_paths = create_path_list(TRAIN_PATH)\n",
    "test_paths = create_path_list(TEST_PATH)"
   ]
  },
  {
   "cell_type": "code",
   "execution_count": 122,
   "metadata": {},
   "outputs": [],
   "source": [
    "def load_review(path):\n",
    "    with open(path, \"r\", encoding=\"utf-8\") as f:\n",
    "        text = f.read()\n",
    "        text = text.lower()\n",
    "        text = re.sub(\"<[\\w\\s]*\\/*>\", \" \", text) # remove tags\n",
    "        text = re.sub('[^A-Za-z ]+', '', text) # remove symbols \n",
    "        return text.split()"
   ]
  },
  {
   "cell_type": "code",
   "execution_count": 123,
   "metadata": {},
   "outputs": [],
   "source": [
    "def get_word_counts():\n",
    "    review_paths = create_path_list(TRAIN_PATH)\n",
    "    all_paths = review_paths[\"pos\"] + review_paths[\"neg\"]\n",
    "    all_words = defaultdict(int)\n",
    "    for path in tqdm(all_paths):\n",
    "        try:\n",
    "            words = load_review(path)\n",
    "            for word in words:\n",
    "                all_words[word] = all_words[word] + 1\n",
    "        except Exception as e:\n",
    "            print(path)\n",
    "    return all_words"
   ]
  },
  {
   "cell_type": "code",
   "execution_count": 124,
   "metadata": {},
   "outputs": [
    {
     "data": {
      "application/vnd.jupyter.widget-view+json": {
       "model_id": "c7a446db08d54746a6064d7c37bbcfbe",
       "version_major": 2,
       "version_minor": 0
      },
      "text/plain": [
       "HBox(children=(FloatProgress(value=0.0, max=25000.0), HTML(value='')))"
      ]
     },
     "metadata": {},
     "output_type": "display_data"
    },
    {
     "name": "stdout",
     "output_type": "stream",
     "text": [
      "\n"
     ]
    }
   ],
   "source": [
    "all_words = get_word_counts()"
   ]
  },
  {
   "cell_type": "code",
   "execution_count": 125,
   "metadata": {},
   "outputs": [],
   "source": [
    "def sort_words(word_dict):\n",
    "    occurance = np.array([v for v in word_dict.values()])\n",
    "    sorted_idx = np.argsort(occurance)[::-1]\n",
    "    words = [k for k in word_dict.keys()]\n",
    "    sorted_words = [(words[idx], occurance[idx]) for idx in sorted_idx]\n",
    "    return sorted_words"
   ]
  },
  {
   "cell_type": "code",
   "execution_count": 158,
   "metadata": {},
   "outputs": [],
   "source": [
    "sw = sort_words(all_words)"
   ]
  },
  {
   "cell_type": "code",
   "execution_count": 170,
   "metadata": {},
   "outputs": [
    {
     "data": {
      "text/plain": [
       "(2, 0)"
      ]
     },
     "execution_count": 170,
     "metadata": {},
     "output_type": "execute_result"
    }
   ],
   "source": [
    "VOCAB_SIZE = 5000\n",
    "top_words = [word for word, count in sw[:VOCAB_SIZE]]\n",
    "vocab = {word: i for i, word in enumerate(top_words)}\n",
    "vocab[\"a\"], vocab[\"the\"]"
   ]
  },
  {
   "cell_type": "code",
   "execution_count": 215,
   "metadata": {},
   "outputs": [],
   "source": [
    "def get_word_frequency(vocab, path):\n",
    "    X = torch.zeros(len(vocab))\n",
    "    words = load_review(path)\n",
    "    for word in words:\n",
    "        if word in vocab:\n",
    "            idx = vocab[word]\n",
    "            X[idx] += 1\n",
    "    return X"
   ]
  },
  {
   "cell_type": "code",
   "execution_count": 233,
   "metadata": {},
   "outputs": [],
   "source": [
    "def create_freq_dataset(vocab, paths):\n",
    "    pos_size = len(paths[\"pos\"])\n",
    "    total_size =  pos_size+ len(paths[\"neg\"])\n",
    "    y = torch.zeros(total_size, dtype=torch.long)\n",
    "    y[:pos_size] = 1\n",
    "    X = torch.zeros((total_size, len(vocab)))\n",
    "    i = 0\n",
    "    for key in (\"pos\", \"neg\"):\n",
    "        for p in paths[key]:\n",
    "            X[i] = get_word_frequency(vocab, p)\n",
    "            i += 1\n",
    "    return X, y"
   ]
  },
  {
   "cell_type": "code",
   "execution_count": 234,
   "metadata": {},
   "outputs": [],
   "source": [
    "X_train, y_train = create_freq_dataset(vocab, train_paths)\n",
    "X_test, y_test = create_freq_dataset(vocab, test_paths)"
   ]
  },
  {
   "cell_type": "code",
   "execution_count": 235,
   "metadata": {},
   "outputs": [
    {
     "data": {
      "text/plain": [
       "(torch.Size([25000, 5000]),\n",
       " torch.Size([25000, 5000]),\n",
       " torch.Size([25000]),\n",
       " torch.Size([25000]))"
      ]
     },
     "execution_count": 235,
     "metadata": {},
     "output_type": "execute_result"
    }
   ],
   "source": [
    "X_train.shape, X_test.shape, y_train.shape, y_test.shape"
   ]
  },
  {
   "cell_type": "code",
   "execution_count": 462,
   "metadata": {},
   "outputs": [],
   "source": [
    "train_dataset = DataLoader(TensorDataset(X_train, y_train), batch_size=32, shuffle=True)\n",
    "test_dataset = DataLoader(TensorDataset(X_test, y_test), batch_size=32, shuffle=True)"
   ]
  },
  {
   "cell_type": "code",
   "execution_count": 463,
   "metadata": {},
   "outputs": [],
   "source": [
    "freq_model = nn.Sequential(nn.Linear(vocab_size, 8), nn.ReLU(), nn.Linear(8, 2))\n",
    "crit = nn.CrossEntropyLoss()\n",
    "opt = optim.Adam(freq_model.parameters(), lr=0.001, weight_decay=0.001)"
   ]
  },
  {
   "cell_type": "code",
   "execution_count": 464,
   "metadata": {},
   "outputs": [
    {
     "name": "stdout",
     "output_type": "stream",
     "text": [
      "+----------+------------+\n",
      "| Modules  | Parameters |\n",
      "+----------+------------+\n",
      "| 0.weight |   40000    |\n",
      "|  0.bias  |     8      |\n",
      "| 2.weight |     16     |\n",
      "|  2.bias  |     2      |\n",
      "+----------+------------+\n",
      "Total Trainable Params: 40026\n"
     ]
    },
    {
     "data": {
      "text/plain": [
       "40026"
      ]
     },
     "execution_count": 464,
     "metadata": {},
     "output_type": "execute_result"
    }
   ],
   "source": [
    "count_parameters(freq_model, True)"
   ]
  },
  {
   "cell_type": "code",
   "execution_count": 465,
   "metadata": {},
   "outputs": [
    {
     "data": {
      "application/vnd.jupyter.widget-view+json": {
       "model_id": "c8b6a592d9ac40d98a990329005630bc",
       "version_major": 2,
       "version_minor": 0
      },
      "text/plain": [
       "HBox(children=(FloatProgress(value=0.0, max=782.0), HTML(value='')))"
      ]
     },
     "metadata": {},
     "output_type": "display_data"
    },
    {
     "name": "stdout",
     "output_type": "stream",
     "text": [
      "\n",
      "Epoch:1, T Loss:0.377, T acc:0.848 V Loss:0.299, V acc:0.883\n"
     ]
    },
    {
     "data": {
      "application/vnd.jupyter.widget-view+json": {
       "model_id": "da52cbf4d4e0414192117704c88867a4",
       "version_major": 2,
       "version_minor": 0
      },
      "text/plain": [
       "HBox(children=(FloatProgress(value=0.0, max=782.0), HTML(value='')))"
      ]
     },
     "metadata": {},
     "output_type": "display_data"
    },
    {
     "name": "stdout",
     "output_type": "stream",
     "text": [
      "\n",
      "Epoch:2, T Loss:0.257, T acc:0.901 V Loss:0.334, V acc:0.865\n"
     ]
    },
    {
     "data": {
      "application/vnd.jupyter.widget-view+json": {
       "model_id": "b8f9096460334a548041ccb8265e15a5",
       "version_major": 2,
       "version_minor": 0
      },
      "text/plain": [
       "HBox(children=(FloatProgress(value=0.0, max=782.0), HTML(value='')))"
      ]
     },
     "metadata": {},
     "output_type": "display_data"
    },
    {
     "name": "stdout",
     "output_type": "stream",
     "text": [
      "\n",
      "Epoch:3, T Loss:0.239, T acc:0.909 V Loss:0.322, V acc:0.873\n"
     ]
    },
    {
     "data": {
      "application/vnd.jupyter.widget-view+json": {
       "model_id": "8b6a6d88c4d64f9fa918c76d8a1c6b1f",
       "version_major": 2,
       "version_minor": 0
      },
      "text/plain": [
       "HBox(children=(FloatProgress(value=0.0, max=782.0), HTML(value='')))"
      ]
     },
     "metadata": {},
     "output_type": "display_data"
    },
    {
     "name": "stdout",
     "output_type": "stream",
     "text": [
      "\n",
      "Epoch:4, T Loss:0.227, T acc:0.912 V Loss:0.326, V acc:0.873\n"
     ]
    },
    {
     "data": {
      "application/vnd.jupyter.widget-view+json": {
       "model_id": "26e500ed8f0240cfaadfb4f448b89e20",
       "version_major": 2,
       "version_minor": 0
      },
      "text/plain": [
       "HBox(children=(FloatProgress(value=0.0, max=782.0), HTML(value='')))"
      ]
     },
     "metadata": {},
     "output_type": "display_data"
    },
    {
     "name": "stdout",
     "output_type": "stream",
     "text": [
      "\n",
      "Epoch:5, T Loss:0.223, T acc:0.913 V Loss:0.344, V acc:0.865\n"
     ]
    },
    {
     "data": {
      "application/vnd.jupyter.widget-view+json": {
       "model_id": "07a993a4e15e47e6a3069ab22b5ca151",
       "version_major": 2,
       "version_minor": 0
      },
      "text/plain": [
       "HBox(children=(FloatProgress(value=0.0, max=782.0), HTML(value='')))"
      ]
     },
     "metadata": {},
     "output_type": "display_data"
    },
    {
     "name": "stdout",
     "output_type": "stream",
     "text": [
      "\n",
      "Epoch:6, T Loss:0.219, T acc:0.913 V Loss:0.351, V acc:0.867\n"
     ]
    },
    {
     "data": {
      "application/vnd.jupyter.widget-view+json": {
       "model_id": "5f48e2dc11c4454ab4d8b49719bb1424",
       "version_major": 2,
       "version_minor": 0
      },
      "text/plain": [
       "HBox(children=(FloatProgress(value=0.0, max=782.0), HTML(value='')))"
      ]
     },
     "metadata": {},
     "output_type": "display_data"
    },
    {
     "name": "stdout",
     "output_type": "stream",
     "text": [
      "\n",
      "Epoch:7, T Loss:0.215, T acc:0.918 V Loss:0.333, V acc:0.870\n"
     ]
    },
    {
     "data": {
      "application/vnd.jupyter.widget-view+json": {
       "model_id": "6df0ac4da9e2412188290e6a77d5658b",
       "version_major": 2,
       "version_minor": 0
      },
      "text/plain": [
       "HBox(children=(FloatProgress(value=0.0, max=782.0), HTML(value='')))"
      ]
     },
     "metadata": {},
     "output_type": "display_data"
    },
    {
     "name": "stdout",
     "output_type": "stream",
     "text": [
      "\n",
      "Epoch:8, T Loss:0.213, T acc:0.915 V Loss:0.384, V acc:0.851\n"
     ]
    },
    {
     "data": {
      "application/vnd.jupyter.widget-view+json": {
       "model_id": "838a5ca3dc334a05b8152a5a1fa5a50d",
       "version_major": 2,
       "version_minor": 0
      },
      "text/plain": [
       "HBox(children=(FloatProgress(value=0.0, max=782.0), HTML(value='')))"
      ]
     },
     "metadata": {},
     "output_type": "display_data"
    },
    {
     "name": "stdout",
     "output_type": "stream",
     "text": [
      "\n",
      "Epoch:9, T Loss:0.207, T acc:0.919 V Loss:0.353, V acc:0.864\n"
     ]
    },
    {
     "data": {
      "application/vnd.jupyter.widget-view+json": {
       "model_id": "d267557ef14e49d4ad7dbe9df9b62265",
       "version_major": 2,
       "version_minor": 0
      },
      "text/plain": [
       "HBox(children=(FloatProgress(value=0.0, max=782.0), HTML(value='')))"
      ]
     },
     "metadata": {},
     "output_type": "display_data"
    },
    {
     "name": "stdout",
     "output_type": "stream",
     "text": [
      "\n",
      "Epoch:10, T Loss:0.199, T acc:0.920 V Loss:0.356, V acc:0.864\n"
     ]
    }
   ],
   "source": [
    "train_loss, train_acc, test_loss, test_acc = train(freq_model, crit, accuracy, opt, train_dataset, test_dataset, n_epochs=10)"
   ]
  },
  {
   "cell_type": "code",
   "execution_count": 466,
   "metadata": {},
   "outputs": [
    {
     "data": {
      "image/png": "[encoded data removed]",
      "text/plain": [
       "<Figure size 1080x576 with 2 Axes>"
      ]
     },
     "metadata": {
      "needs_background": "light"
     },
     "output_type": "display_data"
    }
   ],
   "source": [
    "plot_loss_acc(train_loss, train_acc, test_loss, test_acc)"
   ]
  },
  {
   "cell_type": "code",
   "execution_count": 467,
   "metadata": {},
   "outputs": [],
   "source": [
    "def check_dataset_sizes(paths):\n",
    "    sizes = []\n",
    "    for key in (\"pos\", \"neg\"):\n",
    "        for p in paths[key]:\n",
    "            sizes.append(len(load_review(p)))\n",
    "    return sizes"
   ]
  },
  {
   "cell_type": "code",
   "execution_count": 468,
   "metadata": {},
   "outputs": [],
   "source": [
    "s = check_dataset_sizes(train_paths)"
   ]
  },
  {
   "cell_type": "code",
   "execution_count": 469,
   "metadata": {},
   "outputs": [
    {
     "data": {
      "text/plain": [
       "(10, 2450, 229.43412)"
      ]
     },
     "execution_count": 469,
     "metadata": {},
     "output_type": "execute_result"
    }
   ],
   "source": [
    "s = np.array(s)\n",
    "s.min(), s.max(), s.mean()"
   ]
  },
  {
   "cell_type": "code",
   "execution_count": 470,
   "metadata": {},
   "outputs": [
    {
     "data": {
      "image/png": "[encoded data removed]",
      "text/plain": [
       "<Figure size 432x288 with 1 Axes>"
      ]
     },
     "metadata": {
      "needs_background": "light"
     },
     "output_type": "display_data"
    }
   ],
   "source": [
    "plt.plot(np.sort(s))\n",
    "plt.show()"
   ]
  },
  {
   "cell_type": "code",
   "execution_count": 401,
   "metadata": {},
   "outputs": [],
   "source": [
    "def get_seq_dataset(vocab, paths, max_size):\n",
    "    pos_size = len(paths[\"pos\"])\n",
    "    total_size =  pos_size+ len(paths[\"neg\"])\n",
    "    y = torch.zeros(total_size, dtype=torch.long)\n",
    "    y[:pos_size] = 1\n",
    "    X = torch.zeros((total_size, max_size), dtype=torch.long)\n",
    "    i = 0\n",
    "    sizes = torch.zeros(total_size)\n",
    "    for key in (\"pos\", \"neg\"):\n",
    "        for p in paths[key]:\n",
    "            encoding, size = get_word_encoding(vocab, p, max_size)\n",
    "            X[i] = encoding\n",
    "            sizes[i] = size\n",
    "            i += 1\n",
    "    return X, y, sizes "
   ]
  },
  {
   "cell_type": "code",
   "execution_count": 402,
   "metadata": {},
   "outputs": [],
   "source": [
    "def get_word_encoding(vocab, path, max_size):\n",
    "    words = load_review(path)\n",
    "    size = min(len(words), max_size)\n",
    "    X = torch.ones(max_size, dtype=torch.long) * len(vocab) + 1\n",
    "    for i, word in enumerate(words):\n",
    "        if i >= max_size:\n",
    "            break\n",
    "        if word in vocab:\n",
    "            enc = vocab[word]\n",
    "        else:\n",
    "            enc = len(vocab)\n",
    "        X[i] = enc\n",
    "    return X, size"
   ]
  },
  {
   "cell_type": "code",
   "execution_count": 403,
   "metadata": {},
   "outputs": [],
   "source": [
    "X_train_rnn, y_train_rnn, train_sizes = get_seq_dataset(vocab, train_paths, 1000)\n",
    "X_test_rnn, y_test_rnn, test_sizes = get_seq_dataset(vocab, test_paths, 1000)"
   ]
  },
  {
   "cell_type": "code",
   "execution_count": 495,
   "metadata": {},
   "outputs": [],
   "source": [
    "class VariableIter:\n",
    "    def __init__(self, X, y, sizes, batch_size=None):\n",
    "        sizes, indices = torch.sort(sizes)\n",
    "        self.X = X[indices]\n",
    "        self.y = y[indices]\n",
    "        self.batch_size = batch_size\n",
    "        if self.batch_size:\n",
    "            self.batch_slices = self.get_padded_batches(sizes, batch_size)\n",
    "        else:\n",
    "            self.batch_slices = self.get_batches(sizes)\n",
    "            \n",
    "    def get_padded_batches(self, sizes, batch_size):\n",
    "        batch_sizes = []\n",
    "        for i in range(0, len(sizes), batch_size):\n",
    "            end = min(i + batch_size, len(sizes))\n",
    "            batch_sizes.append((i, end, int(sizes[end - 1].item())))\n",
    "        return batch_sizes\n",
    "    \n",
    "    def get_batches(self, sizes):\n",
    "        unique_sizes = torch.unique(sizes)\n",
    "        count = 0\n",
    "        start = 0\n",
    "        batch_sizes = []\n",
    "        for size in unique_sizes:\n",
    "            n_samples = (sizes == size).sum().item()\n",
    "            end = start + n_samples\n",
    "            batch_sizes.append((start, end, int(size.item())))\n",
    "            start = end\n",
    "        return batch_sizes\n",
    "            \n",
    "        \n",
    "    def __len__(self):\n",
    "        return len(self.batch_slices)\n",
    "    \n",
    "    def __iter__(self):\n",
    "        for row_start, row_end, size in self.batch_slices:\n",
    "            yield self.X[row_start:row_end, :size], self.y[row_start:row_end]"
   ]
  },
  {
   "cell_type": "code",
   "execution_count": 506,
   "metadata": {},
   "outputs": [],
   "source": [
    "train_ds = VariableIter(X_train_rnn, y_train_rnn, train_sizes, batch_size=64)\n",
    "test_ds = VariableIter(X_test_rnn, y_test_rnn, test_sizes, batch_size=64)"
   ]
  },
  {
   "cell_type": "code",
   "execution_count": 497,
   "metadata": {},
   "outputs": [],
   "source": [
    "class RNN(nn.Module):\n",
    "    def __init__(self, vocab_size, embedding_size, hidden_size):\n",
    "        super().__init__()\n",
    "        self.em = nn.Embedding(vocab_size, embedding_size)\n",
    "        self.rnn = nn.RNN(embedding_size, hidden_size, batch_first=True)\n",
    "        self.fc = nn.Linear(hidden_size, 2)\n",
    "        \n",
    "    def forward(self, x):\n",
    "        x = self.em(x)\n",
    "        o, h = self.rnn(x)\n",
    "        return self.fc(h.squeeze(0))"
   ]
  },
  {
   "cell_type": "code",
   "execution_count": 523,
   "metadata": {},
   "outputs": [],
   "source": [
    "rnn_model = RNN(VOCAB_SIZE + 2, 32, 16) # CLIP GRAD\n",
    "crit = nn.CrossEntropyLoss()\n",
    "opt = optim.Adam(rnn_model.parameters(), lr=0.001, weight_decay=0.0001)"
   ]
  },
  {
   "cell_type": "code",
   "execution_count": 524,
   "metadata": {},
   "outputs": [
    {
     "name": "stdout",
     "output_type": "stream",
     "text": [
      "+------------------+------------+\n",
      "|     Modules      | Parameters |\n",
      "+------------------+------------+\n",
      "|    em.weight     |   160064   |\n",
      "| rnn.weight_ih_l0 |    512     |\n",
      "| rnn.weight_hh_l0 |    256     |\n",
      "|  rnn.bias_ih_l0  |     16     |\n",
      "|  rnn.bias_hh_l0  |     16     |\n",
      "|    fc.weight     |     32     |\n",
      "|     fc.bias      |     2      |\n",
      "+------------------+------------+\n",
      "Total Trainable Params: 160898\n"
     ]
    },
    {
     "data": {
      "text/plain": [
       "160898"
      ]
     },
     "execution_count": 524,
     "metadata": {},
     "output_type": "execute_result"
    }
   ],
   "source": [
    "count_parameters(rnn_model, True)"
   ]
  },
  {
   "cell_type": "code",
   "execution_count": null,
   "metadata": {},
   "outputs": [
    {
     "data": {
      "application/vnd.jupyter.widget-view+json": {
       "model_id": "69decce18bf04c2b82ac4e7db3fa3db8",
       "version_major": 2,
       "version_minor": 0
      },
      "text/plain": [
       "HBox(children=(HTML(value=''), FloatProgress(value=0.0, max=391.0), HTML(value='')))"
      ]
     },
     "metadata": {},
     "output_type": "display_data"
    },
    {
     "name": "stdout",
     "output_type": "stream",
     "text": [
      "\n",
      "Epoch:1, T Loss:0.698, T Met:0.516, V Loss:0.696, V Met:0.512\n"
     ]
    },
    {
     "data": {
      "application/vnd.jupyter.widget-view+json": {
       "model_id": "ffc4836869044cd4864474c39162f523",
       "version_major": 2,
       "version_minor": 0
      },
      "text/plain": [
       "HBox(children=(HTML(value=''), FloatProgress(value=0.0, max=391.0), HTML(value='')))"
      ]
     },
     "metadata": {},
     "output_type": "display_data"
    },
    {
     "name": "stdout",
     "output_type": "stream",
     "text": [
      "\n",
      "Epoch:2, T Loss:0.687, T Met:0.538, V Loss:0.690, V Met:0.529\n"
     ]
    },
    {
     "data": {
      "application/vnd.jupyter.widget-view+json": {
       "model_id": "8923d100b2f44a0c97f6ccaa2d49e0b8",
       "version_major": 2,
       "version_minor": 0
      },
      "text/plain": [
       "HBox(children=(HTML(value=''), FloatProgress(value=0.0, max=391.0), HTML(value='')))"
      ]
     },
     "metadata": {},
     "output_type": "display_data"
    },
    {
     "name": "stdout",
     "output_type": "stream",
     "text": [
      "\n",
      "Epoch:3, T Loss:0.663, T Met:0.601, V Loss:0.637, V Met:0.648\n"
     ]
    },
    {
     "data": {
      "application/vnd.jupyter.widget-view+json": {
       "model_id": "77578d0e7b414901b432a05a065989aa",
       "version_major": 2,
       "version_minor": 0
      },
      "text/plain": [
       "HBox(children=(HTML(value=''), FloatProgress(value=0.0, max=391.0), HTML(value='')))"
      ]
     },
     "metadata": {},
     "output_type": "display_data"
    },
    {
     "name": "stdout",
     "output_type": "stream",
     "text": [
      "\n"
     ]
    }
   ],
   "source": [
    "train_loss, train_acc, test_loss, test_acc = train(rnn_model, crit, opt, train_ds, val=test_ds, metric=accuracy, clip=1.0, n_epochs=20)"
   ]
  },
  {
   "cell_type": "code",
   "execution_count": 521,
   "metadata": {},
   "outputs": [
    {
     "data": {
      "image/png": "[encoded data removed]",
      "text/plain": [
       "<Figure size 1080x576 with 2 Axes>"
      ]
     },
     "metadata": {
      "needs_background": "light"
     },
     "output_type": "display_data"
    }
   ],
   "source": [
    "plot_loss_acc(train_loss, train_acc, test_loss, test_acc)"
   ]
  },
  {
   "cell_type": "code",
   "execution_count": null,
   "metadata": {},
   "outputs": [],
   "source": []
  }
 ],
 "metadata": {
  "kernelspec": {
   "display_name": "Python 3",
   "language": "python",
   "name": "python3"
  },
  "language_info": {
   "codemirror_mode": {
    "name": "ipython",
    "version": 3
   },
   "file_extension": ".py",
   "mimetype": "text/x-python",
   "name": "python",
   "nbconvert_exporter": "python",
   "pygments_lexer": "ipython3",
   "version": "3.6.8"
  }
 },
 "nbformat": 4,
 "nbformat_minor": 4
}
