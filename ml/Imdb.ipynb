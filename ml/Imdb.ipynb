{
 "cells": [
  {
   "cell_type": "markdown",
   "metadata": {},
   "source": [
    "# Imdb sentiment analysis\n",
    "Sentiment analysis on the Imdb dataset using bag of words FCN model (unigrams) and a vanilla RNN model. The FCN outperforms the RNN with a test accuracy of 87% compared with 85%."
   ]
  },
  {
   "cell_type": "code",
   "execution_count": 1,
   "metadata": {},
   "outputs": [],
   "source": [
    "%load_ext autoreload\n",
    "%autoreload 2"
   ]
  },
  {
   "cell_type": "code",
   "execution_count": 2,
   "metadata": {},
   "outputs": [],
   "source": [
    "from pathlib import Path\n",
    "import re\n",
    "from collections import defaultdict\n",
    "from tqdm.notebook import tqdm\n",
    "import numpy as np\n",
    "import torch\n",
    "import torch.nn as nn\n",
    "import torch.optim as optim\n",
    "from torch.utils.data import TensorDataset, DataLoader\n",
    "from utils import train, accuracy, count_parameters, plot_loss_acc\n",
    "import matplotlib.pyplot as plt"
   ]
  },
  {
   "cell_type": "code",
   "execution_count": 3,
   "metadata": {},
   "outputs": [],
   "source": [
    "PATH = Path.cwd() / \"data\" / \"Imdb\"\n",
    "TRAIN_PATH = PATH / \"train\"\n",
    "TEST_PATH = PATH / \"test\""
   ]
  },
  {
   "cell_type": "code",
   "execution_count": 4,
   "metadata": {},
   "outputs": [
    {
     "data": {
      "text/plain": [
       "WindowsPath('C:/Stuff/py/projects/ml/ml/data/Imdb/test')"
      ]
     },
     "execution_count": 4,
     "metadata": {},
     "output_type": "execute_result"
    }
   ],
   "source": [
    "TEST_PATH"
   ]
  },
  {
   "cell_type": "code",
   "execution_count": 5,
   "metadata": {},
   "outputs": [],
   "source": [
    "def create_path_list(path):\n",
    "    pos_reviews = [f for f in (path / \"pos\").iterdir()]\n",
    "    neg_reviews = [f for f in (path / \"neg\").iterdir()]\n",
    "    return {\"pos\": pos_reviews, \"neg\": neg_reviews}"
   ]
  },
  {
   "cell_type": "code",
   "execution_count": 6,
   "metadata": {},
   "outputs": [],
   "source": [
    "train_paths = create_path_list(TRAIN_PATH)\n",
    "test_paths = create_path_list(TEST_PATH)"
   ]
  },
  {
   "cell_type": "code",
   "execution_count": 7,
   "metadata": {},
   "outputs": [],
   "source": [
    "def load_review(path):\n",
    "    with open(path, \"r\", encoding=\"utf-8\") as f:\n",
    "        text = f.read()\n",
    "        text = text.lower()\n",
    "        text = re.sub(\"<[\\w\\s]*\\/*>\", \" \", text) # remove tags\n",
    "        text = re.sub('[^A-Za-z ]+', '', text) # remove symbols \n",
    "        return text.split()"
   ]
  },
  {
   "cell_type": "code",
   "execution_count": 8,
   "metadata": {},
   "outputs": [],
   "source": [
    "def get_word_counts():\n",
    "    review_paths = create_path_list(TRAIN_PATH)\n",
    "    all_paths = review_paths[\"pos\"] + review_paths[\"neg\"]\n",
    "    all_words = defaultdict(int)\n",
    "    for path in tqdm(all_paths):\n",
    "        try:\n",
    "            words = load_review(path)\n",
    "            for word in words:\n",
    "                all_words[word] = all_words[word] + 1\n",
    "        except Exception as e:\n",
    "            print(path)\n",
    "    return all_words"
   ]
  },
  {
   "cell_type": "code",
   "execution_count": 9,
   "metadata": {},
   "outputs": [
    {
     "data": {
      "application/vnd.jupyter.widget-view+json": {
       "model_id": "baae1af9af3f4809906b3ba7f14e241b",
       "version_major": 2,
       "version_minor": 0
      },
      "text/plain": [
       "HBox(children=(HTML(value=''), FloatProgress(value=0.0, max=25000.0), HTML(value='')))"
      ]
     },
     "metadata": {},
     "output_type": "display_data"
    },
    {
     "name": "stdout",
     "output_type": "stream",
     "text": [
      "\n"
     ]
    }
   ],
   "source": [
    "all_words = get_word_counts()"
   ]
  },
  {
   "cell_type": "code",
   "execution_count": 10,
   "metadata": {},
   "outputs": [],
   "source": [
    "def sort_words(word_dict):\n",
    "    occurance = np.array([v for v in word_dict.values()])\n",
    "    sorted_idx = np.argsort(occurance)[::-1]\n",
    "    words = [k for k in word_dict.keys()]\n",
    "    sorted_words = [(words[idx], occurance[idx]) for idx in sorted_idx]\n",
    "    return sorted_words"
   ]
  },
  {
   "cell_type": "code",
   "execution_count": 11,
   "metadata": {},
   "outputs": [],
   "source": [
    "sw = sort_words(all_words)"
   ]
  },
  {
   "cell_type": "code",
   "execution_count": 12,
   "metadata": {},
   "outputs": [
    {
     "data": {
      "text/plain": [
       "(2, 0)"
      ]
     },
     "execution_count": 12,
     "metadata": {},
     "output_type": "execute_result"
    }
   ],
   "source": [
    "VOCAB_SIZE = 5000\n",
    "top_words = [word for word, count in sw[:VOCAB_SIZE]]\n",
    "vocab = {word: i for i, word in enumerate(top_words)}\n",
    "vocab[\"a\"], vocab[\"the\"]"
   ]
  },
  {
   "cell_type": "code",
   "execution_count": 13,
   "metadata": {},
   "outputs": [],
   "source": [
    "def get_word_frequency(vocab, path):\n",
    "    X = torch.zeros(len(vocab))\n",
    "    words = load_review(path)\n",
    "    for word in words:\n",
    "        if word in vocab:\n",
    "            idx = vocab[word]\n",
    "            X[idx] += 1\n",
    "    return X"
   ]
  },
  {
   "cell_type": "code",
   "execution_count": 14,
   "metadata": {},
   "outputs": [],
   "source": [
    "def create_freq_dataset(vocab, paths):\n",
    "    pos_size = len(paths[\"pos\"])\n",
    "    total_size =  pos_size+ len(paths[\"neg\"])\n",
    "    y = torch.zeros(total_size, dtype=torch.long)\n",
    "    y[:pos_size] = 1\n",
    "    X = torch.zeros((total_size, len(vocab)))\n",
    "    i = 0\n",
    "    for key in (\"pos\", \"neg\"):\n",
    "        for p in paths[key]:\n",
    "            X[i] = get_word_frequency(vocab, p)\n",
    "            i += 1\n",
    "    return X, y"
   ]
  },
  {
   "cell_type": "code",
   "execution_count": 15,
   "metadata": {},
   "outputs": [],
   "source": [
    "X_train, y_train = create_freq_dataset(vocab, train_paths)\n",
    "X_test, y_test = create_freq_dataset(vocab, test_paths)"
   ]
  },
  {
   "cell_type": "code",
   "execution_count": 16,
   "metadata": {},
   "outputs": [
    {
     "data": {
      "text/plain": [
       "(torch.Size([25000, 5000]),\n",
       " torch.Size([25000, 5000]),\n",
       " torch.Size([25000]),\n",
       " torch.Size([25000]))"
      ]
     },
     "execution_count": 16,
     "metadata": {},
     "output_type": "execute_result"
    }
   ],
   "source": [
    "X_train.shape, X_test.shape, y_train.shape, y_test.shape"
   ]
  },
  {
   "cell_type": "code",
   "execution_count": 17,
   "metadata": {},
   "outputs": [],
   "source": [
    "train_dataset = DataLoader(TensorDataset(X_train, y_train), batch_size=32, shuffle=True)\n",
    "test_dataset = DataLoader(TensorDataset(X_test, y_test), batch_size=32, shuffle=True)"
   ]
  },
  {
   "cell_type": "code",
   "execution_count": 19,
   "metadata": {},
   "outputs": [],
   "source": [
    "freq_model = nn.Sequential(nn.Linear(VOCAB_SIZE, 8), nn.ReLU(), nn.Linear(8, 2))\n",
    "crit = nn.CrossEntropyLoss()\n",
    "opt = optim.Adam(freq_model.parameters(), lr=0.001, weight_decay=0.001)"
   ]
  },
  {
   "cell_type": "code",
   "execution_count": 20,
   "metadata": {},
   "outputs": [
    {
     "name": "stdout",
     "output_type": "stream",
     "text": [
      "+----------+------------+\n",
      "| Modules  | Parameters |\n",
      "+----------+------------+\n",
      "| 0.weight |   40000    |\n",
      "|  0.bias  |     8      |\n",
      "| 2.weight |     16     |\n",
      "|  2.bias  |     2      |\n",
      "+----------+------------+\n",
      "Total Trainable Params: 40026\n"
     ]
    },
    {
     "data": {
      "text/plain": [
       "40026"
      ]
     },
     "execution_count": 20,
     "metadata": {},
     "output_type": "execute_result"
    }
   ],
   "source": [
    "count_parameters(freq_model, True)"
   ]
  },
  {
   "cell_type": "code",
   "execution_count": 21,
   "metadata": {},
   "outputs": [
    {
     "data": {
      "application/vnd.jupyter.widget-view+json": {
       "model_id": "c9dd5b808cdf49e9a61463a88f8bc9b0",
       "version_major": 2,
       "version_minor": 0
      },
      "text/plain": [
       "HBox(children=(HTML(value=''), FloatProgress(value=0.0, max=782.0), HTML(value='')))"
      ]
     },
     "metadata": {},
     "output_type": "display_data"
    },
    {
     "name": "stdout",
     "output_type": "stream",
     "text": [
      "\n",
      "Epoch:1, T Loss:0.378, T Met:0.846, V Loss:0.298, V Met:0.884\n"
     ]
    },
    {
     "data": {
      "application/vnd.jupyter.widget-view+json": {
       "model_id": "156f538123e142569a3318918dbd5c08",
       "version_major": 2,
       "version_minor": 0
      },
      "text/plain": [
       "HBox(children=(HTML(value=''), FloatProgress(value=0.0, max=782.0), HTML(value='')))"
      ]
     },
     "metadata": {},
     "output_type": "display_data"
    },
    {
     "name": "stdout",
     "output_type": "stream",
     "text": [
      "\n",
      "Epoch:2, T Loss:0.258, T Met:0.901, V Loss:0.297, V Met:0.882\n"
     ]
    },
    {
     "data": {
      "application/vnd.jupyter.widget-view+json": {
       "model_id": "a25f151235cb44098f40f8ca7adf15c8",
       "version_major": 2,
       "version_minor": 0
      },
      "text/plain": [
       "HBox(children=(HTML(value=''), FloatProgress(value=0.0, max=782.0), HTML(value='')))"
      ]
     },
     "metadata": {},
     "output_type": "display_data"
    },
    {
     "name": "stdout",
     "output_type": "stream",
     "text": [
      "\n",
      "Epoch:3, T Loss:0.234, T Met:0.912, V Loss:0.306, V Met:0.879\n"
     ]
    },
    {
     "data": {
      "application/vnd.jupyter.widget-view+json": {
       "model_id": "acf6c470c47d44cbb65197f21da1970a",
       "version_major": 2,
       "version_minor": 0
      },
      "text/plain": [
       "HBox(children=(HTML(value=''), FloatProgress(value=0.0, max=782.0), HTML(value='')))"
      ]
     },
     "metadata": {},
     "output_type": "display_data"
    },
    {
     "name": "stdout",
     "output_type": "stream",
     "text": [
      "\n",
      "Epoch:4, T Loss:0.223, T Met:0.915, V Loss:0.321, V Met:0.873\n"
     ]
    },
    {
     "data": {
      "application/vnd.jupyter.widget-view+json": {
       "model_id": "de08d2a96cbe433bafadc495b77074c1",
       "version_major": 2,
       "version_minor": 0
      },
      "text/plain": [
       "HBox(children=(HTML(value=''), FloatProgress(value=0.0, max=782.0), HTML(value='')))"
      ]
     },
     "metadata": {},
     "output_type": "display_data"
    },
    {
     "name": "stdout",
     "output_type": "stream",
     "text": [
      "\n",
      "Epoch:5, T Loss:0.216, T Met:0.918, V Loss:0.334, V Met:0.872\n"
     ]
    },
    {
     "data": {
      "application/vnd.jupyter.widget-view+json": {
       "model_id": "c10fc66e0f6b42c5852141736db6d441",
       "version_major": 2,
       "version_minor": 0
      },
      "text/plain": [
       "HBox(children=(HTML(value=''), FloatProgress(value=0.0, max=782.0), HTML(value='')))"
      ]
     },
     "metadata": {},
     "output_type": "display_data"
    },
    {
     "name": "stdout",
     "output_type": "stream",
     "text": [
      "\n",
      "Epoch:6, T Loss:0.213, T Met:0.917, V Loss:0.331, V Met:0.872\n"
     ]
    },
    {
     "data": {
      "application/vnd.jupyter.widget-view+json": {
       "model_id": "b3dbbfd94c0b4cbc9d6af3dc7c74cf42",
       "version_major": 2,
       "version_minor": 0
      },
      "text/plain": [
       "HBox(children=(HTML(value=''), FloatProgress(value=0.0, max=782.0), HTML(value='')))"
      ]
     },
     "metadata": {},
     "output_type": "display_data"
    },
    {
     "name": "stdout",
     "output_type": "stream",
     "text": [
      "\n",
      "Epoch:7, T Loss:0.211, T Met:0.919, V Loss:0.348, V Met:0.867\n"
     ]
    },
    {
     "data": {
      "application/vnd.jupyter.widget-view+json": {
       "model_id": "1dfb42c8f6ce459ebab26c1e4e015fae",
       "version_major": 2,
       "version_minor": 0
      },
      "text/plain": [
       "HBox(children=(HTML(value=''), FloatProgress(value=0.0, max=782.0), HTML(value='')))"
      ]
     },
     "metadata": {},
     "output_type": "display_data"
    },
    {
     "name": "stdout",
     "output_type": "stream",
     "text": [
      "\n",
      "Epoch:8, T Loss:0.207, T Met:0.919, V Loss:0.340, V Met:0.870\n"
     ]
    },
    {
     "data": {
      "application/vnd.jupyter.widget-view+json": {
       "model_id": "3eee2b188ce041869080ebc660bc884d",
       "version_major": 2,
       "version_minor": 0
      },
      "text/plain": [
       "HBox(children=(HTML(value=''), FloatProgress(value=0.0, max=782.0), HTML(value='')))"
      ]
     },
     "metadata": {},
     "output_type": "display_data"
    },
    {
     "name": "stdout",
     "output_type": "stream",
     "text": [
      "\n",
      "Epoch:9, T Loss:0.205, T Met:0.920, V Loss:0.359, V Met:0.864\n"
     ]
    },
    {
     "data": {
      "application/vnd.jupyter.widget-view+json": {
       "model_id": "554333f5670d4e25b670c3786795ed65",
       "version_major": 2,
       "version_minor": 0
      },
      "text/plain": [
       "HBox(children=(HTML(value=''), FloatProgress(value=0.0, max=782.0), HTML(value='')))"
      ]
     },
     "metadata": {},
     "output_type": "display_data"
    },
    {
     "name": "stdout",
     "output_type": "stream",
     "text": [
      "\n",
      "Epoch:10, T Loss:0.203, T Met:0.921, V Loss:0.356, V Met:0.867\n"
     ]
    }
   ],
   "source": [
    "train_loss, train_acc, test_loss, test_acc = train(freq_model, crit, opt, train_dataset, test_dataset, accuracy, n_epochs=10)"
   ]
  },
  {
   "cell_type": "code",
   "execution_count": 22,
   "metadata": {},
   "outputs": [
    {
     "data": {
      "image/png": "[encoded data removed]",
      "text/plain": [
       "<Figure size 1080x576 with 2 Axes>"
      ]
     },
     "metadata": {
      "needs_background": "light"
     },
     "output_type": "display_data"
    }
   ],
   "source": [
    "plot_loss_acc(train_loss, train_acc, test_loss, test_acc)"
   ]
  },
  {
   "cell_type": "code",
   "execution_count": 23,
   "metadata": {},
   "outputs": [],
   "source": [
    "def check_dataset_sizes(paths):\n",
    "    sizes = []\n",
    "    for key in (\"pos\", \"neg\"):\n",
    "        for p in paths[key]:\n",
    "            sizes.append(len(load_review(p)))\n",
    "    return sizes"
   ]
  },
  {
   "cell_type": "code",
   "execution_count": 24,
   "metadata": {},
   "outputs": [],
   "source": [
    "s = check_dataset_sizes(train_paths)"
   ]
  },
  {
   "cell_type": "code",
   "execution_count": 25,
   "metadata": {},
   "outputs": [
    {
     "name": "stdout",
     "output_type": "stream",
     "text": [
      "10 2450 229.43412\n",
      " % samples < 100 -  0.12384\n",
      " % samples < 300 -  0.77784\n",
      " % samples < 500 -  0.92276\n",
      " % samples < 700 -  0.97116\n",
      " % samples < 900 -  0.99\n",
      " % samples < 1100 -  0.9992\n",
      " % samples < 1300 -  0.99952\n",
      " % samples < 1500 -  0.9998\n",
      " % samples < 1700 -  0.99984\n",
      " % samples < 1900 -  0.99996\n",
      " % samples < 2100 -  0.99996\n",
      " % samples < 2300 -  0.99996\n",
      " % samples < 2500 -  1.0\n"
     ]
    }
   ],
   "source": [
    "s = np.array(s)\n",
    "print(s.min(), s.max(), s.mean())\n",
    "for i in range(100, 2600, 200):\n",
    "    print(f\" % samples < {i} -  {(s < i).sum()/len(s)}\")"
   ]
  },
  {
   "cell_type": "code",
   "execution_count": 26,
   "metadata": {},
   "outputs": [
    {
     "data": {
      "image/png": "[encoded data removed]",
      "text/plain": [
       "<Figure size 432x288 with 1 Axes>"
      ]
     },
     "metadata": {
      "needs_background": "light"
     },
     "output_type": "display_data"
    }
   ],
   "source": [
    "plt.plot(np.sort(s))\n",
    "plt.show()"
   ]
  },
  {
   "cell_type": "code",
   "execution_count": 27,
   "metadata": {},
   "outputs": [],
   "source": [
    "def get_seq_dataset(vocab, paths, max_size):\n",
    "    pos_size = len(paths[\"pos\"])\n",
    "    total_size =  pos_size+ len(paths[\"neg\"])\n",
    "    y = torch.zeros(total_size, dtype=torch.long)\n",
    "    y[:pos_size] = 1\n",
    "    X = torch.zeros((total_size, max_size), dtype=torch.long)\n",
    "    i = 0\n",
    "    sizes = torch.zeros(total_size)\n",
    "    for key in (\"pos\", \"neg\"):\n",
    "        for p in paths[key]:\n",
    "            encoding, size = get_word_encoding(vocab, p, max_size)\n",
    "            X[i] = encoding\n",
    "            sizes[i] = size\n",
    "            i += 1\n",
    "    return X, y, sizes "
   ]
  },
  {
   "cell_type": "code",
   "execution_count": 28,
   "metadata": {},
   "outputs": [],
   "source": [
    "def get_word_encoding(vocab, path, max_size):\n",
    "    words = load_review(path)\n",
    "    size = min(len(words), max_size)\n",
    "    X = torch.ones(max_size, dtype=torch.long) * len(vocab) + 1\n",
    "    for i, word in enumerate(words):\n",
    "        if i >= max_size:\n",
    "            break\n",
    "        if word in vocab:\n",
    "            enc = vocab[word]\n",
    "        else:\n",
    "            enc = len(vocab)\n",
    "        X[i] = enc\n",
    "    return X, size"
   ]
  },
  {
   "cell_type": "code",
   "execution_count": 29,
   "metadata": {},
   "outputs": [],
   "source": [
    "MAX_SIZE = 1000\n",
    "X_train_rnn, y_train_rnn, train_sizes = get_seq_dataset(vocab, train_paths, MAX_SIZE)\n",
    "X_test_rnn, y_test_rnn, test_sizes = get_seq_dataset(vocab, test_paths, MAX_SIZE)"
   ]
  },
  {
   "cell_type": "code",
   "execution_count": 30,
   "metadata": {},
   "outputs": [],
   "source": [
    "class VariableIter:\n",
    "    def __init__(self, X, y, sizes, batch_size=None):\n",
    "        sizes, indices = torch.sort(sizes)\n",
    "        self.X = X[indices]\n",
    "        self.y = y[indices]\n",
    "        self.batch_size = batch_size\n",
    "        if self.batch_size:\n",
    "            self.batch_slices = self.get_padded_batches(sizes, batch_size)\n",
    "        else:\n",
    "            self.batch_slices = self.get_batches(sizes)\n",
    "            \n",
    "    def get_padded_batches(self, sizes, batch_size):\n",
    "        batch_sizes = []\n",
    "        for i in range(0, len(sizes), batch_size):\n",
    "            end = min(i + batch_size, len(sizes))\n",
    "            batch_sizes.append((i, end, int(sizes[end - 1].item())))\n",
    "        return batch_sizes\n",
    "    \n",
    "    def get_batches(self, sizes):\n",
    "        unique_sizes = torch.unique(sizes)\n",
    "        count = 0\n",
    "        start = 0\n",
    "        batch_sizes = []\n",
    "        for size in unique_sizes:\n",
    "            n_samples = (sizes == size).sum().item()\n",
    "            end = start + n_samples\n",
    "            batch_sizes.append((start, end, int(size.item())))\n",
    "            start = end\n",
    "        return batch_sizes\n",
    "            \n",
    "        \n",
    "    def __len__(self):\n",
    "        return len(self.batch_slices)\n",
    "    \n",
    "    def __iter__(self):\n",
    "        for row_start, row_end, size in self.batch_slices:\n",
    "            yield self.X[row_start:row_end, :size], self.y[row_start:row_end]"
   ]
  },
  {
   "cell_type": "code",
   "execution_count": 31,
   "metadata": {},
   "outputs": [],
   "source": [
    "train_ds = VariableIter(X_train_rnn, y_train_rnn, train_sizes, batch_size=64)\n",
    "test_ds = VariableIter(X_test_rnn, y_test_rnn, test_sizes, batch_size=64)"
   ]
  },
  {
   "cell_type": "code",
   "execution_count": 32,
   "metadata": {},
   "outputs": [],
   "source": [
    "class RNN(nn.Module):\n",
    "    def __init__(self, vocab_size, embedding_size, hidden_size):\n",
    "        super().__init__()\n",
    "        self.em = nn.Embedding(vocab_size, embedding_size)\n",
    "        self.rnn = nn.RNN(embedding_size, hidden_size, batch_first=True)\n",
    "        self.fc = nn.Linear(hidden_size, 2)\n",
    "        \n",
    "    def forward(self, x):\n",
    "        x = self.em(x)\n",
    "        o, h = self.rnn(x)\n",
    "        return self.fc(h.squeeze(0))"
   ]
  },
  {
   "cell_type": "code",
   "execution_count": 33,
   "metadata": {},
   "outputs": [],
   "source": [
    "rnn_model = RNN(VOCAB_SIZE + 2, 16, 16)\n",
    "crit = nn.CrossEntropyLoss()\n",
    "opt = optim.Adam(rnn_model.parameters(), lr=0.001, weight_decay=0.0001)"
   ]
  },
  {
   "cell_type": "code",
   "execution_count": 34,
   "metadata": {},
   "outputs": [
    {
     "name": "stdout",
     "output_type": "stream",
     "text": [
      "+------------------+------------+\n",
      "|     Modules      | Parameters |\n",
      "+------------------+------------+\n",
      "|    em.weight     |   80032    |\n",
      "| rnn.weight_ih_l0 |    256     |\n",
      "| rnn.weight_hh_l0 |    256     |\n",
      "|  rnn.bias_ih_l0  |     16     |\n",
      "|  rnn.bias_hh_l0  |     16     |\n",
      "|    fc.weight     |     32     |\n",
      "|     fc.bias      |     2      |\n",
      "+------------------+------------+\n",
      "Total Trainable Params: 80610\n"
     ]
    },
    {
     "data": {
      "text/plain": [
       "80610"
      ]
     },
     "execution_count": 34,
     "metadata": {},
     "output_type": "execute_result"
    }
   ],
   "source": [
    "count_parameters(rnn_model, True)"
   ]
  },
  {
   "cell_type": "code",
   "execution_count": 35,
   "metadata": {},
   "outputs": [
    {
     "data": {
      "application/vnd.jupyter.widget-view+json": {
       "model_id": "fad8fcdba12f447984a32335b0d79acc",
       "version_major": 2,
       "version_minor": 0
      },
      "text/plain": [
       "HBox(children=(HTML(value=''), FloatProgress(value=0.0, max=391.0), HTML(value='')))"
      ]
     },
     "metadata": {},
     "output_type": "display_data"
    },
    {
     "name": "stdout",
     "output_type": "stream",
     "text": [
      "\n",
      "Epoch:1, T Loss:0.693, T Met:0.520, V Loss:0.692, V Met:0.520\n"
     ]
    },
    {
     "data": {
      "application/vnd.jupyter.widget-view+json": {
       "model_id": "0ca5d7569f0f470bb9f3ca81d1cc2248",
       "version_major": 2,
       "version_minor": 0
      },
      "text/plain": [
       "HBox(children=(HTML(value=''), FloatProgress(value=0.0, max=391.0), HTML(value='')))"
      ]
     },
     "metadata": {},
     "output_type": "display_data"
    },
    {
     "name": "stdout",
     "output_type": "stream",
     "text": [
      "\n",
      "Epoch:2, T Loss:0.680, T Met:0.565, V Loss:0.646, V Met:0.630\n"
     ]
    },
    {
     "data": {
      "application/vnd.jupyter.widget-view+json": {
       "model_id": "b55ae2de014543afba23bd7807564f0f",
       "version_major": 2,
       "version_minor": 0
      },
      "text/plain": [
       "HBox(children=(HTML(value=''), FloatProgress(value=0.0, max=391.0), HTML(value='')))"
      ]
     },
     "metadata": {},
     "output_type": "display_data"
    },
    {
     "name": "stdout",
     "output_type": "stream",
     "text": [
      "\n",
      "Epoch:3, T Loss:0.615, T Met:0.672, V Loss:0.605, V Met:0.681\n"
     ]
    },
    {
     "data": {
      "application/vnd.jupyter.widget-view+json": {
       "model_id": "03aed9f67d5d4de791df1c03e461cd4b",
       "version_major": 2,
       "version_minor": 0
      },
      "text/plain": [
       "HBox(children=(HTML(value=''), FloatProgress(value=0.0, max=391.0), HTML(value='')))"
      ]
     },
     "metadata": {},
     "output_type": "display_data"
    },
    {
     "name": "stdout",
     "output_type": "stream",
     "text": [
      "\n",
      "Epoch:4, T Loss:0.551, T Met:0.732, V Loss:0.532, V Met:0.747\n"
     ]
    },
    {
     "data": {
      "application/vnd.jupyter.widget-view+json": {
       "model_id": "1b43a4fdfd6f4d63997d500f92963af0",
       "version_major": 2,
       "version_minor": 0
      },
      "text/plain": [
       "HBox(children=(HTML(value=''), FloatProgress(value=0.0, max=391.0), HTML(value='')))"
      ]
     },
     "metadata": {},
     "output_type": "display_data"
    },
    {
     "name": "stdout",
     "output_type": "stream",
     "text": [
      "\n",
      "Epoch:5, T Loss:0.499, T Met:0.771, V Loss:0.497, V Met:0.773\n"
     ]
    },
    {
     "data": {
      "application/vnd.jupyter.widget-view+json": {
       "model_id": "9a928f86074249919665748c38ce2037",
       "version_major": 2,
       "version_minor": 0
      },
      "text/plain": [
       "HBox(children=(HTML(value=''), FloatProgress(value=0.0, max=391.0), HTML(value='')))"
      ]
     },
     "metadata": {},
     "output_type": "display_data"
    },
    {
     "name": "stdout",
     "output_type": "stream",
     "text": [
      "\n",
      "Epoch:6, T Loss:0.452, T Met:0.803, V Loss:0.465, V Met:0.794\n"
     ]
    },
    {
     "data": {
      "application/vnd.jupyter.widget-view+json": {
       "model_id": "e168288d03ba424e9b254c15e20b8866",
       "version_major": 2,
       "version_minor": 0
      },
      "text/plain": [
       "HBox(children=(HTML(value=''), FloatProgress(value=0.0, max=391.0), HTML(value='')))"
      ]
     },
     "metadata": {},
     "output_type": "display_data"
    },
    {
     "name": "stdout",
     "output_type": "stream",
     "text": [
      "\n",
      "Epoch:7, T Loss:0.419, T Met:0.822, V Loss:0.429, V Met:0.816\n"
     ]
    },
    {
     "data": {
      "application/vnd.jupyter.widget-view+json": {
       "model_id": "29197c1dcb77447988666b10f1e2d946",
       "version_major": 2,
       "version_minor": 0
      },
      "text/plain": [
       "HBox(children=(HTML(value=''), FloatProgress(value=0.0, max=391.0), HTML(value='')))"
      ]
     },
     "metadata": {},
     "output_type": "display_data"
    },
    {
     "name": "stdout",
     "output_type": "stream",
     "text": [
      "\n",
      "Epoch:8, T Loss:0.396, T Met:0.835, V Loss:0.421, V Met:0.820\n"
     ]
    },
    {
     "data": {
      "application/vnd.jupyter.widget-view+json": {
       "model_id": "46377150af49456dbd1799a83dd6d4df",
       "version_major": 2,
       "version_minor": 0
      },
      "text/plain": [
       "HBox(children=(HTML(value=''), FloatProgress(value=0.0, max=391.0), HTML(value='')))"
      ]
     },
     "metadata": {},
     "output_type": "display_data"
    },
    {
     "name": "stdout",
     "output_type": "stream",
     "text": [
      "\n",
      "Epoch:9, T Loss:0.387, T Met:0.841, V Loss:0.421, V Met:0.816\n"
     ]
    },
    {
     "data": {
      "application/vnd.jupyter.widget-view+json": {
       "model_id": "cd1af7d9189a46da9394453db29dbed4",
       "version_major": 2,
       "version_minor": 0
      },
      "text/plain": [
       "HBox(children=(HTML(value=''), FloatProgress(value=0.0, max=391.0), HTML(value='')))"
      ]
     },
     "metadata": {},
     "output_type": "display_data"
    },
    {
     "name": "stdout",
     "output_type": "stream",
     "text": [
      "\n",
      "Epoch:10, T Loss:0.371, T Met:0.850, V Loss:0.428, V Met:0.819\n"
     ]
    },
    {
     "data": {
      "application/vnd.jupyter.widget-view+json": {
       "model_id": "e3f585e699544bbeb8cc4d502440d49e",
       "version_major": 2,
       "version_minor": 0
      },
      "text/plain": [
       "HBox(children=(HTML(value=''), FloatProgress(value=0.0, max=391.0), HTML(value='')))"
      ]
     },
     "metadata": {},
     "output_type": "display_data"
    },
    {
     "name": "stdout",
     "output_type": "stream",
     "text": [
      "\n",
      "Epoch:11, T Loss:0.357, T Met:0.858, V Loss:0.496, V Met:0.776\n"
     ]
    },
    {
     "data": {
      "application/vnd.jupyter.widget-view+json": {
       "model_id": "4a576ff18d8c4a43933c716f4af80e6d",
       "version_major": 2,
       "version_minor": 0
      },
      "text/plain": [
       "HBox(children=(HTML(value=''), FloatProgress(value=0.0, max=391.0), HTML(value='')))"
      ]
     },
     "metadata": {},
     "output_type": "display_data"
    },
    {
     "name": "stdout",
     "output_type": "stream",
     "text": [
      "\n",
      "Epoch:12, T Loss:0.352, T Met:0.860, V Loss:0.381, V Met:0.847\n"
     ]
    },
    {
     "data": {
      "application/vnd.jupyter.widget-view+json": {
       "model_id": "ce53f188af0c410f9b778efda9ecf93e",
       "version_major": 2,
       "version_minor": 0
      },
      "text/plain": [
       "HBox(children=(HTML(value=''), FloatProgress(value=0.0, max=391.0), HTML(value='')))"
      ]
     },
     "metadata": {},
     "output_type": "display_data"
    },
    {
     "name": "stdout",
     "output_type": "stream",
     "text": [
      "\n",
      "Epoch:13, T Loss:0.338, T Met:0.866, V Loss:0.429, V Met:0.828\n"
     ]
    },
    {
     "data": {
      "application/vnd.jupyter.widget-view+json": {
       "model_id": "8ec904303225453ab3be012815386b7c",
       "version_major": 2,
       "version_minor": 0
      },
      "text/plain": [
       "HBox(children=(HTML(value=''), FloatProgress(value=0.0, max=391.0), HTML(value='')))"
      ]
     },
     "metadata": {},
     "output_type": "display_data"
    },
    {
     "name": "stdout",
     "output_type": "stream",
     "text": [
      "\n",
      "Epoch:14, T Loss:0.326, T Met:0.871, V Loss:0.365, V Met:0.847\n"
     ]
    },
    {
     "data": {
      "application/vnd.jupyter.widget-view+json": {
       "model_id": "7b51c8f8be4244f38bdd29cc62c22f4c",
       "version_major": 2,
       "version_minor": 0
      },
      "text/plain": [
       "HBox(children=(HTML(value=''), FloatProgress(value=0.0, max=391.0), HTML(value='')))"
      ]
     },
     "metadata": {},
     "output_type": "display_data"
    },
    {
     "name": "stdout",
     "output_type": "stream",
     "text": [
      "\n",
      "Epoch:15, T Loss:0.334, T Met:0.869, V Loss:0.355, V Met:0.852\n"
     ]
    },
    {
     "data": {
      "application/vnd.jupyter.widget-view+json": {
       "model_id": "e092f2cc73ef429e9cb6d95c1d670183",
       "version_major": 2,
       "version_minor": 0
      },
      "text/plain": [
       "HBox(children=(HTML(value=''), FloatProgress(value=0.0, max=391.0), HTML(value='')))"
      ]
     },
     "metadata": {},
     "output_type": "display_data"
    },
    {
     "name": "stdout",
     "output_type": "stream",
     "text": [
      "\n",
      "Epoch:16, T Loss:0.317, T Met:0.876, V Loss:0.364, V Met:0.855\n"
     ]
    },
    {
     "data": {
      "application/vnd.jupyter.widget-view+json": {
       "model_id": "24c8d81c951d48b087188fb22e0879e2",
       "version_major": 2,
       "version_minor": 0
      },
      "text/plain": [
       "HBox(children=(HTML(value=''), FloatProgress(value=0.0, max=391.0), HTML(value='')))"
      ]
     },
     "metadata": {},
     "output_type": "display_data"
    },
    {
     "name": "stdout",
     "output_type": "stream",
     "text": [
      "\n",
      "Epoch:17, T Loss:0.327, T Met:0.873, V Loss:0.351, V Met:0.853\n"
     ]
    },
    {
     "data": {
      "application/vnd.jupyter.widget-view+json": {
       "model_id": "1a60d23236f4428b98bcba9f68fda49a",
       "version_major": 2,
       "version_minor": 0
      },
      "text/plain": [
       "HBox(children=(HTML(value=''), FloatProgress(value=0.0, max=391.0), HTML(value='')))"
      ]
     },
     "metadata": {},
     "output_type": "display_data"
    },
    {
     "name": "stdout",
     "output_type": "stream",
     "text": [
      "\n",
      "Epoch:18, T Loss:0.345, T Met:0.864, V Loss:0.492, V Met:0.765\n"
     ]
    },
    {
     "data": {
      "application/vnd.jupyter.widget-view+json": {
       "model_id": "e4791d2419b74d27992c666e3247eed4",
       "version_major": 2,
       "version_minor": 0
      },
      "text/plain": [
       "HBox(children=(HTML(value=''), FloatProgress(value=0.0, max=391.0), HTML(value='')))"
      ]
     },
     "metadata": {},
     "output_type": "display_data"
    },
    {
     "name": "stdout",
     "output_type": "stream",
     "text": [
      "\n",
      "Epoch:19, T Loss:0.333, T Met:0.868, V Loss:0.394, V Met:0.845\n"
     ]
    },
    {
     "data": {
      "application/vnd.jupyter.widget-view+json": {
       "model_id": "eb1ac18312ac470bb65f04c8e7dd3033",
       "version_major": 2,
       "version_minor": 0
      },
      "text/plain": [
       "HBox(children=(HTML(value=''), FloatProgress(value=0.0, max=391.0), HTML(value='')))"
      ]
     },
     "metadata": {},
     "output_type": "display_data"
    },
    {
     "name": "stdout",
     "output_type": "stream",
     "text": [
      "\n",
      "Epoch:20, T Loss:0.326, T Met:0.872, V Loss:0.371, V Met:0.849\n"
     ]
    },
    {
     "data": {
      "application/vnd.jupyter.widget-view+json": {
       "model_id": "3b7fbfc2c2a044faaad02460e55a5e5a",
       "version_major": 2,
       "version_minor": 0
      },
      "text/plain": [
       "HBox(children=(HTML(value=''), FloatProgress(value=0.0, max=391.0), HTML(value='')))"
      ]
     },
     "metadata": {},
     "output_type": "display_data"
    },
    {
     "name": "stdout",
     "output_type": "stream",
     "text": [
      "\n",
      "Epoch:21, T Loss:0.324, T Met:0.871, V Loss:0.390, V Met:0.830\n"
     ]
    },
    {
     "data": {
      "application/vnd.jupyter.widget-view+json": {
       "model_id": "9e4a110aee8e446ea859328cea9e3012",
       "version_major": 2,
       "version_minor": 0
      },
      "text/plain": [
       "HBox(children=(HTML(value=''), FloatProgress(value=0.0, max=391.0), HTML(value='')))"
      ]
     },
     "metadata": {},
     "output_type": "display_data"
    },
    {
     "name": "stdout",
     "output_type": "stream",
     "text": [
      "\n",
      "Epoch:22, T Loss:0.326, T Met:0.872, V Loss:0.370, V Met:0.841\n"
     ]
    },
    {
     "data": {
      "application/vnd.jupyter.widget-view+json": {
       "model_id": "03e93284793047e0a1aa5c40a6f54826",
       "version_major": 2,
       "version_minor": 0
      },
      "text/plain": [
       "HBox(children=(HTML(value=''), FloatProgress(value=0.0, max=391.0), HTML(value='')))"
      ]
     },
     "metadata": {},
     "output_type": "display_data"
    },
    {
     "name": "stdout",
     "output_type": "stream",
     "text": [
      "\n",
      "Epoch:23, T Loss:0.321, T Met:0.874, V Loss:0.346, V Met:0.859\n"
     ]
    },
    {
     "data": {
      "application/vnd.jupyter.widget-view+json": {
       "model_id": "679b09fc67ce4902bfe6ee229f31281f",
       "version_major": 2,
       "version_minor": 0
      },
      "text/plain": [
       "HBox(children=(HTML(value=''), FloatProgress(value=0.0, max=391.0), HTML(value='')))"
      ]
     },
     "metadata": {},
     "output_type": "display_data"
    },
    {
     "name": "stdout",
     "output_type": "stream",
     "text": [
      "\n",
      "Epoch:24, T Loss:0.325, T Met:0.871, V Loss:0.461, V Met:0.822\n"
     ]
    },
    {
     "data": {
      "application/vnd.jupyter.widget-view+json": {
       "model_id": "f857c1c164fb40318e5220a9a7e155e9",
       "version_major": 2,
       "version_minor": 0
      },
      "text/plain": [
       "HBox(children=(HTML(value=''), FloatProgress(value=0.0, max=391.0), HTML(value='')))"
      ]
     },
     "metadata": {},
     "output_type": "display_data"
    },
    {
     "name": "stdout",
     "output_type": "stream",
     "text": [
      "\n",
      "Epoch:25, T Loss:0.338, T Met:0.866, V Loss:0.397, V Met:0.840\n"
     ]
    },
    {
     "data": {
      "application/vnd.jupyter.widget-view+json": {
       "model_id": "35d304f855f14d9db9fc5af9b4f0fad0",
       "version_major": 2,
       "version_minor": 0
      },
      "text/plain": [
       "HBox(children=(HTML(value=''), FloatProgress(value=0.0, max=391.0), HTML(value='')))"
      ]
     },
     "metadata": {},
     "output_type": "display_data"
    },
    {
     "name": "stdout",
     "output_type": "stream",
     "text": [
      "\n",
      "Epoch:26, T Loss:0.321, T Met:0.877, V Loss:0.456, V Met:0.832\n"
     ]
    },
    {
     "data": {
      "application/vnd.jupyter.widget-view+json": {
       "model_id": "9017a3130707425e8e948dbae1ee654a",
       "version_major": 2,
       "version_minor": 0
      },
      "text/plain": [
       "HBox(children=(HTML(value=''), FloatProgress(value=0.0, max=391.0), HTML(value='')))"
      ]
     },
     "metadata": {},
     "output_type": "display_data"
    },
    {
     "name": "stdout",
     "output_type": "stream",
     "text": [
      "\n",
      "Epoch:27, T Loss:0.320, T Met:0.873, V Loss:0.375, V Met:0.854\n"
     ]
    },
    {
     "data": {
      "application/vnd.jupyter.widget-view+json": {
       "model_id": "482993f7f4e9482aa693a84d16a0c727",
       "version_major": 2,
       "version_minor": 0
      },
      "text/plain": [
       "HBox(children=(HTML(value=''), FloatProgress(value=0.0, max=391.0), HTML(value='')))"
      ]
     },
     "metadata": {},
     "output_type": "display_data"
    },
    {
     "name": "stdout",
     "output_type": "stream",
     "text": [
      "\n",
      "Epoch:28, T Loss:0.329, T Met:0.870, V Loss:0.417, V Met:0.834\n"
     ]
    },
    {
     "data": {
      "application/vnd.jupyter.widget-view+json": {
       "model_id": "f38140845a2545f1a5dd4b217e8f6369",
       "version_major": 2,
       "version_minor": 0
      },
      "text/plain": [
       "HBox(children=(HTML(value=''), FloatProgress(value=0.0, max=391.0), HTML(value='')))"
      ]
     },
     "metadata": {},
     "output_type": "display_data"
    },
    {
     "name": "stdout",
     "output_type": "stream",
     "text": [
      "\n",
      "Epoch:29, T Loss:0.309, T Met:0.879, V Loss:0.386, V Met:0.844\n"
     ]
    },
    {
     "data": {
      "application/vnd.jupyter.widget-view+json": {
       "model_id": "a1a3557200844d709eff19c8337ff142",
       "version_major": 2,
       "version_minor": 0
      },
      "text/plain": [
       "HBox(children=(HTML(value=''), FloatProgress(value=0.0, max=391.0), HTML(value='')))"
      ]
     },
     "metadata": {},
     "output_type": "display_data"
    },
    {
     "name": "stdout",
     "output_type": "stream",
     "text": [
      "\n",
      "Epoch:30, T Loss:0.343, T Met:0.866, V Loss:0.426, V Met:0.838\n"
     ]
    }
   ],
   "source": [
    "train_loss, train_acc, test_loss, test_acc = train(rnn_model, crit, opt, train_ds, val=test_ds, metric=accuracy, clip=1.0, n_epochs=30)"
   ]
  },
  {
   "cell_type": "code",
   "execution_count": 36,
   "metadata": {},
   "outputs": [
    {
     "data": {
      "image/png": "[encoded data removed]",
      "text/plain": [
       "<Figure size 1080x576 with 2 Axes>"
      ]
     },
     "metadata": {
      "needs_background": "light"
     },
     "output_type": "display_data"
    }
   ],
   "source": [
    "plot_loss_acc(train_loss, train_acc, test_loss, test_acc)"
   ]
  },
  {
   "cell_type": "code",
   "execution_count": null,
   "metadata": {},
   "outputs": [],
   "source": []
  }
 ],
 "metadata": {
  "kernelspec": {
   "display_name": "Python 3",
   "language": "python",
   "name": "python3"
  },
  "language_info": {
   "codemirror_mode": {
    "name": "ipython",
    "version": 3
   },
   "file_extension": ".py",
   "mimetype": "text/x-python",
   "name": "python",
   "nbconvert_exporter": "python",
   "pygments_lexer": "ipython3",
   "version": "3.6.8"
  },
  "widgets": {
   "application/vnd.jupyter.widget-state+json": {
    "state": {
     "00a5359fb3cc41d1b791afbdbb98bb18": {
      "model_module": "@jupyter-widgets/base",
      "model_module_version": "1.2.0",
      "model_name": "LayoutModel",
      "state": {}
     },
     "03294e01d3a64926bfa02917b7130de2": {
      "model_module": "@jupyter-widgets/base",
      "model_module_version": "1.2.0",
      "model_name": "LayoutModel",
      "state": {}
     },
     "0355a109e6164e21a1cc91add5b94ba3": {
      "model_module": "@jupyter-widgets/base",
      "model_module_version": "1.2.0",
      "model_name": "LayoutModel",
      "state": {}
     },
     "03a7de7c239c49fba21e7c8eff377494": {
      "model_module": "@jupyter-widgets/controls",
      "model_module_version": "1.5.0",
      "model_name": "FloatProgressModel",
      "state": {
       "bar_style": "success",
       "layout": "IPY_MODEL_41f722b4de2f4f5285de115123702e96",
       "max": 391,
       "style": "IPY_MODEL_09be86261fda4058b3960c6380023011",
       "value": 391
      }
     },
     "03aed9f67d5d4de791df1c03e461cd4b": {
      "model_module": "@jupyter-widgets/controls",
      "model_module_version": "1.5.0",
      "model_name": "HBoxModel",
      "state": {
       "children": [
        "IPY_MODEL_63314d63b56d4b3099c45a63f2e8d6b2",
        "IPY_MODEL_bad16b63f2694d17b3e6caabf1e5650f",
        "IPY_MODEL_8e687845cb884494a89c6e2182688489"
       ],
       "layout": "IPY_MODEL_5c02396bdf68458385fce4d28c71e08c"
      }
     },
     "03b114bbab6348058d00b4124407ef4e": {
      "model_module": "@jupyter-widgets/controls",
      "model_module_version": "1.5.0",
      "model_name": "DescriptionStyleModel",
      "state": {
       "description_width": ""
      }
     },
     "03e93284793047e0a1aa5c40a6f54826": {
      "model_module": "@jupyter-widgets/controls",
      "model_module_version": "1.5.0",
      "model_name": "HBoxModel",
      "state": {
       "children": [
        "IPY_MODEL_1353ca426412489abd7727046925985e",
        "IPY_MODEL_ce7a9077ec294417bdad0cc2784abe0d",
        "IPY_MODEL_287b8a572069478fa663eb80da117681"
       ],
       "layout": "IPY_MODEL_8f77f47a637c410482a4a6a385ce32b7"
      }
     },
     "048788db3c1640c2ab446d44d8606ac1": {
      "model_module": "@jupyter-widgets/controls",
      "model_module_version": "1.5.0",
      "model_name": "DescriptionStyleModel",
      "state": {
       "description_width": ""
      }
     },
     "049311aa75d04916993ea603559fc10a": {
      "model_module": "@jupyter-widgets/controls",
      "model_module_version": "1.5.0",
      "model_name": "ProgressStyleModel",
      "state": {
       "description_width": ""
      }
     },
     "0597058241ac4e169664416824dba5c4": {
      "model_module": "@jupyter-widgets/controls",
      "model_module_version": "1.5.0",
      "model_name": "DescriptionStyleModel",
      "state": {
       "description_width": ""
      }
     },
     "05b8dabd0c2d4b119288d58ff75097ba": {
      "model_module": "@jupyter-widgets/controls",
      "model_module_version": "1.5.0",
      "model_name": "FloatProgressModel",
      "state": {
       "bar_style": "success",
       "layout": "IPY_MODEL_0c27a954553b4853924c88b3427ac134",
       "max": 391,
       "style": "IPY_MODEL_63e4f78284324252a6424f4b06dd95e9",
       "value": 391
      }
     },
     "05f9f8bda24a422dbb82b1c5e5ebe02a": {
      "model_module": "@jupyter-widgets/base",
      "model_module_version": "1.2.0",
      "model_name": "LayoutModel",
      "state": {}
     },
     "07f70e706d684c8e8589015dd84473cf": {
      "model_module": "@jupyter-widgets/controls",
      "model_module_version": "1.5.0",
      "model_name": "FloatProgressModel",
      "state": {
       "bar_style": "success",
       "layout": "IPY_MODEL_c4f56b801e5e4cf0accea175b5d0a1a8",
       "max": 391,
       "style": "IPY_MODEL_d6d703bb53794803985608013ff59f46",
       "value": 391
      }
     },
     "07fb09bcd276485790c8c512ac54e3d2": {
      "model_module": "@jupyter-widgets/controls",
      "model_module_version": "1.5.0",
      "model_name": "HTMLModel",
      "state": {
       "layout": "IPY_MODEL_6c5b4f1f475c4c21bb1b54e8735796d8",
       "style": "IPY_MODEL_9f5d618e2f7f4f1bb45b0bd9fbdebdf1",
       "value": " 782/782 [00:27&lt;00:00, 28.77it/s]"
      }
     },
     "0817cd3fe85f48518b0a4fd1e4f1db6b": {
      "model_module": "@jupyter-widgets/controls",
      "model_module_version": "1.5.0",
      "model_name": "ProgressStyleModel",
      "state": {
       "description_width": ""
      }
     },
     "08393659fde34edda6ee59c349439ad7": {
      "model_module": "@jupyter-widgets/controls",
      "model_module_version": "1.5.0",
      "model_name": "HTMLModel",
      "state": {
       "layout": "IPY_MODEL_e37a0e56acdb497987217bbe4aab0491",
       "style": "IPY_MODEL_1e6894327d1e4e3e9562b20116885119",
       "value": "100%"
      }
     },
     "085e82583df545a4957883eb41bda99b": {
      "model_module": "@jupyter-widgets/controls",
      "model_module_version": "1.5.0",
      "model_name": "FloatProgressModel",
      "state": {
       "bar_style": "success",
       "layout": "IPY_MODEL_403250bd390948a8ba5113acad13c089",
       "max": 782,
       "style": "IPY_MODEL_5f549e7f4f884d88b17a5edb48b0afee",
       "value": 782
      }
     },
     "09be86261fda4058b3960c6380023011": {
      "model_module": "@jupyter-widgets/controls",
      "model_module_version": "1.5.0",
      "model_name": "ProgressStyleModel",
      "state": {
       "description_width": ""
      }
     },
     "0af0339c660a4b019f7ddffeba661fee": {
      "model_module": "@jupyter-widgets/controls",
      "model_module_version": "1.5.0",
      "model_name": "DescriptionStyleModel",
      "state": {
       "description_width": ""
      }
     },
     "0af4fffee0e74718af376762abb941de": {
      "model_module": "@jupyter-widgets/controls",
      "model_module_version": "1.5.0",
      "model_name": "ProgressStyleModel",
      "state": {
       "description_width": ""
      }
     },
     "0b91f1075e304cbbb49b43bff7d46f59": {
      "model_module": "@jupyter-widgets/base",
      "model_module_version": "1.2.0",
      "model_name": "LayoutModel",
      "state": {}
     },
     "0c27a954553b4853924c88b3427ac134": {
      "model_module": "@jupyter-widgets/base",
      "model_module_version": "1.2.0",
      "model_name": "LayoutModel",
      "state": {}
     },
     "0c393777f1134806b25a65d398c656b8": {
      "model_module": "@jupyter-widgets/controls",
      "model_module_version": "1.5.0",
      "model_name": "HTMLModel",
      "state": {
       "layout": "IPY_MODEL_2123ccd5d36f406488bde2774c3f2cb6",
       "style": "IPY_MODEL_242fe8cb34314926a1bb521c59da2d52",
       "value": "100%"
      }
     },
     "0c451815063e4389ba36e62fd57f769e": {
      "model_module": "@jupyter-widgets/controls",
      "model_module_version": "1.5.0",
      "model_name": "HTMLModel",
      "state": {
       "layout": "IPY_MODEL_632a90eeeebc45f7a2982df47d6c38c7",
       "style": "IPY_MODEL_048788db3c1640c2ab446d44d8606ac1",
       "value": "100%"
      }
     },
     "0c5b7dbc5ec143f391afd7ae841ff52d": {
      "model_module": "@jupyter-widgets/base",
      "model_module_version": "1.2.0",
      "model_name": "LayoutModel",
      "state": {}
     },
     "0ca243a97353417f8ab69230add5fe2d": {
      "model_module": "@jupyter-widgets/base",
      "model_module_version": "1.2.0",
      "model_name": "LayoutModel",
      "state": {}
     },
     "0ca5d7569f0f470bb9f3ca81d1cc2248": {
      "model_module": "@jupyter-widgets/controls",
      "model_module_version": "1.5.0",
      "model_name": "HBoxModel",
      "state": {
       "children": [
        "IPY_MODEL_0eb7ed3af8054f5ca140409dbf0fecc7",
        "IPY_MODEL_fe7e552757bb4853b398191da0702d5e",
        "IPY_MODEL_b0709958c08146738946dbb4b40e6c6c"
       ],
       "layout": "IPY_MODEL_7b21f4e94d3f4f7286cbeaa20dbad57e"
      }
     },
     "0cc460062bc64aa68fc42a5bb8f43ea7": {
      "model_module": "@jupyter-widgets/controls",
      "model_module_version": "1.5.0",
      "model_name": "DescriptionStyleModel",
      "state": {
       "description_width": ""
      }
     },
     "0cf2ea2bf2f542f6908fde8940c3dbe1": {
      "model_module": "@jupyter-widgets/controls",
      "model_module_version": "1.5.0",
      "model_name": "HTMLModel",
      "state": {
       "layout": "IPY_MODEL_a241059e8b1f41d7bffc45f70988b222",
       "style": "IPY_MODEL_c8b1b37fbff945899ba33d6a98512812",
       "value": " 391/391 [00:43&lt;00:00,  9.05it/s]"
      }
     },
     "0d0fec1c660742518d395dbc0d0237e5": {
      "model_module": "@jupyter-widgets/base",
      "model_module_version": "1.2.0",
      "model_name": "LayoutModel",
      "state": {}
     },
     "0e708203d1294f7c85e84a49976d5549": {
      "model_module": "@jupyter-widgets/controls",
      "model_module_version": "1.5.0",
      "model_name": "FloatProgressModel",
      "state": {
       "bar_style": "success",
       "layout": "IPY_MODEL_c61acd89a032489d9bc29eb8be64f41c",
       "max": 391,
       "style": "IPY_MODEL_7493b9cac8364aa896f2da88b8652551",
       "value": 391
      }
     },
     "0eb7ed3af8054f5ca140409dbf0fecc7": {
      "model_module": "@jupyter-widgets/controls",
      "model_module_version": "1.5.0",
      "model_name": "HTMLModel",
      "state": {
       "layout": "IPY_MODEL_7851153d16ed4859834276bbbfb93069",
       "style": "IPY_MODEL_b5c5c8d9412741ada5b3c19375822613",
       "value": "100%"
      }
     },
     "10255eb24b2e4a599582fcf3def49483": {
      "model_module": "@jupyter-widgets/base",
      "model_module_version": "1.2.0",
      "model_name": "LayoutModel",
      "state": {}
     },
     "1205fbc1dc884084bf50888db0908e59": {
      "model_module": "@jupyter-widgets/controls",
      "model_module_version": "1.5.0",
      "model_name": "HTMLModel",
      "state": {
       "layout": "IPY_MODEL_ca80d748ff604e69a2472898130b616f",
       "style": "IPY_MODEL_687dc5495c774de89fd58388fdd8c0a4",
       "value": " 391/391 [01:25&lt;00:00,  4.59it/s]"
      }
     },
     "125f8c5163b449b792d36327d471fca0": {
      "model_module": "@jupyter-widgets/base",
      "model_module_version": "1.2.0",
      "model_name": "LayoutModel",
      "state": {}
     },
     "126070c3b7d14c5c9534ab21ae111554": {
      "model_module": "@jupyter-widgets/base",
      "model_module_version": "1.2.0",
      "model_name": "LayoutModel",
      "state": {}
     },
     "1353ca426412489abd7727046925985e": {
      "model_module": "@jupyter-widgets/controls",
      "model_module_version": "1.5.0",
      "model_name": "HTMLModel",
      "state": {
       "layout": "IPY_MODEL_28eab1553b5645f383caacc50fa3ed4c",
       "style": "IPY_MODEL_32587949c47d4579b01f6d0ea7c827e6",
       "value": "100%"
      }
     },
     "136b0263ed9c42f783f1393f004f1fa0": {
      "model_module": "@jupyter-widgets/controls",
      "model_module_version": "1.5.0",
      "model_name": "DescriptionStyleModel",
      "state": {
       "description_width": ""
      }
     },
     "13e51682e6824987ac6f44c646af88ed": {
      "model_module": "@jupyter-widgets/controls",
      "model_module_version": "1.5.0",
      "model_name": "DescriptionStyleModel",
      "state": {
       "description_width": ""
      }
     },
     "14180893ce9042f085ffae1f3aeb0fa9": {
      "model_module": "@jupyter-widgets/controls",
      "model_module_version": "1.5.0",
      "model_name": "FloatProgressModel",
      "state": {
       "bar_style": "success",
       "layout": "IPY_MODEL_cb7da075acbc48e998a2946fc82b7f11",
       "max": 391,
       "style": "IPY_MODEL_e82ae254b5d04858abf3b01ac33ff6e3",
       "value": 391
      }
     },
     "1478e25a7e3f4401a39584d2f56fc9e6": {
      "model_module": "@jupyter-widgets/controls",
      "model_module_version": "1.5.0",
      "model_name": "FloatProgressModel",
      "state": {
       "bar_style": "success",
       "layout": "IPY_MODEL_a3a06e7adbfc458abef1f08d94f09434",
       "max": 391,
       "style": "IPY_MODEL_e89a098021d8432c94e6b7f4b0a16977",
       "value": 391
      }
     },
     "147a93e0f8104443b03b847bfc745c65": {
      "model_module": "@jupyter-widgets/controls",
      "model_module_version": "1.5.0",
      "model_name": "HTMLModel",
      "state": {
       "layout": "IPY_MODEL_03294e01d3a64926bfa02917b7130de2",
       "style": "IPY_MODEL_a5cf09674de040c29a4f0fd07b0134d0",
       "value": "100%"
      }
     },
     "1493eb1b7c544ea0a75f97c740e36700": {
      "model_module": "@jupyter-widgets/controls",
      "model_module_version": "1.5.0",
      "model_name": "HTMLModel",
      "state": {
       "layout": "IPY_MODEL_fb5269fba00949a1a6fadd5837f76cc2",
       "style": "IPY_MODEL_44e73363e36241328bc845e0f3cc5fd0",
       "value": " 782/782 [00:32&lt;00:00, 23.92it/s]"
      }
     },
     "149d8eacbda64ba3ac3e0b8d5e79ad70": {
      "model_module": "@jupyter-widgets/controls",
      "model_module_version": "1.5.0",
      "model_name": "HTMLModel",
      "state": {
       "layout": "IPY_MODEL_27cbf807c63f4e3a87fe1d8561641dcf",
       "style": "IPY_MODEL_6b3613b2c739429cb0932cb722e4472d",
       "value": "100%"
      }
     },
     "155bc297d93445abaaa8875bc753057f": {
      "model_module": "@jupyter-widgets/controls",
      "model_module_version": "1.5.0",
      "model_name": "HTMLModel",
      "state": {
       "layout": "IPY_MODEL_9b4464483d864247bdf869e470779102",
       "style": "IPY_MODEL_e0f7709079094f7098fe3647919479b7",
       "value": " 782/782 [00:02&lt;00:00, 279.95it/s]"
      }
     },
     "156f538123e142569a3318918dbd5c08": {
      "model_module": "@jupyter-widgets/controls",
      "model_module_version": "1.5.0",
      "model_name": "HBoxModel",
      "state": {
       "children": [
        "IPY_MODEL_e4e8c5a036a04cbfbc606de37f6cbbd8",
        "IPY_MODEL_640560db31de4fc4b043cd0c1a965a5d",
        "IPY_MODEL_155bc297d93445abaaa8875bc753057f"
       ],
       "layout": "IPY_MODEL_21287543762a4eac8d0652ed35e5f97f"
      }
     },
     "17bc247b8fe64937834068e959207cbf": {
      "model_module": "@jupyter-widgets/base",
      "model_module_version": "1.2.0",
      "model_name": "LayoutModel",
      "state": {}
     },
     "18ae13c32e4247cdb46721d4c4229d35": {
      "model_module": "@jupyter-widgets/base",
      "model_module_version": "1.2.0",
      "model_name": "LayoutModel",
      "state": {}
     },
     "18b3f8dec2e1409dbdb50e2451978133": {
      "model_module": "@jupyter-widgets/controls",
      "model_module_version": "1.5.0",
      "model_name": "HTMLModel",
      "state": {
       "layout": "IPY_MODEL_efe67e028e5f4c20aada778d2cce44e3",
       "style": "IPY_MODEL_3b9c309f91a64d94af04f3f4b80da963",
       "value": " 782/782 [00:05&lt;00:00, 139.13it/s]"
      }
     },
     "193c21a102804f6491713a180d7bb20b": {
      "model_module": "@jupyter-widgets/controls",
      "model_module_version": "1.5.0",
      "model_name": "HTMLModel",
      "state": {
       "layout": "IPY_MODEL_4b5092cc10cb48149f577e3c4346a8d1",
       "style": "IPY_MODEL_d9ad2da1744f4d88af98da5ef31fa5cc",
       "value": "100%"
      }
     },
     "19651bbf75e340b88e0aee6f104954a2": {
      "model_module": "@jupyter-widgets/controls",
      "model_module_version": "1.5.0",
      "model_name": "FloatProgressModel",
      "state": {
       "bar_style": "success",
       "layout": "IPY_MODEL_125f8c5163b449b792d36327d471fca0",
       "max": 782,
       "style": "IPY_MODEL_9f4f2d31a09f4f93926474e8628aa52e",
       "value": 782
      }
     },
     "196d6616fa994321b63f81ad0b6d23da": {
      "model_module": "@jupyter-widgets/base",
      "model_module_version": "1.2.0",
      "model_name": "LayoutModel",
      "state": {}
     },
     "1a60d23236f4428b98bcba9f68fda49a": {
      "model_module": "@jupyter-widgets/controls",
      "model_module_version": "1.5.0",
      "model_name": "HBoxModel",
      "state": {
       "children": [
        "IPY_MODEL_add983f87f5c4a9db240cad4aa00d51c",
        "IPY_MODEL_1478e25a7e3f4401a39584d2f56fc9e6",
        "IPY_MODEL_5da04bc7db1b40f199f86946518a0ded"
       ],
       "layout": "IPY_MODEL_f78c4b2ff3b147f18403915552455c32"
      }
     },
     "1a74ee5774154f07aee3c554bdf469b8": {
      "model_module": "@jupyter-widgets/controls",
      "model_module_version": "1.5.0",
      "model_name": "DescriptionStyleModel",
      "state": {
       "description_width": ""
      }
     },
     "1aba88548aa34882a845cf6532d18411": {
      "model_module": "@jupyter-widgets/controls",
      "model_module_version": "1.5.0",
      "model_name": "FloatProgressModel",
      "state": {
       "bar_style": "success",
       "layout": "IPY_MODEL_b7162a1db1814c9fb64e19112f340926",
       "max": 782,
       "style": "IPY_MODEL_a5abcbfd8afa4c9f9a3e631bc6a4ad45",
       "value": 782
      }
     },
     "1b43a4fdfd6f4d63997d500f92963af0": {
      "model_module": "@jupyter-widgets/controls",
      "model_module_version": "1.5.0",
      "model_name": "HBoxModel",
      "state": {
       "children": [
        "IPY_MODEL_d9a98c15e04d4cc8886c46fb2fca8007",
        "IPY_MODEL_69838093b6fd4ea79820837dfc877397",
        "IPY_MODEL_3662264b18574e3cb7da2d298535be52"
       ],
       "layout": "IPY_MODEL_8b1874d4981748228644bcb727e3942f"
      }
     },
     "1b47ccc0cee948ae84a6059d736ca89e": {
      "model_module": "@jupyter-widgets/controls",
      "model_module_version": "1.5.0",
      "model_name": "ProgressStyleModel",
      "state": {
       "description_width": ""
      }
     },
     "1c042785cd4643ffa19387a11d746a9d": {
      "model_module": "@jupyter-widgets/controls",
      "model_module_version": "1.5.0",
      "model_name": "ProgressStyleModel",
      "state": {
       "description_width": ""
      }
     },
     "1c32d326443142529b0cff3ae4e487fd": {
      "model_module": "@jupyter-widgets/controls",
      "model_module_version": "1.5.0",
      "model_name": "DescriptionStyleModel",
      "state": {
       "description_width": ""
      }
     },
     "1dfb42c8f6ce459ebab26c1e4e015fae": {
      "model_module": "@jupyter-widgets/controls",
      "model_module_version": "1.5.0",
      "model_name": "HBoxModel",
      "state": {
       "children": [
        "IPY_MODEL_946394d908ac47bba5a6d4d17d3b30ea",
        "IPY_MODEL_acdfd3f1f28a49e9809ef9568cdc9515",
        "IPY_MODEL_2dcd630633d446b8adb0f1f28ca2d1d4"
       ],
       "layout": "IPY_MODEL_56cb5ef5515849e495d802d97be336e1"
      }
     },
     "1e4d0f76b2fa497abb0d3f18b2d7565b": {
      "model_module": "@jupyter-widgets/base",
      "model_module_version": "1.2.0",
      "model_name": "LayoutModel",
      "state": {}
     },
     "1e6894327d1e4e3e9562b20116885119": {
      "model_module": "@jupyter-widgets/controls",
      "model_module_version": "1.5.0",
      "model_name": "DescriptionStyleModel",
      "state": {
       "description_width": ""
      }
     },
     "1e87a1a8adf141f4b78246b2718f2754": {
      "model_module": "@jupyter-widgets/controls",
      "model_module_version": "1.5.0",
      "model_name": "FloatProgressModel",
      "state": {
       "bar_style": "success",
       "layout": "IPY_MODEL_5c58489b5dcc41a995a70ad9411ce1de",
       "max": 391,
       "style": "IPY_MODEL_27c09cf47bfc4f89b5fc70b5823d5af8",
       "value": 391
      }
     },
     "1f74c95a24284e919647ffcee32c0407": {
      "model_module": "@jupyter-widgets/controls",
      "model_module_version": "1.5.0",
      "model_name": "ProgressStyleModel",
      "state": {
       "description_width": ""
      }
     },
     "2123ccd5d36f406488bde2774c3f2cb6": {
      "model_module": "@jupyter-widgets/base",
      "model_module_version": "1.2.0",
      "model_name": "LayoutModel",
      "state": {}
     },
     "21287543762a4eac8d0652ed35e5f97f": {
      "model_module": "@jupyter-widgets/base",
      "model_module_version": "1.2.0",
      "model_name": "LayoutModel",
      "state": {}
     },
     "213ccb1ac7194e6a9d2259c24b9df6a1": {
      "model_module": "@jupyter-widgets/controls",
      "model_module_version": "1.5.0",
      "model_name": "DescriptionStyleModel",
      "state": {
       "description_width": ""
      }
     },
     "219f9410c5c44135bca6bd62fea443a4": {
      "model_module": "@jupyter-widgets/base",
      "model_module_version": "1.2.0",
      "model_name": "LayoutModel",
      "state": {}
     },
     "2227335e0b8041aca54f107f00162bfb": {
      "model_module": "@jupyter-widgets/base",
      "model_module_version": "1.2.0",
      "model_name": "LayoutModel",
      "state": {}
     },
     "231d6fdd2ef04f2eb1913163e4d0db46": {
      "model_module": "@jupyter-widgets/base",
      "model_module_version": "1.2.0",
      "model_name": "LayoutModel",
      "state": {}
     },
     "242fe8cb34314926a1bb521c59da2d52": {
      "model_module": "@jupyter-widgets/controls",
      "model_module_version": "1.5.0",
      "model_name": "DescriptionStyleModel",
      "state": {
       "description_width": ""
      }
     },
     "2441a979239340e6b6f244e674e261d4": {
      "model_module": "@jupyter-widgets/controls",
      "model_module_version": "1.5.0",
      "model_name": "ProgressStyleModel",
      "state": {
       "description_width": ""
      }
     },
     "24436744e1ce4b17a14c7a3e61daa5ff": {
      "model_module": "@jupyter-widgets/base",
      "model_module_version": "1.2.0",
      "model_name": "LayoutModel",
      "state": {}
     },
     "24955a540e204d328a53e43dce250239": {
      "model_module": "@jupyter-widgets/base",
      "model_module_version": "1.2.0",
      "model_name": "LayoutModel",
      "state": {}
     },
     "24c8d81c951d48b087188fb22e0879e2": {
      "model_module": "@jupyter-widgets/controls",
      "model_module_version": "1.5.0",
      "model_name": "HBoxModel",
      "state": {
       "children": [
        "IPY_MODEL_193c21a102804f6491713a180d7bb20b",
        "IPY_MODEL_c624f1cf146e4bf6804db52805860c0c",
        "IPY_MODEL_83b82f2f4d11496ab68593ff20da414d"
       ],
       "layout": "IPY_MODEL_44eee20a782e43beb3260a38fafadcd8"
      }
     },
     "25006175ec744652955d57a35ca90788": {
      "model_module": "@jupyter-widgets/base",
      "model_module_version": "1.2.0",
      "model_name": "LayoutModel",
      "state": {}
     },
     "253b376640ce4a72b11c1bc92408198b": {
      "model_module": "@jupyter-widgets/controls",
      "model_module_version": "1.5.0",
      "model_name": "DescriptionStyleModel",
      "state": {
       "description_width": ""
      }
     },
     "25ab2ff16dfd43f8b96d44131a240823": {
      "model_module": "@jupyter-widgets/base",
      "model_module_version": "1.2.0",
      "model_name": "LayoutModel",
      "state": {}
     },
     "26e56b22f01f45dd8c9bae73cee75759": {
      "model_module": "@jupyter-widgets/controls",
      "model_module_version": "1.5.0",
      "model_name": "HTMLModel",
      "state": {
       "layout": "IPY_MODEL_d250e1ec8f0e4955b2e46f861c2203df",
       "style": "IPY_MODEL_55c3d1736b2841a0adee4cfbaf5a6658",
       "value": "100%"
      }
     },
     "276de0a9edf8474faff8e4ca8d3ce879": {
      "model_module": "@jupyter-widgets/controls",
      "model_module_version": "1.5.0",
      "model_name": "HTMLModel",
      "state": {
       "layout": "IPY_MODEL_0355a109e6164e21a1cc91add5b94ba3",
       "style": "IPY_MODEL_8796e91bd0344d4b94fb5ed9e8c31fad",
       "value": "100%"
      }
     },
     "27c09cf47bfc4f89b5fc70b5823d5af8": {
      "model_module": "@jupyter-widgets/controls",
      "model_module_version": "1.5.0",
      "model_name": "ProgressStyleModel",
      "state": {
       "description_width": ""
      }
     },
     "27cbf807c63f4e3a87fe1d8561641dcf": {
      "model_module": "@jupyter-widgets/base",
      "model_module_version": "1.2.0",
      "model_name": "LayoutModel",
      "state": {}
     },
     "287b8a572069478fa663eb80da117681": {
      "model_module": "@jupyter-widgets/controls",
      "model_module_version": "1.5.0",
      "model_name": "HTMLModel",
      "state": {
       "layout": "IPY_MODEL_dbe199b8acd14728bbe3f13a0e85e137",
       "style": "IPY_MODEL_13e51682e6824987ac6f44c646af88ed",
       "value": " 391/391 [01:24&lt;00:00,  4.62it/s]"
      }
     },
     "28bbb5e342e74dbb94db263f008e3afe": {
      "model_module": "@jupyter-widgets/controls",
      "model_module_version": "1.5.0",
      "model_name": "HTMLModel",
      "state": {
       "layout": "IPY_MODEL_fd5c932d12704c61b1f11089f920707f",
       "style": "IPY_MODEL_45d337a47a5044e7aed02e980ff6edf1",
       "value": "100%"
      }
     },
     "28eab1553b5645f383caacc50fa3ed4c": {
      "model_module": "@jupyter-widgets/base",
      "model_module_version": "1.2.0",
      "model_name": "LayoutModel",
      "state": {}
     },
     "29197c1dcb77447988666b10f1e2d946": {
      "model_module": "@jupyter-widgets/controls",
      "model_module_version": "1.5.0",
      "model_name": "HBoxModel",
      "state": {
       "children": [
        "IPY_MODEL_f0cd74cd68cb4ade8625e1801ff3f63a",
        "IPY_MODEL_78e657d96dd840f7b4df40b619578900",
        "IPY_MODEL_aed9d8d2026c47c1843b780e406e4b7a"
       ],
       "layout": "IPY_MODEL_506b30b2b2b94d25b5f31f864de91045"
      }
     },
     "29709400d5bf41b481dd120b85acf541": {
      "model_module": "@jupyter-widgets/base",
      "model_module_version": "1.2.0",
      "model_name": "LayoutModel",
      "state": {}
     },
     "2a225de679c64a0c87b2fc6c930cce07": {
      "model_module": "@jupyter-widgets/controls",
      "model_module_version": "1.5.0",
      "model_name": "DescriptionStyleModel",
      "state": {
       "description_width": ""
      }
     },
     "2b12352e439741d7b71571578ad025e3": {
      "model_module": "@jupyter-widgets/controls",
      "model_module_version": "1.5.0",
      "model_name": "DescriptionStyleModel",
      "state": {
       "description_width": ""
      }
     },
     "2b61abc1057341989a6ad67c806e1166": {
      "model_module": "@jupyter-widgets/base",
      "model_module_version": "1.2.0",
      "model_name": "LayoutModel",
      "state": {}
     },
     "2bccb94a9d974de2bcf1b4fe2d926a75": {
      "model_module": "@jupyter-widgets/controls",
      "model_module_version": "1.5.0",
      "model_name": "DescriptionStyleModel",
      "state": {
       "description_width": ""
      }
     },
     "2dcd630633d446b8adb0f1f28ca2d1d4": {
      "model_module": "@jupyter-widgets/controls",
      "model_module_version": "1.5.0",
      "model_name": "HTMLModel",
      "state": {
       "layout": "IPY_MODEL_0ca243a97353417f8ab69230add5fe2d",
       "style": "IPY_MODEL_747a6ecf36a0417c9172b92f05713f31",
       "value": " 782/782 [00:03&lt;00:00, 253.47it/s]"
      }
     },
     "2e900ca4097a442b8a674db9b9ac039a": {
      "model_module": "@jupyter-widgets/controls",
      "model_module_version": "1.5.0",
      "model_name": "DescriptionStyleModel",
      "state": {
       "description_width": ""
      }
     },
     "2e9378aadb594dfb954040483b4ee25e": {
      "model_module": "@jupyter-widgets/base",
      "model_module_version": "1.2.0",
      "model_name": "LayoutModel",
      "state": {}
     },
     "2fd428717e514e04ad95413b20b20c10": {
      "model_module": "@jupyter-widgets/base",
      "model_module_version": "1.2.0",
      "model_name": "LayoutModel",
      "state": {}
     },
     "308b19ba4f144f52a15d6475f000fa30": {
      "model_module": "@jupyter-widgets/base",
      "model_module_version": "1.2.0",
      "model_name": "LayoutModel",
      "state": {}
     },
     "30f825e8b580482b8fe4d8b7f653f461": {
      "model_module": "@jupyter-widgets/base",
      "model_module_version": "1.2.0",
      "model_name": "LayoutModel",
      "state": {}
     },
     "32587949c47d4579b01f6d0ea7c827e6": {
      "model_module": "@jupyter-widgets/controls",
      "model_module_version": "1.5.0",
      "model_name": "DescriptionStyleModel",
      "state": {
       "description_width": ""
      }
     },
     "330f7831fa164ac7b297b9fe6a97b47b": {
      "model_module": "@jupyter-widgets/controls",
      "model_module_version": "1.5.0",
      "model_name": "HTMLModel",
      "state": {
       "layout": "IPY_MODEL_62794adbdf9842e785e872356c6b9b8c",
       "style": "IPY_MODEL_0597058241ac4e169664416824dba5c4",
       "value": " 391/391 [00:47&lt;00:00,  8.29it/s]"
      }
     },
     "338841f44c6b469d9969a1c3d787f732": {
      "model_module": "@jupyter-widgets/controls",
      "model_module_version": "1.5.0",
      "model_name": "DescriptionStyleModel",
      "state": {
       "description_width": ""
      }
     },
     "33b63cd6005142b0960dc969230f87a5": {
      "model_module": "@jupyter-widgets/base",
      "model_module_version": "1.2.0",
      "model_name": "LayoutModel",
      "state": {}
     },
     "344712a89c4b4ea1929da37ca66bc65a": {
      "model_module": "@jupyter-widgets/base",
      "model_module_version": "1.2.0",
      "model_name": "LayoutModel",
      "state": {}
     },
     "34579cd7f551454fa4dad7841dcde534": {
      "model_module": "@jupyter-widgets/controls",
      "model_module_version": "1.5.0",
      "model_name": "HTMLModel",
      "state": {
       "layout": "IPY_MODEL_6d433e642a64423a957fae8ed1dfaed4",
       "style": "IPY_MODEL_5a99cd31c26f4091b76036f3cc8fdb74",
       "value": "100%"
      }
     },
     "352a15c42f844e319420abde35d3443c": {
      "model_module": "@jupyter-widgets/base",
      "model_module_version": "1.2.0",
      "model_name": "LayoutModel",
      "state": {}
     },
     "35d304f855f14d9db9fc5af9b4f0fad0": {
      "model_module": "@jupyter-widgets/controls",
      "model_module_version": "1.5.0",
      "model_name": "HBoxModel",
      "state": {
       "children": [
        "IPY_MODEL_880c96c2af1a49979c68f322364f9fd5",
        "IPY_MODEL_f37bbc0934994d69a60edd3bc5fbf53c",
        "IPY_MODEL_1205fbc1dc884084bf50888db0908e59"
       ],
       "layout": "IPY_MODEL_fbdf10560e2544bfa5fd4aae57acc6d7"
      }
     },
     "3660cbfd3c8049c5b7524fd323912b37": {
      "model_module": "@jupyter-widgets/base",
      "model_module_version": "1.2.0",
      "model_name": "LayoutModel",
      "state": {}
     },
     "3662264b18574e3cb7da2d298535be52": {
      "model_module": "@jupyter-widgets/controls",
      "model_module_version": "1.5.0",
      "model_name": "HTMLModel",
      "state": {
       "layout": "IPY_MODEL_33b63cd6005142b0960dc969230f87a5",
       "style": "IPY_MODEL_deeae1dad95d44749ab3903ad03caf41",
       "value": " 391/391 [01:29&lt;00:00,  4.34it/s]"
      }
     },
     "369c383644f24b74a131a613e006434e": {
      "model_module": "@jupyter-widgets/base",
      "model_module_version": "1.2.0",
      "model_name": "LayoutModel",
      "state": {}
     },
     "3719282ff70f4a9f9472b6c056208c2d": {
      "model_module": "@jupyter-widgets/controls",
      "model_module_version": "1.5.0",
      "model_name": "HTMLModel",
      "state": {
       "layout": "IPY_MODEL_126070c3b7d14c5c9534ab21ae111554",
       "style": "IPY_MODEL_f944685cf9794d70b7d68cb394cb933d",
       "value": " 391/391 [00:46&lt;00:00,  8.42it/s]"
      }
     },
     "375c648224a04ac09737ef170c493857": {
      "model_module": "@jupyter-widgets/controls",
      "model_module_version": "1.5.0",
      "model_name": "DescriptionStyleModel",
      "state": {
       "description_width": ""
      }
     },
     "38b78d0b3fcd42d3885752aa5caccdc9": {
      "model_module": "@jupyter-widgets/controls",
      "model_module_version": "1.5.0",
      "model_name": "HTMLModel",
      "state": {
       "layout": "IPY_MODEL_8bf16f29c09948608b29edec91a04e3d",
       "style": "IPY_MODEL_cc33a52e23964c229314255ae0fd7b09",
       "value": " 391/391 [12:53&lt;00:00,  1.98s/it]"
      }
     },
     "38ef9048ba8947488fd16ce9ede242ce": {
      "model_module": "@jupyter-widgets/base",
      "model_module_version": "1.2.0",
      "model_name": "LayoutModel",
      "state": {}
     },
     "39a18212a1c043b28874cdc1b1ab29de": {
      "model_module": "@jupyter-widgets/controls",
      "model_module_version": "1.5.0",
      "model_name": "FloatProgressModel",
      "state": {
       "bar_style": "success",
       "layout": "IPY_MODEL_10255eb24b2e4a599582fcf3def49483",
       "max": 391,
       "style": "IPY_MODEL_bbf5bdec759a40869393f328a47970e7",
       "value": 391
      }
     },
     "39ce51aa3be54c1d833eacae65295a6d": {
      "model_module": "@jupyter-widgets/controls",
      "model_module_version": "1.5.0",
      "model_name": "HTMLModel",
      "state": {
       "layout": "IPY_MODEL_5b9f20b539da4f16a249099450398bdf",
       "style": "IPY_MODEL_e5adcf89c4d84404b09ef63d5e6f4a34",
       "value": "100%"
      }
     },
     "3b7fbfc2c2a044faaad02460e55a5e5a": {
      "model_module": "@jupyter-widgets/controls",
      "model_module_version": "1.5.0",
      "model_name": "HBoxModel",
      "state": {
       "children": [
        "IPY_MODEL_8f5c58d5d23243eabdf8e79b690c31c2",
        "IPY_MODEL_3f2726878b8543b2a7f40d790a79a447",
        "IPY_MODEL_6100f8a168c44fa8b0c1d98def46158f"
       ],
       "layout": "IPY_MODEL_2227335e0b8041aca54f107f00162bfb"
      }
     },
     "3b9c309f91a64d94af04f3f4b80da963": {
      "model_module": "@jupyter-widgets/controls",
      "model_module_version": "1.5.0",
      "model_name": "DescriptionStyleModel",
      "state": {
       "description_width": ""
      }
     },
     "3e56557dac8e443ab70e6f400b07b78b": {
      "model_module": "@jupyter-widgets/controls",
      "model_module_version": "1.5.0",
      "model_name": "DescriptionStyleModel",
      "state": {
       "description_width": ""
      }
     },
     "3e6fd52e07d24f8dbccf02897798cfff": {
      "model_module": "@jupyter-widgets/base",
      "model_module_version": "1.2.0",
      "model_name": "LayoutModel",
      "state": {}
     },
     "3e85fa100aa546d884eb1dfadf409796": {
      "model_module": "@jupyter-widgets/controls",
      "model_module_version": "1.5.0",
      "model_name": "HTMLModel",
      "state": {
       "layout": "IPY_MODEL_4a6b063e737a4d92a369441b5cfbbf6e",
       "style": "IPY_MODEL_c442b2bda0e74f128f33e5e49b1983d9",
       "value": " 391/391 [00:42&lt;00:00,  9.22it/s]"
      }
     },
     "3e91f68ccfb146d88ecf5116bea08f14": {
      "model_module": "@jupyter-widgets/controls",
      "model_module_version": "1.5.0",
      "model_name": "DescriptionStyleModel",
      "state": {
       "description_width": ""
      }
     },
     "3eee2b188ce041869080ebc660bc884d": {
      "model_module": "@jupyter-widgets/controls",
      "model_module_version": "1.5.0",
      "model_name": "HBoxModel",
      "state": {
       "children": [
        "IPY_MODEL_276de0a9edf8474faff8e4ca8d3ce879",
        "IPY_MODEL_416f3e3119e347e9946f6af94f054c2a",
        "IPY_MODEL_498cf863ab0a40ac8f42335b7c5ad9c2"
       ],
       "layout": "IPY_MODEL_89c241e872ea4dc487b8956081d9da0d"
      }
     },
     "3f2726878b8543b2a7f40d790a79a447": {
      "model_module": "@jupyter-widgets/controls",
      "model_module_version": "1.5.0",
      "model_name": "FloatProgressModel",
      "state": {
       "bar_style": "success",
       "layout": "IPY_MODEL_196d6616fa994321b63f81ad0b6d23da",
       "max": 391,
       "style": "IPY_MODEL_81244eb8c8444241a9c52e0bf3a17152",
       "value": 391
      }
     },
     "402c09a1ccf242b394017dc02883985f": {
      "model_module": "@jupyter-widgets/controls",
      "model_module_version": "1.5.0",
      "model_name": "ProgressStyleModel",
      "state": {
       "description_width": ""
      }
     },
     "403250bd390948a8ba5113acad13c089": {
      "model_module": "@jupyter-widgets/base",
      "model_module_version": "1.2.0",
      "model_name": "LayoutModel",
      "state": {}
     },
     "40bff9d9ad574c55b55aee0cd428184f": {
      "model_module": "@jupyter-widgets/controls",
      "model_module_version": "1.5.0",
      "model_name": "DescriptionStyleModel",
      "state": {
       "description_width": ""
      }
     },
     "4126db29852e44828ef1222be4a7d762": {
      "model_module": "@jupyter-widgets/controls",
      "model_module_version": "1.5.0",
      "model_name": "FloatProgressModel",
      "state": {
       "bar_style": "success",
       "layout": "IPY_MODEL_ae482d1539da44bab78754d046d0e9b1",
       "max": 391,
       "style": "IPY_MODEL_a4b1a284707a4c80a7fd78fdb36cb4a0",
       "value": 391
      }
     },
     "416f3e3119e347e9946f6af94f054c2a": {
      "model_module": "@jupyter-widgets/controls",
      "model_module_version": "1.5.0",
      "model_name": "FloatProgressModel",
      "state": {
       "bar_style": "success",
       "layout": "IPY_MODEL_bb094b24b04e4631b8222ee2ae7f7292",
       "max": 782,
       "style": "IPY_MODEL_9cf7d2b772624b87910c3971f4ac9cb3",
       "value": 782
      }
     },
     "41f722b4de2f4f5285de115123702e96": {
      "model_module": "@jupyter-widgets/base",
      "model_module_version": "1.2.0",
      "model_name": "LayoutModel",
      "state": {}
     },
     "44e73363e36241328bc845e0f3cc5fd0": {
      "model_module": "@jupyter-widgets/controls",
      "model_module_version": "1.5.0",
      "model_name": "DescriptionStyleModel",
      "state": {
       "description_width": ""
      }
     },
     "44eee20a782e43beb3260a38fafadcd8": {
      "model_module": "@jupyter-widgets/base",
      "model_module_version": "1.2.0",
      "model_name": "LayoutModel",
      "state": {}
     },
     "45d337a47a5044e7aed02e980ff6edf1": {
      "model_module": "@jupyter-widgets/controls",
      "model_module_version": "1.5.0",
      "model_name": "DescriptionStyleModel",
      "state": {
       "description_width": ""
      }
     },
     "46377150af49456dbd1799a83dd6d4df": {
      "model_module": "@jupyter-widgets/controls",
      "model_module_version": "1.5.0",
      "model_name": "HBoxModel",
      "state": {
       "children": [
        "IPY_MODEL_7a5de76da8a242489765ceef8716f0ee",
        "IPY_MODEL_39a18212a1c043b28874cdc1b1ab29de",
        "IPY_MODEL_a72938b81b8b4d9d92155d32995af1a3"
       ],
       "layout": "IPY_MODEL_dea0d670af5b47b49d0f52591e451c17"
      }
     },
     "482993f7f4e9482aa693a84d16a0c727": {
      "model_module": "@jupyter-widgets/controls",
      "model_module_version": "1.5.0",
      "model_name": "HBoxModel",
      "state": {
       "children": [
        "IPY_MODEL_28bbb5e342e74dbb94db263f008e3afe",
        "IPY_MODEL_14180893ce9042f085ffae1f3aeb0fa9",
        "IPY_MODEL_e1a70d7d945f45aca533b504faea0706"
       ],
       "layout": "IPY_MODEL_b553453d9eef48338194bf3d00470e83"
      }
     },
     "48368379656948b180220bcc4f81fca3": {
      "model_module": "@jupyter-widgets/controls",
      "model_module_version": "1.5.0",
      "model_name": "ProgressStyleModel",
      "state": {
       "description_width": ""
      }
     },
     "48c311b0171643e88f7e5b9ba01b2c99": {
      "model_module": "@jupyter-widgets/controls",
      "model_module_version": "1.5.0",
      "model_name": "DescriptionStyleModel",
      "state": {
       "description_width": ""
      }
     },
     "490c4fda7e034ff29a30f2e71d6db07a": {
      "model_module": "@jupyter-widgets/controls",
      "model_module_version": "1.5.0",
      "model_name": "HTMLModel",
      "state": {
       "layout": "IPY_MODEL_0b91f1075e304cbbb49b43bff7d46f59",
       "style": "IPY_MODEL_78f6d10e8b5d4f87a5cfd797e599cd99",
       "value": " 391/391 [01:25&lt;00:00,  4.57it/s]"
      }
     },
     "498cf863ab0a40ac8f42335b7c5ad9c2": {
      "model_module": "@jupyter-widgets/controls",
      "model_module_version": "1.5.0",
      "model_name": "HTMLModel",
      "state": {
       "layout": "IPY_MODEL_9f488077cc49443192a4f3470d0e6c12",
       "style": "IPY_MODEL_94e6a740a86940ddbb61541eb6f7313a",
       "value": " 782/782 [00:08&lt;00:00, 87.78it/s]"
      }
     },
     "499ee34be34b4334bdb77dbdbb0e5af7": {
      "model_module": "@jupyter-widgets/base",
      "model_module_version": "1.2.0",
      "model_name": "LayoutModel",
      "state": {}
     },
     "4a576ff18d8c4a43933c716f4af80e6d": {
      "model_module": "@jupyter-widgets/controls",
      "model_module_version": "1.5.0",
      "model_name": "HBoxModel",
      "state": {
       "children": [
        "IPY_MODEL_f454c01668d14faeb3e9eb83014d456f",
        "IPY_MODEL_5977b58a9b0340d8ad9510f319a66140",
        "IPY_MODEL_e6a13ef533e44c918ccc8f9d7b11f9a8"
       ],
       "layout": "IPY_MODEL_b31dabaee98d461bb9e3b930ce58a644"
      }
     },
     "4a6b063e737a4d92a369441b5cfbbf6e": {
      "model_module": "@jupyter-widgets/base",
      "model_module_version": "1.2.0",
      "model_name": "LayoutModel",
      "state": {}
     },
     "4ac1b733baa1476e8ecf87e3e11c8880": {
      "model_module": "@jupyter-widgets/base",
      "model_module_version": "1.2.0",
      "model_name": "LayoutModel",
      "state": {}
     },
     "4b45b8435f9c44eca9c2eef6efa7a59a": {
      "model_module": "@jupyter-widgets/controls",
      "model_module_version": "1.5.0",
      "model_name": "DescriptionStyleModel",
      "state": {
       "description_width": ""
      }
     },
     "4b5092cc10cb48149f577e3c4346a8d1": {
      "model_module": "@jupyter-widgets/base",
      "model_module_version": "1.2.0",
      "model_name": "LayoutModel",
      "state": {}
     },
     "4b6f84b7c1174762b02183990c64b311": {
      "model_module": "@jupyter-widgets/controls",
      "model_module_version": "1.5.0",
      "model_name": "ProgressStyleModel",
      "state": {
       "description_width": ""
      }
     },
     "4b9655747a794bdb97507748e13c2847": {
      "model_module": "@jupyter-widgets/controls",
      "model_module_version": "1.5.0",
      "model_name": "ProgressStyleModel",
      "state": {
       "description_width": ""
      }
     },
     "4c32ef16934f4972bccf90730a031570": {
      "model_module": "@jupyter-widgets/base",
      "model_module_version": "1.2.0",
      "model_name": "LayoutModel",
      "state": {}
     },
     "4dda819b08114f50af75394c6385505a": {
      "model_module": "@jupyter-widgets/base",
      "model_module_version": "1.2.0",
      "model_name": "LayoutModel",
      "state": {}
     },
     "4ef625bfec474ff8bc96a2012debd60f": {
      "model_module": "@jupyter-widgets/controls",
      "model_module_version": "1.5.0",
      "model_name": "HTMLModel",
      "state": {
       "layout": "IPY_MODEL_ddac704cf7ea44be8bd3ab923fe36d5e",
       "style": "IPY_MODEL_3e91f68ccfb146d88ecf5116bea08f14",
       "value": "100%"
      }
     },
     "4f9d18cbadb744da8ffbef5a624bc688": {
      "model_module": "@jupyter-widgets/base",
      "model_module_version": "1.2.0",
      "model_name": "LayoutModel",
      "state": {}
     },
     "5009400ac9bc41a6a125e299a96fa4f4": {
      "model_module": "@jupyter-widgets/base",
      "model_module_version": "1.2.0",
      "model_name": "LayoutModel",
      "state": {}
     },
     "506524301cac4e64b5bdc8188d14d8dd": {
      "model_module": "@jupyter-widgets/controls",
      "model_module_version": "1.5.0",
      "model_name": "ProgressStyleModel",
      "state": {
       "description_width": ""
      }
     },
     "506b30b2b2b94d25b5f31f864de91045": {
      "model_module": "@jupyter-widgets/base",
      "model_module_version": "1.2.0",
      "model_name": "LayoutModel",
      "state": {}
     },
     "50a0c209c5c54e0e8436e9dc2fbab5e7": {
      "model_module": "@jupyter-widgets/base",
      "model_module_version": "1.2.0",
      "model_name": "LayoutModel",
      "state": {}
     },
     "5106f7f500d04df889753ee92f466a00": {
      "model_module": "@jupyter-widgets/controls",
      "model_module_version": "1.5.0",
      "model_name": "HTMLModel",
      "state": {
       "layout": "IPY_MODEL_81a2d7c9ef184d2a9c05d8a75d07cc5b",
       "style": "IPY_MODEL_61ff7a5fdbf34cb1b5e20682c60875ce",
       "value": " 782/782 [00:18&lt;00:00, 43.40it/s]"
      }
     },
     "52574022c5604345b1093bc5a91c21ac": {
      "model_module": "@jupyter-widgets/controls",
      "model_module_version": "1.5.0",
      "model_name": "DescriptionStyleModel",
      "state": {
       "description_width": ""
      }
     },
     "532970a768ff4896bbef4f7f8be021e6": {
      "model_module": "@jupyter-widgets/controls",
      "model_module_version": "1.5.0",
      "model_name": "FloatProgressModel",
      "state": {
       "bar_style": "success",
       "layout": "IPY_MODEL_29709400d5bf41b481dd120b85acf541",
       "max": 391,
       "style": "IPY_MODEL_9123256cb6ea463a835952e4c9dc9c9c",
       "value": 391
      }
     },
     "554333f5670d4e25b670c3786795ed65": {
      "model_module": "@jupyter-widgets/controls",
      "model_module_version": "1.5.0",
      "model_name": "HBoxModel",
      "state": {
       "children": [
        "IPY_MODEL_26e56b22f01f45dd8c9bae73cee75759",
        "IPY_MODEL_fea58b71b01547e9ba63a92adae51b84",
        "IPY_MODEL_18b3f8dec2e1409dbdb50e2451978133"
       ],
       "layout": "IPY_MODEL_e34fe2e75cab4a72b3ac7cbc3187dd30"
      }
     },
     "55c3d1736b2841a0adee4cfbaf5a6658": {
      "model_module": "@jupyter-widgets/controls",
      "model_module_version": "1.5.0",
      "model_name": "DescriptionStyleModel",
      "state": {
       "description_width": ""
      }
     },
     "56ac146f91504beba987228f43df0cb5": {
      "model_module": "@jupyter-widgets/controls",
      "model_module_version": "1.5.0",
      "model_name": "FloatProgressModel",
      "state": {
       "bar_style": "success",
       "layout": "IPY_MODEL_5009400ac9bc41a6a125e299a96fa4f4",
       "max": 391,
       "style": "IPY_MODEL_f7a11cd483fd414fbe2bcae33f900d1d",
       "value": 391
      }
     },
     "56cb5ef5515849e495d802d97be336e1": {
      "model_module": "@jupyter-widgets/base",
      "model_module_version": "1.2.0",
      "model_name": "LayoutModel",
      "state": {}
     },
     "56fdaa9e6ef640298663882c5f05bd97": {
      "model_module": "@jupyter-widgets/base",
      "model_module_version": "1.2.0",
      "model_name": "LayoutModel",
      "state": {}
     },
     "586aaa66661a48c8b58b653866b8f12d": {
      "model_module": "@jupyter-widgets/controls",
      "model_module_version": "1.5.0",
      "model_name": "HTMLModel",
      "state": {
       "layout": "IPY_MODEL_2e9378aadb594dfb954040483b4ee25e",
       "style": "IPY_MODEL_ebad4da71f6a4f818da50a6b3d5a0fd7",
       "value": " 782/782 [00:06&lt;00:00, 128.14it/s]"
      }
     },
     "5977b58a9b0340d8ad9510f319a66140": {
      "model_module": "@jupyter-widgets/controls",
      "model_module_version": "1.5.0",
      "model_name": "FloatProgressModel",
      "state": {
       "bar_style": "success",
       "layout": "IPY_MODEL_17bc247b8fe64937834068e959207cbf",
       "max": 391,
       "style": "IPY_MODEL_1b47ccc0cee948ae84a6059d736ca89e",
       "value": 391
      }
     },
     "598fbd8c4acc48589d9c7badf2a8e07a": {
      "model_module": "@jupyter-widgets/controls",
      "model_module_version": "1.5.0",
      "model_name": "ProgressStyleModel",
      "state": {
       "description_width": ""
      }
     },
     "5a99cd31c26f4091b76036f3cc8fdb74": {
      "model_module": "@jupyter-widgets/controls",
      "model_module_version": "1.5.0",
      "model_name": "DescriptionStyleModel",
      "state": {
       "description_width": ""
      }
     },
     "5b9f20b539da4f16a249099450398bdf": {
      "model_module": "@jupyter-widgets/base",
      "model_module_version": "1.2.0",
      "model_name": "LayoutModel",
      "state": {}
     },
     "5c02396bdf68458385fce4d28c71e08c": {
      "model_module": "@jupyter-widgets/base",
      "model_module_version": "1.2.0",
      "model_name": "LayoutModel",
      "state": {}
     },
     "5c58489b5dcc41a995a70ad9411ce1de": {
      "model_module": "@jupyter-widgets/base",
      "model_module_version": "1.2.0",
      "model_name": "LayoutModel",
      "state": {}
     },
     "5cb0bdf7d0fb4415985364577bd600ef": {
      "model_module": "@jupyter-widgets/controls",
      "model_module_version": "1.5.0",
      "model_name": "DescriptionStyleModel",
      "state": {
       "description_width": ""
      }
     },
     "5d352f3929a24d34897ded1ec4679eb3": {
      "model_module": "@jupyter-widgets/controls",
      "model_module_version": "1.5.0",
      "model_name": "ProgressStyleModel",
      "state": {
       "description_width": ""
      }
     },
     "5d58e4812abe4100b2f6f995b771a6ea": {
      "model_module": "@jupyter-widgets/controls",
      "model_module_version": "1.5.0",
      "model_name": "FloatProgressModel",
      "state": {
       "bar_style": "success",
       "layout": "IPY_MODEL_dae03850c6894e38ab78eadf28337353",
       "max": 391,
       "style": "IPY_MODEL_6837cd164e04442f8d37bdc48b716e5d",
       "value": 391
      }
     },
     "5da04bc7db1b40f199f86946518a0ded": {
      "model_module": "@jupyter-widgets/controls",
      "model_module_version": "1.5.0",
      "model_name": "HTMLModel",
      "state": {
       "layout": "IPY_MODEL_30f825e8b580482b8fe4d8b7f653f461",
       "style": "IPY_MODEL_8a94034559654779a162b674dcbf746f",
       "value": " 391/391 [00:43&lt;00:00,  9.00it/s]"
      }
     },
     "5f549e7f4f884d88b17a5edb48b0afee": {
      "model_module": "@jupyter-widgets/controls",
      "model_module_version": "1.5.0",
      "model_name": "ProgressStyleModel",
      "state": {
       "description_width": ""
      }
     },
     "5f87cccfbc63487087d52c2a3b2f0bd3": {
      "model_module": "@jupyter-widgets/base",
      "model_module_version": "1.2.0",
      "model_name": "LayoutModel",
      "state": {}
     },
     "6100f8a168c44fa8b0c1d98def46158f": {
      "model_module": "@jupyter-widgets/controls",
      "model_module_version": "1.5.0",
      "model_name": "HTMLModel",
      "state": {
       "layout": "IPY_MODEL_3660cbfd3c8049c5b7524fd323912b37",
       "style": "IPY_MODEL_136b0263ed9c42f783f1393f004f1fa0",
       "value": " 391/391 [00:42&lt;00:00,  9.17it/s]"
      }
     },
     "6132d514b8724362a3a64ec392494ac4": {
      "model_module": "@jupyter-widgets/controls",
      "model_module_version": "1.5.0",
      "model_name": "DescriptionStyleModel",
      "state": {
       "description_width": ""
      }
     },
     "61c99c8f2f5f4d2e934d44dc12be9911": {
      "model_module": "@jupyter-widgets/controls",
      "model_module_version": "1.5.0",
      "model_name": "HTMLModel",
      "state": {
       "layout": "IPY_MODEL_ee04347005d34f0d80428b18eb3136e7",
       "style": "IPY_MODEL_0af0339c660a4b019f7ddffeba661fee",
       "value": "100%"
      }
     },
     "61ff7a5fdbf34cb1b5e20682c60875ce": {
      "model_module": "@jupyter-widgets/controls",
      "model_module_version": "1.5.0",
      "model_name": "DescriptionStyleModel",
      "state": {
       "description_width": ""
      }
     },
     "62794adbdf9842e785e872356c6b9b8c": {
      "model_module": "@jupyter-widgets/base",
      "model_module_version": "1.2.0",
      "model_name": "LayoutModel",
      "state": {}
     },
     "632a90eeeebc45f7a2982df47d6c38c7": {
      "model_module": "@jupyter-widgets/base",
      "model_module_version": "1.2.0",
      "model_name": "LayoutModel",
      "state": {}
     },
     "63314d63b56d4b3099c45a63f2e8d6b2": {
      "model_module": "@jupyter-widgets/controls",
      "model_module_version": "1.5.0",
      "model_name": "HTMLModel",
      "state": {
       "layout": "IPY_MODEL_ff28747ce03446bc9eef8f4ef57e159b",
       "style": "IPY_MODEL_4b45b8435f9c44eca9c2eef6efa7a59a",
       "value": "100%"
      }
     },
     "635b6fd42fc34ea88e2a125a45903d6d": {
      "model_module": "@jupyter-widgets/base",
      "model_module_version": "1.2.0",
      "model_name": "LayoutModel",
      "state": {}
     },
     "63de641f7e854a829aa059ca6e2eb224": {
      "model_module": "@jupyter-widgets/controls",
      "model_module_version": "1.5.0",
      "model_name": "FloatProgressModel",
      "state": {
       "bar_style": "success",
       "layout": "IPY_MODEL_b610802a608a4481aae53ec25f5f79b8",
       "max": 391,
       "style": "IPY_MODEL_2441a979239340e6b6f244e674e261d4",
       "value": 391
      }
     },
     "63e4f78284324252a6424f4b06dd95e9": {
      "model_module": "@jupyter-widgets/controls",
      "model_module_version": "1.5.0",
      "model_name": "ProgressStyleModel",
      "state": {
       "description_width": ""
      }
     },
     "640560db31de4fc4b043cd0c1a965a5d": {
      "model_module": "@jupyter-widgets/controls",
      "model_module_version": "1.5.0",
      "model_name": "FloatProgressModel",
      "state": {
       "bar_style": "success",
       "layout": "IPY_MODEL_b1323e6c630d44d9960d2f0467d98260",
       "max": 782,
       "style": "IPY_MODEL_cef3a2aad2c54347bde65b443e896844",
       "value": 782
      }
     },
     "642c77aced7c409b845241ce1b4a753e": {
      "model_module": "@jupyter-widgets/controls",
      "model_module_version": "1.5.0",
      "model_name": "DescriptionStyleModel",
      "state": {
       "description_width": ""
      }
     },
     "66d226976fc448d78e643c4a1ddca6d6": {
      "model_module": "@jupyter-widgets/controls",
      "model_module_version": "1.5.0",
      "model_name": "HTMLModel",
      "state": {
       "layout": "IPY_MODEL_8494d037871448299cbdb350ccabb639",
       "style": "IPY_MODEL_1a74ee5774154f07aee3c554bdf469b8",
       "value": " 25000/25000 [03:06&lt;00:00, 133.86it/s]"
      }
     },
     "679b09fc67ce4902bfe6ee229f31281f": {
      "model_module": "@jupyter-widgets/controls",
      "model_module_version": "1.5.0",
      "model_name": "HBoxModel",
      "state": {
       "children": [
        "IPY_MODEL_874540f601b349968567664398b3b11d",
        "IPY_MODEL_fd78d390179945aeaea700e6727d33aa",
        "IPY_MODEL_3e85fa100aa546d884eb1dfadf409796"
       ],
       "layout": "IPY_MODEL_7e1e858306de48d699911cedb8d68984"
      }
     },
     "6834692ec5d0470fac1194977f0c5cab": {
      "model_module": "@jupyter-widgets/base",
      "model_module_version": "1.2.0",
      "model_name": "LayoutModel",
      "state": {}
     },
     "6837cd164e04442f8d37bdc48b716e5d": {
      "model_module": "@jupyter-widgets/controls",
      "model_module_version": "1.5.0",
      "model_name": "ProgressStyleModel",
      "state": {
       "description_width": ""
      }
     },
     "687dc5495c774de89fd58388fdd8c0a4": {
      "model_module": "@jupyter-widgets/controls",
      "model_module_version": "1.5.0",
      "model_name": "DescriptionStyleModel",
      "state": {
       "description_width": ""
      }
     },
     "69838093b6fd4ea79820837dfc877397": {
      "model_module": "@jupyter-widgets/controls",
      "model_module_version": "1.5.0",
      "model_name": "FloatProgressModel",
      "state": {
       "bar_style": "success",
       "layout": "IPY_MODEL_cd890b2758ab498cbd1247b508add3ba",
       "max": 391,
       "style": "IPY_MODEL_1c042785cd4643ffa19387a11d746a9d",
       "value": 391
      }
     },
     "6ae44836eedd46febe187f2ed44ac937": {
      "model_module": "@jupyter-widgets/base",
      "model_module_version": "1.2.0",
      "model_name": "LayoutModel",
      "state": {}
     },
     "6b3613b2c739429cb0932cb722e4472d": {
      "model_module": "@jupyter-widgets/controls",
      "model_module_version": "1.5.0",
      "model_name": "DescriptionStyleModel",
      "state": {
       "description_width": ""
      }
     },
     "6c134dd1a2ec4dffb0cc6a1271c0013d": {
      "model_module": "@jupyter-widgets/base",
      "model_module_version": "1.2.0",
      "model_name": "LayoutModel",
      "state": {}
     },
     "6c5b4f1f475c4c21bb1b54e8735796d8": {
      "model_module": "@jupyter-widgets/base",
      "model_module_version": "1.2.0",
      "model_name": "LayoutModel",
      "state": {}
     },
     "6d433e642a64423a957fae8ed1dfaed4": {
      "model_module": "@jupyter-widgets/base",
      "model_module_version": "1.2.0",
      "model_name": "LayoutModel",
      "state": {}
     },
     "6da581d6c1f4490d92d6a3b82e3fb95c": {
      "model_module": "@jupyter-widgets/controls",
      "model_module_version": "1.5.0",
      "model_name": "HTMLModel",
      "state": {
       "layout": "IPY_MODEL_7daec465bfbe41318fea508393132cff",
       "style": "IPY_MODEL_d989951641a74b1daec979146b7e4025",
       "value": "100%"
      }
     },
     "6dd96d0458604af8b0e51211b1ca79c0": {
      "model_module": "@jupyter-widgets/base",
      "model_module_version": "1.2.0",
      "model_name": "LayoutModel",
      "state": {}
     },
     "6fad38c4331a4671ab947b1231c60932": {
      "model_module": "@jupyter-widgets/controls",
      "model_module_version": "1.5.0",
      "model_name": "HTMLModel",
      "state": {
       "layout": "IPY_MODEL_ca7a429129e64e19a4f1a05d50aa07bb",
       "style": "IPY_MODEL_c397f882e7b0421cb6c1c2b291cc8277",
       "value": "100%"
      }
     },
     "705ac09ab5a64f079854fe314eded6c0": {
      "model_module": "@jupyter-widgets/base",
      "model_module_version": "1.2.0",
      "model_name": "LayoutModel",
      "state": {}
     },
     "714c20d207954c4cb440dc6d9b0acaeb": {
      "model_module": "@jupyter-widgets/controls",
      "model_module_version": "1.5.0",
      "model_name": "FloatProgressModel",
      "state": {
       "bar_style": "success",
       "layout": "IPY_MODEL_7ead1adf237e4281ab9ca6ecd31f93d0",
       "max": 25000,
       "style": "IPY_MODEL_5d352f3929a24d34897ded1ec4679eb3",
       "value": 25000
      }
     },
     "71baa8e8432e430baa3e215bc25a1890": {
      "model_module": "@jupyter-widgets/base",
      "model_module_version": "1.2.0",
      "model_name": "LayoutModel",
      "state": {}
     },
     "72bed254389546cb913aca663d2a06d0": {
      "model_module": "@jupyter-widgets/controls",
      "model_module_version": "1.5.0",
      "model_name": "HTMLModel",
      "state": {
       "layout": "IPY_MODEL_7a786ed15c364954953d049f0070ee71",
       "style": "IPY_MODEL_375c648224a04ac09737ef170c493857",
       "value": "100%"
      }
     },
     "745d221a3e5648c2b5ef8d392b2c1aae": {
      "model_module": "@jupyter-widgets/controls",
      "model_module_version": "1.5.0",
      "model_name": "DescriptionStyleModel",
      "state": {
       "description_width": ""
      }
     },
     "747a6ecf36a0417c9172b92f05713f31": {
      "model_module": "@jupyter-widgets/controls",
      "model_module_version": "1.5.0",
      "model_name": "DescriptionStyleModel",
      "state": {
       "description_width": ""
      }
     },
     "7493b9cac8364aa896f2da88b8652551": {
      "model_module": "@jupyter-widgets/controls",
      "model_module_version": "1.5.0",
      "model_name": "ProgressStyleModel",
      "state": {
       "description_width": ""
      }
     },
     "74ace6ce129a46678734b080297b7045": {
      "model_module": "@jupyter-widgets/base",
      "model_module_version": "1.2.0",
      "model_name": "LayoutModel",
      "state": {}
     },
     "7613f5856ea142d1a5bb82a2e13a26f6": {
      "model_module": "@jupyter-widgets/controls",
      "model_module_version": "1.5.0",
      "model_name": "FloatProgressModel",
      "state": {
       "bar_style": "success",
       "layout": "IPY_MODEL_7af5a52877b34017bb11d9b9105403d6",
       "max": 391,
       "style": "IPY_MODEL_beeeb7e1432749a193faefa55d21e432",
       "value": 391
      }
     },
     "76310af7bff9489a9252c9056c582676": {
      "model_module": "@jupyter-widgets/base",
      "model_module_version": "1.2.0",
      "model_name": "LayoutModel",
      "state": {}
     },
     "775e7bc5369f4228ae79760055a3914a": {
      "model_module": "@jupyter-widgets/controls",
      "model_module_version": "1.5.0",
      "model_name": "FloatProgressModel",
      "state": {
       "bar_style": "success",
       "layout": "IPY_MODEL_ec784d2aed1e49a9945af995cc859f2e",
       "max": 782,
       "style": "IPY_MODEL_049311aa75d04916993ea603559fc10a",
       "value": 782
      }
     },
     "77c97bdb1b3f419b99691bfd38cadb13": {
      "model_module": "@jupyter-widgets/controls",
      "model_module_version": "1.5.0",
      "model_name": "DescriptionStyleModel",
      "state": {
       "description_width": ""
      }
     },
     "7851153d16ed4859834276bbbfb93069": {
      "model_module": "@jupyter-widgets/base",
      "model_module_version": "1.2.0",
      "model_name": "LayoutModel",
      "state": {}
     },
     "78ad7869d9fc4201b0929b87c3530a70": {
      "model_module": "@jupyter-widgets/controls",
      "model_module_version": "1.5.0",
      "model_name": "HTMLModel",
      "state": {
       "layout": "IPY_MODEL_25006175ec744652955d57a35ca90788",
       "style": "IPY_MODEL_6132d514b8724362a3a64ec392494ac4",
       "value": " 391/391 [01:26&lt;00:00,  4.54it/s]"
      }
     },
     "78bcec4a299741e9a597240f647cc6ec": {
      "model_module": "@jupyter-widgets/base",
      "model_module_version": "1.2.0",
      "model_name": "LayoutModel",
      "state": {}
     },
     "78e657d96dd840f7b4df40b619578900": {
      "model_module": "@jupyter-widgets/controls",
      "model_module_version": "1.5.0",
      "model_name": "FloatProgressModel",
      "state": {
       "bar_style": "success",
       "layout": "IPY_MODEL_4ac1b733baa1476e8ecf87e3e11c8880",
       "max": 391,
       "style": "IPY_MODEL_506524301cac4e64b5bdc8188d14d8dd",
       "value": 391
      }
     },
     "78f6d10e8b5d4f87a5cfd797e599cd99": {
      "model_module": "@jupyter-widgets/controls",
      "model_module_version": "1.5.0",
      "model_name": "DescriptionStyleModel",
      "state": {
       "description_width": ""
      }
     },
     "79d9fd2941a343369346713342cc8e73": {
      "model_module": "@jupyter-widgets/controls",
      "model_module_version": "1.5.0",
      "model_name": "FloatProgressModel",
      "state": {
       "bar_style": "success",
       "layout": "IPY_MODEL_c5aa66bb44474bdeb6c6be75c501b096",
       "max": 391,
       "style": "IPY_MODEL_1f74c95a24284e919647ffcee32c0407",
       "value": 391
      }
     },
     "7a5de76da8a242489765ceef8716f0ee": {
      "model_module": "@jupyter-widgets/controls",
      "model_module_version": "1.5.0",
      "model_name": "HTMLModel",
      "state": {
       "layout": "IPY_MODEL_3e6fd52e07d24f8dbccf02897798cfff",
       "style": "IPY_MODEL_3e56557dac8e443ab70e6f400b07b78b",
       "value": "100%"
      }
     },
     "7a786ed15c364954953d049f0070ee71": {
      "model_module": "@jupyter-widgets/base",
      "model_module_version": "1.2.0",
      "model_name": "LayoutModel",
      "state": {}
     },
     "7aa87e82f84c456582b770c1f59e60ff": {
      "model_module": "@jupyter-widgets/base",
      "model_module_version": "1.2.0",
      "model_name": "LayoutModel",
      "state": {}
     },
     "7af5a52877b34017bb11d9b9105403d6": {
      "model_module": "@jupyter-widgets/base",
      "model_module_version": "1.2.0",
      "model_name": "LayoutModel",
      "state": {}
     },
     "7b21f4e94d3f4f7286cbeaa20dbad57e": {
      "model_module": "@jupyter-widgets/base",
      "model_module_version": "1.2.0",
      "model_name": "LayoutModel",
      "state": {}
     },
     "7b51c8f8be4244f38bdd29cc62c22f4c": {
      "model_module": "@jupyter-widgets/controls",
      "model_module_version": "1.5.0",
      "model_name": "HBoxModel",
      "state": {
       "children": [
        "IPY_MODEL_61c99c8f2f5f4d2e934d44dc12be9911",
        "IPY_MODEL_05b8dabd0c2d4b119288d58ff75097ba",
        "IPY_MODEL_0cf2ea2bf2f542f6908fde8940c3dbe1"
       ],
       "layout": "IPY_MODEL_24955a540e204d328a53e43dce250239"
      }
     },
     "7c5506aacc9d41978effe588edee6171": {
      "model_module": "@jupyter-widgets/base",
      "model_module_version": "1.2.0",
      "model_name": "LayoutModel",
      "state": {}
     },
     "7d78af0489f642e78c702f6cdcaed37b": {
      "model_module": "@jupyter-widgets/controls",
      "model_module_version": "1.5.0",
      "model_name": "DescriptionStyleModel",
      "state": {
       "description_width": ""
      }
     },
     "7daec465bfbe41318fea508393132cff": {
      "model_module": "@jupyter-widgets/base",
      "model_module_version": "1.2.0",
      "model_name": "LayoutModel",
      "state": {}
     },
     "7e06b9ba98f54c36b4af4ed69b8e5a53": {
      "model_module": "@jupyter-widgets/controls",
      "model_module_version": "1.5.0",
      "model_name": "HTMLModel",
      "state": {
       "layout": "IPY_MODEL_6834692ec5d0470fac1194977f0c5cab",
       "style": "IPY_MODEL_ed6caa3005d445eb8972720bbc7f464e",
       "value": " 391/391 [06:25&lt;00:00,  1.01it/s]"
      }
     },
     "7e1e858306de48d699911cedb8d68984": {
      "model_module": "@jupyter-widgets/base",
      "model_module_version": "1.2.0",
      "model_name": "LayoutModel",
      "state": {}
     },
     "7ead1adf237e4281ab9ca6ecd31f93d0": {
      "model_module": "@jupyter-widgets/base",
      "model_module_version": "1.2.0",
      "model_name": "LayoutModel",
      "state": {}
     },
     "7ec572d3573c49c383cba93927f069b6": {
      "model_module": "@jupyter-widgets/base",
      "model_module_version": "1.2.0",
      "model_name": "LayoutModel",
      "state": {}
     },
     "801bd465bc004f0fa7ff03e50aa655ef": {
      "model_module": "@jupyter-widgets/controls",
      "model_module_version": "1.5.0",
      "model_name": "HTMLModel",
      "state": {
       "layout": "IPY_MODEL_308b19ba4f144f52a15d6475f000fa30",
       "style": "IPY_MODEL_40bff9d9ad574c55b55aee0cd428184f",
       "value": " 391/391 [21:38&lt;00:00,  3.32s/it]"
      }
     },
     "81244eb8c8444241a9c52e0bf3a17152": {
      "model_module": "@jupyter-widgets/controls",
      "model_module_version": "1.5.0",
      "model_name": "ProgressStyleModel",
      "state": {
       "description_width": ""
      }
     },
     "81a2d7c9ef184d2a9c05d8a75d07cc5b": {
      "model_module": "@jupyter-widgets/base",
      "model_module_version": "1.2.0",
      "model_name": "LayoutModel",
      "state": {}
     },
     "83b82f2f4d11496ab68593ff20da414d": {
      "model_module": "@jupyter-widgets/controls",
      "model_module_version": "1.5.0",
      "model_name": "HTMLModel",
      "state": {
       "layout": "IPY_MODEL_c5af5d1ac6ee4f629d18dba201b0aa23",
       "style": "IPY_MODEL_f7f0bc76d8b748eea1fe48744a1404f2",
       "value": " 391/391 [01:26&lt;00:00,  4.53it/s]"
      }
     },
     "83cfbb09d27045608ad1675e5d16bcc9": {
      "model_module": "@jupyter-widgets/base",
      "model_module_version": "1.2.0",
      "model_name": "LayoutModel",
      "state": {}
     },
     "83cfc795c8ec41f4a7cb2363b112dc7b": {
      "model_module": "@jupyter-widgets/base",
      "model_module_version": "1.2.0",
      "model_name": "LayoutModel",
      "state": {}
     },
     "8494d037871448299cbdb350ccabb639": {
      "model_module": "@jupyter-widgets/base",
      "model_module_version": "1.2.0",
      "model_name": "LayoutModel",
      "state": {}
     },
     "855b4472e696477098645b34e20fc68a": {
      "model_module": "@jupyter-widgets/controls",
      "model_module_version": "1.5.0",
      "model_name": "HTMLModel",
      "state": {
       "layout": "IPY_MODEL_5f87cccfbc63487087d52c2a3b2f0bd3",
       "style": "IPY_MODEL_e9a136d85ed0495bae562bff3b7d9544",
       "value": "100%"
      }
     },
     "874540f601b349968567664398b3b11d": {
      "model_module": "@jupyter-widgets/controls",
      "model_module_version": "1.5.0",
      "model_name": "HTMLModel",
      "state": {
       "layout": "IPY_MODEL_38ef9048ba8947488fd16ce9ede242ce",
       "style": "IPY_MODEL_b1ad190c93e5439d93bcb5647d66115e",
       "value": "100%"
      }
     },
     "8796e91bd0344d4b94fb5ed9e8c31fad": {
      "model_module": "@jupyter-widgets/controls",
      "model_module_version": "1.5.0",
      "model_name": "DescriptionStyleModel",
      "state": {
       "description_width": ""
      }
     },
     "880c96c2af1a49979c68f322364f9fd5": {
      "model_module": "@jupyter-widgets/controls",
      "model_module_version": "1.5.0",
      "model_name": "HTMLModel",
      "state": {
       "layout": "IPY_MODEL_c6315fd0044948a7aef2a38b3e0b4786",
       "style": "IPY_MODEL_2a225de679c64a0c87b2fc6c930cce07",
       "value": "100%"
      }
     },
     "889dadf0be934be991f29142168a1ba7": {
      "model_module": "@jupyter-widgets/controls",
      "model_module_version": "1.5.0",
      "model_name": "HTMLModel",
      "state": {
       "layout": "IPY_MODEL_71baa8e8432e430baa3e215bc25a1890",
       "style": "IPY_MODEL_c6c318325f3948358661ca3bbbbd6974",
       "value": "100%"
      }
     },
     "890aa8f6ac6044b0a41d2bfee6f0c80c": {
      "model_module": "@jupyter-widgets/base",
      "model_module_version": "1.2.0",
      "model_name": "LayoutModel",
      "state": {}
     },
     "89c241e872ea4dc487b8956081d9da0d": {
      "model_module": "@jupyter-widgets/base",
      "model_module_version": "1.2.0",
      "model_name": "LayoutModel",
      "state": {}
     },
     "8a6132b98dcc4cf59a8453a1e41af9f5": {
      "model_module": "@jupyter-widgets/controls",
      "model_module_version": "1.5.0",
      "model_name": "HTMLModel",
      "state": {
       "layout": "IPY_MODEL_4c32ef16934f4972bccf90730a031570",
       "style": "IPY_MODEL_94c9265c06f54e8ca77bfbf47367fe03",
       "value": "100%"
      }
     },
     "8a94034559654779a162b674dcbf746f": {
      "model_module": "@jupyter-widgets/controls",
      "model_module_version": "1.5.0",
      "model_name": "DescriptionStyleModel",
      "state": {
       "description_width": ""
      }
     },
     "8b1874d4981748228644bcb727e3942f": {
      "model_module": "@jupyter-widgets/base",
      "model_module_version": "1.2.0",
      "model_name": "LayoutModel",
      "state": {}
     },
     "8bf16f29c09948608b29edec91a04e3d": {
      "model_module": "@jupyter-widgets/base",
      "model_module_version": "1.2.0",
      "model_name": "LayoutModel",
      "state": {}
     },
     "8c4ee70378db4fdab802cd2842be9e31": {
      "model_module": "@jupyter-widgets/base",
      "model_module_version": "1.2.0",
      "model_name": "LayoutModel",
      "state": {}
     },
     "8cb9de138dce4062bb3b0ff4d8c3b507": {
      "model_module": "@jupyter-widgets/controls",
      "model_module_version": "1.5.0",
      "model_name": "FloatProgressModel",
      "state": {
       "bar_style": "success",
       "layout": "IPY_MODEL_7c5506aacc9d41978effe588edee6171",
       "max": 391,
       "style": "IPY_MODEL_4b6f84b7c1174762b02183990c64b311",
       "value": 391
      }
     },
     "8e1bb3003b3244faabbf96a72149c511": {
      "model_module": "@jupyter-widgets/base",
      "model_module_version": "1.2.0",
      "model_name": "LayoutModel",
      "state": {}
     },
     "8e687845cb884494a89c6e2182688489": {
      "model_module": "@jupyter-widgets/controls",
      "model_module_version": "1.5.0",
      "model_name": "HTMLModel",
      "state": {
       "layout": "IPY_MODEL_ebfe1f21e43d4ae784f60d1f0067db27",
       "style": "IPY_MODEL_7d78af0489f642e78c702f6cdcaed37b",
       "value": " 391/391 [19:25&lt;00:00,  2.98s/it]"
      }
     },
     "8ec904303225453ab3be012815386b7c": {
      "model_module": "@jupyter-widgets/controls",
      "model_module_version": "1.5.0",
      "model_name": "HBoxModel",
      "state": {
       "children": [
        "IPY_MODEL_aab384782f7a40e4859033c9a0b413b7",
        "IPY_MODEL_7613f5856ea142d1a5bb82a2e13a26f6",
        "IPY_MODEL_78ad7869d9fc4201b0929b87c3530a70"
       ],
       "layout": "IPY_MODEL_1e4d0f76b2fa497abb0d3f18b2d7565b"
      }
     },
     "8f5c58d5d23243eabdf8e79b690c31c2": {
      "model_module": "@jupyter-widgets/controls",
      "model_module_version": "1.5.0",
      "model_name": "HTMLModel",
      "state": {
       "layout": "IPY_MODEL_f9bed98dce0c4754a77fb0268bca35b1",
       "style": "IPY_MODEL_338841f44c6b469d9969a1c3d787f732",
       "value": "100%"
      }
     },
     "8f77f47a637c410482a4a6a385ce32b7": {
      "model_module": "@jupyter-widgets/base",
      "model_module_version": "1.2.0",
      "model_name": "LayoutModel",
      "state": {}
     },
     "8fed02c9865f4973b8d95737aee0cff2": {
      "model_module": "@jupyter-widgets/controls",
      "model_module_version": "1.5.0",
      "model_name": "HTMLModel",
      "state": {
       "layout": "IPY_MODEL_4f9d18cbadb744da8ffbef5a624bc688",
       "style": "IPY_MODEL_a556a1a8f61b48b794f85f4dab31875f",
       "value": " 391/391 [17:12&lt;00:00,  2.64s/it]"
      }
     },
     "9017a3130707425e8e948dbae1ee654a": {
      "model_module": "@jupyter-widgets/controls",
      "model_module_version": "1.5.0",
      "model_name": "HBoxModel",
      "state": {
       "children": [
        "IPY_MODEL_eb2cbdc72b134622a2e0ee8254044298",
        "IPY_MODEL_1e87a1a8adf141f4b78246b2718f2754",
        "IPY_MODEL_da71c786d4e74407a10ed2abf4a83090"
       ],
       "layout": "IPY_MODEL_6dd96d0458604af8b0e51211b1ca79c0"
      }
     },
     "9123256cb6ea463a835952e4c9dc9c9c": {
      "model_module": "@jupyter-widgets/controls",
      "model_module_version": "1.5.0",
      "model_name": "ProgressStyleModel",
      "state": {
       "description_width": ""
      }
     },
     "913b09cc8cd14d528bd34c111f5816cb": {
      "model_module": "@jupyter-widgets/controls",
      "model_module_version": "1.5.0",
      "model_name": "HTMLModel",
      "state": {
       "layout": "IPY_MODEL_cd3e0fbff6104e8096710c232b05697b",
       "style": "IPY_MODEL_aa2c355c804b4ff98958d6a4dd3d0b54",
       "value": " 391/391 [15:02&lt;00:00,  2.31s/it]"
      }
     },
     "9364f8237794434aba2edc344100d2bb": {
      "model_module": "@jupyter-widgets/controls",
      "model_module_version": "1.5.0",
      "model_name": "FloatProgressModel",
      "state": {
       "bar_style": "success",
       "layout": "IPY_MODEL_b4d5fb940b0e47bfa5f86716a9f10375",
       "max": 391,
       "style": "IPY_MODEL_0817cd3fe85f48518b0a4fd1e4f1db6b",
       "value": 391
      }
     },
     "939621ca296e44e08bcf281c1d1730f1": {
      "model_module": "@jupyter-widgets/base",
      "model_module_version": "1.2.0",
      "model_name": "LayoutModel",
      "state": {}
     },
     "93fdc32df41f45e29bf24e91774a00f4": {
      "model_module": "@jupyter-widgets/controls",
      "model_module_version": "1.5.0",
      "model_name": "HTMLModel",
      "state": {
       "layout": "IPY_MODEL_56fdaa9e6ef640298663882c5f05bd97",
       "style": "IPY_MODEL_bc4741e41fc8488e93d6083fbbb32286",
       "value": " 782/782 [00:06&lt;00:00, 128.31it/s]"
      }
     },
     "940a218f616c474db0e7ffd5c35ea201": {
      "model_module": "@jupyter-widgets/controls",
      "model_module_version": "1.5.0",
      "model_name": "HTMLModel",
      "state": {
       "layout": "IPY_MODEL_219f9410c5c44135bca6bd62fea443a4",
       "style": "IPY_MODEL_f94fedc6b2744c9ab7740db906258b22",
       "value": "100%"
      }
     },
     "946394d908ac47bba5a6d4d17d3b30ea": {
      "model_module": "@jupyter-widgets/controls",
      "model_module_version": "1.5.0",
      "model_name": "HTMLModel",
      "state": {
       "layout": "IPY_MODEL_25ab2ff16dfd43f8b96d44131a240823",
       "style": "IPY_MODEL_ead67c7b0e304092a9dbbf01c0798a5a",
       "value": "100%"
      }
     },
     "94c9265c06f54e8ca77bfbf47367fe03": {
      "model_module": "@jupyter-widgets/controls",
      "model_module_version": "1.5.0",
      "model_name": "DescriptionStyleModel",
      "state": {
       "description_width": ""
      }
     },
     "94e6a740a86940ddbb61541eb6f7313a": {
      "model_module": "@jupyter-widgets/controls",
      "model_module_version": "1.5.0",
      "model_name": "DescriptionStyleModel",
      "state": {
       "description_width": ""
      }
     },
     "99273f8135c9451b87b6b4914d61d874": {
      "model_module": "@jupyter-widgets/base",
      "model_module_version": "1.2.0",
      "model_name": "LayoutModel",
      "state": {}
     },
     "99e32afecbcb4f239db8dd0ea7cc6eac": {
      "model_module": "@jupyter-widgets/base",
      "model_module_version": "1.2.0",
      "model_name": "LayoutModel",
      "state": {}
     },
     "9a928f86074249919665748c38ce2037": {
      "model_module": "@jupyter-widgets/controls",
      "model_module_version": "1.5.0",
      "model_name": "HBoxModel",
      "state": {
       "children": [
        "IPY_MODEL_34579cd7f551454fa4dad7841dcde534",
        "IPY_MODEL_8cb9de138dce4062bb3b0ff4d8c3b507",
        "IPY_MODEL_330f7831fa164ac7b297b9fe6a97b47b"
       ],
       "layout": "IPY_MODEL_939621ca296e44e08bcf281c1d1730f1"
      }
     },
     "9b4464483d864247bdf869e470779102": {
      "model_module": "@jupyter-widgets/base",
      "model_module_version": "1.2.0",
      "model_name": "LayoutModel",
      "state": {}
     },
     "9cf7d2b772624b87910c3971f4ac9cb3": {
      "model_module": "@jupyter-widgets/controls",
      "model_module_version": "1.5.0",
      "model_name": "ProgressStyleModel",
      "state": {
       "description_width": ""
      }
     },
     "9dae94cc03504328bc7d1783d28cc17f": {
      "model_module": "@jupyter-widgets/controls",
      "model_module_version": "1.5.0",
      "model_name": "DescriptionStyleModel",
      "state": {
       "description_width": ""
      }
     },
     "9e4a110aee8e446ea859328cea9e3012": {
      "model_module": "@jupyter-widgets/controls",
      "model_module_version": "1.5.0",
      "model_name": "HBoxModel",
      "state": {
       "children": [
        "IPY_MODEL_6da581d6c1f4490d92d6a3b82e3fb95c",
        "IPY_MODEL_f31bac912f764fc0b3d757944fa8445f",
        "IPY_MODEL_7e06b9ba98f54c36b4af4ed69b8e5a53"
       ],
       "layout": "IPY_MODEL_d1c52ef2ff45425087da689d1e46cadd"
      }
     },
     "9f488077cc49443192a4f3470d0e6c12": {
      "model_module": "@jupyter-widgets/base",
      "model_module_version": "1.2.0",
      "model_name": "LayoutModel",
      "state": {}
     },
     "9f4f2d31a09f4f93926474e8628aa52e": {
      "model_module": "@jupyter-widgets/controls",
      "model_module_version": "1.5.0",
      "model_name": "ProgressStyleModel",
      "state": {
       "description_width": ""
      }
     },
     "9f5d618e2f7f4f1bb45b0bd9fbdebdf1": {
      "model_module": "@jupyter-widgets/controls",
      "model_module_version": "1.5.0",
      "model_name": "DescriptionStyleModel",
      "state": {
       "description_width": ""
      }
     },
     "9f947f95ea454f88b26eea5a2fcbfbfe": {
      "model_module": "@jupyter-widgets/controls",
      "model_module_version": "1.5.0",
      "model_name": "DescriptionStyleModel",
      "state": {
       "description_width": ""
      }
     },
     "a04661050f894d41b32e8f02938c0a63": {
      "model_module": "@jupyter-widgets/controls",
      "model_module_version": "1.5.0",
      "model_name": "HTMLModel",
      "state": {
       "layout": "IPY_MODEL_83cfc795c8ec41f4a7cb2363b112dc7b",
       "style": "IPY_MODEL_0cc460062bc64aa68fc42a5bb8f43ea7",
       "value": " 391/391 [08:34&lt;00:00,  1.32s/it]"
      }
     },
     "a0ea9097ff7545908c35fbcc7b2fb955": {
      "model_module": "@jupyter-widgets/controls",
      "model_module_version": "1.5.0",
      "model_name": "DescriptionStyleModel",
      "state": {
       "description_width": ""
      }
     },
     "a10268977b874e4abbf453d58a3c43d2": {
      "model_module": "@jupyter-widgets/controls",
      "model_module_version": "1.5.0",
      "model_name": "DescriptionStyleModel",
      "state": {
       "description_width": ""
      }
     },
     "a1a3557200844d709eff19c8337ff142": {
      "model_module": "@jupyter-widgets/controls",
      "model_module_version": "1.5.0",
      "model_name": "HBoxModel",
      "state": {
       "children": [
        "IPY_MODEL_0c451815063e4389ba36e62fd57f769e",
        "IPY_MODEL_07f70e706d684c8e8589015dd84473cf",
        "IPY_MODEL_3719282ff70f4a9f9472b6c056208c2d"
       ],
       "layout": "IPY_MODEL_c2f568ae81494b76a684097577f78840"
      }
     },
     "a241059e8b1f41d7bffc45f70988b222": {
      "model_module": "@jupyter-widgets/base",
      "model_module_version": "1.2.0",
      "model_name": "LayoutModel",
      "state": {}
     },
     "a25f151235cb44098f40f8ca7adf15c8": {
      "model_module": "@jupyter-widgets/controls",
      "model_module_version": "1.5.0",
      "model_name": "HBoxModel",
      "state": {
       "children": [
        "IPY_MODEL_149d8eacbda64ba3ac3e0b8d5e79ad70",
        "IPY_MODEL_d34e0ef38d7f47d5ba1a99180503f355",
        "IPY_MODEL_07fb09bcd276485790c8c512ac54e3d2"
       ],
       "layout": "IPY_MODEL_369c383644f24b74a131a613e006434e"
      }
     },
     "a3a06e7adbfc458abef1f08d94f09434": {
      "model_module": "@jupyter-widgets/base",
      "model_module_version": "1.2.0",
      "model_name": "LayoutModel",
      "state": {}
     },
     "a4b1a284707a4c80a7fd78fdb36cb4a0": {
      "model_module": "@jupyter-widgets/controls",
      "model_module_version": "1.5.0",
      "model_name": "ProgressStyleModel",
      "state": {
       "description_width": ""
      }
     },
     "a556a1a8f61b48b794f85f4dab31875f": {
      "model_module": "@jupyter-widgets/controls",
      "model_module_version": "1.5.0",
      "model_name": "DescriptionStyleModel",
      "state": {
       "description_width": ""
      }
     },
     "a5abcbfd8afa4c9f9a3e631bc6a4ad45": {
      "model_module": "@jupyter-widgets/controls",
      "model_module_version": "1.5.0",
      "model_name": "ProgressStyleModel",
      "state": {
       "description_width": ""
      }
     },
     "a5cf09674de040c29a4f0fd07b0134d0": {
      "model_module": "@jupyter-widgets/controls",
      "model_module_version": "1.5.0",
      "model_name": "DescriptionStyleModel",
      "state": {
       "description_width": ""
      }
     },
     "a623b1c22d6d4ce9921f2e0ae68c4959": {
      "model_module": "@jupyter-widgets/base",
      "model_module_version": "1.2.0",
      "model_name": "LayoutModel",
      "state": {}
     },
     "a72938b81b8b4d9d92155d32995af1a3": {
      "model_module": "@jupyter-widgets/controls",
      "model_module_version": "1.5.0",
      "model_name": "HTMLModel",
      "state": {
       "layout": "IPY_MODEL_e2435bc50c1f41e6884f2367448edbe0",
       "style": "IPY_MODEL_2bccb94a9d974de2bcf1b4fe2d926a75",
       "value": " 391/391 [00:45&lt;00:00,  8.65it/s]"
      }
     },
     "aa2c355c804b4ff98958d6a4dd3d0b54": {
      "model_module": "@jupyter-widgets/controls",
      "model_module_version": "1.5.0",
      "model_name": "DescriptionStyleModel",
      "state": {
       "description_width": ""
      }
     },
     "aab384782f7a40e4859033c9a0b413b7": {
      "model_module": "@jupyter-widgets/controls",
      "model_module_version": "1.5.0",
      "model_name": "HTMLModel",
      "state": {
       "layout": "IPY_MODEL_8e1bb3003b3244faabbf96a72149c511",
       "style": "IPY_MODEL_f99403e4e7154daaaca228de45ff5c5d",
       "value": "100%"
      }
     },
     "ab45243e092843089f7f362c3c20cc8a": {
      "model_module": "@jupyter-widgets/controls",
      "model_module_version": "1.5.0",
      "model_name": "HTMLModel",
      "state": {
       "layout": "IPY_MODEL_d61b5ec5312a485cacd39e32c579c95b",
       "style": "IPY_MODEL_f717a838c7bd4a44a484461d64256555",
       "value": " 391/391 [01:29&lt;00:00,  4.38it/s]"
      }
     },
     "acdfd3f1f28a49e9809ef9568cdc9515": {
      "model_module": "@jupyter-widgets/controls",
      "model_module_version": "1.5.0",
      "model_name": "FloatProgressModel",
      "state": {
       "bar_style": "success",
       "layout": "IPY_MODEL_d5e49a42bdd04fa084eb92f2e9e21364",
       "max": 782,
       "style": "IPY_MODEL_c7ceb0c4175b430ba985d96381003670",
       "value": 782
      }
     },
     "acf6c470c47d44cbb65197f21da1970a": {
      "model_module": "@jupyter-widgets/controls",
      "model_module_version": "1.5.0",
      "model_name": "HBoxModel",
      "state": {
       "children": [
        "IPY_MODEL_940a218f616c474db0e7ffd5c35ea201",
        "IPY_MODEL_1aba88548aa34882a845cf6532d18411",
        "IPY_MODEL_586aaa66661a48c8b58b653866b8f12d"
       ],
       "layout": "IPY_MODEL_2b61abc1057341989a6ad67c806e1166"
      }
     },
     "add983f87f5c4a9db240cad4aa00d51c": {
      "model_module": "@jupyter-widgets/controls",
      "model_module_version": "1.5.0",
      "model_name": "HTMLModel",
      "state": {
       "layout": "IPY_MODEL_e20ea403b07845f7bf783e302371ebce",
       "style": "IPY_MODEL_ddeddfad4cc04d2e95e1063b2f68b29b",
       "value": "100%"
      }
     },
     "ae482d1539da44bab78754d046d0e9b1": {
      "model_module": "@jupyter-widgets/base",
      "model_module_version": "1.2.0",
      "model_name": "LayoutModel",
      "state": {}
     },
     "aed9d8d2026c47c1843b780e406e4b7a": {
      "model_module": "@jupyter-widgets/controls",
      "model_module_version": "1.5.0",
      "model_name": "HTMLModel",
      "state": {
       "layout": "IPY_MODEL_7aa87e82f84c456582b770c1f59e60ff",
       "style": "IPY_MODEL_5cb0bdf7d0fb4415985364577bd600ef",
       "value": " 391/391 [01:27&lt;00:00,  4.45it/s]"
      }
     },
     "af6d4ca86eda4372b76f101cc98974b1": {
      "model_module": "@jupyter-widgets/controls",
      "model_module_version": "1.5.0",
      "model_name": "ProgressStyleModel",
      "state": {
       "description_width": ""
      }
     },
     "b0709958c08146738946dbb4b40e6c6c": {
      "model_module": "@jupyter-widgets/controls",
      "model_module_version": "1.5.0",
      "model_name": "HTMLModel",
      "state": {
       "layout": "IPY_MODEL_499ee34be34b4334bdb77dbdbb0e5af7",
       "style": "IPY_MODEL_253b376640ce4a72b11c1bc92408198b",
       "value": " 391/391 [01:27&lt;00:00,  4.47it/s]"
      }
     },
     "b0bd0c8323b642ee88a52246961e9f9d": {
      "model_module": "@jupyter-widgets/base",
      "model_module_version": "1.2.0",
      "model_name": "LayoutModel",
      "state": {}
     },
     "b1323e6c630d44d9960d2f0467d98260": {
      "model_module": "@jupyter-widgets/base",
      "model_module_version": "1.2.0",
      "model_name": "LayoutModel",
      "state": {}
     },
     "b1ad190c93e5439d93bcb5647d66115e": {
      "model_module": "@jupyter-widgets/controls",
      "model_module_version": "1.5.0",
      "model_name": "DescriptionStyleModel",
      "state": {
       "description_width": ""
      }
     },
     "b2b266a967dc4bef8e24cbe6c3485e49": {
      "model_module": "@jupyter-widgets/controls",
      "model_module_version": "1.5.0",
      "model_name": "HTMLModel",
      "state": {
       "layout": "IPY_MODEL_0d0fec1c660742518d395dbc0d0237e5",
       "style": "IPY_MODEL_2b12352e439741d7b71571578ad025e3",
       "value": "100%"
      }
     },
     "b2bd3c8f1fc84f7790ff637b29b72740": {
      "model_module": "@jupyter-widgets/controls",
      "model_module_version": "1.5.0",
      "model_name": "FloatProgressModel",
      "state": {
       "bar_style": "success",
       "layout": "IPY_MODEL_00a5359fb3cc41d1b791afbdbb98bb18",
       "max": 391,
       "style": "IPY_MODEL_bb55bfbf3913487f98c39a54e15aa108",
       "value": 391
      }
     },
     "b31dabaee98d461bb9e3b930ce58a644": {
      "model_module": "@jupyter-widgets/base",
      "model_module_version": "1.2.0",
      "model_name": "LayoutModel",
      "state": {}
     },
     "b3dbbfd94c0b4cbc9d6af3dc7c74cf42": {
      "model_module": "@jupyter-widgets/controls",
      "model_module_version": "1.5.0",
      "model_name": "HBoxModel",
      "state": {
       "children": [
        "IPY_MODEL_d8dc3a5c05c949fa9a877d79eaa8afdc",
        "IPY_MODEL_f9466ab26eb7442f8e8511a16eddcbe4",
        "IPY_MODEL_93fdc32df41f45e29bf24e91774a00f4"
       ],
       "layout": "IPY_MODEL_8c4ee70378db4fdab802cd2842be9e31"
      }
     },
     "b4d5fb940b0e47bfa5f86716a9f10375": {
      "model_module": "@jupyter-widgets/base",
      "model_module_version": "1.2.0",
      "model_name": "LayoutModel",
      "state": {}
     },
     "b553453d9eef48338194bf3d00470e83": {
      "model_module": "@jupyter-widgets/base",
      "model_module_version": "1.2.0",
      "model_name": "LayoutModel",
      "state": {}
     },
     "b55ae2de014543afba23bd7807564f0f": {
      "model_module": "@jupyter-widgets/controls",
      "model_module_version": "1.5.0",
      "model_name": "HBoxModel",
      "state": {
       "children": [
        "IPY_MODEL_0c393777f1134806b25a65d398c656b8",
        "IPY_MODEL_03a7de7c239c49fba21e7c8eff377494",
        "IPY_MODEL_f28e22f898ea43fb801791d5c7542f4f"
       ],
       "layout": "IPY_MODEL_83cfbb09d27045608ad1675e5d16bcc9"
      }
     },
     "b5c5c8d9412741ada5b3c19375822613": {
      "model_module": "@jupyter-widgets/controls",
      "model_module_version": "1.5.0",
      "model_name": "DescriptionStyleModel",
      "state": {
       "description_width": ""
      }
     },
     "b610802a608a4481aae53ec25f5f79b8": {
      "model_module": "@jupyter-widgets/base",
      "model_module_version": "1.2.0",
      "model_name": "LayoutModel",
      "state": {}
     },
     "b7162a1db1814c9fb64e19112f340926": {
      "model_module": "@jupyter-widgets/base",
      "model_module_version": "1.2.0",
      "model_name": "LayoutModel",
      "state": {}
     },
     "b7d90a3a31ca4c39af9df28974121298": {
      "model_module": "@jupyter-widgets/controls",
      "model_module_version": "1.5.0",
      "model_name": "DescriptionStyleModel",
      "state": {
       "description_width": ""
      }
     },
     "baae1af9af3f4809906b3ba7f14e241b": {
      "model_module": "@jupyter-widgets/controls",
      "model_module_version": "1.5.0",
      "model_name": "HBoxModel",
      "state": {
       "children": [
        "IPY_MODEL_08393659fde34edda6ee59c349439ad7",
        "IPY_MODEL_714c20d207954c4cb440dc6d9b0acaeb",
        "IPY_MODEL_66d226976fc448d78e643c4a1ddca6d6"
       ],
       "layout": "IPY_MODEL_76310af7bff9489a9252c9056c582676"
      }
     },
     "bacf594b932f4382a30ecff7da2b77c9": {
      "model_module": "@jupyter-widgets/controls",
      "model_module_version": "1.5.0",
      "model_name": "HTMLModel",
      "state": {
       "layout": "IPY_MODEL_c7a76c4a2f6f4470a48ba54ad6cf64b8",
       "style": "IPY_MODEL_48c311b0171643e88f7e5b9ba01b2c99",
       "value": " 391/391 [04:18&lt;00:00,  1.51it/s]"
      }
     },
     "bad16b63f2694d17b3e6caabf1e5650f": {
      "model_module": "@jupyter-widgets/controls",
      "model_module_version": "1.5.0",
      "model_name": "FloatProgressModel",
      "state": {
       "bar_style": "success",
       "layout": "IPY_MODEL_a623b1c22d6d4ce9921f2e0ae68c4959",
       "max": 391,
       "style": "IPY_MODEL_f8b1b978ec7d47d9853a5b9cd6f5f255",
       "value": 391
      }
     },
     "bb094b24b04e4631b8222ee2ae7f7292": {
      "model_module": "@jupyter-widgets/base",
      "model_module_version": "1.2.0",
      "model_name": "LayoutModel",
      "state": {}
     },
     "bb55bfbf3913487f98c39a54e15aa108": {
      "model_module": "@jupyter-widgets/controls",
      "model_module_version": "1.5.0",
      "model_name": "ProgressStyleModel",
      "state": {
       "description_width": ""
      }
     },
     "bbf5bdec759a40869393f328a47970e7": {
      "model_module": "@jupyter-widgets/controls",
      "model_module_version": "1.5.0",
      "model_name": "ProgressStyleModel",
      "state": {
       "description_width": ""
      }
     },
     "bc4741e41fc8488e93d6083fbbb32286": {
      "model_module": "@jupyter-widgets/controls",
      "model_module_version": "1.5.0",
      "model_name": "DescriptionStyleModel",
      "state": {
       "description_width": ""
      }
     },
     "bd9c62cdf72a43da84771deed868780e": {
      "model_module": "@jupyter-widgets/base",
      "model_module_version": "1.2.0",
      "model_name": "LayoutModel",
      "state": {}
     },
     "beeeb7e1432749a193faefa55d21e432": {
      "model_module": "@jupyter-widgets/controls",
      "model_module_version": "1.5.0",
      "model_name": "ProgressStyleModel",
      "state": {
       "description_width": ""
      }
     },
     "bf60299435b244db834c579772685620": {
      "model_module": "@jupyter-widgets/base",
      "model_module_version": "1.2.0",
      "model_name": "LayoutModel",
      "state": {}
     },
     "c04b687119864736a87cc9f36d682aac": {
      "model_module": "@jupyter-widgets/base",
      "model_module_version": "1.2.0",
      "model_name": "LayoutModel",
      "state": {}
     },
     "c10fc66e0f6b42c5852141736db6d441": {
      "model_module": "@jupyter-widgets/controls",
      "model_module_version": "1.5.0",
      "model_name": "HBoxModel",
      "state": {
       "children": [
        "IPY_MODEL_b2b266a967dc4bef8e24cbe6c3485e49",
        "IPY_MODEL_775e7bc5369f4228ae79760055a3914a",
        "IPY_MODEL_5106f7f500d04df889753ee92f466a00"
       ],
       "layout": "IPY_MODEL_d6d51b1728fc4ac0a36e1f6be6a2d418"
      }
     },
     "c120dde245784256b32f3d2a5893b908": {
      "model_module": "@jupyter-widgets/controls",
      "model_module_version": "1.5.0",
      "model_name": "HTMLModel",
      "state": {
       "layout": "IPY_MODEL_18ae13c32e4247cdb46721d4c4229d35",
       "style": "IPY_MODEL_9dae94cc03504328bc7d1783d28cc17f",
       "value": " 391/391 [01:26&lt;00:00,  4.54it/s]"
      }
     },
     "c2f568ae81494b76a684097577f78840": {
      "model_module": "@jupyter-widgets/base",
      "model_module_version": "1.2.0",
      "model_name": "LayoutModel",
      "state": {}
     },
     "c397f882e7b0421cb6c1c2b291cc8277": {
      "model_module": "@jupyter-widgets/controls",
      "model_module_version": "1.5.0",
      "model_name": "DescriptionStyleModel",
      "state": {
       "description_width": ""
      }
     },
     "c442b2bda0e74f128f33e5e49b1983d9": {
      "model_module": "@jupyter-widgets/controls",
      "model_module_version": "1.5.0",
      "model_name": "DescriptionStyleModel",
      "state": {
       "description_width": ""
      }
     },
     "c4f56b801e5e4cf0accea175b5d0a1a8": {
      "model_module": "@jupyter-widgets/base",
      "model_module_version": "1.2.0",
      "model_name": "LayoutModel",
      "state": {}
     },
     "c50d426cbcfa45edb7a0ea1e5b8509d4": {
      "model_module": "@jupyter-widgets/controls",
      "model_module_version": "1.5.0",
      "model_name": "HTMLModel",
      "state": {
       "layout": "IPY_MODEL_f0773f3956a742e587d9c7b1a2b7fa2d",
       "style": "IPY_MODEL_77c97bdb1b3f419b99691bfd38cadb13",
       "value": "100%"
      }
     },
     "c58435101d94444ea9e5ff2e7c6001d6": {
      "model_module": "@jupyter-widgets/controls",
      "model_module_version": "1.5.0",
      "model_name": "DescriptionStyleModel",
      "state": {
       "description_width": ""
      }
     },
     "c5aa66bb44474bdeb6c6be75c501b096": {
      "model_module": "@jupyter-widgets/base",
      "model_module_version": "1.2.0",
      "model_name": "LayoutModel",
      "state": {}
     },
     "c5af5d1ac6ee4f629d18dba201b0aa23": {
      "model_module": "@jupyter-widgets/base",
      "model_module_version": "1.2.0",
      "model_name": "LayoutModel",
      "state": {}
     },
     "c61acd89a032489d9bc29eb8be64f41c": {
      "model_module": "@jupyter-widgets/base",
      "model_module_version": "1.2.0",
      "model_name": "LayoutModel",
      "state": {}
     },
     "c624f1cf146e4bf6804db52805860c0c": {
      "model_module": "@jupyter-widgets/controls",
      "model_module_version": "1.5.0",
      "model_name": "FloatProgressModel",
      "state": {
       "bar_style": "success",
       "layout": "IPY_MODEL_bf60299435b244db834c579772685620",
       "max": 391,
       "style": "IPY_MODEL_e835c4efe2c444189cfcedbfa2bd2e9a",
       "value": 391
      }
     },
     "c6315fd0044948a7aef2a38b3e0b4786": {
      "model_module": "@jupyter-widgets/base",
      "model_module_version": "1.2.0",
      "model_name": "LayoutModel",
      "state": {}
     },
     "c6c318325f3948358661ca3bbbbd6974": {
      "model_module": "@jupyter-widgets/controls",
      "model_module_version": "1.5.0",
      "model_name": "DescriptionStyleModel",
      "state": {
       "description_width": ""
      }
     },
     "c75185a0667140539ba81718eac32e48": {
      "model_module": "@jupyter-widgets/base",
      "model_module_version": "1.2.0",
      "model_name": "LayoutModel",
      "state": {}
     },
     "c7a76c4a2f6f4470a48ba54ad6cf64b8": {
      "model_module": "@jupyter-widgets/base",
      "model_module_version": "1.2.0",
      "model_name": "LayoutModel",
      "state": {}
     },
     "c7ceb0c4175b430ba985d96381003670": {
      "model_module": "@jupyter-widgets/controls",
      "model_module_version": "1.5.0",
      "model_name": "ProgressStyleModel",
      "state": {
       "description_width": ""
      }
     },
     "c86cb8cba9aa415895faf6804d5ad284": {
      "model_module": "@jupyter-widgets/base",
      "model_module_version": "1.2.0",
      "model_name": "LayoutModel",
      "state": {}
     },
     "c8b1b37fbff945899ba33d6a98512812": {
      "model_module": "@jupyter-widgets/controls",
      "model_module_version": "1.5.0",
      "model_name": "DescriptionStyleModel",
      "state": {
       "description_width": ""
      }
     },
     "c9dd5b808cdf49e9a61463a88f8bc9b0": {
      "model_module": "@jupyter-widgets/controls",
      "model_module_version": "1.5.0",
      "model_name": "HBoxModel",
      "state": {
       "children": [
        "IPY_MODEL_4ef625bfec474ff8bc96a2012debd60f",
        "IPY_MODEL_085e82583df545a4957883eb41bda99b",
        "IPY_MODEL_1493eb1b7c544ea0a75f97c740e36700"
       ],
       "layout": "IPY_MODEL_d642970ee6b0431f9d2faa1a45af4c6f"
      }
     },
     "ca5958982ff642a3b5e3d59b4b3abdec": {
      "model_module": "@jupyter-widgets/base",
      "model_module_version": "1.2.0",
      "model_name": "LayoutModel",
      "state": {}
     },
     "ca7a429129e64e19a4f1a05d50aa07bb": {
      "model_module": "@jupyter-widgets/base",
      "model_module_version": "1.2.0",
      "model_name": "LayoutModel",
      "state": {}
     },
     "ca80d748ff604e69a2472898130b616f": {
      "model_module": "@jupyter-widgets/base",
      "model_module_version": "1.2.0",
      "model_name": "LayoutModel",
      "state": {}
     },
     "cb7da075acbc48e998a2946fc82b7f11": {
      "model_module": "@jupyter-widgets/base",
      "model_module_version": "1.2.0",
      "model_name": "LayoutModel",
      "state": {}
     },
     "cc33a52e23964c229314255ae0fd7b09": {
      "model_module": "@jupyter-widgets/controls",
      "model_module_version": "1.5.0",
      "model_name": "DescriptionStyleModel",
      "state": {
       "description_width": ""
      }
     },
     "cd1af7d9189a46da9394453db29dbed4": {
      "model_module": "@jupyter-widgets/controls",
      "model_module_version": "1.5.0",
      "model_name": "HBoxModel",
      "state": {
       "children": [
        "IPY_MODEL_39ce51aa3be54c1d833eacae65295a6d",
        "IPY_MODEL_9364f8237794434aba2edc344100d2bb",
        "IPY_MODEL_913b09cc8cd14d528bd34c111f5816cb"
       ],
       "layout": "IPY_MODEL_d4fc004ec0014a80afa1e4c896506589"
      }
     },
     "cd3e0fbff6104e8096710c232b05697b": {
      "model_module": "@jupyter-widgets/base",
      "model_module_version": "1.2.0",
      "model_name": "LayoutModel",
      "state": {}
     },
     "cd890b2758ab498cbd1247b508add3ba": {
      "model_module": "@jupyter-widgets/base",
      "model_module_version": "1.2.0",
      "model_name": "LayoutModel",
      "state": {}
     },
     "ce53f188af0c410f9b778efda9ecf93e": {
      "model_module": "@jupyter-widgets/controls",
      "model_module_version": "1.5.0",
      "model_name": "HBoxModel",
      "state": {
       "children": [
        "IPY_MODEL_855b4472e696477098645b34e20fc68a",
        "IPY_MODEL_63de641f7e854a829aa059ca6e2eb224",
        "IPY_MODEL_38b78d0b3fcd42d3885752aa5caccdc9"
       ],
       "layout": "IPY_MODEL_4dda819b08114f50af75394c6385505a"
      }
     },
     "ce7a9077ec294417bdad0cc2784abe0d": {
      "model_module": "@jupyter-widgets/controls",
      "model_module_version": "1.5.0",
      "model_name": "FloatProgressModel",
      "state": {
       "bar_style": "success",
       "layout": "IPY_MODEL_e140147b73944acfafbfc119f98ecac8",
       "max": 391,
       "style": "IPY_MODEL_d346d0296e564bb08f7a71ae2c747f47",
       "value": 391
      }
     },
     "cef3a2aad2c54347bde65b443e896844": {
      "model_module": "@jupyter-widgets/controls",
      "model_module_version": "1.5.0",
      "model_name": "ProgressStyleModel",
      "state": {
       "description_width": ""
      }
     },
     "d1c52ef2ff45425087da689d1e46cadd": {
      "model_module": "@jupyter-widgets/base",
      "model_module_version": "1.2.0",
      "model_name": "LayoutModel",
      "state": {}
     },
     "d250e1ec8f0e4955b2e46f861c2203df": {
      "model_module": "@jupyter-widgets/base",
      "model_module_version": "1.2.0",
      "model_name": "LayoutModel",
      "state": {}
     },
     "d346d0296e564bb08f7a71ae2c747f47": {
      "model_module": "@jupyter-widgets/controls",
      "model_module_version": "1.5.0",
      "model_name": "ProgressStyleModel",
      "state": {
       "description_width": ""
      }
     },
     "d34e0ef38d7f47d5ba1a99180503f355": {
      "model_module": "@jupyter-widgets/controls",
      "model_module_version": "1.5.0",
      "model_name": "FloatProgressModel",
      "state": {
       "bar_style": "success",
       "layout": "IPY_MODEL_e269b863a8064d17b4bb62e57cdbd2a9",
       "max": 782,
       "style": "IPY_MODEL_402c09a1ccf242b394017dc02883985f",
       "value": 782
      }
     },
     "d4fc004ec0014a80afa1e4c896506589": {
      "model_module": "@jupyter-widgets/base",
      "model_module_version": "1.2.0",
      "model_name": "LayoutModel",
      "state": {}
     },
     "d53e1285eda444cda866306a86bcf048": {
      "model_module": "@jupyter-widgets/base",
      "model_module_version": "1.2.0",
      "model_name": "LayoutModel",
      "state": {}
     },
     "d575631b614b4a65a5937c0892ea3f2a": {
      "model_module": "@jupyter-widgets/controls",
      "model_module_version": "1.5.0",
      "model_name": "DescriptionStyleModel",
      "state": {
       "description_width": ""
      }
     },
     "d5e49a42bdd04fa084eb92f2e9e21364": {
      "model_module": "@jupyter-widgets/base",
      "model_module_version": "1.2.0",
      "model_name": "LayoutModel",
      "state": {}
     },
     "d61b5ec5312a485cacd39e32c579c95b": {
      "model_module": "@jupyter-widgets/base",
      "model_module_version": "1.2.0",
      "model_name": "LayoutModel",
      "state": {}
     },
     "d642970ee6b0431f9d2faa1a45af4c6f": {
      "model_module": "@jupyter-widgets/base",
      "model_module_version": "1.2.0",
      "model_name": "LayoutModel",
      "state": {}
     },
     "d6d51b1728fc4ac0a36e1f6be6a2d418": {
      "model_module": "@jupyter-widgets/base",
      "model_module_version": "1.2.0",
      "model_name": "LayoutModel",
      "state": {}
     },
     "d6d703bb53794803985608013ff59f46": {
      "model_module": "@jupyter-widgets/controls",
      "model_module_version": "1.5.0",
      "model_name": "ProgressStyleModel",
      "state": {
       "description_width": ""
      }
     },
     "d8dc3a5c05c949fa9a877d79eaa8afdc": {
      "model_module": "@jupyter-widgets/controls",
      "model_module_version": "1.5.0",
      "model_name": "HTMLModel",
      "state": {
       "layout": "IPY_MODEL_635b6fd42fc34ea88e2a125a45903d6d",
       "style": "IPY_MODEL_2e900ca4097a442b8a674db9b9ac039a",
       "value": "100%"
      }
     },
     "d96267af6cdf49ac8686d01e09b63587": {
      "model_module": "@jupyter-widgets/controls",
      "model_module_version": "1.5.0",
      "model_name": "HTMLModel",
      "state": {
       "layout": "IPY_MODEL_e2f6508e4bc142189b4227900579a94a",
       "style": "IPY_MODEL_1c32d326443142529b0cff3ae4e487fd",
       "value": " 391/391 [10:43&lt;00:00,  1.65s/it]"
      }
     },
     "d989951641a74b1daec979146b7e4025": {
      "model_module": "@jupyter-widgets/controls",
      "model_module_version": "1.5.0",
      "model_name": "DescriptionStyleModel",
      "state": {
       "description_width": ""
      }
     },
     "d9a98c15e04d4cc8886c46fb2fca8007": {
      "model_module": "@jupyter-widgets/controls",
      "model_module_version": "1.5.0",
      "model_name": "HTMLModel",
      "state": {
       "layout": "IPY_MODEL_c04b687119864736a87cc9f36d682aac",
       "style": "IPY_MODEL_03b114bbab6348058d00b4124407ef4e",
       "value": "100%"
      }
     },
     "d9ad2da1744f4d88af98da5ef31fa5cc": {
      "model_module": "@jupyter-widgets/controls",
      "model_module_version": "1.5.0",
      "model_name": "DescriptionStyleModel",
      "state": {
       "description_width": ""
      }
     },
     "da71c786d4e74407a10ed2abf4a83090": {
      "model_module": "@jupyter-widgets/controls",
      "model_module_version": "1.5.0",
      "model_name": "HTMLModel",
      "state": {
       "layout": "IPY_MODEL_dee048ee739b44b98a941286a9485d50",
       "style": "IPY_MODEL_642c77aced7c409b845241ce1b4a753e",
       "value": " 391/391 [00:42&lt;00:00,  9.18it/s]"
      }
     },
     "dae03850c6894e38ab78eadf28337353": {
      "model_module": "@jupyter-widgets/base",
      "model_module_version": "1.2.0",
      "model_name": "LayoutModel",
      "state": {}
     },
     "db64951054e842d4b4b8b63a41f286ff": {
      "model_module": "@jupyter-widgets/controls",
      "model_module_version": "1.5.0",
      "model_name": "DescriptionStyleModel",
      "state": {
       "description_width": ""
      }
     },
     "dbe199b8acd14728bbe3f13a0e85e137": {
      "model_module": "@jupyter-widgets/base",
      "model_module_version": "1.2.0",
      "model_name": "LayoutModel",
      "state": {}
     },
     "dc0006bbb59343738158d4ebf8138128": {
      "model_module": "@jupyter-widgets/base",
      "model_module_version": "1.2.0",
      "model_name": "LayoutModel",
      "state": {}
     },
     "dc17655adda84a6c981b0e9040d8a243": {
      "model_module": "@jupyter-widgets/base",
      "model_module_version": "1.2.0",
      "model_name": "LayoutModel",
      "state": {}
     },
     "ddac704cf7ea44be8bd3ab923fe36d5e": {
      "model_module": "@jupyter-widgets/base",
      "model_module_version": "1.2.0",
      "model_name": "LayoutModel",
      "state": {}
     },
     "ddeddfad4cc04d2e95e1063b2f68b29b": {
      "model_module": "@jupyter-widgets/controls",
      "model_module_version": "1.5.0",
      "model_name": "DescriptionStyleModel",
      "state": {
       "description_width": ""
      }
     },
     "de08d2a96cbe433bafadc495b77074c1": {
      "model_module": "@jupyter-widgets/controls",
      "model_module_version": "1.5.0",
      "model_name": "HBoxModel",
      "state": {
       "children": [
        "IPY_MODEL_ff721bff68b64cae9a1b77adfc75e066",
        "IPY_MODEL_19651bbf75e340b88e0aee6f104954a2",
        "IPY_MODEL_f661f14486994148b5c63a1e149deb95"
       ],
       "layout": "IPY_MODEL_dc0006bbb59343738158d4ebf8138128"
      }
     },
     "de508410e51c42278f80eaeb40a8c5b8": {
      "model_module": "@jupyter-widgets/controls",
      "model_module_version": "1.5.0",
      "model_name": "ProgressStyleModel",
      "state": {
       "description_width": ""
      }
     },
     "dea0d670af5b47b49d0f52591e451c17": {
      "model_module": "@jupyter-widgets/base",
      "model_module_version": "1.2.0",
      "model_name": "LayoutModel",
      "state": {}
     },
     "dee048ee739b44b98a941286a9485d50": {
      "model_module": "@jupyter-widgets/base",
      "model_module_version": "1.2.0",
      "model_name": "LayoutModel",
      "state": {}
     },
     "deeae1dad95d44749ab3903ad03caf41": {
      "model_module": "@jupyter-widgets/controls",
      "model_module_version": "1.5.0",
      "model_name": "DescriptionStyleModel",
      "state": {
       "description_width": ""
      }
     },
     "e092f2cc73ef429e9cb6d95c1d670183": {
      "model_module": "@jupyter-widgets/controls",
      "model_module_version": "1.5.0",
      "model_name": "HBoxModel",
      "state": {
       "children": [
        "IPY_MODEL_147a93e0f8104443b03b847bfc745c65",
        "IPY_MODEL_79d9fd2941a343369346713342cc8e73",
        "IPY_MODEL_d96267af6cdf49ac8686d01e09b63587"
       ],
       "layout": "IPY_MODEL_890aa8f6ac6044b0a41d2bfee6f0c80c"
      }
     },
     "e0f7709079094f7098fe3647919479b7": {
      "model_module": "@jupyter-widgets/controls",
      "model_module_version": "1.5.0",
      "model_name": "DescriptionStyleModel",
      "state": {
       "description_width": ""
      }
     },
     "e140147b73944acfafbfc119f98ecac8": {
      "model_module": "@jupyter-widgets/base",
      "model_module_version": "1.2.0",
      "model_name": "LayoutModel",
      "state": {}
     },
     "e168288d03ba424e9b254c15e20b8866": {
      "model_module": "@jupyter-widgets/controls",
      "model_module_version": "1.5.0",
      "model_name": "HBoxModel",
      "state": {
       "children": [
        "IPY_MODEL_c50d426cbcfa45edb7a0ea1e5b8509d4",
        "IPY_MODEL_f66d3cead040474a9f78f9e0b4a69ade",
        "IPY_MODEL_8fed02c9865f4973b8d95737aee0cff2"
       ],
       "layout": "IPY_MODEL_6ae44836eedd46febe187f2ed44ac937"
      }
     },
     "e1a70d7d945f45aca533b504faea0706": {
      "model_module": "@jupyter-widgets/controls",
      "model_module_version": "1.5.0",
      "model_name": "HTMLModel",
      "state": {
       "layout": "IPY_MODEL_231d6fdd2ef04f2eb1913163e4d0db46",
       "style": "IPY_MODEL_c58435101d94444ea9e5ff2e7c6001d6",
       "value": " 391/391 [02:11&lt;00:00,  2.97it/s]"
      }
     },
     "e20ea403b07845f7bf783e302371ebce": {
      "model_module": "@jupyter-widgets/base",
      "model_module_version": "1.2.0",
      "model_name": "LayoutModel",
      "state": {}
     },
     "e24185833b4e4b94ad532db1f2de204b": {
      "model_module": "@jupyter-widgets/base",
      "model_module_version": "1.2.0",
      "model_name": "LayoutModel",
      "state": {}
     },
     "e2435bc50c1f41e6884f2367448edbe0": {
      "model_module": "@jupyter-widgets/base",
      "model_module_version": "1.2.0",
      "model_name": "LayoutModel",
      "state": {}
     },
     "e269b863a8064d17b4bb62e57cdbd2a9": {
      "model_module": "@jupyter-widgets/base",
      "model_module_version": "1.2.0",
      "model_name": "LayoutModel",
      "state": {}
     },
     "e2f6508e4bc142189b4227900579a94a": {
      "model_module": "@jupyter-widgets/base",
      "model_module_version": "1.2.0",
      "model_name": "LayoutModel",
      "state": {}
     },
     "e34fe2e75cab4a72b3ac7cbc3187dd30": {
      "model_module": "@jupyter-widgets/base",
      "model_module_version": "1.2.0",
      "model_name": "LayoutModel",
      "state": {}
     },
     "e37a0e56acdb497987217bbe4aab0491": {
      "model_module": "@jupyter-widgets/base",
      "model_module_version": "1.2.0",
      "model_name": "LayoutModel",
      "state": {}
     },
     "e3f585e699544bbeb8cc4d502440d49e": {
      "model_module": "@jupyter-widgets/controls",
      "model_module_version": "1.5.0",
      "model_name": "HBoxModel",
      "state": {
       "children": [
        "IPY_MODEL_72bed254389546cb913aca663d2a06d0",
        "IPY_MODEL_532970a768ff4896bbef4f7f8be021e6",
        "IPY_MODEL_c120dde245784256b32f3d2a5893b908"
       ],
       "layout": "IPY_MODEL_f4821f6beb514392b7bb4d90283715eb"
      }
     },
     "e4407ca2b6184d57a4ea55dc7bb4769b": {
      "model_module": "@jupyter-widgets/controls",
      "model_module_version": "1.5.0",
      "model_name": "HTMLModel",
      "state": {
       "layout": "IPY_MODEL_ca5958982ff642a3b5e3d59b4b3abdec",
       "style": "IPY_MODEL_745d221a3e5648c2b5ef8d392b2c1aae",
       "value": "100%"
      }
     },
     "e4791d2419b74d27992c666e3247eed4": {
      "model_module": "@jupyter-widgets/controls",
      "model_module_version": "1.5.0",
      "model_name": "HBoxModel",
      "state": {
       "children": [
        "IPY_MODEL_889dadf0be934be991f29142168a1ba7",
        "IPY_MODEL_56ac146f91504beba987228f43df0cb5",
        "IPY_MODEL_a04661050f894d41b32e8f02938c0a63"
       ],
       "layout": "IPY_MODEL_05f9f8bda24a422dbb82b1c5e5ebe02a"
      }
     },
     "e4e8c5a036a04cbfbc606de37f6cbbd8": {
      "model_module": "@jupyter-widgets/controls",
      "model_module_version": "1.5.0",
      "model_name": "HTMLModel",
      "state": {
       "layout": "IPY_MODEL_6c134dd1a2ec4dffb0cc6a1271c0013d",
       "style": "IPY_MODEL_ee61735799d941f2874909ac90417456",
       "value": "100%"
      }
     },
     "e5adcf89c4d84404b09ef63d5e6f4a34": {
      "model_module": "@jupyter-widgets/controls",
      "model_module_version": "1.5.0",
      "model_name": "DescriptionStyleModel",
      "state": {
       "description_width": ""
      }
     },
     "e6a13ef533e44c918ccc8f9d7b11f9a8": {
      "model_module": "@jupyter-widgets/controls",
      "model_module_version": "1.5.0",
      "model_name": "HTMLModel",
      "state": {
       "layout": "IPY_MODEL_705ac09ab5a64f079854fe314eded6c0",
       "style": "IPY_MODEL_db64951054e842d4b4b8b63a41f286ff",
       "value": " 391/391 [00:43&lt;00:00,  9.05it/s]"
      }
     },
     "e82ae254b5d04858abf3b01ac33ff6e3": {
      "model_module": "@jupyter-widgets/controls",
      "model_module_version": "1.5.0",
      "model_name": "ProgressStyleModel",
      "state": {
       "description_width": ""
      }
     },
     "e835c4efe2c444189cfcedbfa2bd2e9a": {
      "model_module": "@jupyter-widgets/controls",
      "model_module_version": "1.5.0",
      "model_name": "ProgressStyleModel",
      "state": {
       "description_width": ""
      }
     },
     "e89a098021d8432c94e6b7f4b0a16977": {
      "model_module": "@jupyter-widgets/controls",
      "model_module_version": "1.5.0",
      "model_name": "ProgressStyleModel",
      "state": {
       "description_width": ""
      }
     },
     "e9162f1f1cf74ef1b9e16e7baa3aaa60": {
      "model_module": "@jupyter-widgets/controls",
      "model_module_version": "1.5.0",
      "model_name": "HTMLModel",
      "state": {
       "layout": "IPY_MODEL_e24185833b4e4b94ad532db1f2de204b",
       "style": "IPY_MODEL_213ccb1ac7194e6a9d2259c24b9df6a1",
       "value": "100%"
      }
     },
     "e9a136d85ed0495bae562bff3b7d9544": {
      "model_module": "@jupyter-widgets/controls",
      "model_module_version": "1.5.0",
      "model_name": "DescriptionStyleModel",
      "state": {
       "description_width": ""
      }
     },
     "ead67c7b0e304092a9dbbf01c0798a5a": {
      "model_module": "@jupyter-widgets/controls",
      "model_module_version": "1.5.0",
      "model_name": "DescriptionStyleModel",
      "state": {
       "description_width": ""
      }
     },
     "eb1ac18312ac470bb65f04c8e7dd3033": {
      "model_module": "@jupyter-widgets/controls",
      "model_module_version": "1.5.0",
      "model_name": "HBoxModel",
      "state": {
       "children": [
        "IPY_MODEL_6fad38c4331a4671ab947b1231c60932",
        "IPY_MODEL_5d58e4812abe4100b2f6f995b771a6ea",
        "IPY_MODEL_490c4fda7e034ff29a30f2e71d6db07a"
       ],
       "layout": "IPY_MODEL_c75185a0667140539ba81718eac32e48"
      }
     },
     "eb2cbdc72b134622a2e0ee8254044298": {
      "model_module": "@jupyter-widgets/controls",
      "model_module_version": "1.5.0",
      "model_name": "HTMLModel",
      "state": {
       "layout": "IPY_MODEL_dc17655adda84a6c981b0e9040d8a243",
       "style": "IPY_MODEL_d575631b614b4a65a5937c0892ea3f2a",
       "value": "100%"
      }
     },
     "ebad4da71f6a4f818da50a6b3d5a0fd7": {
      "model_module": "@jupyter-widgets/controls",
      "model_module_version": "1.5.0",
      "model_name": "DescriptionStyleModel",
      "state": {
       "description_width": ""
      }
     },
     "ebfe1f21e43d4ae784f60d1f0067db27": {
      "model_module": "@jupyter-widgets/base",
      "model_module_version": "1.2.0",
      "model_name": "LayoutModel",
      "state": {}
     },
     "ec784d2aed1e49a9945af995cc859f2e": {
      "model_module": "@jupyter-widgets/base",
      "model_module_version": "1.2.0",
      "model_name": "LayoutModel",
      "state": {}
     },
     "ed6caa3005d445eb8972720bbc7f464e": {
      "model_module": "@jupyter-widgets/controls",
      "model_module_version": "1.5.0",
      "model_name": "DescriptionStyleModel",
      "state": {
       "description_width": ""
      }
     },
     "ee04347005d34f0d80428b18eb3136e7": {
      "model_module": "@jupyter-widgets/base",
      "model_module_version": "1.2.0",
      "model_name": "LayoutModel",
      "state": {}
     },
     "ee61735799d941f2874909ac90417456": {
      "model_module": "@jupyter-widgets/controls",
      "model_module_version": "1.5.0",
      "model_name": "DescriptionStyleModel",
      "state": {
       "description_width": ""
      }
     },
     "efe67e028e5f4c20aada778d2cce44e3": {
      "model_module": "@jupyter-widgets/base",
      "model_module_version": "1.2.0",
      "model_name": "LayoutModel",
      "state": {}
     },
     "f0773f3956a742e587d9c7b1a2b7fa2d": {
      "model_module": "@jupyter-widgets/base",
      "model_module_version": "1.2.0",
      "model_name": "LayoutModel",
      "state": {}
     },
     "f0cd74cd68cb4ade8625e1801ff3f63a": {
      "model_module": "@jupyter-widgets/controls",
      "model_module_version": "1.5.0",
      "model_name": "HTMLModel",
      "state": {
       "layout": "IPY_MODEL_99e32afecbcb4f239db8dd0ea7cc6eac",
       "style": "IPY_MODEL_52574022c5604345b1093bc5a91c21ac",
       "value": "100%"
      }
     },
     "f28e22f898ea43fb801791d5c7542f4f": {
      "model_module": "@jupyter-widgets/controls",
      "model_module_version": "1.5.0",
      "model_name": "HTMLModel",
      "state": {
       "layout": "IPY_MODEL_352a15c42f844e319420abde35d3443c",
       "style": "IPY_MODEL_a10268977b874e4abbf453d58a3c43d2",
       "value": " 391/391 [00:43&lt;00:00,  9.01it/s]"
      }
     },
     "f31bac912f764fc0b3d757944fa8445f": {
      "model_module": "@jupyter-widgets/controls",
      "model_module_version": "1.5.0",
      "model_name": "FloatProgressModel",
      "state": {
       "bar_style": "success",
       "layout": "IPY_MODEL_344712a89c4b4ea1929da37ca66bc65a",
       "max": 391,
       "style": "IPY_MODEL_f673ac90df7344ef94f3434aebe76de4",
       "value": 391
      }
     },
     "f37bbc0934994d69a60edd3bc5fbf53c": {
      "model_module": "@jupyter-widgets/controls",
      "model_module_version": "1.5.0",
      "model_name": "FloatProgressModel",
      "state": {
       "bar_style": "success",
       "layout": "IPY_MODEL_7ec572d3573c49c383cba93927f069b6",
       "max": 391,
       "style": "IPY_MODEL_de508410e51c42278f80eaeb40a8c5b8",
       "value": 391
      }
     },
     "f38140845a2545f1a5dd4b217e8f6369": {
      "model_module": "@jupyter-widgets/controls",
      "model_module_version": "1.5.0",
      "model_name": "HBoxModel",
      "state": {
       "children": [
        "IPY_MODEL_8a6132b98dcc4cf59a8453a1e41af9f5",
        "IPY_MODEL_0e708203d1294f7c85e84a49976d5549",
        "IPY_MODEL_ab45243e092843089f7f362c3c20cc8a"
       ],
       "layout": "IPY_MODEL_bd9c62cdf72a43da84771deed868780e"
      }
     },
     "f454c01668d14faeb3e9eb83014d456f": {
      "model_module": "@jupyter-widgets/controls",
      "model_module_version": "1.5.0",
      "model_name": "HTMLModel",
      "state": {
       "layout": "IPY_MODEL_78bcec4a299741e9a597240f647cc6ec",
       "style": "IPY_MODEL_b7d90a3a31ca4c39af9df28974121298",
       "value": "100%"
      }
     },
     "f4821f6beb514392b7bb4d90283715eb": {
      "model_module": "@jupyter-widgets/base",
      "model_module_version": "1.2.0",
      "model_name": "LayoutModel",
      "state": {}
     },
     "f661f14486994148b5c63a1e149deb95": {
      "model_module": "@jupyter-widgets/controls",
      "model_module_version": "1.5.0",
      "model_name": "HTMLModel",
      "state": {
       "layout": "IPY_MODEL_24436744e1ce4b17a14c7a3e61daa5ff",
       "style": "IPY_MODEL_a0ea9097ff7545908c35fbcc7b2fb955",
       "value": " 782/782 [00:03&lt;00:00, 256.88it/s]"
      }
     },
     "f66d3cead040474a9f78f9e0b4a69ade": {
      "model_module": "@jupyter-widgets/controls",
      "model_module_version": "1.5.0",
      "model_name": "FloatProgressModel",
      "state": {
       "bar_style": "success",
       "layout": "IPY_MODEL_74ace6ce129a46678734b080297b7045",
       "max": 391,
       "style": "IPY_MODEL_0af4fffee0e74718af376762abb941de",
       "value": 391
      }
     },
     "f673ac90df7344ef94f3434aebe76de4": {
      "model_module": "@jupyter-widgets/controls",
      "model_module_version": "1.5.0",
      "model_name": "ProgressStyleModel",
      "state": {
       "description_width": ""
      }
     },
     "f717a838c7bd4a44a484461d64256555": {
      "model_module": "@jupyter-widgets/controls",
      "model_module_version": "1.5.0",
      "model_name": "DescriptionStyleModel",
      "state": {
       "description_width": ""
      }
     },
     "f78c4b2ff3b147f18403915552455c32": {
      "model_module": "@jupyter-widgets/base",
      "model_module_version": "1.2.0",
      "model_name": "LayoutModel",
      "state": {}
     },
     "f7a11cd483fd414fbe2bcae33f900d1d": {
      "model_module": "@jupyter-widgets/controls",
      "model_module_version": "1.5.0",
      "model_name": "ProgressStyleModel",
      "state": {
       "description_width": ""
      }
     },
     "f7f0bc76d8b748eea1fe48744a1404f2": {
      "model_module": "@jupyter-widgets/controls",
      "model_module_version": "1.5.0",
      "model_name": "DescriptionStyleModel",
      "state": {
       "description_width": ""
      }
     },
     "f857c1c164fb40318e5220a9a7e155e9": {
      "model_module": "@jupyter-widgets/controls",
      "model_module_version": "1.5.0",
      "model_name": "HBoxModel",
      "state": {
       "children": [
        "IPY_MODEL_e4407ca2b6184d57a4ea55dc7bb4769b",
        "IPY_MODEL_4126db29852e44828ef1222be4a7d762",
        "IPY_MODEL_bacf594b932f4382a30ecff7da2b77c9"
       ],
       "layout": "IPY_MODEL_2fd428717e514e04ad95413b20b20c10"
      }
     },
     "f8b1b978ec7d47d9853a5b9cd6f5f255": {
      "model_module": "@jupyter-widgets/controls",
      "model_module_version": "1.5.0",
      "model_name": "ProgressStyleModel",
      "state": {
       "description_width": ""
      }
     },
     "f944685cf9794d70b7d68cb394cb933d": {
      "model_module": "@jupyter-widgets/controls",
      "model_module_version": "1.5.0",
      "model_name": "DescriptionStyleModel",
      "state": {
       "description_width": ""
      }
     },
     "f9466ab26eb7442f8e8511a16eddcbe4": {
      "model_module": "@jupyter-widgets/controls",
      "model_module_version": "1.5.0",
      "model_name": "FloatProgressModel",
      "state": {
       "bar_style": "success",
       "layout": "IPY_MODEL_50a0c209c5c54e0e8436e9dc2fbab5e7",
       "max": 782,
       "style": "IPY_MODEL_af6d4ca86eda4372b76f101cc98974b1",
       "value": 782
      }
     },
     "f94fedc6b2744c9ab7740db906258b22": {
      "model_module": "@jupyter-widgets/controls",
      "model_module_version": "1.5.0",
      "model_name": "DescriptionStyleModel",
      "state": {
       "description_width": ""
      }
     },
     "f99403e4e7154daaaca228de45ff5c5d": {
      "model_module": "@jupyter-widgets/controls",
      "model_module_version": "1.5.0",
      "model_name": "DescriptionStyleModel",
      "state": {
       "description_width": ""
      }
     },
     "f9bed98dce0c4754a77fb0268bca35b1": {
      "model_module": "@jupyter-widgets/base",
      "model_module_version": "1.2.0",
      "model_name": "LayoutModel",
      "state": {}
     },
     "fad8fcdba12f447984a32335b0d79acc": {
      "model_module": "@jupyter-widgets/controls",
      "model_module_version": "1.5.0",
      "model_name": "HBoxModel",
      "state": {
       "children": [
        "IPY_MODEL_e9162f1f1cf74ef1b9e16e7baa3aaa60",
        "IPY_MODEL_b2bd3c8f1fc84f7790ff637b29b72740",
        "IPY_MODEL_801bd465bc004f0fa7ff03e50aa655ef"
       ],
       "layout": "IPY_MODEL_99273f8135c9451b87b6b4914d61d874"
      }
     },
     "fb5269fba00949a1a6fadd5837f76cc2": {
      "model_module": "@jupyter-widgets/base",
      "model_module_version": "1.2.0",
      "model_name": "LayoutModel",
      "state": {}
     },
     "fbdf10560e2544bfa5fd4aae57acc6d7": {
      "model_module": "@jupyter-widgets/base",
      "model_module_version": "1.2.0",
      "model_name": "LayoutModel",
      "state": {}
     },
     "fd5c932d12704c61b1f11089f920707f": {
      "model_module": "@jupyter-widgets/base",
      "model_module_version": "1.2.0",
      "model_name": "LayoutModel",
      "state": {}
     },
     "fd78d390179945aeaea700e6727d33aa": {
      "model_module": "@jupyter-widgets/controls",
      "model_module_version": "1.5.0",
      "model_name": "FloatProgressModel",
      "state": {
       "bar_style": "success",
       "layout": "IPY_MODEL_b0bd0c8323b642ee88a52246961e9f9d",
       "max": 391,
       "style": "IPY_MODEL_598fbd8c4acc48589d9c7badf2a8e07a",
       "value": 391
      }
     },
     "fe7e552757bb4853b398191da0702d5e": {
      "model_module": "@jupyter-widgets/controls",
      "model_module_version": "1.5.0",
      "model_name": "FloatProgressModel",
      "state": {
       "bar_style": "success",
       "layout": "IPY_MODEL_0c5b7dbc5ec143f391afd7ae841ff52d",
       "max": 391,
       "style": "IPY_MODEL_4b9655747a794bdb97507748e13c2847",
       "value": 391
      }
     },
     "fea58b71b01547e9ba63a92adae51b84": {
      "model_module": "@jupyter-widgets/controls",
      "model_module_version": "1.5.0",
      "model_name": "FloatProgressModel",
      "state": {
       "bar_style": "success",
       "layout": "IPY_MODEL_c86cb8cba9aa415895faf6804d5ad284",
       "max": 782,
       "style": "IPY_MODEL_48368379656948b180220bcc4f81fca3",
       "value": 782
      }
     },
     "ff28747ce03446bc9eef8f4ef57e159b": {
      "model_module": "@jupyter-widgets/base",
      "model_module_version": "1.2.0",
      "model_name": "LayoutModel",
      "state": {}
     },
     "ff721bff68b64cae9a1b77adfc75e066": {
      "model_module": "@jupyter-widgets/controls",
      "model_module_version": "1.5.0",
      "model_name": "HTMLModel",
      "state": {
       "layout": "IPY_MODEL_d53e1285eda444cda866306a86bcf048",
       "style": "IPY_MODEL_9f947f95ea454f88b26eea5a2fcbfbfe",
       "value": "100%"
      }
     }
    },
    "version_major": 2,
    "version_minor": 0
   }
  }
 },
 "nbformat": 4,
 "nbformat_minor": 4
}
