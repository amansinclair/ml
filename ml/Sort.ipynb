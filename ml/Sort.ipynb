{
 "cells": [
  {
   "cell_type": "code",
   "execution_count": 45,
   "metadata": {},
   "outputs": [],
   "source": [
    "import numpy as np\n",
    "import torch\n",
    "import torch.nn as nn\n",
    "import torch.optim as optim\n",
    "from torch.utils.data import TensorDataset, DataLoader\n",
    "from tqdm.notebook import tqdm"
   ]
  },
  {
   "cell_type": "code",
   "execution_count": 29,
   "metadata": {},
   "outputs": [],
   "source": [
    "def get_dataset(size, seq_len, max_value=255):\n",
    "    X = torch.zeros((size, seq_len))\n",
    "    y = torch.zeros((size, seq_len))\n",
    "    for i in range(size):\n",
    "        seq = np.random.choice(max_value, size=seq_len, replace=False) / 255\n",
    "        shuffled_seq = seq.copy()\n",
    "        np.random.shuffle(shuffled_seq)\n",
    "        X[i] = torch.from_numpy(shuffled_seq)\n",
    "        y[i] = torch.from_numpy(seq)\n",
    "    return X, y"
   ]
  },
  {
   "cell_type": "code",
   "execution_count": 37,
   "metadata": {},
   "outputs": [],
   "source": [
    "seq_len = 3\n",
    "size = 1000\n",
    "get_dataset(size, seq_len)\n",
    "train = DataLoader(TensorDataset(*get_dataset(size, seq_len)), batch_size=32, shuffle=True)\n",
    "test = DataLoader(TensorDataset(*get_dataset(size, seq_len)), batch_size=32, shuffle=True)"
   ]
  },
  {
   "cell_type": "code",
   "execution_count": 47,
   "metadata": {},
   "outputs": [],
   "source": [
    "net = nn.Sequential(nn.Linear(seq_len, seq_len ** 2), nn.ReLU(), nn.Linear(seq_len ** 2, seq_len ** 2), nn.ReLU(),  nn.Linear(seq_len ** 2, seq_len))\n",
    "opt = optim.Adam(net.parameters(), lr=0.01)\n",
    "crit = nn.MSELoss()"
   ]
  },
  {
   "cell_type": "code",
   "execution_count": 48,
   "metadata": {},
   "outputs": [
    {
     "data": {
      "application/vnd.jupyter.widget-view+json": {
       "model_id": "08696bdec22b45fc9957ca1e1f723f4c",
       "version_major": 2,
       "version_minor": 0
      },
      "text/plain": [
       "HBox(children=(HTML(value=''), FloatProgress(value=0.0), HTML(value='')))"
      ]
     },
     "metadata": {},
     "output_type": "display_data"
    },
    {
     "name": "stdout",
     "output_type": "stream",
     "text": [
      "\n"
     ]
    }
   ],
   "source": [
    "n_epochs = 100\n",
    "pbar = tqdm(range(n_epochs))\n",
    "for epoch in pbar:\n",
    "    train_loss = []\n",
    "    test_loss = []\n",
    "    for x, y in train:\n",
    "        opt.zero_grad()\n",
    "        o = net(x)\n",
    "        loss = crit(y, o)\n",
    "        loss.backward()\n",
    "        opt.step()\n",
    "        train_loss.append(loss)\n",
    "    with torch.no_grad():\n",
    "        for x, y in test:\n",
    "            o = net(x)\n",
    "            loss = crit(y, o)\n",
    "        test_loss.append(loss)\n",
    "    pbar.set_description(f\"Epoch {epoch + 1}: Train: {torch.tensor(train_loss).mean().item():.3f}, Test: {torch.tensor(test_loss).mean().item():.3f}\")"
   ]
  },
  {
   "cell_type": "code",
   "execution_count": 49,
   "metadata": {},
   "outputs": [
    {
     "name": "stdout",
     "output_type": "stream",
     "text": [
      "tensor([91., 29., 61.]) tensor([51.9880, 56.5139, 62.5566], grad_fn=<MulBackward0>)\n",
      "tensor([178., 121., 148.]) tensor([137.7622, 146.3967, 151.4230], grad_fn=<MulBackward0>)\n",
      "tensor([196.,   6.,  87.]) tensor([ 86.6283,  85.5099, 107.5699], grad_fn=<MulBackward0>)\n",
      "tensor([ 35., 184., 108.]) tensor([101.7757, 101.9018, 117.9278], grad_fn=<MulBackward0>)\n",
      "tensor([61., 56., 88.]) tensor([59.0683, 66.3754, 71.9881], grad_fn=<MulBackward0>)\n",
      "tensor([201., 252.,  18.]) tensor([144.5366, 144.9789, 175.2344], grad_fn=<MulBackward0>)\n",
      "tensor([225.,  60.,   3.]) tensor([ 84.3926,  82.9001, 112.6064], grad_fn=<MulBackward0>)\n",
      "tensor([172.,  23.,  60.]) tensor([72.1615, 73.2473, 93.7865], grad_fn=<MulBackward0>)\n",
      "tensor([ 77., 197., 149.]) tensor([133.2974, 136.9729, 144.6756], grad_fn=<MulBackward0>)\n",
      "tensor([109., 112., 228.]) tensor([136.7419, 148.0990, 151.6406], grad_fn=<MulBackward0>)\n",
      "tensor([204., 128., 213.]) tensor([166.6475, 176.0030, 185.5202], grad_fn=<MulBackward0>)\n",
      "tensor([198., 206., 227.]) tensor([195.2890, 204.1929, 211.9056], grad_fn=<MulBackward0>)\n",
      "tensor([121., 253., 220.]) tensor([180.1684, 189.2913, 206.4822], grad_fn=<MulBackward0>)\n",
      "tensor([237., 211.,  37.]) tensor([141.9790, 152.5662, 173.5923], grad_fn=<MulBackward0>)\n",
      "tensor([  0., 201.,  24.]) tensor([64.3997, 77.4487, 85.7096], grad_fn=<MulBackward0>)\n",
      "tensor([ 98., 214., 118.]) tensor([128.8999, 133.1020, 151.8931], grad_fn=<MulBackward0>)\n",
      "tensor([139., 112.,  75.]) tensor([101.1013, 105.3359, 112.5925], grad_fn=<MulBackward0>)\n",
      "tensor([ 95.,  39., 229.]) tensor([107.1621, 118.7620, 123.1020], grad_fn=<MulBackward0>)\n",
      "tensor([ 99., 183., 146.]) tensor([134.1788, 138.9907, 146.0795], grad_fn=<MulBackward0>)\n",
      "tensor([ 99., 192., 101.]) tensor([119.3470, 129.6672, 133.6958], grad_fn=<MulBackward0>)\n",
      "tensor([ 69., 151., 105.]) tensor([ 97.1140, 104.4731, 110.0133], grad_fn=<MulBackward0>)\n",
      "tensor([108.,  29.,   8.]) tensor([36.8061, 47.8238, 56.7424], grad_fn=<MulBackward0>)\n",
      "tensor([195.,   2., 191.]) tensor([122.9447, 121.5527, 131.9647], grad_fn=<MulBackward0>)\n",
      "tensor([239., 158.,  24.]) tensor([130.0662, 129.5587, 155.5903], grad_fn=<MulBackward0>)\n",
      "tensor([  3., 181.,  33.]) tensor([62.6842, 73.4792, 83.4635], grad_fn=<MulBackward0>)\n",
      "tensor([234., 175.,  79.]) tensor([145.1076, 152.0974, 173.7656], grad_fn=<MulBackward0>)\n",
      "tensor([ 95., 177.,  69.]) tensor([107.3811, 109.9175, 118.1250], grad_fn=<MulBackward0>)\n",
      "tensor([127.,   8., 235.]) tensor([118.6240, 118.5082, 128.2073], grad_fn=<MulBackward0>)\n",
      "tensor([ 2., 93., 60.]) tensor([41.8594, 49.5797, 60.3885], grad_fn=<MulBackward0>)\n",
      "tensor([183.,   7.,  56.]) tensor([68.7794, 69.2402, 92.3000], grad_fn=<MulBackward0>)\n",
      "tensor([213.,  75.,  48.]) tensor([ 98.8423,  99.4703, 123.9162], grad_fn=<MulBackward0>)\n",
      "tensor([58., 65., 47.]) tensor([46.2843, 53.1622, 58.4913], grad_fn=<MulBackward0>)\n"
     ]
    }
   ],
   "source": [
    "x, y = next(iter(test))\n",
    "preds = net(x)\n",
    "for i in range(len(x)):\n",
    "    print(y[i] * 255, preds[i] * 255)"
   ]
  },
  {
   "cell_type": "code",
   "execution_count": null,
   "metadata": {},
   "outputs": [],
   "source": []
  }
 ],
 "metadata": {
  "kernelspec": {
   "display_name": "Python 3",
   "language": "python",
   "name": "python3"
  },
  "language_info": {
   "codemirror_mode": {
    "name": "ipython",
    "version": 3
   },
   "file_extension": ".py",
   "mimetype": "text/x-python",
   "name": "python",
   "nbconvert_exporter": "python",
   "pygments_lexer": "ipython3",
   "version": "3.6.8"
  }
 },
 "nbformat": 4,
 "nbformat_minor": 4
}
