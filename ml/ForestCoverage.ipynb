{
 "cells": [
  {
   "cell_type": "code",
   "execution_count": 148,
   "metadata": {},
   "outputs": [],
   "source": [
    "import numpy as np\n",
    "import pandas as pd\n",
    "import matplotlib.pyplot as plt\n",
    "from sklearn.model_selection import StratifiedShuffleSplit\n",
    "from sklearn.preprocessing import StandardScaler\n",
    "from sklearn.metrics import confusion_matrix\n",
    "import torch\n",
    "import torch.nn as nn\n",
    "import torch.optim as optim\n",
    "import torch.nn.functional as F\n",
    "from torch.utils.data import Dataset, DataLoader\n",
    "from pathlib import Path\n",
    "from utils import accuracy, count_parameters\n",
    "import seaborn as sn"
   ]
  },
  {
   "cell_type": "code",
   "execution_count": 6,
   "metadata": {},
   "outputs": [
    {
     "data": {
      "text/plain": [
       "WindowsPath('C:/Stuff/py/projects/ml/ml/data/ForestCoverage/covtype.csv')"
      ]
     },
     "execution_count": 6,
     "metadata": {},
     "output_type": "execute_result"
    }
   ],
   "source": [
    "p = Path.cwd() / \"data\" / \"ForestCoverage\" / \"covtype.csv\""
   ]
  },
  {
   "cell_type": "code",
   "execution_count": 7,
   "metadata": {},
   "outputs": [],
   "source": [
    "df = pd.read_csv(p)"
   ]
  },
  {
   "cell_type": "code",
   "execution_count": 8,
   "metadata": {},
   "outputs": [
    {
     "data": {
      "text/html": [
       "<div>\n",
       "<style scoped>\n",
       "    .dataframe tbody tr th:only-of-type {\n",
       "        vertical-align: middle;\n",
       "    }\n",
       "\n",
       "    .dataframe tbody tr th {\n",
       "        vertical-align: top;\n",
       "    }\n",
       "\n",
       "    .dataframe thead th {\n",
       "        text-align: right;\n",
       "    }\n",
       "</style>\n",
       "<table border=\"1\" class=\"dataframe\">\n",
       "  <thead>\n",
       "    <tr style=\"text-align: right;\">\n",
       "      <th></th>\n",
       "      <th>Elevation</th>\n",
       "      <th>Aspect</th>\n",
       "      <th>Slope</th>\n",
       "      <th>Horizontal_Distance_To_Hydrology</th>\n",
       "      <th>Vertical_Distance_To_Hydrology</th>\n",
       "      <th>Horizontal_Distance_To_Roadways</th>\n",
       "      <th>Hillshade_9am</th>\n",
       "      <th>Hillshade_Noon</th>\n",
       "      <th>Hillshade_3pm</th>\n",
       "      <th>Horizontal_Distance_To_Fire_Points</th>\n",
       "      <th>...</th>\n",
       "      <th>Soil_Type32</th>\n",
       "      <th>Soil_Type33</th>\n",
       "      <th>Soil_Type34</th>\n",
       "      <th>Soil_Type35</th>\n",
       "      <th>Soil_Type36</th>\n",
       "      <th>Soil_Type37</th>\n",
       "      <th>Soil_Type38</th>\n",
       "      <th>Soil_Type39</th>\n",
       "      <th>Soil_Type40</th>\n",
       "      <th>Cover_Type</th>\n",
       "    </tr>\n",
       "  </thead>\n",
       "  <tbody>\n",
       "    <tr>\n",
       "      <th>0</th>\n",
       "      <td>2596</td>\n",
       "      <td>51</td>\n",
       "      <td>3</td>\n",
       "      <td>258</td>\n",
       "      <td>0</td>\n",
       "      <td>510</td>\n",
       "      <td>221</td>\n",
       "      <td>232</td>\n",
       "      <td>148</td>\n",
       "      <td>6279</td>\n",
       "      <td>...</td>\n",
       "      <td>0</td>\n",
       "      <td>0</td>\n",
       "      <td>0</td>\n",
       "      <td>0</td>\n",
       "      <td>0</td>\n",
       "      <td>0</td>\n",
       "      <td>0</td>\n",
       "      <td>0</td>\n",
       "      <td>0</td>\n",
       "      <td>5</td>\n",
       "    </tr>\n",
       "    <tr>\n",
       "      <th>1</th>\n",
       "      <td>2590</td>\n",
       "      <td>56</td>\n",
       "      <td>2</td>\n",
       "      <td>212</td>\n",
       "      <td>-6</td>\n",
       "      <td>390</td>\n",
       "      <td>220</td>\n",
       "      <td>235</td>\n",
       "      <td>151</td>\n",
       "      <td>6225</td>\n",
       "      <td>...</td>\n",
       "      <td>0</td>\n",
       "      <td>0</td>\n",
       "      <td>0</td>\n",
       "      <td>0</td>\n",
       "      <td>0</td>\n",
       "      <td>0</td>\n",
       "      <td>0</td>\n",
       "      <td>0</td>\n",
       "      <td>0</td>\n",
       "      <td>5</td>\n",
       "    </tr>\n",
       "    <tr>\n",
       "      <th>2</th>\n",
       "      <td>2804</td>\n",
       "      <td>139</td>\n",
       "      <td>9</td>\n",
       "      <td>268</td>\n",
       "      <td>65</td>\n",
       "      <td>3180</td>\n",
       "      <td>234</td>\n",
       "      <td>238</td>\n",
       "      <td>135</td>\n",
       "      <td>6121</td>\n",
       "      <td>...</td>\n",
       "      <td>0</td>\n",
       "      <td>0</td>\n",
       "      <td>0</td>\n",
       "      <td>0</td>\n",
       "      <td>0</td>\n",
       "      <td>0</td>\n",
       "      <td>0</td>\n",
       "      <td>0</td>\n",
       "      <td>0</td>\n",
       "      <td>2</td>\n",
       "    </tr>\n",
       "    <tr>\n",
       "      <th>3</th>\n",
       "      <td>2785</td>\n",
       "      <td>155</td>\n",
       "      <td>18</td>\n",
       "      <td>242</td>\n",
       "      <td>118</td>\n",
       "      <td>3090</td>\n",
       "      <td>238</td>\n",
       "      <td>238</td>\n",
       "      <td>122</td>\n",
       "      <td>6211</td>\n",
       "      <td>...</td>\n",
       "      <td>0</td>\n",
       "      <td>0</td>\n",
       "      <td>0</td>\n",
       "      <td>0</td>\n",
       "      <td>0</td>\n",
       "      <td>0</td>\n",
       "      <td>0</td>\n",
       "      <td>0</td>\n",
       "      <td>0</td>\n",
       "      <td>2</td>\n",
       "    </tr>\n",
       "    <tr>\n",
       "      <th>4</th>\n",
       "      <td>2595</td>\n",
       "      <td>45</td>\n",
       "      <td>2</td>\n",
       "      <td>153</td>\n",
       "      <td>-1</td>\n",
       "      <td>391</td>\n",
       "      <td>220</td>\n",
       "      <td>234</td>\n",
       "      <td>150</td>\n",
       "      <td>6172</td>\n",
       "      <td>...</td>\n",
       "      <td>0</td>\n",
       "      <td>0</td>\n",
       "      <td>0</td>\n",
       "      <td>0</td>\n",
       "      <td>0</td>\n",
       "      <td>0</td>\n",
       "      <td>0</td>\n",
       "      <td>0</td>\n",
       "      <td>0</td>\n",
       "      <td>5</td>\n",
       "    </tr>\n",
       "  </tbody>\n",
       "</table>\n",
       "<p>5 rows × 55 columns</p>\n",
       "</div>"
      ],
      "text/plain": [
       "   Elevation  Aspect  Slope  Horizontal_Distance_To_Hydrology  \\\n",
       "0       2596      51      3                               258   \n",
       "1       2590      56      2                               212   \n",
       "2       2804     139      9                               268   \n",
       "3       2785     155     18                               242   \n",
       "4       2595      45      2                               153   \n",
       "\n",
       "   Vertical_Distance_To_Hydrology  Horizontal_Distance_To_Roadways  \\\n",
       "0                               0                              510   \n",
       "1                              -6                              390   \n",
       "2                              65                             3180   \n",
       "3                             118                             3090   \n",
       "4                              -1                              391   \n",
       "\n",
       "   Hillshade_9am  Hillshade_Noon  Hillshade_3pm  \\\n",
       "0            221             232            148   \n",
       "1            220             235            151   \n",
       "2            234             238            135   \n",
       "3            238             238            122   \n",
       "4            220             234            150   \n",
       "\n",
       "   Horizontal_Distance_To_Fire_Points  ...  Soil_Type32  Soil_Type33  \\\n",
       "0                                6279  ...            0            0   \n",
       "1                                6225  ...            0            0   \n",
       "2                                6121  ...            0            0   \n",
       "3                                6211  ...            0            0   \n",
       "4                                6172  ...            0            0   \n",
       "\n",
       "   Soil_Type34  Soil_Type35  Soil_Type36  Soil_Type37  Soil_Type38  \\\n",
       "0            0            0            0            0            0   \n",
       "1            0            0            0            0            0   \n",
       "2            0            0            0            0            0   \n",
       "3            0            0            0            0            0   \n",
       "4            0            0            0            0            0   \n",
       "\n",
       "   Soil_Type39  Soil_Type40  Cover_Type  \n",
       "0            0            0           5  \n",
       "1            0            0           5  \n",
       "2            0            0           2  \n",
       "3            0            0           2  \n",
       "4            0            0           5  \n",
       "\n",
       "[5 rows x 55 columns]"
      ]
     },
     "execution_count": 8,
     "metadata": {},
     "output_type": "execute_result"
    }
   ],
   "source": [
    "df.head()"
   ]
  },
  {
   "cell_type": "code",
   "execution_count": 71,
   "metadata": {},
   "outputs": [],
   "source": [
    "labels = df[\"Cover_Type\"].values - 1\n",
    "features = df.drop(\"Cover_Type\", axis=1)"
   ]
  },
  {
   "cell_type": "code",
   "execution_count": 123,
   "metadata": {},
   "outputs": [
    {
     "name": "stdout",
     "output_type": "stream",
     "text": [
      "1, 36.46%\n",
      "2, 48.76%\n",
      "3, 6.15%\n",
      "4, 0.47%\n",
      "5, 1.63%\n",
      "6, 2.99%\n",
      "7, 3.53%\n"
     ]
    }
   ],
   "source": [
    "v, c = np.unique(labels, return_counts=True)\n",
    "for value, count in zip(v, c):\n",
    "    print(f\"{value}, {count * 100 / len(labels):.2f}%\")"
   ]
  },
  {
   "cell_type": "code",
   "execution_count": 72,
   "metadata": {},
   "outputs": [],
   "source": [
    "st = features.iloc[:, 14:].values\n",
    "num = features.iloc[:, :14].values"
   ]
  },
  {
   "cell_type": "code",
   "execution_count": 73,
   "metadata": {},
   "outputs": [],
   "source": [
    "st_labels = st.argmax(axis=1)"
   ]
  },
  {
   "cell_type": "code",
   "execution_count": 136,
   "metadata": {},
   "outputs": [],
   "source": [
    "splitter = StratifiedShuffleSplit(n_splits=1, test_size=0.2, random_state=42)"
   ]
  },
  {
   "cell_type": "code",
   "execution_count": 137,
   "metadata": {},
   "outputs": [],
   "source": [
    "for train_index, test_index in splitter.split(num, labels):\n",
    "    X_train, Xl_train, X_test, Xl_test = num[train_index], st_labels[train_index], num[test_index], st_labels[test_index]\n",
    "    y_train, y_test = labels[train_index], labels[test_index]"
   ]
  },
  {
   "cell_type": "code",
   "execution_count": 138,
   "metadata": {},
   "outputs": [],
   "source": [
    "class CoverageDS(Dataset):\n",
    "    def __init__(self, X, Xem, y):\n",
    "        super().__init__()\n",
    "        self.X = torch.from_numpy(X)\n",
    "        self.Xem = torch.from_numpy(Xem)\n",
    "        self.y = torch.from_numpy(y)\n",
    "        \n",
    "    def __len__(self):\n",
    "        return len(self.X)\n",
    "        \n",
    "    def __getitem__(self, idx):\n",
    "        return self.X[idx], self.Xem[idx], self.y[idx]"
   ]
  },
  {
   "cell_type": "code",
   "execution_count": 139,
   "metadata": {},
   "outputs": [],
   "source": [
    "BS = 512"
   ]
  },
  {
   "cell_type": "code",
   "execution_count": 140,
   "metadata": {},
   "outputs": [],
   "source": [
    "train = DataLoader(CoverageDS(X_train, Xl_train, y_train), batch_size = BS, shuffle=True, drop_last=False)\n",
    "test = DataLoader(CoverageDS(X_test, Xl_test, y_test), batch_size = BS, shuffle=False, drop_last=False)"
   ]
  },
  {
   "cell_type": "code",
   "execution_count": 141,
   "metadata": {},
   "outputs": [],
   "source": [
    "class Model(nn.Module):\n",
    "    def __init__(self, n_in, n_em, size, em_size, n_o):\n",
    "        super().__init__()\n",
    "        self.em = nn.Embedding(n_em, em_size)\n",
    "        self.bn1 = nn.BatchNorm1d(n_in + em_size)\n",
    "        self.do1 = nn.Dropout(0.2)\n",
    "        self.fc1 = nn.Linear(n_in + em_size, size)\n",
    "        \n",
    "        self.bn2 = nn.BatchNorm1d(size)\n",
    "        self.do2 = nn.Dropout(0.2)\n",
    "        self.fc2 = nn.Linear(size, size)\n",
    "        \n",
    "        self.bn3 = nn.BatchNorm1d(size)\n",
    "        self.do3 = nn.Dropout(0.2)\n",
    "        self.fc3 = nn.Linear(size, n_o)\n",
    "        \n",
    "    def forward(self, x, xem):\n",
    "        x = torch.cat((x, self.em(xem)), axis=1)\n",
    "        x = F.relu(self.fc1((self.bn1(x))))\n",
    "        x = F.relu(self.fc2((self.bn2(x))))\n",
    "        x = self.fc3((self.bn3(x)))\n",
    "        #x = F.relu(self.fc1(self.do1(self.bn1(x))))\n",
    "        #x = F.relu(self.fc2(self.do2(self.bn2(x))))\n",
    "        #x = self.fc3(self.do3(self.bn3(x)))\n",
    "        return x"
   ]
  },
  {
   "cell_type": "code",
   "execution_count": 204,
   "metadata": {},
   "outputs": [],
   "source": [
    "model = Model(X_train.shape[1], Xl_train.max() + 1, 256, 4, y_train.max() + 1)\n",
    "opt = optim.Adam(model.parameters(), lr=0.01, weight_decay=0.00001)\n",
    "sched  = optim.lr_scheduler.ReduceLROnPlateau(opt, mode='min', factor=0.1, patience=3, eps=1e-6, verbose=True)\n",
    "crit = nn.CrossEntropyLoss()"
   ]
  },
  {
   "cell_type": "code",
   "execution_count": 205,
   "metadata": {},
   "outputs": [
    {
     "name": "stdout",
     "output_type": "stream",
     "text": [
      "Total Trainable Params: 73932\n"
     ]
    },
    {
     "data": {
      "text/plain": [
       "73932"
      ]
     },
     "execution_count": 205,
     "metadata": {},
     "output_type": "execute_result"
    }
   ],
   "source": [
    "count_parameters(model)"
   ]
  },
  {
   "cell_type": "code",
   "execution_count": 206,
   "metadata": {},
   "outputs": [],
   "source": [
    "def train_epoch(net, train, val, crit, opt, metric):\n",
    "    losses = []\n",
    "    accs = []\n",
    "    for X, Xem, y in train:\n",
    "        opt.zero_grad()\n",
    "        net.train()\n",
    "        p = net(X, Xem)\n",
    "        accs.append(metric(y, p))\n",
    "        loss = crit(p, y)\n",
    "        losses.append(loss.item())\n",
    "        loss.backward()\n",
    "        opt.step()\n",
    "    with torch.no_grad():\n",
    "        net.eval()\n",
    "        val_loss = []\n",
    "        val_acc = []\n",
    "        for X, Xem, y in val:\n",
    "            p = net(X, Xem)\n",
    "            val_loss.append(crit(p, y).item())\n",
    "            val_acc.append(metric(y, p))\n",
    "    return np.mean(losses), np.mean(accs), np.mean(val_loss), np.mean(val_acc)"
   ]
  },
  {
   "cell_type": "code",
   "execution_count": 209,
   "metadata": {},
   "outputs": [
    {
     "name": "stdout",
     "output_type": "stream",
     "text": [
      "Epoch:1, T Loss:0.13343, T Met:0.94572, V Loss:0.12709, V Met:0.94968\n",
      "Epoch:2, T Loss:0.13176, T Met:0.94640, V Loss:0.12567, V Met:0.95028\n",
      "Epoch:3, T Loss:0.13006, T Met:0.94720, V Loss:0.12640, V Met:0.95052\n",
      "Epoch:4, T Loss:0.12940, T Met:0.94762, V Loss:0.12455, V Met:0.95097\n",
      "Epoch:5, T Loss:0.13073, T Met:0.94678, V Loss:0.12353, V Met:0.95129\n",
      "Epoch:6, T Loss:0.12900, T Met:0.94776, V Loss:0.12475, V Met:0.95111\n",
      "Epoch:7, T Loss:0.12868, T Met:0.94785, V Loss:0.12382, V Met:0.95119\n",
      "Epoch:8, T Loss:0.12879, T Met:0.94775, V Loss:0.12390, V Met:0.95111\n",
      "Epoch    69: reducing learning rate of group 0 to 1.0000e-05.\n",
      "Epoch:9, T Loss:0.12872, T Met:0.94768, V Loss:0.12420, V Met:0.95085\n",
      "Epoch:10, T Loss:0.12748, T Met:0.94823, V Loss:0.12314, V Met:0.95129\n"
     ]
    }
   ],
   "source": [
    "N_EPOCHS = 10\n",
    "for epoch in range(N_EPOCHS):\n",
    "    tl, ta, vl, va = train_epoch(model, train, test, crit, opt, accuracy)\n",
    "    sched.step(vl)\n",
    "    print(f\"Epoch:{epoch + 1}, T Loss:{tl:.5f}, T Met:{ta:.5f}, V Loss:{vl:.5f}, V Met:{va:.5f}\")"
   ]
  },
  {
   "cell_type": "code",
   "execution_count": 197,
   "metadata": {},
   "outputs": [],
   "source": [
    "def plot_cm(model, test):\n",
    "    all_preds = []\n",
    "    with torch.no_grad():\n",
    "        for x, xem, y in test:\n",
    "            p = model(x, xem)\n",
    "            preds = np.argmax(p, axis=1)\n",
    "            all_preds.append(preds)\n",
    "    all_preds = torch.cat(all_preds)\n",
    "    cm = confusion_matrix(y_test, all_preds.detach().numpy()).astype(\"float32\")\n",
    "    cm = (cm / cm.sum(axis=1).reshape(-1, 1)) * 100\n",
    "    plt.figure(figsize=(15, 8))\n",
    "    sn.heatmap(cm, annot=True, annot_kws={\"size\": 16})\n",
    "    plt.show()"
   ]
  },
  {
   "cell_type": "code",
   "execution_count": 198,
   "metadata": {},
   "outputs": [
    {
     "data": {
      "image/png": "[encoded data removed]",
      "text/plain": [
       "<Figure size 1080x576 with 2 Axes>"
      ]
     },
     "metadata": {
      "needs_background": "light"
     },
     "output_type": "display_data"
    }
   ],
   "source": [
    "plot_cm(model, test)"
   ]
  },
  {
   "cell_type": "code",
   "execution_count": null,
   "metadata": {},
   "outputs": [],
   "source": []
  }
 ],
 "metadata": {
  "kernelspec": {
   "display_name": "Python 3",
   "language": "python",
   "name": "python3"
  },
  "language_info": {
   "codemirror_mode": {
    "name": "ipython",
    "version": 3
   },
   "file_extension": ".py",
   "mimetype": "text/x-python",
   "name": "python",
   "nbconvert_exporter": "python",
   "pygments_lexer": "ipython3",
   "version": "3.6.8"
  }
 },
 "nbformat": 4,
 "nbformat_minor": 4
}
