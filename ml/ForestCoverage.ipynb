{
 "cells": [
  {
   "cell_type": "markdown",
   "metadata": {},
   "source": [
    "# Self-implemented Tabnet on Forest Coverage Dataset\n",
    "An evaluation of a tabnet on the Forest Coverage Dataset. Parameters taken from Tabnet paper. A simple 3 layers NN scores an accuracy of 95%, compared with a tabnet score of."
   ]
  },
  {
   "cell_type": "code",
   "execution_count": 222,
   "metadata": {},
   "outputs": [],
   "source": [
    "%load_ext autoreload\n",
    "%autoreload 2"
   ]
  },
  {
   "cell_type": "code",
   "execution_count": 260,
   "metadata": {},
   "outputs": [],
   "source": [
    "import numpy as np\n",
    "import pandas as pd\n",
    "import matplotlib.pyplot as plt\n",
    "from sklearn.model_selection import StratifiedShuffleSplit\n",
    "from sklearn.preprocessing import StandardScaler\n",
    "from sklearn.metrics import confusion_matrix\n",
    "import torch\n",
    "import torch.nn as nn\n",
    "import torch.optim as optim\n",
    "import torch.nn.functional as F\n",
    "from torch.utils.data import Dataset, DataLoader\n",
    "from pathlib import Path\n",
    "from utils import accuracy, count_parameters\n",
    "from tabnet import TabNet\n",
    "import seaborn as sn"
   ]
  },
  {
   "cell_type": "code",
   "execution_count": 261,
   "metadata": {},
   "outputs": [],
   "source": [
    "p = Path.cwd() / \"data\" / \"ForestCoverage\" / \"covtype.csv\""
   ]
  },
  {
   "cell_type": "code",
   "execution_count": 262,
   "metadata": {},
   "outputs": [],
   "source": [
    "df = pd.read_csv(p)"
   ]
  },
  {
   "cell_type": "code",
   "execution_count": 263,
   "metadata": {},
   "outputs": [
    {
     "data": {
      "text/html": [
       "<div>\n",
       "<style scoped>\n",
       "    .dataframe tbody tr th:only-of-type {\n",
       "        vertical-align: middle;\n",
       "    }\n",
       "\n",
       "    .dataframe tbody tr th {\n",
       "        vertical-align: top;\n",
       "    }\n",
       "\n",
       "    .dataframe thead th {\n",
       "        text-align: right;\n",
       "    }\n",
       "</style>\n",
       "<table border=\"1\" class=\"dataframe\">\n",
       "  <thead>\n",
       "    <tr style=\"text-align: right;\">\n",
       "      <th></th>\n",
       "      <th>Elevation</th>\n",
       "      <th>Aspect</th>\n",
       "      <th>Slope</th>\n",
       "      <th>Horizontal_Distance_To_Hydrology</th>\n",
       "      <th>Vertical_Distance_To_Hydrology</th>\n",
       "      <th>Horizontal_Distance_To_Roadways</th>\n",
       "      <th>Hillshade_9am</th>\n",
       "      <th>Hillshade_Noon</th>\n",
       "      <th>Hillshade_3pm</th>\n",
       "      <th>Horizontal_Distance_To_Fire_Points</th>\n",
       "      <th>...</th>\n",
       "      <th>Soil_Type32</th>\n",
       "      <th>Soil_Type33</th>\n",
       "      <th>Soil_Type34</th>\n",
       "      <th>Soil_Type35</th>\n",
       "      <th>Soil_Type36</th>\n",
       "      <th>Soil_Type37</th>\n",
       "      <th>Soil_Type38</th>\n",
       "      <th>Soil_Type39</th>\n",
       "      <th>Soil_Type40</th>\n",
       "      <th>Cover_Type</th>\n",
       "    </tr>\n",
       "  </thead>\n",
       "  <tbody>\n",
       "    <tr>\n",
       "      <th>0</th>\n",
       "      <td>2596</td>\n",
       "      <td>51</td>\n",
       "      <td>3</td>\n",
       "      <td>258</td>\n",
       "      <td>0</td>\n",
       "      <td>510</td>\n",
       "      <td>221</td>\n",
       "      <td>232</td>\n",
       "      <td>148</td>\n",
       "      <td>6279</td>\n",
       "      <td>...</td>\n",
       "      <td>0</td>\n",
       "      <td>0</td>\n",
       "      <td>0</td>\n",
       "      <td>0</td>\n",
       "      <td>0</td>\n",
       "      <td>0</td>\n",
       "      <td>0</td>\n",
       "      <td>0</td>\n",
       "      <td>0</td>\n",
       "      <td>5</td>\n",
       "    </tr>\n",
       "    <tr>\n",
       "      <th>1</th>\n",
       "      <td>2590</td>\n",
       "      <td>56</td>\n",
       "      <td>2</td>\n",
       "      <td>212</td>\n",
       "      <td>-6</td>\n",
       "      <td>390</td>\n",
       "      <td>220</td>\n",
       "      <td>235</td>\n",
       "      <td>151</td>\n",
       "      <td>6225</td>\n",
       "      <td>...</td>\n",
       "      <td>0</td>\n",
       "      <td>0</td>\n",
       "      <td>0</td>\n",
       "      <td>0</td>\n",
       "      <td>0</td>\n",
       "      <td>0</td>\n",
       "      <td>0</td>\n",
       "      <td>0</td>\n",
       "      <td>0</td>\n",
       "      <td>5</td>\n",
       "    </tr>\n",
       "    <tr>\n",
       "      <th>2</th>\n",
       "      <td>2804</td>\n",
       "      <td>139</td>\n",
       "      <td>9</td>\n",
       "      <td>268</td>\n",
       "      <td>65</td>\n",
       "      <td>3180</td>\n",
       "      <td>234</td>\n",
       "      <td>238</td>\n",
       "      <td>135</td>\n",
       "      <td>6121</td>\n",
       "      <td>...</td>\n",
       "      <td>0</td>\n",
       "      <td>0</td>\n",
       "      <td>0</td>\n",
       "      <td>0</td>\n",
       "      <td>0</td>\n",
       "      <td>0</td>\n",
       "      <td>0</td>\n",
       "      <td>0</td>\n",
       "      <td>0</td>\n",
       "      <td>2</td>\n",
       "    </tr>\n",
       "    <tr>\n",
       "      <th>3</th>\n",
       "      <td>2785</td>\n",
       "      <td>155</td>\n",
       "      <td>18</td>\n",
       "      <td>242</td>\n",
       "      <td>118</td>\n",
       "      <td>3090</td>\n",
       "      <td>238</td>\n",
       "      <td>238</td>\n",
       "      <td>122</td>\n",
       "      <td>6211</td>\n",
       "      <td>...</td>\n",
       "      <td>0</td>\n",
       "      <td>0</td>\n",
       "      <td>0</td>\n",
       "      <td>0</td>\n",
       "      <td>0</td>\n",
       "      <td>0</td>\n",
       "      <td>0</td>\n",
       "      <td>0</td>\n",
       "      <td>0</td>\n",
       "      <td>2</td>\n",
       "    </tr>\n",
       "    <tr>\n",
       "      <th>4</th>\n",
       "      <td>2595</td>\n",
       "      <td>45</td>\n",
       "      <td>2</td>\n",
       "      <td>153</td>\n",
       "      <td>-1</td>\n",
       "      <td>391</td>\n",
       "      <td>220</td>\n",
       "      <td>234</td>\n",
       "      <td>150</td>\n",
       "      <td>6172</td>\n",
       "      <td>...</td>\n",
       "      <td>0</td>\n",
       "      <td>0</td>\n",
       "      <td>0</td>\n",
       "      <td>0</td>\n",
       "      <td>0</td>\n",
       "      <td>0</td>\n",
       "      <td>0</td>\n",
       "      <td>0</td>\n",
       "      <td>0</td>\n",
       "      <td>5</td>\n",
       "    </tr>\n",
       "  </tbody>\n",
       "</table>\n",
       "<p>5 rows × 55 columns</p>\n",
       "</div>"
      ],
      "text/plain": [
       "   Elevation  Aspect  Slope  Horizontal_Distance_To_Hydrology  \\\n",
       "0       2596      51      3                               258   \n",
       "1       2590      56      2                               212   \n",
       "2       2804     139      9                               268   \n",
       "3       2785     155     18                               242   \n",
       "4       2595      45      2                               153   \n",
       "\n",
       "   Vertical_Distance_To_Hydrology  Horizontal_Distance_To_Roadways  \\\n",
       "0                               0                              510   \n",
       "1                              -6                              390   \n",
       "2                              65                             3180   \n",
       "3                             118                             3090   \n",
       "4                              -1                              391   \n",
       "\n",
       "   Hillshade_9am  Hillshade_Noon  Hillshade_3pm  \\\n",
       "0            221             232            148   \n",
       "1            220             235            151   \n",
       "2            234             238            135   \n",
       "3            238             238            122   \n",
       "4            220             234            150   \n",
       "\n",
       "   Horizontal_Distance_To_Fire_Points  ...  Soil_Type32  Soil_Type33  \\\n",
       "0                                6279  ...            0            0   \n",
       "1                                6225  ...            0            0   \n",
       "2                                6121  ...            0            0   \n",
       "3                                6211  ...            0            0   \n",
       "4                                6172  ...            0            0   \n",
       "\n",
       "   Soil_Type34  Soil_Type35  Soil_Type36  Soil_Type37  Soil_Type38  \\\n",
       "0            0            0            0            0            0   \n",
       "1            0            0            0            0            0   \n",
       "2            0            0            0            0            0   \n",
       "3            0            0            0            0            0   \n",
       "4            0            0            0            0            0   \n",
       "\n",
       "   Soil_Type39  Soil_Type40  Cover_Type  \n",
       "0            0            0           5  \n",
       "1            0            0           5  \n",
       "2            0            0           2  \n",
       "3            0            0           2  \n",
       "4            0            0           5  \n",
       "\n",
       "[5 rows x 55 columns]"
      ]
     },
     "execution_count": 263,
     "metadata": {},
     "output_type": "execute_result"
    }
   ],
   "source": [
    "df.head()"
   ]
  },
  {
   "cell_type": "code",
   "execution_count": 286,
   "metadata": {},
   "outputs": [
    {
     "data": {
      "text/plain": [
       "(581012, 55)"
      ]
     },
     "execution_count": 286,
     "metadata": {},
     "output_type": "execute_result"
    }
   ],
   "source": [
    "df.shape"
   ]
  },
  {
   "cell_type": "code",
   "execution_count": 264,
   "metadata": {},
   "outputs": [],
   "source": [
    "labels = df[\"Cover_Type\"].values - 1\n",
    "features = df.drop(\"Cover_Type\", axis=1)"
   ]
  },
  {
   "cell_type": "code",
   "execution_count": 265,
   "metadata": {},
   "outputs": [
    {
     "name": "stdout",
     "output_type": "stream",
     "text": [
      "0, 36.46%\n",
      "1, 48.76%\n",
      "2, 6.15%\n",
      "3, 0.47%\n",
      "4, 1.63%\n",
      "5, 2.99%\n",
      "6, 3.53%\n"
     ]
    }
   ],
   "source": [
    "v, c = np.unique(labels, return_counts=True)\n",
    "for value, count in zip(v, c):\n",
    "    print(f\"{value}, {count * 100 / len(labels):.2f}%\")"
   ]
  },
  {
   "cell_type": "code",
   "execution_count": 266,
   "metadata": {},
   "outputs": [],
   "source": [
    "st = features.iloc[:, 14:].values\n",
    "num = features.iloc[:, :14].values"
   ]
  },
  {
   "cell_type": "code",
   "execution_count": 267,
   "metadata": {},
   "outputs": [],
   "source": [
    "st_labels = st.argmax(axis=1)"
   ]
  },
  {
   "cell_type": "code",
   "execution_count": 268,
   "metadata": {},
   "outputs": [],
   "source": [
    "splitter = StratifiedShuffleSplit(n_splits=1, test_size=0.2, random_state=42)"
   ]
  },
  {
   "cell_type": "code",
   "execution_count": 269,
   "metadata": {},
   "outputs": [],
   "source": [
    "for train_index, test_index in splitter.split(num, labels):\n",
    "    X_train, Xl_train, X_test, Xl_test = num[train_index], st_labels[train_index], num[test_index], st_labels[test_index]\n",
    "    y_train, y_test = labels[train_index], labels[test_index]"
   ]
  },
  {
   "cell_type": "code",
   "execution_count": 270,
   "metadata": {},
   "outputs": [],
   "source": [
    "class CoverageDS(Dataset):\n",
    "    def __init__(self, X, Xem, y):\n",
    "        super().__init__()\n",
    "        self.X = torch.from_numpy(X)\n",
    "        self.Xem = torch.from_numpy(Xem)\n",
    "        self.y = torch.from_numpy(y)\n",
    "        \n",
    "    def __len__(self):\n",
    "        return len(self.X)\n",
    "        \n",
    "    def __getitem__(self, idx):\n",
    "        return self.X[idx], self.Xem[idx], self.y[idx]"
   ]
  },
  {
   "cell_type": "code",
   "execution_count": 271,
   "metadata": {},
   "outputs": [],
   "source": [
    "BS = 512"
   ]
  },
  {
   "cell_type": "code",
   "execution_count": 272,
   "metadata": {},
   "outputs": [],
   "source": [
    "train = DataLoader(CoverageDS(X_train, Xl_train, y_train), batch_size = BS, shuffle=True, drop_last=False)\n",
    "test = DataLoader(CoverageDS(X_test, Xl_test, y_test), batch_size = BS, shuffle=False, drop_last=False)"
   ]
  },
  {
   "cell_type": "code",
   "execution_count": 274,
   "metadata": {},
   "outputs": [],
   "source": [
    "class Model(nn.Module):\n",
    "    def __init__(self, n_in, n_em, size, em_size, n_o):\n",
    "        super().__init__()\n",
    "        self.em = nn.Embedding(n_em, em_size)\n",
    "        self.bn1 = nn.BatchNorm1d(n_in + em_size)\n",
    "        self.do1 = nn.Dropout(0.2)\n",
    "        self.fc1 = nn.Linear(n_in + em_size, size)\n",
    "        \n",
    "        self.bn2 = nn.BatchNorm1d(size)\n",
    "        self.do2 = nn.Dropout(0.2)\n",
    "        self.fc2 = nn.Linear(size, size)\n",
    "        \n",
    "        self.bn3 = nn.BatchNorm1d(size)\n",
    "        self.do3 = nn.Dropout(0.2)\n",
    "        self.fc3 = nn.Linear(size, n_o)\n",
    "        \n",
    "    def forward(self, x, xem):\n",
    "        x = torch.cat((x, self.em(xem)), axis=1)\n",
    "        x = F.relu(self.fc1((self.bn1(x))))\n",
    "        x = F.relu(self.fc2((self.bn2(x))))\n",
    "        x = self.fc3((self.bn3(x)))\n",
    "        return x"
   ]
  },
  {
   "cell_type": "code",
   "execution_count": 275,
   "metadata": {},
   "outputs": [],
   "source": [
    "model = Model(X_train.shape[1], Xl_train.max() + 1, 256, 4, y_train.max() + 1)\n",
    "opt = optim.Adam(model.parameters(), lr=0.01, weight_decay=0.00001)\n",
    "sched  = optim.lr_scheduler.ReduceLROnPlateau(opt, mode='min', factor=0.1, patience=3, eps=1e-6, verbose=True)\n",
    "crit = nn.CrossEntropyLoss()"
   ]
  },
  {
   "cell_type": "code",
   "execution_count": 276,
   "metadata": {},
   "outputs": [
    {
     "name": "stdout",
     "output_type": "stream",
     "text": [
      "Total Trainable Params: 73675\n"
     ]
    },
    {
     "data": {
      "text/plain": [
       "73675"
      ]
     },
     "execution_count": 276,
     "metadata": {},
     "output_type": "execute_result"
    }
   ],
   "source": [
    "count_parameters(model)"
   ]
  },
  {
   "cell_type": "code",
   "execution_count": 277,
   "metadata": {},
   "outputs": [],
   "source": [
    "def train_epoch(net, train, val, crit, opt, metric):\n",
    "    losses = []\n",
    "    accs = []\n",
    "    for X, Xem, y in train:\n",
    "        opt.zero_grad()\n",
    "        net.train()\n",
    "        p = net(X, Xem)\n",
    "        accs.append(metric(y, p))\n",
    "        loss = crit(p, y)\n",
    "        losses.append(loss.item())\n",
    "        loss.backward()\n",
    "        opt.step()\n",
    "    with torch.no_grad():\n",
    "        net.eval()\n",
    "        val_loss = []\n",
    "        val_acc = []\n",
    "        for X, Xem, y in val:\n",
    "            p = net(X, Xem)\n",
    "            val_loss.append(crit(p, y).item())\n",
    "            val_acc.append(metric(y, p))\n",
    "    return np.mean(losses), np.mean(accs), np.mean(val_loss), np.mean(val_acc)"
   ]
  },
  {
   "cell_type": "code",
   "execution_count": 278,
   "metadata": {},
   "outputs": [
    {
     "name": "stdout",
     "output_type": "stream",
     "text": [
      "Epoch:1, T Loss:0.49412, T Met:0.79244, V Loss:0.37885, V Met:0.84256\n",
      "Epoch:2, T Loss:0.36513, T Met:0.84784, V Loss:0.33156, V Met:0.86307\n",
      "Epoch:3, T Loss:0.32520, T Met:0.86580, V Loss:0.30144, V Met:0.87691\n",
      "Epoch:4, T Loss:0.30460, T Met:0.87476, V Loss:0.31296, V Met:0.86887\n",
      "Epoch:5, T Loss:0.29100, T Met:0.88103, V Loss:0.27203, V Met:0.89059\n",
      "Epoch:6, T Loss:0.27946, T Met:0.88500, V Loss:0.27225, V Met:0.88744\n",
      "Epoch:7, T Loss:0.27400, T Met:0.88742, V Loss:0.26641, V Met:0.89010\n",
      "Epoch:8, T Loss:0.26748, T Met:0.89028, V Loss:0.26029, V Met:0.89549\n",
      "Epoch:9, T Loss:0.26283, T Met:0.89275, V Loss:0.24952, V Met:0.89925\n",
      "Epoch:10, T Loss:0.25995, T Met:0.89324, V Loss:0.25091, V Met:0.89817\n",
      "Epoch:11, T Loss:0.25606, T Met:0.89476, V Loss:0.25072, V Met:0.89698\n",
      "Epoch:12, T Loss:0.25419, T Met:0.89591, V Loss:0.24619, V Met:0.90105\n",
      "Epoch:13, T Loss:0.25090, T Met:0.89722, V Loss:0.23308, V Met:0.90425\n",
      "Epoch:14, T Loss:0.24937, T Met:0.89800, V Loss:0.23510, V Met:0.90511\n",
      "Epoch:15, T Loss:0.24527, T Met:0.90024, V Loss:0.23613, V Met:0.90464\n",
      "Epoch:16, T Loss:0.24573, T Met:0.89951, V Loss:0.26132, V Met:0.89543\n",
      "Epoch:17, T Loss:0.24307, T Met:0.90080, V Loss:0.23259, V Met:0.90626\n",
      "Epoch:18, T Loss:0.24231, T Met:0.90134, V Loss:0.23331, V Met:0.90670\n",
      "Epoch:19, T Loss:0.24123, T Met:0.90172, V Loss:0.23739, V Met:0.90278\n",
      "Epoch:20, T Loss:0.23783, T Met:0.90341, V Loss:0.23133, V Met:0.90570\n",
      "Epoch:21, T Loss:0.23885, T Met:0.90273, V Loss:0.22382, V Met:0.90941\n",
      "Epoch:22, T Loss:0.23864, T Met:0.90272, V Loss:0.23043, V Met:0.90832\n",
      "Epoch:23, T Loss:0.23687, T Met:0.90386, V Loss:0.23115, V Met:0.90465\n",
      "Epoch:24, T Loss:0.23613, T Met:0.90364, V Loss:0.22674, V Met:0.90858\n",
      "Epoch    25: reducing learning rate of group 0 to 1.0000e-03.\n",
      "Epoch:25, T Loss:0.23634, T Met:0.90376, V Loss:0.22397, V Met:0.90877\n",
      "Epoch:26, T Loss:0.18304, T Met:0.92656, V Loss:0.16691, V Met:0.93350\n",
      "Epoch:27, T Loss:0.17124, T Met:0.93059, V Loss:0.16069, V Met:0.93546\n",
      "Epoch:28, T Loss:0.16734, T Met:0.93183, V Loss:0.15807, V Met:0.93735\n",
      "Epoch:29, T Loss:0.16389, T Met:0.93320, V Loss:0.15503, V Met:0.93821\n",
      "Epoch:30, T Loss:0.16167, T Met:0.93384, V Loss:0.15290, V Met:0.93898\n",
      "Epoch:31, T Loss:0.16013, T Met:0.93486, V Loss:0.15202, V Met:0.93948\n",
      "Epoch:32, T Loss:0.15852, T Met:0.93536, V Loss:0.14947, V Met:0.94070\n",
      "Epoch:33, T Loss:0.15713, T Met:0.93616, V Loss:0.14876, V Met:0.94046\n",
      "Epoch:34, T Loss:0.15536, T Met:0.93693, V Loss:0.14545, V Met:0.94241\n",
      "Epoch:35, T Loss:0.15499, T Met:0.93694, V Loss:0.14508, V Met:0.94202\n",
      "Epoch:36, T Loss:0.15357, T Met:0.93749, V Loss:0.14520, V Met:0.94198\n",
      "Epoch:37, T Loss:0.15243, T Met:0.93829, V Loss:0.14411, V Met:0.94231\n",
      "Epoch:38, T Loss:0.15236, T Met:0.93800, V Loss:0.14409, V Met:0.94216\n",
      "Epoch:39, T Loss:0.15100, T Met:0.93855, V Loss:0.14235, V Met:0.94286\n",
      "Epoch:40, T Loss:0.15106, T Met:0.93818, V Loss:0.14227, V Met:0.94295\n",
      "Epoch:41, T Loss:0.15106, T Met:0.93837, V Loss:0.14016, V Met:0.94447\n",
      "Epoch:42, T Loss:0.15012, T Met:0.93900, V Loss:0.14054, V Met:0.94437\n",
      "Epoch:43, T Loss:0.14873, T Met:0.93927, V Loss:0.14090, V Met:0.94432\n",
      "Epoch:44, T Loss:0.14887, T Met:0.93933, V Loss:0.13867, V Met:0.94523\n",
      "Epoch:45, T Loss:0.14795, T Met:0.93964, V Loss:0.14063, V Met:0.94441\n",
      "Epoch:46, T Loss:0.14712, T Met:0.94013, V Loss:0.13890, V Met:0.94450\n",
      "Epoch:47, T Loss:0.14643, T Met:0.94046, V Loss:0.13988, V Met:0.94442\n",
      "Epoch    48: reducing learning rate of group 0 to 1.0000e-04.\n",
      "Epoch:48, T Loss:0.14682, T Met:0.94006, V Loss:0.13906, V Met:0.94481\n",
      "Epoch:49, T Loss:0.13818, T Met:0.94371, V Loss:0.13234, V Met:0.94715\n",
      "Epoch:50, T Loss:0.13612, T Met:0.94510, V Loss:0.13197, V Met:0.94733\n"
     ]
    }
   ],
   "source": [
    "N_EPOCHS = 50\n",
    "for epoch in range(N_EPOCHS):\n",
    "    tl, ta, vl, va = train_epoch(model, train, test, crit, opt, accuracy)\n",
    "    sched.step(vl)\n",
    "    print(f\"Epoch:{epoch + 1}, T Loss:{tl:.5f}, T Met:{ta:.5f}, V Loss:{vl:.5f}, V Met:{va:.5f}\")"
   ]
  },
  {
   "cell_type": "code",
   "execution_count": 279,
   "metadata": {},
   "outputs": [],
   "source": [
    "def plot_cm(model, test):\n",
    "    all_preds = []\n",
    "    with torch.no_grad():\n",
    "        for x, xem, y in test:\n",
    "            p = model(x, xem)\n",
    "            preds = np.argmax(p, axis=1)\n",
    "            all_preds.append(preds)\n",
    "    all_preds = torch.cat(all_preds)\n",
    "    cm = confusion_matrix(y_test, all_preds.detach().numpy()).astype(\"float32\")\n",
    "    cm = (cm / cm.sum(axis=1).reshape(-1, 1)) * 100\n",
    "    plt.figure(figsize=(15, 8))\n",
    "    sn.heatmap(cm, annot=True, annot_kws={\"size\": 16})\n",
    "    plt.show()"
   ]
  },
  {
   "cell_type": "code",
   "execution_count": 280,
   "metadata": {},
   "outputs": [
    {
     "data": {
      "image/png": "[encoded data removed]",
      "text/plain": [
       "<Figure size 1080x576 with 2 Axes>"
      ]
     },
     "metadata": {
      "needs_background": "light"
     },
     "output_type": "display_data"
    }
   ],
   "source": [
    "plot_cm(model, test)"
   ]
  },
  {
   "cell_type": "code",
   "execution_count": 281,
   "metadata": {},
   "outputs": [],
   "source": [
    "class Tmodel(nn.Module):\n",
    "    def __init__(self, n_in, n_em, em_size, n_o):\n",
    "        super().__init__()\n",
    "        self.em = nn.Embedding(n_em, em_size)\n",
    "        self.tabnet = TabNet(\n",
    "            n_in + em_size,\n",
    "            n_o,\n",
    "            na=64,\n",
    "            nd=64,\n",
    "            n_steps=5,\n",
    "            n_blocks=4,\n",
    "            n_shared_blocks=2,\n",
    "            shared_mask=False,\n",
    "            relax=1.5,\n",
    "            ghost_size=512,\n",
    "            sparsemax=True,\n",
    "            )\n",
    "        \n",
    "    def forward(self, x, xem):\n",
    "        x = torch.cat((x, self.em(xem)), axis=1)\n",
    "        return self.tabnet(x)"
   ]
  },
  {
   "cell_type": "code",
   "execution_count": 282,
   "metadata": {},
   "outputs": [],
   "source": [
    "tmodel = Tmodel(X_train.shape[1], Xl_train.max() + 1, 4, y_train.max() + 1)\n",
    "BS = 16384\n",
    "topt = optim.Adam(tmodel.parameters(), lr=0.02, weight_decay=0.0)\n",
    "tsched  = optim.lr_scheduler.ReduceLROnPlateau(opt, mode='min', factor=0.1, patience=5, eps=1e-7, verbose=True)"
   ]
  },
  {
   "cell_type": "code",
   "execution_count": 283,
   "metadata": {},
   "outputs": [
    {
     "name": "stdout",
     "output_type": "stream",
     "text": [
      "Total Trainable Params: 46655\n"
     ]
    },
    {
     "data": {
      "text/plain": [
       "46655"
      ]
     },
     "execution_count": 283,
     "metadata": {},
     "output_type": "execute_result"
    }
   ],
   "source": [
    "count_parameters(tmodel)"
   ]
  },
  {
   "cell_type": "code",
   "execution_count": 284,
   "metadata": {},
   "outputs": [],
   "source": [
    "train = DataLoader(CoverageDS(X_train, Xl_train, y_train), batch_size = BS, shuffle=True, drop_last=False)\n",
    "test = DataLoader(CoverageDS(X_test, Xl_test, y_test), batch_size = BS, shuffle=False, drop_last=False)"
   ]
  },
  {
   "cell_type": "code",
   "execution_count": 285,
   "metadata": {},
   "outputs": [
    {
     "name": "stdout",
     "output_type": "stream",
     "text": [
      "Epoch:1, T Loss:1.11792, T Met:0.60721, V Loss:0.94891, V Met:0.58970\n",
      "Epoch:2, T Loss:0.73630, T Met:0.68787, V Loss:0.70529, V Met:0.70096\n",
      "Epoch:3, T Loss:0.69195, T Met:0.70226, V Loss:0.68431, V Met:0.70413\n",
      "Epoch:4, T Loss:0.68319, T Met:0.70246, V Loss:0.67331, V Met:0.70597\n",
      "Epoch:5, T Loss:0.67567, T Met:0.70445, V Loss:0.67998, V Met:0.70514\n",
      "Epoch:6, T Loss:0.67901, T Met:0.70582, V Loss:0.66731, V Met:0.71353\n",
      "Epoch:7, T Loss:0.66413, T Met:0.71259, V Loss:0.65358, V Met:0.71606\n",
      "Epoch:8, T Loss:0.65504, T Met:0.71566, V Loss:0.64398, V Met:0.71886\n",
      "Epoch:9, T Loss:0.64509, T Met:0.71948, V Loss:0.63676, V Met:0.72281\n",
      "Epoch:10, T Loss:0.63340, T Met:0.72443, V Loss:0.62570, V Met:0.72550\n",
      "Epoch:11, T Loss:0.62227, T Met:0.72753, V Loss:0.61395, V Met:0.73035\n",
      "Epoch:12, T Loss:0.63121, T Met:0.72502, V Loss:0.65074, V Met:0.71539\n",
      "Epoch:13, T Loss:0.65599, T Met:0.71495, V Loss:0.64620, V Met:0.71950\n",
      "Epoch:14, T Loss:0.64011, T Met:0.72095, V Loss:0.63418, V Met:0.72255\n",
      "Epoch    15: reducing learning rate of group 0 to 1.0000e-05.\n",
      "Epoch:15, T Loss:0.63193, T Met:0.72442, V Loss:0.62639, V Met:0.72858\n",
      "Epoch:16, T Loss:0.62632, T Met:0.72695, V Loss:0.62365, V Met:0.72992\n",
      "Epoch:17, T Loss:0.61450, T Met:0.73188, V Loss:0.62377, V Met:0.73186\n",
      "Epoch:18, T Loss:0.61672, T Met:0.73320, V Loss:0.60431, V Met:0.74010\n",
      "Epoch:19, T Loss:0.60364, T Met:0.73772, V Loss:0.59844, V Met:0.74282\n",
      "Epoch:20, T Loss:0.61787, T Met:0.72916, V Loss:0.62277, V Met:0.72771\n",
      "Epoch:21, T Loss:0.61298, T Met:0.73153, V Loss:0.60065, V Met:0.73773\n",
      "Epoch:22, T Loss:0.60051, T Met:0.73655, V Loss:0.59832, V Met:0.73898\n",
      "Epoch:23, T Loss:0.60312, T Met:0.73808, V Loss:0.60553, V Met:0.73415\n",
      "Epoch:24, T Loss:0.59581, T Met:0.74137, V Loss:0.58477, V Met:0.74566\n",
      "Epoch:25, T Loss:0.58267, T Met:0.74729, V Loss:0.57498, V Met:0.75170\n",
      "Epoch:26, T Loss:0.58365, T Met:0.74535, V Loss:0.57834, V Met:0.74793\n",
      "Epoch:27, T Loss:0.57895, T Met:0.74820, V Loss:0.57463, V Met:0.74969\n",
      "Epoch:28, T Loss:0.57489, T Met:0.74924, V Loss:0.56744, V Met:0.75594\n",
      "Epoch:29, T Loss:0.57008, T Met:0.75216, V Loss:0.56096, V Met:0.75754\n",
      "Epoch:30, T Loss:0.56581, T Met:0.75505, V Loss:0.56561, V Met:0.75593\n",
      "Epoch:31, T Loss:0.56536, T Met:0.75351, V Loss:0.57766, V Met:0.74309\n",
      "Epoch:32, T Loss:0.57132, T Met:0.74937, V Loss:0.56130, V Met:0.75774\n",
      "Epoch    33: reducing learning rate of group 0 to 1.0000e-06.\n",
      "Epoch:33, T Loss:0.56115, T Met:0.75592, V Loss:0.56609, V Met:0.75737\n",
      "Epoch:34, T Loss:0.55577, T Met:0.76029, V Loss:0.54477, V Met:0.76402\n",
      "Epoch:35, T Loss:0.54517, T Met:0.76421, V Loss:0.54641, V Met:0.76064\n",
      "Epoch:36, T Loss:0.54663, T Met:0.76405, V Loss:0.63145, V Met:0.73753\n",
      "Epoch:37, T Loss:0.60582, T Met:0.73818, V Loss:0.59011, V Met:0.74381\n",
      "Epoch:38, T Loss:0.58243, T Met:0.74633, V Loss:0.56888, V Met:0.75220\n",
      "Epoch:39, T Loss:0.57886, T Met:0.74781, V Loss:0.56797, V Met:0.75023\n",
      "Epoch:40, T Loss:0.55898, T Met:0.75555, V Loss:0.54880, V Met:0.75663\n",
      "Epoch:41, T Loss:0.54652, T Met:0.76025, V Loss:0.53744, V Met:0.76322\n",
      "Epoch:42, T Loss:0.53861, T Met:0.76369, V Loss:0.53687, V Met:0.76349\n",
      "Epoch:43, T Loss:0.53455, T Met:0.76491, V Loss:0.52464, V Met:0.76766\n",
      "Epoch:44, T Loss:0.52983, T Met:0.76668, V Loss:0.51976, V Met:0.77373\n",
      "Epoch:45, T Loss:0.52437, T Met:0.76887, V Loss:0.51933, V Met:0.77143\n",
      "Epoch:46, T Loss:0.51882, T Met:0.77266, V Loss:0.51628, V Met:0.77517\n",
      "Epoch:47, T Loss:0.51674, T Met:0.77404, V Loss:0.50374, V Met:0.77828\n",
      "Epoch:48, T Loss:0.50923, T Met:0.77640, V Loss:0.50562, V Met:0.77860\n",
      "Epoch:49, T Loss:0.50925, T Met:0.77564, V Loss:0.49804, V Met:0.78077\n",
      "Epoch:50, T Loss:0.50781, T Met:0.77656, V Loss:0.50374, V Met:0.78088\n"
     ]
    }
   ],
   "source": [
    "N_EPOCHS = 50\n",
    "vls = []\n",
    "for epoch in range(N_EPOCHS):\n",
    "    tl, ta, vl, va = train_epoch(tmodel, train, test, crit, topt, accuracy)\n",
    "    tsched.step(vl)\n",
    "    vls.append(vl)\n",
    "    print(f\"Epoch:{epoch + 1}, T Loss:{tl:.5f}, T Met:{ta:.5f}, V Loss:{vl:.5f}, V Met:{va:.5f}\")"
   ]
  },
  {
   "cell_type": "code",
   "execution_count": null,
   "metadata": {},
   "outputs": [],
   "source": []
  }
 ],
 "metadata": {
  "kernelspec": {
   "display_name": "Python 3",
   "language": "python",
   "name": "python3"
  },
  "language_info": {
   "codemirror_mode": {
    "name": "ipython",
    "version": 3
   },
   "file_extension": ".py",
   "mimetype": "text/x-python",
   "name": "python",
   "nbconvert_exporter": "python",
   "pygments_lexer": "ipython3",
   "version": "3.6.8"
  }
 },
 "nbformat": 4,
 "nbformat_minor": 4
}
